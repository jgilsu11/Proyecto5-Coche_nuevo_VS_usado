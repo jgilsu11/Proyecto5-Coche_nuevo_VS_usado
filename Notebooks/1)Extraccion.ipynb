{
 "cells": [
  {
   "cell_type": "code",
   "execution_count": 2,
   "metadata": {},
   "outputs": [],
   "source": [
    "import pandas as pd\n",
    "import selenium\n",
    "import webdriver_manager\n",
    "from datetime import datetime \n",
    "\n",
    "from selenium.webdriver.support.ui import WebDriverWait\n",
    "from selenium.webdriver.common.by import By\n",
    "from selenium.webdriver.support import expected_conditions as EC\n",
    "\n",
    "from selenium import webdriver  # Selenium es una herramienta para automatizar la interacción con navegadores web.\n",
    "from webdriver_manager.chrome import ChromeDriverManager  # ChromeDriverManager gestiona la instalación del controlador de Chrome.\n",
    "from selenium.webdriver.common.keys import Keys  # Keys es útil para simular eventos de teclado en Selenium.\n",
    "from selenium.webdriver.support.ui import Select  # Select se utiliza para interactuar con elementos <select> en páginas web.\n",
    "from selenium.webdriver.support import expected_conditions as EC \n",
    "from time import sleep\n",
    "import pandas as pd\n",
    "from selenium import webdriver\n",
    "\n",
    "from tqdm import tqdm\n",
    "import os\n",
    "from bs4 import BeautifulSoup\n",
    "import requests\n",
    "import re\n",
    "\n",
    "import zipfile\n",
    "import shutil\n",
    "\n",
    "import os\n",
    "\n",
    "\n",
    "import pandas as pd\n",
    "\n",
    "import matplotlib.pyplot as plt\n",
    "import seaborn as sns\n",
    "\n",
    "import re\n",
    "\n",
    "pd.set_option('display.max_columns', None) # para poder visualizar todas las columnas de los DataFrames\n",
    "\n",
    "import json\n",
    "# Ignorar warings\n",
    "import warnings\n",
    "warnings.filterwarnings(\"ignore\")\n",
    "\n",
    "import dotenv\n",
    "from dotenv import load_dotenv\n",
    "load_dotenv()\n",
    "\n",
    "import psycopg2\n",
    "from psycopg2 import sql\n",
    "pd.set_option('display.max_columns', None)\n",
    "\n",
    "import sys\n",
    "sys.path.append(\"../\")  "
   ]
  },
  {
   "cell_type": "code",
   "execution_count": 284,
   "metadata": {},
   "outputs": [],
   "source": [
    "keywallapop= os.getenv(\"keywallapop\")"
   ]
  },
  {
   "cell_type": "markdown",
   "metadata": {},
   "source": [
    "Cuidado, de wallapop solo hay 20 llamadas mensuales"
   ]
  },
  {
   "cell_type": "code",
   "execution_count": 285,
   "metadata": {},
   "outputs": [],
   "source": [
    "\n",
    "url = \"https://wallapop3.p.rapidapi.com/search\"\n",
    "\n",
    "querystring = {\"query\":\"nissan\",\"minPrice\":\"2000\",\"sort\":\"mostRecent\"}\n",
    "\n",
    "headers = {\n",
    "\t\"x-rapidapi-key\": keywallapop,\n",
    "\t\"x-rapidapi-host\": \"wallapop3.p.rapidapi.com\"\n",
    "}\n",
    "\n",
    "response = requests.get(url, headers=headers, params=querystring)\n",
    "\n",
    "resposa=response.json()"
   ]
  },
  {
   "cell_type": "markdown",
   "metadata": {},
   "source": [
    "SOLO NOS INTESESA:  \n",
    "- id (pasaré a numérico)  \n",
    "- user_id  \n",
    "- title  \n",
    "- description  \n",
    "- category_id (lo quiero para filtrar por 100(codigo correspondiente a coches)para que no me coja otros códigos que son de carroceria etc)  \n",
    "- price (que está en euros)  \n",
    "- location (por si las moscas)  \n",
    "- capacidad de traslado (no creo que me lo quede)  \n",
    "- refurbished(igual la mantengo pero los true los paso a 1 y los false a 0 porque en sql existe el bit)"
   ]
  },
  {
   "cell_type": "code",
   "execution_count": null,
   "metadata": {},
   "outputs": [],
   "source": [
    "with open(\"../src\", \"w\") as json_file:\n",
    "    json.dump(resposa, json_file, indent=4)"
   ]
  },
  {
   "cell_type": "code",
   "execution_count": 346,
   "metadata": {},
   "outputs": [
    {
     "data": {
      "text/plain": [
       "40"
      ]
     },
     "execution_count": 346,
     "metadata": {},
     "output_type": "execute_result"
    }
   ],
   "source": [
    "len (resposa)"
   ]
  },
  {
   "cell_type": "code",
   "execution_count": 466,
   "metadata": {},
   "outputs": [],
   "source": [
    "lista=[]\n",
    "df_final=pd.DataFrame()\n",
    "for i in range(0,40):\n",
    "    id_wallapop=resposa[i][\"id\"]\n",
    "    id_user=resposa[i][\"user_id\"]\n",
    "    version=resposa[i][\"title\"]\n",
    "    descripcion=resposa[i][\"description\"]\n",
    "    id_categoria=resposa[i][\"category_id\"]\n",
    "    precio=resposa[i][\"price\"][\"amount\"]\n",
    "    latitud=resposa[i][\"location\"][\"latitude\"]\n",
    "    longitud=resposa[i][\"location\"][\"longitude\"]\n",
    "    ciudad=resposa[i][\"location\"][\"city\"]\n",
    "    provincia=resposa[i][\"location\"][\"region2\"]\n",
    "    envio_disponible=resposa[i][\"shipping\"][\"item_is_shippable\"]\n",
    "    reparado=resposa[i][\"is_refurbished\"][\"flag\"]\n",
    "\n",
    "    lista.append([id_wallapop,id_user,title,descripcion,id_category,precio,latitud, longitud,ciudad,provincia,envio_disponible,reparado] )\n",
    "    df=pd.DataFrame(lista)\n",
    "    df_final= pd.concat([df_final,df])"
   ]
  },
  {
   "cell_type": "code",
   "execution_count": 467,
   "metadata": {},
   "outputs": [],
   "source": [
    "\n",
    "dicc_encabezados={0:\"id_wallapop\",\n",
    "                  1: \"id_user\",\n",
    "                  2: \"version\",\n",
    "                  3: \"descripcion\",\n",
    "                  4: \"id_categoria\",\n",
    "                  5: \"precio\",\n",
    "                  6: \"latitud\",\n",
    "                  7: \"longitud\",\n",
    "                  8: \"ciudad\",\n",
    "                  9: \"provincia\",\n",
    "                  10: \"envio_disponible\",\n",
    "                  11: \"reparado\"}\n",
    "df_final.columns= df_final.columns.map(dicc_encabezados)"
   ]
  },
  {
   "cell_type": "code",
   "execution_count": 468,
   "metadata": {},
   "outputs": [
    {
     "data": {
      "text/html": [
       "<div>\n",
       "<style scoped>\n",
       "    .dataframe tbody tr th:only-of-type {\n",
       "        vertical-align: middle;\n",
       "    }\n",
       "\n",
       "    .dataframe tbody tr th {\n",
       "        vertical-align: top;\n",
       "    }\n",
       "\n",
       "    .dataframe thead th {\n",
       "        text-align: right;\n",
       "    }\n",
       "</style>\n",
       "<table border=\"1\" class=\"dataframe\">\n",
       "  <thead>\n",
       "    <tr style=\"text-align: right;\">\n",
       "      <th></th>\n",
       "      <th>id_wallapop</th>\n",
       "      <th>id_user</th>\n",
       "      <th>version</th>\n",
       "      <th>descripcion</th>\n",
       "      <th>id_categoria</th>\n",
       "      <th>precio</th>\n",
       "      <th>latitud</th>\n",
       "      <th>longitud</th>\n",
       "      <th>ciudad</th>\n",
       "      <th>provincia</th>\n",
       "      <th>envio_disponible</th>\n",
       "      <th>reparado</th>\n",
       "    </tr>\n",
       "  </thead>\n",
       "  <tbody>\n",
       "    <tr>\n",
       "      <th>7</th>\n",
       "      <td>mzn27nex87zn</td>\n",
       "      <td>mzng3427wg6n</td>\n",
       "      <td>Nissan Navara 2007</td>\n",
       "      <td>nissan patrol \\n2.800 diesel \\ngasta muy poco\\...</td>\n",
       "      <td>100</td>\n",
       "      <td>5500</td>\n",
       "      <td>36.706282</td>\n",
       "      <td>-4.444297</td>\n",
       "      <td>Málaga</td>\n",
       "      <td>Málaga</td>\n",
       "      <td>False</td>\n",
       "      <td>False</td>\n",
       "    </tr>\n",
       "    <tr>\n",
       "      <th>0</th>\n",
       "      <td>8z8kp7plo8z3</td>\n",
       "      <td>xzo8xxq2l469</td>\n",
       "      <td>Nissan Navara 2007</td>\n",
       "      <td>Un HALLOWEEN de miedo en Flexicar: hasta un 20...</td>\n",
       "      <td>100</td>\n",
       "      <td>24990</td>\n",
       "      <td>42.140100</td>\n",
       "      <td>-0.405080</td>\n",
       "      <td>Huesca</td>\n",
       "      <td>Huesca</td>\n",
       "      <td>False</td>\n",
       "      <td>False</td>\n",
       "    </tr>\n",
       "    <tr>\n",
       "      <th>0</th>\n",
       "      <td>8z8kp7plo8z3</td>\n",
       "      <td>xzo8xxq2l469</td>\n",
       "      <td>Nissan Navara 2007</td>\n",
       "      <td>Un HALLOWEEN de miedo en Flexicar: hasta un 20...</td>\n",
       "      <td>100</td>\n",
       "      <td>24990</td>\n",
       "      <td>42.140100</td>\n",
       "      <td>-0.405080</td>\n",
       "      <td>Huesca</td>\n",
       "      <td>Huesca</td>\n",
       "      <td>False</td>\n",
       "      <td>False</td>\n",
       "    </tr>\n",
       "  </tbody>\n",
       "</table>\n",
       "</div>"
      ],
      "text/plain": [
       "    id_wallapop       id_user             version  \\\n",
       "7  mzn27nex87zn  mzng3427wg6n  Nissan Navara 2007   \n",
       "0  8z8kp7plo8z3  xzo8xxq2l469  Nissan Navara 2007   \n",
       "0  8z8kp7plo8z3  xzo8xxq2l469  Nissan Navara 2007   \n",
       "\n",
       "                                         descripcion  id_categoria  precio  \\\n",
       "7  nissan patrol \\n2.800 diesel \\ngasta muy poco\\...           100    5500   \n",
       "0  Un HALLOWEEN de miedo en Flexicar: hasta un 20...           100   24990   \n",
       "0  Un HALLOWEEN de miedo en Flexicar: hasta un 20...           100   24990   \n",
       "\n",
       "     latitud  longitud  ciudad provincia  envio_disponible  reparado  \n",
       "7  36.706282 -4.444297  Málaga    Málaga             False     False  \n",
       "0  42.140100 -0.405080  Huesca    Huesca             False     False  \n",
       "0  42.140100 -0.405080  Huesca    Huesca             False     False  "
      ]
     },
     "execution_count": 468,
     "metadata": {},
     "output_type": "execute_result"
    }
   ],
   "source": [
    "df_final.sample(3)"
   ]
  },
  {
   "cell_type": "code",
   "execution_count": 469,
   "metadata": {},
   "outputs": [
    {
     "data": {
      "text/plain": [
       "(820, 12)"
      ]
     },
     "execution_count": 469,
     "metadata": {},
     "output_type": "execute_result"
    }
   ],
   "source": [
    "df_final.shape"
   ]
  },
  {
   "cell_type": "markdown",
   "metadata": {},
   "source": [
    "ESTA LISTO PARA LA LIMPIEZA LO DE WALLAPOP"
   ]
  },
  {
   "cell_type": "markdown",
   "metadata": {},
   "source": [
    "**Tratamiento de duplicados y nulos Wallapop**  \n",
    "*NULOS*  \n",
    "\n",
    "No hay nulos\n",
    "\n",
    "*DUPLICADOS*  \n",
    "\n",
    "Me he fijado que tiene muchos duplicados y que por alguna razon en la extraccion se han repetido con lo que sería necesario eliminarlos (o los users han subido el mismo anuncio muchas veces cosa que dudo porque wallapop no deja)\n",
    "\n",
    "*DATOS INNECESARIOS*  \n",
    "\n",
    "Eliminamos las columnas que no nos interesan y que aportan más problemas que información   \n",
    "\n",
    "He intentado quedarme con el nombre de la version en una nueva columna pero hay demasiados anuncios que no ponen el nombre de la version entonces no me valía.\n",
    "\n",
    "\n",
    "*Importante a tener en cuenta*  \n",
    "\n",
    "Al final me quedo solo con la provincia de Madrid porque el resto del proyecto lo estoy haciendo en base a Madrid provincia\n"
   ]
  },
  {
   "cell_type": "markdown",
   "metadata": {},
   "source": [
    "SOLO NOS INTESESA:  \n",
    "- id (pasaré a numérico)  \n",
    "- user_id  \n",
    "- title  \n",
    "- description  \n",
    "- category_id (lo quiero para filtrar por 100(codigo correspondiente a coches)para que no me coja otros códigos que son de carroceria etc)  \n",
    "- price (que está en euros)  \n",
    "- location (por si las moscas)  \n",
    "- capacidad de traslado (no creo que me lo quede)  \n",
    "- refurbished(igual la mantengo pero los true los paso a 1 y los false a 0 porque en sql existe el bit pero no tiene valores true)"
   ]
  },
  {
   "cell_type": "code",
   "execution_count": 470,
   "metadata": {},
   "outputs": [
    {
     "data": {
      "text/plain": [
       "np.int64(780)"
      ]
     },
     "execution_count": 470,
     "metadata": {},
     "output_type": "execute_result"
    }
   ],
   "source": [
    "df_final.duplicated().sum()"
   ]
  },
  {
   "cell_type": "code",
   "execution_count": 471,
   "metadata": {},
   "outputs": [],
   "source": [
    "df_final.drop_duplicates(inplace=True)"
   ]
  },
  {
   "cell_type": "markdown",
   "metadata": {},
   "source": [
    "Ahora que ya he comprobado que solo hay categoría coche, la elimino"
   ]
  },
  {
   "cell_type": "code",
   "execution_count": 472,
   "metadata": {},
   "outputs": [
    {
     "data": {
      "text/plain": [
       "array([100])"
      ]
     },
     "execution_count": 472,
     "metadata": {},
     "output_type": "execute_result"
    }
   ],
   "source": [
    "df_final[\"id_categoria\"].unique()"
   ]
  },
  {
   "cell_type": "code",
   "execution_count": 473,
   "metadata": {},
   "outputs": [
    {
     "data": {
      "text/plain": [
       "array(['Nissan Navara 2007'], dtype=object)"
      ]
     },
     "execution_count": 473,
     "metadata": {},
     "output_type": "execute_result"
    }
   ],
   "source": [
    "df_final[\"version\"].unique()"
   ]
  },
  {
   "cell_type": "code",
   "execution_count": 474,
   "metadata": {},
   "outputs": [
    {
     "data": {
      "text/plain": [
       "array([False])"
      ]
     },
     "execution_count": 474,
     "metadata": {},
     "output_type": "execute_result"
    }
   ],
   "source": [
    "df_final[\"envio_disponible\"].unique()"
   ]
  },
  {
   "cell_type": "code",
   "execution_count": 475,
   "metadata": {},
   "outputs": [
    {
     "data": {
      "text/plain": [
       "array([False])"
      ]
     },
     "execution_count": 475,
     "metadata": {},
     "output_type": "execute_result"
    }
   ],
   "source": [
    "df_final[\"reparado\"].unique()"
   ]
  },
  {
   "cell_type": "code",
   "execution_count": 476,
   "metadata": {},
   "outputs": [],
   "source": [
    "df_final=df_final.drop(columns= [\"id_wallapop\",\"id_user\",\"id_categoria\", \"version\", \"envio_disponible\", \"reparado\"])"
   ]
  },
  {
   "cell_type": "code",
   "execution_count": 477,
   "metadata": {},
   "outputs": [
    {
     "name": "stdout",
     "output_type": "stream",
     "text": [
      "<class 'pandas.core.frame.DataFrame'>\n",
      "Index: 40 entries, 0 to 39\n",
      "Data columns (total 6 columns):\n",
      " #   Column       Non-Null Count  Dtype  \n",
      "---  ------       --------------  -----  \n",
      " 0   descripcion  40 non-null     object \n",
      " 1   precio       40 non-null     int64  \n",
      " 2   latitud      40 non-null     float64\n",
      " 3   longitud     40 non-null     float64\n",
      " 4   ciudad       40 non-null     object \n",
      " 5   provincia    40 non-null     object \n",
      "dtypes: float64(2), int64(1), object(3)\n",
      "memory usage: 2.2+ KB\n"
     ]
    }
   ],
   "source": [
    "df_final.info()"
   ]
  },
  {
   "cell_type": "code",
   "execution_count": 478,
   "metadata": {},
   "outputs": [
    {
     "data": {
      "text/html": [
       "<div>\n",
       "<style scoped>\n",
       "    .dataframe tbody tr th:only-of-type {\n",
       "        vertical-align: middle;\n",
       "    }\n",
       "\n",
       "    .dataframe tbody tr th {\n",
       "        vertical-align: top;\n",
       "    }\n",
       "\n",
       "    .dataframe thead th {\n",
       "        text-align: right;\n",
       "    }\n",
       "</style>\n",
       "<table border=\"1\" class=\"dataframe\">\n",
       "  <thead>\n",
       "    <tr style=\"text-align: right;\">\n",
       "      <th></th>\n",
       "      <th>descripcion</th>\n",
       "      <th>precio</th>\n",
       "      <th>latitud</th>\n",
       "      <th>longitud</th>\n",
       "      <th>ciudad</th>\n",
       "      <th>provincia</th>\n",
       "    </tr>\n",
       "  </thead>\n",
       "  <tbody>\n",
       "    <tr>\n",
       "      <th>39</th>\n",
       "      <td>Vendo Nissan Navara D40, en muy buen estado in...</td>\n",
       "      <td>14000</td>\n",
       "      <td>41.093278</td>\n",
       "      <td>0.636733</td>\n",
       "      <td>Móra d'Ebre</td>\n",
       "      <td>Tarragona</td>\n",
       "    </tr>\n",
       "    <tr>\n",
       "      <th>18</th>\n",
       "      <td>Vehículo funcionando perfectamente. Cierre cen...</td>\n",
       "      <td>6200</td>\n",
       "      <td>38.573406</td>\n",
       "      <td>-0.653480</td>\n",
       "      <td>Castalla</td>\n",
       "      <td>Alacant/Alicante</td>\n",
       "    </tr>\n",
       "    <tr>\n",
       "      <th>4</th>\n",
       "      <td>Bien cuidado, único propietario, siempre en ga...</td>\n",
       "      <td>2200</td>\n",
       "      <td>42.338660</td>\n",
       "      <td>1.402906</td>\n",
       "      <td>Adrall</td>\n",
       "      <td>Lleida</td>\n",
       "    </tr>\n",
       "  </tbody>\n",
       "</table>\n",
       "</div>"
      ],
      "text/plain": [
       "                                          descripcion  precio    latitud  \\\n",
       "39  Vendo Nissan Navara D40, en muy buen estado in...   14000  41.093278   \n",
       "18  Vehículo funcionando perfectamente. Cierre cen...    6200  38.573406   \n",
       "4   Bien cuidado, único propietario, siempre en ga...    2200  42.338660   \n",
       "\n",
       "    longitud       ciudad         provincia  \n",
       "39  0.636733  Móra d'Ebre         Tarragona  \n",
       "18 -0.653480     Castalla  Alacant/Alicante  \n",
       "4   1.402906       Adrall            Lleida  "
      ]
     },
     "execution_count": 478,
     "metadata": {},
     "output_type": "execute_result"
    }
   ],
   "source": [
    "df_final.sample(3)"
   ]
  },
  {
   "cell_type": "code",
   "execution_count": 479,
   "metadata": {},
   "outputs": [],
   "source": [
    "df_final=df_final[df_final[\"provincia\"]==\"Madrid\"]\n",
    "df_final.reset_index(drop=True, inplace=True)"
   ]
  },
  {
   "cell_type": "markdown",
   "metadata": {},
   "source": [
    "Añado un id"
   ]
  },
  {
   "cell_type": "code",
   "execution_count": 480,
   "metadata": {},
   "outputs": [],
   "source": [
    "df_final.index=df_final.index+1\n",
    "df_final.reset_index(inplace= True)"
   ]
  },
  {
   "cell_type": "code",
   "execution_count": 481,
   "metadata": {},
   "outputs": [],
   "source": [
    "\n",
    "dicc_encabezados0={\"index\":\"id_wallapop\",\n",
    "                  \"descripcion\": \"descripcion\",\n",
    "                  \"precio\": \"precio\",\n",
    "                  \"latitud\": \"latitud\",\n",
    "                  \"longitud\": \"longitud\",\n",
    "                  \"ciudad\": \"ciudad\",\n",
    "                  \"provincia\": \"provincia\"}\n",
    "\n",
    "df_final.columns=df_final.columns.map(dicc_encabezados0)"
   ]
  },
  {
   "cell_type": "code",
   "execution_count": 482,
   "metadata": {},
   "outputs": [],
   "source": [
    "df_final.to_csv(\"../datos/datos_wallapop.csv\")\n",
    "df_wallapop=pd.read_csv(\"../datos/datos_wallapop.csv\", index_col= \"Unnamed: 0\" )"
   ]
  },
  {
   "cell_type": "code",
   "execution_count": 483,
   "metadata": {},
   "outputs": [
    {
     "data": {
      "text/html": [
       "<div>\n",
       "<style scoped>\n",
       "    .dataframe tbody tr th:only-of-type {\n",
       "        vertical-align: middle;\n",
       "    }\n",
       "\n",
       "    .dataframe tbody tr th {\n",
       "        vertical-align: top;\n",
       "    }\n",
       "\n",
       "    .dataframe thead th {\n",
       "        text-align: right;\n",
       "    }\n",
       "</style>\n",
       "<table border=\"1\" class=\"dataframe\">\n",
       "  <thead>\n",
       "    <tr style=\"text-align: right;\">\n",
       "      <th></th>\n",
       "      <th>id_wallapop</th>\n",
       "      <th>descripcion</th>\n",
       "      <th>precio</th>\n",
       "      <th>latitud</th>\n",
       "      <th>longitud</th>\n",
       "      <th>ciudad</th>\n",
       "      <th>provincia</th>\n",
       "    </tr>\n",
       "  </thead>\n",
       "  <tbody>\n",
       "    <tr>\n",
       "      <th>0</th>\n",
       "      <td>1</td>\n",
       "      <td>nisan almera tino del 2004 ba por cadena le ve...</td>\n",
       "      <td>2200</td>\n",
       "      <td>40.301646</td>\n",
       "      <td>-3.441828</td>\n",
       "      <td>Arganda del Rey</td>\n",
       "      <td>Madrid</td>\n",
       "    </tr>\n",
       "    <tr>\n",
       "      <th>1</th>\n",
       "      <td>2</td>\n",
       "      <td>vendo mi coche en perfecto estado de motor y d...</td>\n",
       "      <td>6500</td>\n",
       "      <td>40.620256</td>\n",
       "      <td>-3.910636</td>\n",
       "      <td>Hoyo de Manzanares</td>\n",
       "      <td>Madrid</td>\n",
       "    </tr>\n",
       "    <tr>\n",
       "      <th>2</th>\n",
       "      <td>3</td>\n",
       "      <td>coche usado por mi mujer para ir a trabajar.\\n...</td>\n",
       "      <td>11500</td>\n",
       "      <td>40.494190</td>\n",
       "      <td>-3.961537</td>\n",
       "      <td>Villanueva del Pardillo</td>\n",
       "      <td>Madrid</td>\n",
       "    </tr>\n",
       "    <tr>\n",
       "      <th>3</th>\n",
       "      <td>4</td>\n",
       "      <td>se vende nissan patrol k260 embrague nuevo , b...</td>\n",
       "      <td>4500</td>\n",
       "      <td>40.419014</td>\n",
       "      <td>-3.707443</td>\n",
       "      <td>Madrid</td>\n",
       "      <td>Madrid</td>\n",
       "    </tr>\n",
       "  </tbody>\n",
       "</table>\n",
       "</div>"
      ],
      "text/plain": [
       "   id_wallapop                                        descripcion  precio  \\\n",
       "0            1  nisan almera tino del 2004 ba por cadena le ve...    2200   \n",
       "1            2  vendo mi coche en perfecto estado de motor y d...    6500   \n",
       "2            3  coche usado por mi mujer para ir a trabajar.\\n...   11500   \n",
       "3            4  se vende nissan patrol k260 embrague nuevo , b...    4500   \n",
       "\n",
       "     latitud  longitud                   ciudad provincia  \n",
       "0  40.301646 -3.441828          Arganda del Rey    Madrid  \n",
       "1  40.620256 -3.910636       Hoyo de Manzanares    Madrid  \n",
       "2  40.494190 -3.961537  Villanueva del Pardillo    Madrid  \n",
       "3  40.419014 -3.707443                   Madrid    Madrid  "
      ]
     },
     "execution_count": 483,
     "metadata": {},
     "output_type": "execute_result"
    }
   ],
   "source": [
    "df_wallapop.head(4)"
   ]
  },
  {
   "cell_type": "markdown",
   "metadata": {},
   "source": [
    "API seguridad del modelo"
   ]
  },
  {
   "cell_type": "code",
   "execution_count": 236,
   "metadata": {},
   "outputs": [],
   "source": [
    "url_anio = f\"https://api.nhtsa.gov/SafetyRatings/modelyear/2013/make/nissan\"\n",
    "response3 = requests.get(url_anio)\n",
    "if response3.status_code == 200:\n",
    "    modelos = [diccio[\"Model\"] for diccio in response3.json().get(\"Results\", [])]\n",
    "else:\n",
    "    print(f\"Error: {response3.status_code} - {response3.text}\")\n",
    "    \n"
   ]
  },
  {
   "cell_type": "code",
   "execution_count": null,
   "metadata": {},
   "outputs": [],
   "source": [
    "\n",
    "\n",
    "df_ratings = pd.DataFrame()\n",
    "\n",
    "for anio in range(2011, 2026):\n",
    "    url_anio = f\"https://api.nhtsa.gov/SafetyRatings/modelyear/{anio}/make/nissan\"\n",
    "    response3 = requests.get(url_anio)\n",
    "    \n",
    "    #verifica si no da error\n",
    "    if response3.status_code == 200:\n",
    "        try:\n",
    "            modelos = [diccio[\"Model\"] for diccio in response3.json().get(\"Results\", [])]\n",
    "        except (KeyError, ValueError) as e:\n",
    "            print(f\"Error al obtener modelos para el año {anio}: {e}\")\n",
    "            continue\n",
    "    else:\n",
    "        print(f\"Error en la solicitud para el año {anio}: {response3.status_code}\")\n",
    "        continue\n",
    "\n",
    "    modelos_ids = []\n",
    "    for modelo in modelos:\n",
    "        url3 = f\"https://api.nhtsa.gov/SafetyRatings/modelyear/{anio}/make/nissan/model/{modelo}\"\n",
    "        response = requests.get(url3)\n",
    "\n",
    "        if response.status_code == 200:\n",
    "            try:\n",
    "                modelos_ids.extend([diccio[\"VehicleId\"] for diccio in response.json().get(\"Results\", [])])\n",
    "            except (KeyError, ValueError) as e:\n",
    "                print(f\"Error al obtener VehicleId para modelo {modelo} en el año {anio}: {e}\")\n",
    "                continue\n",
    "        else:\n",
    "            print(f\"Error en la solicitud para modelo {modelo}, año {anio}: {response.status_code}\")\n",
    "            continue\n",
    "\n",
    "    #conseguir ratings con modelos_ids\n",
    "    for modelo_id in modelos_ids:\n",
    "        url2 = f\"https://api.nhtsa.gov/SafetyRatings/VehicleId/{modelo_id}\"\n",
    "        response = requests.get(url2)\n",
    "\n",
    "        if response.status_code == 200:\n",
    "            try:\n",
    "                df = pd.DataFrame(response.json().get(\"Results\", []))\n",
    "                df_ratings = pd.concat([df_ratings, df], ignore_index=True)\n",
    "            except (KeyError, ValueError) as e:\n",
    "                print(f\"Error al obtener ratings para VehicleId {modelo_id}: {e}\")\n",
    "        else:\n",
    "            print(f\"Error en la solicitud para VehicleId {modelo_id}: {response.status_code}\")\n"
   ]
  },
  {
   "cell_type": "code",
   "execution_count": 242,
   "metadata": {},
   "outputs": [
    {
     "data": {
      "text/html": [
       "<div>\n",
       "<style scoped>\n",
       "    .dataframe tbody tr th:only-of-type {\n",
       "        vertical-align: middle;\n",
       "    }\n",
       "\n",
       "    .dataframe tbody tr th {\n",
       "        vertical-align: top;\n",
       "    }\n",
       "\n",
       "    .dataframe thead th {\n",
       "        text-align: right;\n",
       "    }\n",
       "</style>\n",
       "<table border=\"1\" class=\"dataframe\">\n",
       "  <thead>\n",
       "    <tr style=\"text-align: right;\">\n",
       "      <th></th>\n",
       "      <th>VehiclePicture</th>\n",
       "      <th>OverallRating</th>\n",
       "      <th>OverallFrontCrashRating</th>\n",
       "      <th>FrontCrashDriversideRating</th>\n",
       "      <th>FrontCrashPassengersideRating</th>\n",
       "      <th>OverallSideCrashRating</th>\n",
       "      <th>SideCrashDriversideRating</th>\n",
       "      <th>SideCrashPassengersideRating</th>\n",
       "      <th>combinedSideBarrierAndPoleRating-Front</th>\n",
       "      <th>combinedSideBarrierAndPoleRating-Rear</th>\n",
       "      <th>sideBarrierRating-Overall</th>\n",
       "      <th>RolloverRating</th>\n",
       "      <th>RolloverRating2</th>\n",
       "      <th>RolloverPossibility</th>\n",
       "      <th>RolloverPossibility2</th>\n",
       "      <th>dynamicTipResult</th>\n",
       "      <th>SidePoleCrashRating</th>\n",
       "      <th>NHTSAElectronicStabilityControl</th>\n",
       "      <th>NHTSAForwardCollisionWarning</th>\n",
       "      <th>NHTSALaneDepartureWarning</th>\n",
       "      <th>ComplaintsCount</th>\n",
       "      <th>RecallsCount</th>\n",
       "      <th>InvestigationCount</th>\n",
       "      <th>ModelYear</th>\n",
       "      <th>Make</th>\n",
       "      <th>Model</th>\n",
       "      <th>VehicleDescription</th>\n",
       "      <th>VehicleId</th>\n",
       "      <th>FrontCrashPicture</th>\n",
       "      <th>FrontCrashVideo</th>\n",
       "      <th>SideCrashPicture</th>\n",
       "      <th>SideCrashVideo</th>\n",
       "      <th>SidePolePicture</th>\n",
       "      <th>SidePoleVideo</th>\n",
       "    </tr>\n",
       "  </thead>\n",
       "  <tbody>\n",
       "    <tr>\n",
       "      <th>0</th>\n",
       "      <td>https://static.nhtsa.gov/images/vehicles/7276_...</td>\n",
       "      <td>Not Rated</td>\n",
       "      <td>Not Rated</td>\n",
       "      <td>Not Rated</td>\n",
       "      <td>Not Rated</td>\n",
       "      <td>Not Rated</td>\n",
       "      <td>Not Rated</td>\n",
       "      <td>Not Rated</td>\n",
       "      <td>Not Rated</td>\n",
       "      <td>Not Rated</td>\n",
       "      <td>Not Rated</td>\n",
       "      <td>Not Rated</td>\n",
       "      <td>Not Rated</td>\n",
       "      <td>0.000</td>\n",
       "      <td>0.0</td>\n",
       "      <td></td>\n",
       "      <td>Not Rated</td>\n",
       "      <td>Standard</td>\n",
       "      <td>No</td>\n",
       "      <td>No</td>\n",
       "      <td>40</td>\n",
       "      <td>1</td>\n",
       "      <td>1</td>\n",
       "      <td>2011</td>\n",
       "      <td>NISSAN</td>\n",
       "      <td>370Z</td>\n",
       "      <td>2011 Nissan 370Z 2 DR RWD</td>\n",
       "      <td>355</td>\n",
       "      <td>NaN</td>\n",
       "      <td>NaN</td>\n",
       "      <td>NaN</td>\n",
       "      <td>NaN</td>\n",
       "      <td>NaN</td>\n",
       "      <td>NaN</td>\n",
       "    </tr>\n",
       "    <tr>\n",
       "      <th>474</th>\n",
       "      <td>https://static.nhtsa.gov/images/vehicles/52562...</td>\n",
       "      <td>5</td>\n",
       "      <td>4</td>\n",
       "      <td>5</td>\n",
       "      <td>4</td>\n",
       "      <td>5</td>\n",
       "      <td>4</td>\n",
       "      <td>5</td>\n",
       "      <td>5</td>\n",
       "      <td>5</td>\n",
       "      <td>5</td>\n",
       "      <td>5</td>\n",
       "      <td>Not Rated</td>\n",
       "      <td>0.092</td>\n",
       "      <td>0.0</td>\n",
       "      <td>No Tip</td>\n",
       "      <td>5</td>\n",
       "      <td>Standard</td>\n",
       "      <td>Standard</td>\n",
       "      <td>Standard</td>\n",
       "      <td>14</td>\n",
       "      <td>1</td>\n",
       "      <td>0</td>\n",
       "      <td>2024</td>\n",
       "      <td>NISSAN</td>\n",
       "      <td>ALTIMA</td>\n",
       "      <td>2024 Nissan Altima 4 DR AWD</td>\n",
       "      <td>19561</td>\n",
       "      <td>https://static.nhtsa.gov/crashTest/images/2024...</td>\n",
       "      <td>https://static.nhtsa.gov/crashTest/videos/2024...</td>\n",
       "      <td>https://static.nhtsa.gov/crashTest/images/2024...</td>\n",
       "      <td>https://static.nhtsa.gov/crashTest/videos/2024...</td>\n",
       "      <td>https://static.nhtsa.gov/crashTest/images/2024...</td>\n",
       "      <td>https://static.nhtsa.gov/crashTest/videos/2024...</td>\n",
       "    </tr>\n",
       "    <tr>\n",
       "      <th>289</th>\n",
       "      <td>https://static.nhtsa.gov/images/vehicles/12855...</td>\n",
       "      <td>4</td>\n",
       "      <td>4</td>\n",
       "      <td>4</td>\n",
       "      <td>5</td>\n",
       "      <td>5</td>\n",
       "      <td>5</td>\n",
       "      <td>5</td>\n",
       "      <td>5</td>\n",
       "      <td>5</td>\n",
       "      <td>5</td>\n",
       "      <td>4</td>\n",
       "      <td>Not Rated</td>\n",
       "      <td>0.198</td>\n",
       "      <td>0.0</td>\n",
       "      <td>No Tip</td>\n",
       "      <td>5</td>\n",
       "      <td>Standard</td>\n",
       "      <td>No</td>\n",
       "      <td>No</td>\n",
       "      <td>65</td>\n",
       "      <td>4</td>\n",
       "      <td>2</td>\n",
       "      <td>2018</td>\n",
       "      <td>NISSAN</td>\n",
       "      <td>TITAN</td>\n",
       "      <td>2018 Nissan Titan Crew Cab RWD Early Release</td>\n",
       "      <td>12697</td>\n",
       "      <td>https://static.nhtsa.gov/crashTest/images/2018...</td>\n",
       "      <td>https://static.nhtsa.gov/crashTest/videos/2018...</td>\n",
       "      <td>https://static.nhtsa.gov/crashTest/images/2018...</td>\n",
       "      <td>https://static.nhtsa.gov/crashTest/videos/2018...</td>\n",
       "      <td>https://static.nhtsa.gov/crashTest/images/2018...</td>\n",
       "      <td>https://static.nhtsa.gov/crashTest/videos/2018...</td>\n",
       "    </tr>\n",
       "    <tr>\n",
       "      <th>281</th>\n",
       "      <td>https://static.nhtsa.gov/images/vehicles/12937...</td>\n",
       "      <td>4</td>\n",
       "      <td>4</td>\n",
       "      <td>5</td>\n",
       "      <td>2</td>\n",
       "      <td>5</td>\n",
       "      <td>5</td>\n",
       "      <td>5</td>\n",
       "      <td>5</td>\n",
       "      <td>5</td>\n",
       "      <td>5</td>\n",
       "      <td>4</td>\n",
       "      <td>Not Rated</td>\n",
       "      <td>0.143</td>\n",
       "      <td>0.0</td>\n",
       "      <td>No Tip</td>\n",
       "      <td>5</td>\n",
       "      <td>Standard</td>\n",
       "      <td>Optional</td>\n",
       "      <td>No</td>\n",
       "      <td>67</td>\n",
       "      <td>2</td>\n",
       "      <td>0</td>\n",
       "      <td>2018</td>\n",
       "      <td>NISSAN</td>\n",
       "      <td>ROGUE SPORT</td>\n",
       "      <td>2018 Nissan Rogue Sport SUV AWD</td>\n",
       "      <td>12773</td>\n",
       "      <td>https://static.nhtsa.gov/crashTest/images/2018...</td>\n",
       "      <td>https://static.nhtsa.gov/crashTest/videos/2018...</td>\n",
       "      <td>https://static.nhtsa.gov/crashTest/images/2018...</td>\n",
       "      <td>https://static.nhtsa.gov/crashTest/videos/2018...</td>\n",
       "      <td>https://static.nhtsa.gov/crashTest/images/2018...</td>\n",
       "      <td>https://static.nhtsa.gov/crashTest/videos/2018...</td>\n",
       "    </tr>\n",
       "  </tbody>\n",
       "</table>\n",
       "</div>"
      ],
      "text/plain": [
       "                                        VehiclePicture OverallRating  \\\n",
       "0    https://static.nhtsa.gov/images/vehicles/7276_...     Not Rated   \n",
       "474  https://static.nhtsa.gov/images/vehicles/52562...             5   \n",
       "289  https://static.nhtsa.gov/images/vehicles/12855...             4   \n",
       "281  https://static.nhtsa.gov/images/vehicles/12937...             4   \n",
       "\n",
       "    OverallFrontCrashRating FrontCrashDriversideRating  \\\n",
       "0                 Not Rated                  Not Rated   \n",
       "474                       4                          5   \n",
       "289                       4                          4   \n",
       "281                       4                          5   \n",
       "\n",
       "    FrontCrashPassengersideRating OverallSideCrashRating  \\\n",
       "0                       Not Rated              Not Rated   \n",
       "474                             4                      5   \n",
       "289                             5                      5   \n",
       "281                             2                      5   \n",
       "\n",
       "    SideCrashDriversideRating SideCrashPassengersideRating  \\\n",
       "0                   Not Rated                    Not Rated   \n",
       "474                         4                            5   \n",
       "289                         5                            5   \n",
       "281                         5                            5   \n",
       "\n",
       "    combinedSideBarrierAndPoleRating-Front  \\\n",
       "0                                Not Rated   \n",
       "474                                      5   \n",
       "289                                      5   \n",
       "281                                      5   \n",
       "\n",
       "    combinedSideBarrierAndPoleRating-Rear sideBarrierRating-Overall  \\\n",
       "0                               Not Rated                 Not Rated   \n",
       "474                                     5                         5   \n",
       "289                                     5                         5   \n",
       "281                                     5                         5   \n",
       "\n",
       "    RolloverRating RolloverRating2  RolloverPossibility  RolloverPossibility2  \\\n",
       "0        Not Rated       Not Rated                0.000                   0.0   \n",
       "474              5       Not Rated                0.092                   0.0   \n",
       "289              4       Not Rated                0.198                   0.0   \n",
       "281              4       Not Rated                0.143                   0.0   \n",
       "\n",
       "    dynamicTipResult SidePoleCrashRating NHTSAElectronicStabilityControl  \\\n",
       "0                              Not Rated                        Standard   \n",
       "474           No Tip                   5                        Standard   \n",
       "289           No Tip                   5                        Standard   \n",
       "281           No Tip                   5                        Standard   \n",
       "\n",
       "    NHTSAForwardCollisionWarning NHTSALaneDepartureWarning  ComplaintsCount  \\\n",
       "0                             No                        No               40   \n",
       "474                     Standard                  Standard               14   \n",
       "289                           No                        No               65   \n",
       "281                     Optional                        No               67   \n",
       "\n",
       "     RecallsCount  InvestigationCount  ModelYear    Make        Model  \\\n",
       "0               1                   1       2011  NISSAN         370Z   \n",
       "474             1                   0       2024  NISSAN       ALTIMA   \n",
       "289             4                   2       2018  NISSAN        TITAN   \n",
       "281             2                   0       2018  NISSAN  ROGUE SPORT   \n",
       "\n",
       "                               VehicleDescription  VehicleId  \\\n",
       "0                       2011 Nissan 370Z 2 DR RWD        355   \n",
       "474                   2024 Nissan Altima 4 DR AWD      19561   \n",
       "289  2018 Nissan Titan Crew Cab RWD Early Release      12697   \n",
       "281               2018 Nissan Rogue Sport SUV AWD      12773   \n",
       "\n",
       "                                     FrontCrashPicture  \\\n",
       "0                                                  NaN   \n",
       "474  https://static.nhtsa.gov/crashTest/images/2024...   \n",
       "289  https://static.nhtsa.gov/crashTest/images/2018...   \n",
       "281  https://static.nhtsa.gov/crashTest/images/2018...   \n",
       "\n",
       "                                       FrontCrashVideo  \\\n",
       "0                                                  NaN   \n",
       "474  https://static.nhtsa.gov/crashTest/videos/2024...   \n",
       "289  https://static.nhtsa.gov/crashTest/videos/2018...   \n",
       "281  https://static.nhtsa.gov/crashTest/videos/2018...   \n",
       "\n",
       "                                      SideCrashPicture  \\\n",
       "0                                                  NaN   \n",
       "474  https://static.nhtsa.gov/crashTest/images/2024...   \n",
       "289  https://static.nhtsa.gov/crashTest/images/2018...   \n",
       "281  https://static.nhtsa.gov/crashTest/images/2018...   \n",
       "\n",
       "                                        SideCrashVideo  \\\n",
       "0                                                  NaN   \n",
       "474  https://static.nhtsa.gov/crashTest/videos/2024...   \n",
       "289  https://static.nhtsa.gov/crashTest/videos/2018...   \n",
       "281  https://static.nhtsa.gov/crashTest/videos/2018...   \n",
       "\n",
       "                                       SidePolePicture  \\\n",
       "0                                                  NaN   \n",
       "474  https://static.nhtsa.gov/crashTest/images/2024...   \n",
       "289  https://static.nhtsa.gov/crashTest/images/2018...   \n",
       "281  https://static.nhtsa.gov/crashTest/images/2018...   \n",
       "\n",
       "                                         SidePoleVideo  \n",
       "0                                                  NaN  \n",
       "474  https://static.nhtsa.gov/crashTest/videos/2024...  \n",
       "289  https://static.nhtsa.gov/crashTest/videos/2018...  \n",
       "281  https://static.nhtsa.gov/crashTest/videos/2018...  "
      ]
     },
     "execution_count": 242,
     "metadata": {},
     "output_type": "execute_result"
    }
   ],
   "source": [
    "df_ratings.sample(4)"
   ]
  },
  {
   "cell_type": "code",
   "execution_count": 239,
   "metadata": {},
   "outputs": [
    {
     "name": "stdout",
     "output_type": "stream",
     "text": [
      "<class 'pandas.core.frame.DataFrame'>\n",
      "RangeIndex: 525 entries, 0 to 524\n",
      "Data columns (total 34 columns):\n",
      " #   Column                                  Non-Null Count  Dtype  \n",
      "---  ------                                  --------------  -----  \n",
      " 0   VehiclePicture                          422 non-null    object \n",
      " 1   OverallRating                           525 non-null    object \n",
      " 2   OverallFrontCrashRating                 525 non-null    object \n",
      " 3   FrontCrashDriversideRating              525 non-null    object \n",
      " 4   FrontCrashPassengersideRating           525 non-null    object \n",
      " 5   OverallSideCrashRating                  525 non-null    object \n",
      " 6   SideCrashDriversideRating               525 non-null    object \n",
      " 7   SideCrashPassengersideRating            525 non-null    object \n",
      " 8   combinedSideBarrierAndPoleRating-Front  525 non-null    object \n",
      " 9   combinedSideBarrierAndPoleRating-Rear   525 non-null    object \n",
      " 10  sideBarrierRating-Overall               525 non-null    object \n",
      " 11  RolloverRating                          525 non-null    object \n",
      " 12  RolloverRating2                         525 non-null    object \n",
      " 13  RolloverPossibility                     525 non-null    float64\n",
      " 14  RolloverPossibility2                    525 non-null    float64\n",
      " 15  dynamicTipResult                        525 non-null    object \n",
      " 16  SidePoleCrashRating                     525 non-null    object \n",
      " 17  NHTSAElectronicStabilityControl         525 non-null    object \n",
      " 18  NHTSAForwardCollisionWarning            525 non-null    object \n",
      " 19  NHTSALaneDepartureWarning               525 non-null    object \n",
      " 20  ComplaintsCount                         525 non-null    int64  \n",
      " 21  RecallsCount                            525 non-null    int64  \n",
      " 22  InvestigationCount                      525 non-null    int64  \n",
      " 23  ModelYear                               525 non-null    int64  \n",
      " 24  Make                                    525 non-null    object \n",
      " 25  Model                                   525 non-null    object \n",
      " 26  VehicleDescription                      525 non-null    object \n",
      " 27  VehicleId                               525 non-null    int64  \n",
      " 28  FrontCrashPicture                       254 non-null    object \n",
      " 29  FrontCrashVideo                         233 non-null    object \n",
      " 30  SideCrashPicture                        244 non-null    object \n",
      " 31  SideCrashVideo                          223 non-null    object \n",
      " 32  SidePolePicture                         246 non-null    object \n",
      " 33  SidePoleVideo                           231 non-null    object \n",
      "dtypes: float64(2), int64(5), object(27)\n",
      "memory usage: 139.6+ KB\n"
     ]
    }
   ],
   "source": [
    "df_ratings.info()"
   ]
  },
  {
   "cell_type": "code",
   "execution_count": 268,
   "metadata": {},
   "outputs": [],
   "source": [
    "df_ratings.to_csv(\"../datos/datos_seguridad.csv\")\n",
    "df_seguridad=pd.read_csv(\"../datos/datos_seguridad.csv\", index_col= \"Unnamed: 0\" )"
   ]
  },
  {
   "cell_type": "markdown",
   "metadata": {},
   "source": [
    "ESTÁ listo para la limpieza lo de SEGURIDAD"
   ]
  },
  {
   "cell_type": "markdown",
   "metadata": {},
   "source": [
    "**Tratamiento de duplicados y nulos Seguridad**  \n",
    "*NULOS*  \n",
    "\n",
    "Había muchos Not Rated que convertí en nulos para eliminarlos porque si no tiene rating, no nos aporta nada de valor \n",
    "\n",
    "*DUPLICADOS*  \n",
    "\n",
    "No tiene duplicados\n",
    "\n",
    "\n",
    "*DATOS INNECESARIOS*  \n",
    "\n",
    "Eliminamos las columnas que no nos interesan y que aportan más problemas que información \n"
   ]
  },
  {
   "cell_type": "code",
   "execution_count": 269,
   "metadata": {},
   "outputs": [],
   "source": [
    "df_seguridad=df_seguridad.drop(columns= [\"VehiclePicture\",\"FrontCrashDriversideRating\",\"FrontCrashPassengersideRating\", \"SideCrashDriversideRating\", \"SideCrashPassengersideRating\", \"combinedSideBarrierAndPoleRating-Front\", \"combinedSideBarrierAndPoleRating-Rear\", \"RolloverRating2\", \"RolloverPossibility2\", \"dynamicTipResult\", \"FrontCrashPicture\", \"FrontCrashVideo\", \"SideCrashPicture\", \"SideCrashVideo\", \"SidePolePicture\", \"SidePoleVideo\"])"
   ]
  },
  {
   "cell_type": "code",
   "execution_count": 281,
   "metadata": {},
   "outputs": [
    {
     "data": {
      "text/html": [
       "<div>\n",
       "<style scoped>\n",
       "    .dataframe tbody tr th:only-of-type {\n",
       "        vertical-align: middle;\n",
       "    }\n",
       "\n",
       "    .dataframe tbody tr th {\n",
       "        vertical-align: top;\n",
       "    }\n",
       "\n",
       "    .dataframe thead th {\n",
       "        text-align: right;\n",
       "    }\n",
       "</style>\n",
       "<table border=\"1\" class=\"dataframe\">\n",
       "  <thead>\n",
       "    <tr style=\"text-align: right;\">\n",
       "      <th></th>\n",
       "      <th>id_seguridad</th>\n",
       "      <th>evaluacion_general</th>\n",
       "      <th>evaluacion_choque_frontal</th>\n",
       "      <th>evaluacion_choque_lateral</th>\n",
       "      <th>evaluacion_barrera_lateral</th>\n",
       "      <th>evaluacion_vuelco</th>\n",
       "      <th>probabilidad_vuelco</th>\n",
       "      <th>evaluacion_choque_columna</th>\n",
       "      <th>estabilidad_electronica</th>\n",
       "      <th>aviso_choque_frontal</th>\n",
       "      <th>aviso_desvio_carril</th>\n",
       "      <th>quejas</th>\n",
       "      <th>retiradas</th>\n",
       "      <th>investigaciones</th>\n",
       "      <th>anio</th>\n",
       "      <th>marca</th>\n",
       "      <th>version</th>\n",
       "      <th>descripcion</th>\n",
       "      <th>vehiculo_id</th>\n",
       "    </tr>\n",
       "  </thead>\n",
       "  <tbody>\n",
       "    <tr>\n",
       "      <th>0</th>\n",
       "      <td>1</td>\n",
       "      <td>4</td>\n",
       "      <td>4</td>\n",
       "      <td>5</td>\n",
       "      <td>4</td>\n",
       "      <td>4</td>\n",
       "      <td>0.105</td>\n",
       "      <td>5</td>\n",
       "      <td>Standard</td>\n",
       "      <td>No</td>\n",
       "      <td>No</td>\n",
       "      <td>236</td>\n",
       "      <td>1</td>\n",
       "      <td>0</td>\n",
       "      <td>2011</td>\n",
       "      <td>NISSAN</td>\n",
       "      <td>ALTIMA</td>\n",
       "      <td>2011 Nissan Altima 4 DR FWD</td>\n",
       "      <td>357</td>\n",
       "    </tr>\n",
       "    <tr>\n",
       "      <th>1</th>\n",
       "      <td>2</td>\n",
       "      <td>4</td>\n",
       "      <td>4</td>\n",
       "      <td>5</td>\n",
       "      <td>4</td>\n",
       "      <td>4</td>\n",
       "      <td>0.105</td>\n",
       "      <td>5</td>\n",
       "      <td>Standard</td>\n",
       "      <td>No</td>\n",
       "      <td>No</td>\n",
       "      <td>240</td>\n",
       "      <td>1</td>\n",
       "      <td>1</td>\n",
       "      <td>2011</td>\n",
       "      <td>NISSAN</td>\n",
       "      <td>ALTIMA HEV</td>\n",
       "      <td>2011 Nissan Altima HEV 4 DR FWD</td>\n",
       "      <td>359</td>\n",
       "    </tr>\n",
       "    <tr>\n",
       "      <th>2</th>\n",
       "      <td>3</td>\n",
       "      <td>5</td>\n",
       "      <td>4</td>\n",
       "      <td>5</td>\n",
       "      <td>5</td>\n",
       "      <td>4</td>\n",
       "      <td>0.110</td>\n",
       "      <td>4</td>\n",
       "      <td>Standard</td>\n",
       "      <td>No</td>\n",
       "      <td>No</td>\n",
       "      <td>93</td>\n",
       "      <td>0</td>\n",
       "      <td>3</td>\n",
       "      <td>2011</td>\n",
       "      <td>NISSAN</td>\n",
       "      <td>LEAF</td>\n",
       "      <td>2011 Nissan Leaf 5 HB FWD</td>\n",
       "      <td>367</td>\n",
       "    </tr>\n",
       "    <tr>\n",
       "      <th>3</th>\n",
       "      <td>4</td>\n",
       "      <td>4</td>\n",
       "      <td>4</td>\n",
       "      <td>5</td>\n",
       "      <td>5</td>\n",
       "      <td>4</td>\n",
       "      <td>0.185</td>\n",
       "      <td>4</td>\n",
       "      <td>Standard</td>\n",
       "      <td>No</td>\n",
       "      <td>No</td>\n",
       "      <td>145</td>\n",
       "      <td>0</td>\n",
       "      <td>0</td>\n",
       "      <td>2011</td>\n",
       "      <td>NISSAN</td>\n",
       "      <td>MURANO</td>\n",
       "      <td>2011 Nissan Murano SUV AWD</td>\n",
       "      <td>654</td>\n",
       "    </tr>\n",
       "  </tbody>\n",
       "</table>\n",
       "</div>"
      ],
      "text/plain": [
       "   id_seguridad  evaluacion_general  evaluacion_choque_frontal  \\\n",
       "0             1                   4                          4   \n",
       "1             2                   4                          4   \n",
       "2             3                   5                          4   \n",
       "3             4                   4                          4   \n",
       "\n",
       "   evaluacion_choque_lateral  evaluacion_barrera_lateral  evaluacion_vuelco  \\\n",
       "0                          5                           4                  4   \n",
       "1                          5                           4                  4   \n",
       "2                          5                           5                  4   \n",
       "3                          5                           5                  4   \n",
       "\n",
       "   probabilidad_vuelco  evaluacion_choque_columna estabilidad_electronica  \\\n",
       "0                0.105                          5                Standard   \n",
       "1                0.105                          5                Standard   \n",
       "2                0.110                          4                Standard   \n",
       "3                0.185                          4                Standard   \n",
       "\n",
       "  aviso_choque_frontal aviso_desvio_carril  quejas  retiradas  \\\n",
       "0                   No                  No     236          1   \n",
       "1                   No                  No     240          1   \n",
       "2                   No                  No      93          0   \n",
       "3                   No                  No     145          0   \n",
       "\n",
       "   investigaciones  anio   marca     version                      descripcion  \\\n",
       "0                0  2011  NISSAN      ALTIMA      2011 Nissan Altima 4 DR FWD   \n",
       "1                1  2011  NISSAN  ALTIMA HEV  2011 Nissan Altima HEV 4 DR FWD   \n",
       "2                3  2011  NISSAN        LEAF        2011 Nissan Leaf 5 HB FWD   \n",
       "3                0  2011  NISSAN      MURANO       2011 Nissan Murano SUV AWD   \n",
       "\n",
       "   vehiculo_id  \n",
       "0          357  \n",
       "1          359  \n",
       "2          367  \n",
       "3          654  "
      ]
     },
     "execution_count": 281,
     "metadata": {},
     "output_type": "execute_result"
    }
   ],
   "source": [
    "df_seguridad.head(4)"
   ]
  },
  {
   "cell_type": "code",
   "execution_count": 275,
   "metadata": {},
   "outputs": [],
   "source": [
    "df_seguridad.replace(\"Not Rated\", pd.NA, inplace=True)\n",
    "\n",
    "columnas_rating = [\"OverallRating\", \"OverallFrontCrashRating\", \"OverallSideCrashRating\",\"sideBarrierRating-Overall\", \"RolloverRating\", \"SidePoleCrashRating\"]\n",
    "df_seguridad.dropna(subset=columnas_rating, inplace=True)\n",
    "df_seguridad.reset_index(drop= True, inplace=True)"
   ]
  },
  {
   "cell_type": "code",
   "execution_count": 276,
   "metadata": {},
   "outputs": [],
   "source": [
    "df_seguridad[columnas_rating] = df_seguridad[columnas_rating].astype(int)"
   ]
  },
  {
   "cell_type": "code",
   "execution_count": 277,
   "metadata": {},
   "outputs": [
    {
     "data": {
      "text/plain": [
       "np.int64(0)"
      ]
     },
     "execution_count": 277,
     "metadata": {},
     "output_type": "execute_result"
    }
   ],
   "source": [
    "df_seguridad.duplicated().sum()"
   ]
  },
  {
   "cell_type": "code",
   "execution_count": 278,
   "metadata": {},
   "outputs": [
    {
     "name": "stdout",
     "output_type": "stream",
     "text": [
      "<class 'pandas.core.frame.DataFrame'>\n",
      "RangeIndex: 249 entries, 0 to 248\n",
      "Data columns (total 18 columns):\n",
      " #   Column                           Non-Null Count  Dtype  \n",
      "---  ------                           --------------  -----  \n",
      " 0   OverallRating                    249 non-null    int64  \n",
      " 1   OverallFrontCrashRating          249 non-null    int64  \n",
      " 2   OverallSideCrashRating           249 non-null    int64  \n",
      " 3   sideBarrierRating-Overall        249 non-null    int64  \n",
      " 4   RolloverRating                   249 non-null    int64  \n",
      " 5   RolloverPossibility              249 non-null    float64\n",
      " 6   SidePoleCrashRating              249 non-null    int64  \n",
      " 7   NHTSAElectronicStabilityControl  249 non-null    object \n",
      " 8   NHTSAForwardCollisionWarning     249 non-null    object \n",
      " 9   NHTSALaneDepartureWarning        249 non-null    object \n",
      " 10  ComplaintsCount                  249 non-null    int64  \n",
      " 11  RecallsCount                     249 non-null    int64  \n",
      " 12  InvestigationCount               249 non-null    int64  \n",
      " 13  ModelYear                        249 non-null    int64  \n",
      " 14  Make                             249 non-null    object \n",
      " 15  Model                            249 non-null    object \n",
      " 16  VehicleDescription               249 non-null    object \n",
      " 17  VehicleId                        249 non-null    int64  \n",
      "dtypes: float64(1), int64(11), object(6)\n",
      "memory usage: 35.1+ KB\n"
     ]
    }
   ],
   "source": [
    "df_seguridad.info()"
   ]
  },
  {
   "cell_type": "markdown",
   "metadata": {},
   "source": [
    "Añado un id"
   ]
  },
  {
   "cell_type": "code",
   "execution_count": 279,
   "metadata": {},
   "outputs": [],
   "source": [
    "df_seguridad.index= df_seguridad.index+1\n",
    "df_seguridad.reset_index(inplace=True)"
   ]
  },
  {
   "cell_type": "code",
   "execution_count": 280,
   "metadata": {},
   "outputs": [],
   "source": [
    "dicc_encabezados={\n",
    "    \"index\": \"id_seguridad\",\n",
    "    \"OverallRating\": \"evaluacion_general\",\n",
    "    \"OverallFrontCrashRating\": \"evaluacion_choque_frontal\",\n",
    "    \"OverallSideCrashRating\": \"evaluacion_choque_lateral\",\n",
    "    \"sideBarrierRating-Overall\": \"evaluacion_barrera_lateral\",\n",
    "    \"RolloverRating\": \"evaluacion_vuelco\",\n",
    "    \"RolloverPossibility\": \"probabilidad_vuelco\",\n",
    "    \"SidePoleCrashRating\": \"evaluacion_choque_columna\",\n",
    "    \"NHTSAElectronicStabilityControl\": \"estabilidad_electronica\",\n",
    "    \"NHTSAForwardCollisionWarning\": \"aviso_choque_frontal\",\n",
    "    \"NHTSALaneDepartureWarning\": \"aviso_desvio_carril\",\n",
    "    \"ComplaintsCount\": \"quejas\",\n",
    "    \"RecallsCount\": \"retiradas\",\n",
    "    \"InvestigationCount\": \"investigaciones\",\n",
    "    \"ModelYear\": \"anio\",\n",
    "    \"Make\": \"marca\",\n",
    "    \"Model\": \"version\",\n",
    "    \"VehicleDescription\": \"descripcion\",\n",
    "    \"VehicleId\": \"vehiculo_id\"\n",
    "}\n",
    "            \n",
    "df_seguridad.columns=df_seguridad.columns.map(dicc_encabezados)"
   ]
  },
  {
   "cell_type": "code",
   "execution_count": 282,
   "metadata": {},
   "outputs": [],
   "source": [
    "df_seguridad.to_csv(\"../datos/datos_seguridad.csv\")"
   ]
  },
  {
   "cell_type": "markdown",
   "metadata": {},
   "source": [
    "Empezamos con web scrapping de Quecochemecompro"
   ]
  },
  {
   "cell_type": "markdown",
   "metadata": {},
   "source": [
    "Este funciona sin duplicados(Primera tabla solo porque es donde están los modelos más simples y el cliente al que estamos intentando informar prioriza mucho el ahorro)"
   ]
  },
  {
   "cell_type": "code",
   "execution_count": 141,
   "metadata": {},
   "outputs": [],
   "source": [
    "url_nuevo = \"https://www.quecochemecompro.com/\"\n",
    "\n",
    "driver=webdriver.Chrome()\n",
    "driver.maximize_window()\n",
    "driver.get(url_nuevo)\n",
    "\n",
    "#acepto cookies\n",
    "driver.find_element(\"css selector\", \"#qc-cmp2-ui > div.qc-cmp2-footer.qc-cmp2-footer-overlay.qc-cmp2-footer-scrolled > div > button.css-y6krop\").click()\n",
    "sleep(2)\n",
    "#me meto en nuevos\n",
    "driver.find_element(\"css selector\", \"#header-menu > li:nth-child(1) > a\").click()\n",
    "\n",
    "\n",
    "sleep(2)\n",
    "#click en el buscador \n",
    "driver.find_element(\"css selector\", \"#header > div.tw-container.flex.gap-4 > div > div.hidden.lg\\:flex.w-60.ml-auto.mr-8.gap-4.items-center > form\").click()\n",
    "sleep(2)\n",
    "#meto nissan en el buscador\n",
    "driver.find_element(\"css selector\", \"#header > div.tw-container.flex.gap-4 > div > div.hidden.lg\\:flex.w-60.ml-auto.mr-8.gap-4.items-center > form > input\").send_keys(\"nissan\", Keys.ENTER)\n",
    "\n",
    "#saco los nombres para meterlos en una lista\n",
    "\n",
    "sopa_nuevos = BeautifulSoup(driver.page_source, 'html.parser')\n",
    "lista_nombre_modelo=[]\n",
    "for modelo in sopa_nuevos.find_all(\"li\", {\"class\":\"mx-auto w-full min-w-[20rem]\"}):\n",
    "    tag_a = modelo.find(\"a\", title=True)\n",
    "    if tag_a:\n",
    "        lista_nombre_modelo.append(tag_a[\"title\"])\n",
    "\n",
    "\n",
    "df_datos_modelos = pd.DataFrame()\n",
    "for n_modelo in range(1, len(lista_nombre_modelo) + 1):\n",
    "    sleep(2)\n",
    "    # Hacer click en el modelo específico\n",
    "    driver.find_element(\"css selector\", f\"#results > ul > li:nth-child({n_modelo}) > div > div.relative.z-10 > div.flex.justify-between.items-end.py-3.leading-5.text-17 > div:nth-child(1) > a\").click()\n",
    "    sopa_tabla = BeautifulSoup(driver.page_source, 'html.parser')\n",
    "    sleep(2)\n",
    "    df_tablas=pd.DataFrame()\n",
    "    \n",
    "    try:  # Encontrar la tabla de datos\n",
    "        \n",
    "        sleep(2) #hace click por si hay más tablas\n",
    "\n",
    "        try:\n",
    "            driver.find_element(\"css selector\", f\"#versions > div > div:nth-child(2) > table > tfoot > tr > td > ul > li:nth-child(2) > a\").click()\n",
    "            \n",
    "        except:\n",
    "            # Si no encuentra el selector con nth-child(2), intenta con nth-child(3)\n",
    "            \n",
    "            driver.find_element(\"css selector\", f\"#versions > div > div:nth-child(3) > table > tfoot > tr > td > ul > li:nth-child(2) > a\").click()\n",
    "            \n",
    "        tabla = sopa_tabla.find(\"table\")  #a lo mejor no me coge en algunas porque hay otra tabla                \n",
    "        \n",
    "        encabezados = [th.get_text(strip=True) for th in tabla.find_all(\"thead\")[0].find_all(\"th\")]\n",
    "\n",
    "        filas = []\n",
    "        for tr in tabla.find_all(\"tbody\")[0].find_all(\"tr\"):\n",
    "            filas.append([td.get_text(strip=True) for td in tr.find_all(\"td\")])\n",
    "\n",
    "        df_tabla = pd.DataFrame(filas, columns=encabezados)\n",
    "        df_tabla[\"Modelo\"] = lista_nombre_modelo[n_modelo - 1]\n",
    "        df_tablas= pd.concat([df_tablas, df_tabla])\n",
    "\n",
    "\n",
    "\n",
    "\n",
    "        df_datos_modelos= pd.concat([df_datos_modelos, df_tablas], ignore_index=True)\n",
    "\n",
    "    except:\n",
    "        \n",
    "        driver.back()\n",
    "        continue\n",
    "        \n",
    "    driver.back()    \n",
    "\n",
    "\n"
   ]
  },
  {
   "cell_type": "code",
   "execution_count": 142,
   "metadata": {},
   "outputs": [
    {
     "data": {
      "text/html": [
       "<div>\n",
       "<style scoped>\n",
       "    .dataframe tbody tr th:only-of-type {\n",
       "        vertical-align: middle;\n",
       "    }\n",
       "\n",
       "    .dataframe tbody tr th {\n",
       "        vertical-align: top;\n",
       "    }\n",
       "\n",
       "    .dataframe thead th {\n",
       "        text-align: right;\n",
       "    }\n",
       "</style>\n",
       "<table border=\"1\" class=\"dataframe\">\n",
       "  <thead>\n",
       "    <tr style=\"text-align: right;\">\n",
       "      <th></th>\n",
       "      <th>Versión</th>\n",
       "      <th>Etiqueta</th>\n",
       "      <th>Puertas</th>\n",
       "      <th>CV</th>\n",
       "      <th>Consumo</th>\n",
       "      <th>Motor</th>\n",
       "      <th>PVP</th>\n",
       "      <th>Oferta</th>\n",
       "      <th>Modelo</th>\n",
       "      <th>Autonomía</th>\n",
       "    </tr>\n",
       "  </thead>\n",
       "  <tbody>\n",
       "    <tr>\n",
       "      <th>5</th>\n",
       "      <td>NISSAN QASHQAI (O)1.3 DIG-T MHEV 116KW (158CV)...</td>\n",
       "      <td></td>\n",
       "      <td>5</td>\n",
       "      <td>158</td>\n",
       "      <td>6,3 l/100Km</td>\n",
       "      <td>MHEV Gasolina</td>\n",
       "      <td>35.800 €</td>\n",
       "      <td>Pedir oferta</td>\n",
       "      <td>Nissan Qashqai</td>\n",
       "      <td>NaN</td>\n",
       "    </tr>\n",
       "    <tr>\n",
       "      <th>23</th>\n",
       "      <td>NISSAN JUKE (O)1.0 DIG-T 84KW (114CV) N-CONNECTA</td>\n",
       "      <td></td>\n",
       "      <td>5</td>\n",
       "      <td>114</td>\n",
       "      <td>5,8 l/100Km</td>\n",
       "      <td>Gasolina</td>\n",
       "      <td>26.975 €</td>\n",
       "      <td>Pedir oferta</td>\n",
       "      <td>Nissan Juke</td>\n",
       "      <td>NaN</td>\n",
       "    </tr>\n",
       "    <tr>\n",
       "      <th>7</th>\n",
       "      <td>NISSAN QASHQAI 1.3 DIG-T MHEV 116KW (158CV) N-...</td>\n",
       "      <td></td>\n",
       "      <td>5</td>\n",
       "      <td>158</td>\n",
       "      <td>6,4 l/100Km</td>\n",
       "      <td>MHEV Gasolina</td>\n",
       "      <td>37.950 €</td>\n",
       "      <td>Pedir oferta</td>\n",
       "      <td>Nissan Qashqai</td>\n",
       "      <td>NaN</td>\n",
       "    </tr>\n",
       "  </tbody>\n",
       "</table>\n",
       "</div>"
      ],
      "text/plain": [
       "                                              Versión Etiqueta Puertas   CV  \\\n",
       "5   NISSAN QASHQAI (O)1.3 DIG-T MHEV 116KW (158CV)...                5  158   \n",
       "23   NISSAN JUKE (O)1.0 DIG-T 84KW (114CV) N-CONNECTA                5  114   \n",
       "7   NISSAN QASHQAI 1.3 DIG-T MHEV 116KW (158CV) N-...                5  158   \n",
       "\n",
       "        Consumo          Motor       PVP        Oferta          Modelo  \\\n",
       "5   6,3 l/100Km  MHEV Gasolina  35.800 €  Pedir oferta  Nissan Qashqai   \n",
       "23  5,8 l/100Km       Gasolina  26.975 €  Pedir oferta     Nissan Juke   \n",
       "7   6,4 l/100Km  MHEV Gasolina  37.950 €  Pedir oferta  Nissan Qashqai   \n",
       "\n",
       "   Autonomía  \n",
       "5        NaN  \n",
       "23       NaN  \n",
       "7        NaN  "
      ]
     },
     "execution_count": 142,
     "metadata": {},
     "output_type": "execute_result"
    }
   ],
   "source": [
    "df_datos_modelos.sample(3)"
   ]
  },
  {
   "cell_type": "code",
   "execution_count": 222,
   "metadata": {},
   "outputs": [],
   "source": [
    "df_datos_modelos.to_csv(\"../datos/datos_modelos_nuevos.csv\")\n",
    "df_datos_modelos_nuevos=pd.read_csv(\"../datos/datos_modelos_nuevos.csv\", index_col= \"Unnamed: 0\" )"
   ]
  },
  {
   "cell_type": "markdown",
   "metadata": {},
   "source": [
    "Coches nuevos listos para limpiar"
   ]
  },
  {
   "cell_type": "markdown",
   "metadata": {},
   "source": [
    "**Tratamiento de duplicados y nulos Nuevos**  \n",
    "*NULOS*  \n",
    "\n",
    "Hay nulos en consumo y autonomía asique decido meter los valores de autonomia en los nan de consumo (porque corresponden a los coches electricos) y elimino la columna autonomía.  \n",
    "\n",
    "Finalmente nos quedamos sin ningun nulo sin necesidad de hacer un dropna\n",
    "\n",
    "*DUPLICADOS*  \n",
    "\n",
    "No tiene duplicados\n",
    "\n",
    "\n",
    "*DATOS INNECESARIOS*  \n",
    "\n",
    "También elimino la columna etiqueta y oferta ya que no se ofrecen información relevante  \n",
    "\n",
    "En la columna de Consumo me he fijado que hay 5 valores con \"-\" lo que no me permite formatear esa columna(dado que son tan pocos, voy a eliminarlos porque al tener la autonomía en la misma columna la media no es representativa)"
   ]
  },
  {
   "cell_type": "code",
   "execution_count": 234,
   "metadata": {},
   "outputs": [
    {
     "data": {
      "text/html": [
       "<div>\n",
       "<style scoped>\n",
       "    .dataframe tbody tr th:only-of-type {\n",
       "        vertical-align: middle;\n",
       "    }\n",
       "\n",
       "    .dataframe tbody tr th {\n",
       "        vertical-align: top;\n",
       "    }\n",
       "\n",
       "    .dataframe thead th {\n",
       "        text-align: right;\n",
       "    }\n",
       "</style>\n",
       "<table border=\"1\" class=\"dataframe\">\n",
       "  <thead>\n",
       "    <tr style=\"text-align: right;\">\n",
       "      <th></th>\n",
       "      <th>id_modelo_nuevo</th>\n",
       "      <th>version</th>\n",
       "      <th>puertas</th>\n",
       "      <th>potencia</th>\n",
       "      <th>consumo</th>\n",
       "      <th>motor</th>\n",
       "      <th>precio</th>\n",
       "      <th>modelo</th>\n",
       "    </tr>\n",
       "  </thead>\n",
       "  <tbody>\n",
       "    <tr>\n",
       "      <th>2</th>\n",
       "      <td>3</td>\n",
       "      <td>NISSAN QASHQAI 1.3 DIG-T MHEV 116KW (158CV) AC...</td>\n",
       "      <td>5</td>\n",
       "      <td>158</td>\n",
       "      <td>6.3</td>\n",
       "      <td>MHEV Gasolina</td>\n",
       "      <td>34300</td>\n",
       "      <td>Nissan Qashqai</td>\n",
       "    </tr>\n",
       "    <tr>\n",
       "      <th>45</th>\n",
       "      <td>46</td>\n",
       "      <td>NISSAN X-TRAIL (O)1.5T MHEV 120KW (163CV) CVT ...</td>\n",
       "      <td>5</td>\n",
       "      <td>163</td>\n",
       "      <td>7.2</td>\n",
       "      <td>MHEV Gasolina</td>\n",
       "      <td>44550</td>\n",
       "      <td>Nissan X-Trail</td>\n",
       "    </tr>\n",
       "    <tr>\n",
       "      <th>87</th>\n",
       "      <td>92</td>\n",
       "      <td>NISSAN PRIMASTAR 2.0DCI 110KW (150CV) ACENTA L...</td>\n",
       "      <td>4</td>\n",
       "      <td>150</td>\n",
       "      <td>7.0</td>\n",
       "      <td>Diesel</td>\n",
       "      <td>45475</td>\n",
       "      <td>Nissan Primastar</td>\n",
       "    </tr>\n",
       "    <tr>\n",
       "      <th>62</th>\n",
       "      <td>67</td>\n",
       "      <td>NISSAN TOWNSTAR 1.3 TCE 96KW (130CV) TEKNA</td>\n",
       "      <td>5</td>\n",
       "      <td>130</td>\n",
       "      <td>6.8</td>\n",
       "      <td>Gasolina</td>\n",
       "      <td>37103</td>\n",
       "      <td>Nissan Townstar</td>\n",
       "    </tr>\n",
       "    <tr>\n",
       "      <th>49</th>\n",
       "      <td>51</td>\n",
       "      <td>NISSAN X-TRAIL 1.5 HEV E-POWER 204 N-CONNECTA</td>\n",
       "      <td>5</td>\n",
       "      <td>204</td>\n",
       "      <td>5.8</td>\n",
       "      <td>HEV Gasolina</td>\n",
       "      <td>45000</td>\n",
       "      <td>Nissan X-Trail híbrido</td>\n",
       "    </tr>\n",
       "  </tbody>\n",
       "</table>\n",
       "</div>"
      ],
      "text/plain": [
       "    id_modelo_nuevo                                            version  \\\n",
       "2                 3  NISSAN QASHQAI 1.3 DIG-T MHEV 116KW (158CV) AC...   \n",
       "45               46  NISSAN X-TRAIL (O)1.5T MHEV 120KW (163CV) CVT ...   \n",
       "87               92  NISSAN PRIMASTAR 2.0DCI 110KW (150CV) ACENTA L...   \n",
       "62               67         NISSAN TOWNSTAR 1.3 TCE 96KW (130CV) TEKNA   \n",
       "49               51      NISSAN X-TRAIL 1.5 HEV E-POWER 204 N-CONNECTA   \n",
       "\n",
       "    puertas  potencia  consumo          motor  precio                  modelo  \n",
       "2         5       158      6.3  MHEV Gasolina   34300          Nissan Qashqai  \n",
       "45        5       163      7.2  MHEV Gasolina   44550          Nissan X-Trail  \n",
       "87        4       150      7.0         Diesel   45475        Nissan Primastar  \n",
       "62        5       130      6.8       Gasolina   37103         Nissan Townstar  \n",
       "49        5       204      5.8   HEV Gasolina   45000  Nissan X-Trail híbrido  "
      ]
     },
     "execution_count": 234,
     "metadata": {},
     "output_type": "execute_result"
    }
   ],
   "source": [
    "df_datos_modelos_nuevos.sample(5)"
   ]
  },
  {
   "cell_type": "code",
   "execution_count": 224,
   "metadata": {},
   "outputs": [],
   "source": [
    "df_datos_modelos_nuevos[\"Consumo\"] = df_datos_modelos_nuevos[\"Consumo\"].fillna(df_datos_modelos_nuevos[\"Autonomía\"])\n"
   ]
  },
  {
   "cell_type": "code",
   "execution_count": 225,
   "metadata": {},
   "outputs": [],
   "source": [
    "df_datos_modelos_nuevos=df_datos_modelos_nuevos.drop(columns= [\"Etiqueta\",\"Oferta\",\"Autonomía\"])"
   ]
  },
  {
   "cell_type": "code",
   "execution_count": 226,
   "metadata": {},
   "outputs": [],
   "source": [
    "df_datos_modelos_nuevos[\"Consumo\"]=df_datos_modelos_nuevos[\"Consumo\"].str.replace(\"l/100Km\", \"\").str.replace(\",\",\".\").str.replace(\" Km\", \"\")\n",
    "df_datos_modelos_nuevos[\"PVP\"]=df_datos_modelos_nuevos[\"PVP\"].str.replace(\"€\", \"\").str.replace(\".\", \"\")"
   ]
  },
  {
   "cell_type": "code",
   "execution_count": 227,
   "metadata": {},
   "outputs": [
    {
     "data": {
      "text/plain": [
       "np.int64(0)"
      ]
     },
     "execution_count": 227,
     "metadata": {},
     "output_type": "execute_result"
    }
   ],
   "source": [
    "df_datos_modelos_nuevos.duplicated().sum()"
   ]
  },
  {
   "cell_type": "code",
   "execution_count": 228,
   "metadata": {},
   "outputs": [],
   "source": [
    "df_datos_modelos_nuevos=df_datos_modelos_nuevos[df_datos_modelos_nuevos[\"Consumo\"]!= \"-\"]"
   ]
  },
  {
   "cell_type": "code",
   "execution_count": 229,
   "metadata": {},
   "outputs": [],
   "source": [
    "df_datos_modelos_nuevos[\"PVP\"]=df_datos_modelos_nuevos[\"PVP\"].astype(int)\n",
    "df_datos_modelos_nuevos[\"Consumo\"]=df_datos_modelos_nuevos[\"Consumo\"].astype(float)"
   ]
  },
  {
   "cell_type": "markdown",
   "metadata": {},
   "source": [
    "Añado un id"
   ]
  },
  {
   "cell_type": "code",
   "execution_count": 230,
   "metadata": {},
   "outputs": [],
   "source": [
    "df_datos_modelos_nuevos.index= df_datos_modelos_nuevos.index+1\n",
    "df_datos_modelos_nuevos.reset_index(inplace=True)"
   ]
  },
  {
   "cell_type": "code",
   "execution_count": 231,
   "metadata": {},
   "outputs": [],
   "source": [
    "dicc_encabezados1={\"index\":\"id_modelo_nuevo\",\n",
    "                    \"Versión\":\"version\",\n",
    "                    \"Puertas\": \"puertas\",\n",
    "                    \"CV\": \"potencia\",\n",
    "                    \"Consumo\": \"consumo\",\n",
    "                    \"Motor\": \"motor\",\n",
    "                    \"PVP\": \"precio\",\n",
    "                    \"Modelo\": \"modelo\"\n",
    "                  }\n",
    "            \n",
    "df_datos_modelos_nuevos.columns=df_datos_modelos_nuevos.columns.map(dicc_encabezados1)"
   ]
  },
  {
   "cell_type": "code",
   "execution_count": 232,
   "metadata": {},
   "outputs": [
    {
     "name": "stdout",
     "output_type": "stream",
     "text": [
      "<class 'pandas.core.frame.DataFrame'>\n",
      "RangeIndex: 107 entries, 0 to 106\n",
      "Data columns (total 8 columns):\n",
      " #   Column           Non-Null Count  Dtype  \n",
      "---  ------           --------------  -----  \n",
      " 0   id_modelo_nuevo  107 non-null    int64  \n",
      " 1   version          107 non-null    object \n",
      " 2   puertas          107 non-null    int64  \n",
      " 3   potencia         107 non-null    int64  \n",
      " 4   consumo          107 non-null    float64\n",
      " 5   motor            107 non-null    object \n",
      " 6   precio           107 non-null    int64  \n",
      " 7   modelo           107 non-null    object \n",
      "dtypes: float64(1), int64(4), object(3)\n",
      "memory usage: 6.8+ KB\n"
     ]
    }
   ],
   "source": [
    "df_datos_modelos_nuevos.info()"
   ]
  },
  {
   "cell_type": "code",
   "execution_count": 233,
   "metadata": {},
   "outputs": [],
   "source": [
    "df_datos_modelos_nuevos.to_csv(\"../datos/datos_modelos_nuevos.csv\")"
   ]
  },
  {
   "cell_type": "markdown",
   "metadata": {},
   "source": [
    "Datos de modelos nuevos ya están formateados"
   ]
  },
  {
   "cell_type": "markdown",
   "metadata": {},
   "source": [
    "Alternativa 2º mano"
   ]
  },
  {
   "cell_type": "code",
   "execution_count": 58,
   "metadata": {},
   "outputs": [],
   "source": [
    "url_alterantiva= \"https://www.autoscout24.es/\"\n",
    "driver=webdriver.Chrome()\n",
    "driver.maximize_window()\n",
    "driver.get(url_alterantiva)\n",
    "\n",
    "#acepto cookies\n",
    "driver.find_element(\"css selector\", \"#as24-cmp-popup > div > div._acceptance-buttons_1lphq_85 > button._consent-accept_1lphq_114\").click()\n",
    "\n",
    "#despliego menu\n",
    "driver.find_element(\"css selector\", \"#make\").click()\n",
    "sleep(2)\n",
    "#elijo nissan\n",
    "driver.find_element(\"css selector\", \"#make > optgroup:nth-child(3) > option:nth-child(172)\").click()\n",
    "sleep(2)\n",
    "#le da a buscar\n",
    "driver.find_element(\"css selector\", \"#search-mask-search-cta\").click()\n",
    "sleep(2)\n",
    "\n",
    "#que nos de solo madrid\n",
    "driver.find_element(\"css selector\", \"#__next > div > div > div.ListPage_wrapper__vFmTi > div.ListPage_container__Optya > div:nth-child(2) > aside > div > div:nth-child(2) > div:nth-child(1) > div > div.Location_wrapper__mvayy > div:nth-child(2) > div > div > div.input-wrapper > div > button > svg\").click()\n",
    "sleep(2)\n",
    "\n",
    "\n",
    "df_completo=pd.DataFrame()\n",
    "for pag in range(1,21):\n",
    "    df=pd.DataFrame()\n",
    "    url_pag=f\"https://www.autoscout24.es/lst/nissan?atype=C&cy=E&damaged_listing=exclude&desc=0&lat=40.435712&lon=-3.6405248&page={pag}&powertype=kw&search_id=1yf3g5xh5i1&sort=standard&source=listpage_pagination&ustate=N%2CU&zipr=200\"\n",
    "    driver.get(url_pag)\n",
    "    sopa_alternativa = BeautifulSoup(driver.page_source, 'html.parser')\n",
    "    sleep(2)\n",
    "    #conseguir nombre\n",
    "    lista_nombres = sopa_alternativa.findAll(\"h2\")\n",
    "    todos_nombres=[nombre.getText().replace(\"\\xa0\", \" \") for nombre in lista_nombres]\n",
    "    df_nombre=pd.DataFrame(todos_nombres)\n",
    "\n",
    "\n",
    "    #conseguir datos\n",
    "    lista_datos= sopa_alternativa.findAll(\"div\", {\"class\":\"VehicleDetailTable_container__XhfV1\"})\n",
    "    todos_datos = [re.sub(r'(Manual|Automático)\\d{2}/(\\d{4})(Diésel|Gasolina|Electro/Gasolina|Eléctrico)\\d*', r'\\1 \\2 \\3', dato.getText()).replace(\"km\", \" \").replace(\"CV\", \"\").replace(\"kW\", \"\").replace(\".\", \"\").replace(\"(\", \"\").replace(\")\", \"\").split() for dato in lista_datos]\n",
    "    df_dato=pd.DataFrame(todos_datos)\n",
    "\n",
    "\n",
    "    #Conseguir precio\n",
    "    lista_precios= sopa_alternativa.findAll(\"p\", {\"class\":\"Price_price__APlgs PriceAndSeals_current_price__ykUpx\"})\n",
    "    todos_precios=[precio.getText().replace(\"€ \",\"\").replace(\",-\",\"\").replace(\".\",\"\") for precio in lista_precios]\n",
    "    df_precio=pd.DataFrame(todos_precios)\n",
    "\n",
    "    df= pd.concat([df,df_nombre,df_dato,df_precio], axis=1, ignore_index=True)\n",
    "    df_completo=pd.concat([df_completo, df], axis=0, ignore_index=True)\n"
   ]
  },
  {
   "cell_type": "code",
   "execution_count": 59,
   "metadata": {},
   "outputs": [
    {
     "data": {
      "text/html": [
       "<div>\n",
       "<style scoped>\n",
       "    .dataframe tbody tr th:only-of-type {\n",
       "        vertical-align: middle;\n",
       "    }\n",
       "\n",
       "    .dataframe tbody tr th {\n",
       "        vertical-align: top;\n",
       "    }\n",
       "\n",
       "    .dataframe thead th {\n",
       "        text-align: right;\n",
       "    }\n",
       "</style>\n",
       "<table border=\"1\" class=\"dataframe\">\n",
       "  <thead>\n",
       "    <tr style=\"text-align: right;\">\n",
       "      <th></th>\n",
       "      <th>0</th>\n",
       "      <th>1</th>\n",
       "      <th>2</th>\n",
       "      <th>3</th>\n",
       "      <th>4</th>\n",
       "      <th>5</th>\n",
       "      <th>6</th>\n",
       "      <th>7</th>\n",
       "      <th>8</th>\n",
       "      <th>9</th>\n",
       "      <th>10</th>\n",
       "    </tr>\n",
       "  </thead>\n",
       "  <tbody>\n",
       "    <tr>\n",
       "      <th>200</th>\n",
       "      <td>Nissan Micra 1.2 Tekna Premium</td>\n",
       "      <td>94311</td>\n",
       "      <td>Manual</td>\n",
       "      <td>2011</td>\n",
       "      <td>Gasolina</td>\n",
       "      <td>80</td>\n",
       "      <td>7990</td>\n",
       "      <td>NaN</td>\n",
       "      <td>NaN</td>\n",
       "      <td>NaN</td>\n",
       "      <td>NaN</td>\n",
       "    </tr>\n",
       "    <tr>\n",
       "      <th>51</th>\n",
       "      <td>Nissan Micra Acenta IG-T 92cv. *IVA deducible*...</td>\n",
       "      <td>30000</td>\n",
       "      <td>Manual</td>\n",
       "      <td>2022</td>\n",
       "      <td>Gasolina</td>\n",
       "      <td>92</td>\n",
       "      <td>12990</td>\n",
       "      <td>NaN</td>\n",
       "      <td>NaN</td>\n",
       "      <td>NaN</td>\n",
       "      <td>NaN</td>\n",
       "    </tr>\n",
       "    <tr>\n",
       "      <th>260</th>\n",
       "      <td>Nissan Qashqai 1.3 DIG-T mHEV 12V Acenta 4x2 1...</td>\n",
       "      <td>19161</td>\n",
       "      <td>Manual</td>\n",
       "      <td>2023</td>\n",
       "      <td>Gasolina</td>\n",
       "      <td>140</td>\n",
       "      <td>21636</td>\n",
       "      <td>NaN</td>\n",
       "      <td>NaN</td>\n",
       "      <td>NaN</td>\n",
       "      <td>NaN</td>\n",
       "    </tr>\n",
       "    <tr>\n",
       "      <th>22</th>\n",
       "      <td>Nissan Micra IG-T Acenta 92</td>\n",
       "      <td>26131</td>\n",
       "      <td>Manual</td>\n",
       "      <td>2023</td>\n",
       "      <td>Gasolina</td>\n",
       "      <td>92</td>\n",
       "      <td>11790</td>\n",
       "      <td>NaN</td>\n",
       "      <td>NaN</td>\n",
       "      <td>NaN</td>\n",
       "      <td>NaN</td>\n",
       "    </tr>\n",
       "    <tr>\n",
       "      <th>145</th>\n",
       "      <td>Nissan Qashqai 1.5dCi Acenta 4x2</td>\n",
       "      <td>270000</td>\n",
       "      <td>Manual</td>\n",
       "      <td>2007</td>\n",
       "      <td>Diésel</td>\n",
       "      <td>106</td>\n",
       "      <td>None</td>\n",
       "      <td>None</td>\n",
       "      <td>None</td>\n",
       "      <td>None</td>\n",
       "      <td>5800</td>\n",
       "    </tr>\n",
       "  </tbody>\n",
       "</table>\n",
       "</div>"
      ],
      "text/plain": [
       "                                                    0       1       2     3   \\\n",
       "200                     Nissan Micra 1.2 Tekna Premium   94311  Manual  2011   \n",
       "51   Nissan Micra Acenta IG-T 92cv. *IVA deducible*...   30000  Manual  2022   \n",
       "260  Nissan Qashqai 1.3 DIG-T mHEV 12V Acenta 4x2 1...   19161  Manual  2023   \n",
       "22                         Nissan Micra IG-T Acenta 92   26131  Manual  2023   \n",
       "145                   Nissan Qashqai 1.5dCi Acenta 4x2  270000  Manual  2007   \n",
       "\n",
       "           4    5      6     7     8     9     10  \n",
       "200  Gasolina   80   7990   NaN   NaN   NaN   NaN  \n",
       "51   Gasolina   92  12990   NaN   NaN   NaN   NaN  \n",
       "260  Gasolina  140  21636   NaN   NaN   NaN   NaN  \n",
       "22   Gasolina   92  11790   NaN   NaN   NaN   NaN  \n",
       "145    Diésel  106   None  None  None  None  5800  "
      ]
     },
     "execution_count": 59,
     "metadata": {},
     "output_type": "execute_result"
    }
   ],
   "source": [
    "df_completo.sample(5)"
   ]
  },
  {
   "cell_type": "markdown",
   "metadata": {},
   "source": [
    "**Tratamiento de duplicados y nulos Segunda Mano**  \n",
    "*NULOS*  \n",
    "\n",
    "Hay nulos porque se crean algunas columnas por datos que están formateados distinto. Puedo permitirme eliminar las columnas casi llenas de nulos y luego eliminar los restantes para que los 367 que se queden, tengan datos.  \n",
    "\n",
    "*DUPLICADOS*  \n",
    "\n",
    "Decido no eliminarlos porque el hecho de que se repitan nos muestra que coches se están vendiendo más\n",
    "\n",
    "\n",
    "*DATOS INNECESARIOS*  \n",
    "\n",
    "En la columna de precio se cuela Ocasión como si fuera un precio lo que me dificultaría pasar al formato correcto por ello como apenas son 10 los elimino"
   ]
  },
  {
   "cell_type": "code",
   "execution_count": 60,
   "metadata": {},
   "outputs": [
    {
     "name": "stdout",
     "output_type": "stream",
     "text": [
      "<class 'pandas.core.frame.DataFrame'>\n",
      "RangeIndex: 420 entries, 0 to 419\n",
      "Data columns (total 11 columns):\n",
      " #   Column  Non-Null Count  Dtype \n",
      "---  ------  --------------  ----- \n",
      " 0   0       420 non-null    object\n",
      " 1   1       400 non-null    object\n",
      " 2   2       400 non-null    object\n",
      " 3   3       400 non-null    object\n",
      " 4   4       400 non-null    object\n",
      " 5   5       398 non-null    object\n",
      " 6   6       369 non-null    object\n",
      " 7   7       9 non-null      object\n",
      " 8   8       9 non-null      object\n",
      " 9   9       9 non-null      object\n",
      " 10  10      40 non-null     object\n",
      "dtypes: object(11)\n",
      "memory usage: 36.2+ KB\n"
     ]
    }
   ],
   "source": [
    "df_completo.info()"
   ]
  },
  {
   "cell_type": "code",
   "execution_count": 74,
   "metadata": {},
   "outputs": [
    {
     "data": {
      "text/plain": [
       "np.int64(52)"
      ]
     },
     "execution_count": 74,
     "metadata": {},
     "output_type": "execute_result"
    }
   ],
   "source": [
    "df_completo.duplicated().sum()"
   ]
  },
  {
   "cell_type": "code",
   "execution_count": 75,
   "metadata": {},
   "outputs": [
    {
     "data": {
      "text/html": [
       "<div>\n",
       "<style scoped>\n",
       "    .dataframe tbody tr th:only-of-type {\n",
       "        vertical-align: middle;\n",
       "    }\n",
       "\n",
       "    .dataframe tbody tr th {\n",
       "        vertical-align: top;\n",
       "    }\n",
       "\n",
       "    .dataframe thead th {\n",
       "        text-align: right;\n",
       "    }\n",
       "</style>\n",
       "<table border=\"1\" class=\"dataframe\">\n",
       "  <thead>\n",
       "    <tr style=\"text-align: right;\">\n",
       "      <th></th>\n",
       "      <th>title</th>\n",
       "      <th>kilometraje</th>\n",
       "      <th>tipo</th>\n",
       "      <th>anio</th>\n",
       "      <th>fuel</th>\n",
       "      <th>potencia</th>\n",
       "      <th>precio</th>\n",
       "    </tr>\n",
       "  </thead>\n",
       "  <tbody>\n",
       "    <tr>\n",
       "      <th>19</th>\n",
       "      <td>Nissan Pulsar 1.2 DIG-T Visia</td>\n",
       "      <td>93103</td>\n",
       "      <td>Manual</td>\n",
       "      <td>2016</td>\n",
       "      <td>Gasolina</td>\n",
       "      <td>116</td>\n",
       "      <td>10300</td>\n",
       "    </tr>\n",
       "    <tr>\n",
       "      <th>26</th>\n",
       "      <td>Nissan Pulsar 1.2 DIG-T Visia</td>\n",
       "      <td>93103</td>\n",
       "      <td>Manual</td>\n",
       "      <td>2016</td>\n",
       "      <td>Gasolina</td>\n",
       "      <td>116</td>\n",
       "      <td>10300</td>\n",
       "    </tr>\n",
       "    <tr>\n",
       "      <th>38</th>\n",
       "      <td>Nissan Qashqai 1.3 DIG-T mHEV 12V N-Connecta 4...</td>\n",
       "      <td>34763</td>\n",
       "      <td>Manual</td>\n",
       "      <td>2023</td>\n",
       "      <td>Gasolina</td>\n",
       "      <td>140</td>\n",
       "      <td>23545</td>\n",
       "    </tr>\n",
       "    <tr>\n",
       "      <th>74</th>\n",
       "      <td>Nissan NV200 15dCI COMFORT FURGÓN</td>\n",
       "      <td>64635</td>\n",
       "      <td>Manual</td>\n",
       "      <td>2018</td>\n",
       "      <td>Diésel</td>\n",
       "      <td>90</td>\n",
       "      <td>-/-Ocasión-</td>\n",
       "    </tr>\n",
       "    <tr>\n",
       "      <th>92</th>\n",
       "      <td>Nissan Qashqai DIG-T 103kW (140CV) mHEV 4x2 Ac...</td>\n",
       "      <td>15000</td>\n",
       "      <td>Manual</td>\n",
       "      <td>2023</td>\n",
       "      <td>Electro/Gasolina</td>\n",
       "      <td>140</td>\n",
       "      <td>23630</td>\n",
       "    </tr>\n",
       "  </tbody>\n",
       "</table>\n",
       "</div>"
      ],
      "text/plain": [
       "                                                title kilometraje    tipo  \\\n",
       "19                      Nissan Pulsar 1.2 DIG-T Visia       93103  Manual   \n",
       "26                      Nissan Pulsar 1.2 DIG-T Visia       93103  Manual   \n",
       "38  Nissan Qashqai 1.3 DIG-T mHEV 12V N-Connecta 4...       34763  Manual   \n",
       "74                  Nissan NV200 15dCI COMFORT FURGÓN       64635  Manual   \n",
       "92  Nissan Qashqai DIG-T 103kW (140CV) mHEV 4x2 Ac...       15000  Manual   \n",
       "\n",
       "    anio              fuel potencia       precio  \n",
       "19  2016          Gasolina      116        10300  \n",
       "26  2016          Gasolina      116        10300  \n",
       "38  2023          Gasolina      140        23545  \n",
       "74  2018            Diésel       90  -/-Ocasión-  \n",
       "92  2023  Electro/Gasolina      140        23630  "
      ]
     },
     "execution_count": 75,
     "metadata": {},
     "output_type": "execute_result"
    }
   ],
   "source": [
    "df_completo[df_completo.duplicated()].head()"
   ]
  },
  {
   "cell_type": "code",
   "execution_count": 61,
   "metadata": {},
   "outputs": [],
   "source": [
    "df_completo=df_completo.drop(columns= [7,8,9,10])"
   ]
  },
  {
   "cell_type": "code",
   "execution_count": 63,
   "metadata": {},
   "outputs": [],
   "source": [
    "df_completo.dropna(inplace=True)"
   ]
  },
  {
   "cell_type": "code",
   "execution_count": 64,
   "metadata": {},
   "outputs": [
    {
     "name": "stdout",
     "output_type": "stream",
     "text": [
      "<class 'pandas.core.frame.DataFrame'>\n",
      "Index: 367 entries, 0 to 418\n",
      "Data columns (total 7 columns):\n",
      " #   Column  Non-Null Count  Dtype \n",
      "---  ------  --------------  ----- \n",
      " 0   0       367 non-null    object\n",
      " 1   1       367 non-null    object\n",
      " 2   2       367 non-null    object\n",
      " 3   3       367 non-null    object\n",
      " 4   4       367 non-null    object\n",
      " 5   5       367 non-null    object\n",
      " 6   6       367 non-null    object\n",
      "dtypes: object(7)\n",
      "memory usage: 22.9+ KB\n"
     ]
    }
   ],
   "source": [
    "df_completo.info()"
   ]
  },
  {
   "cell_type": "code",
   "execution_count": 66,
   "metadata": {},
   "outputs": [],
   "source": [
    "dicc_encabezados2={0:\"title\",\n",
    "                  1: \"kilometraje\",\n",
    "                  2: \"tipo\",\n",
    "                  3: \"anio\",\n",
    "                  4: \"fuel\",\n",
    "                  5: \"potencia\",\n",
    "                  6: \"precio\"}\n",
    "df_completo.columns=df_completo.columns.map(dicc_encabezados2)"
   ]
  },
  {
   "cell_type": "code",
   "execution_count": 67,
   "metadata": {},
   "outputs": [
    {
     "data": {
      "text/html": [
       "<div>\n",
       "<style scoped>\n",
       "    .dataframe tbody tr th:only-of-type {\n",
       "        vertical-align: middle;\n",
       "    }\n",
       "\n",
       "    .dataframe tbody tr th {\n",
       "        vertical-align: top;\n",
       "    }\n",
       "\n",
       "    .dataframe thead th {\n",
       "        text-align: right;\n",
       "    }\n",
       "</style>\n",
       "<table border=\"1\" class=\"dataframe\">\n",
       "  <thead>\n",
       "    <tr style=\"text-align: right;\">\n",
       "      <th></th>\n",
       "      <th>title</th>\n",
       "      <th>kilometraje</th>\n",
       "      <th>tipo</th>\n",
       "      <th>anio</th>\n",
       "      <th>fuel</th>\n",
       "      <th>potencia</th>\n",
       "      <th>precio</th>\n",
       "    </tr>\n",
       "  </thead>\n",
       "  <tbody>\n",
       "    <tr>\n",
       "      <th>387</th>\n",
       "      <td>Nissan Qashqai 1.3 DIG-T mHEV 12V Acenta 4x2 1...</td>\n",
       "      <td>10678</td>\n",
       "      <td>Manual</td>\n",
       "      <td>2023</td>\n",
       "      <td>Gasolina</td>\n",
       "      <td>140</td>\n",
       "      <td>21990</td>\n",
       "    </tr>\n",
       "    <tr>\n",
       "      <th>33</th>\n",
       "      <td>Nissan Qashqai 1.3 DIG-T N-Style 4x2 103kW</td>\n",
       "      <td>64634</td>\n",
       "      <td>Automático</td>\n",
       "      <td>2021</td>\n",
       "      <td>Gasolina</td>\n",
       "      <td>140</td>\n",
       "      <td>18190</td>\n",
       "    </tr>\n",
       "    <tr>\n",
       "      <th>39</th>\n",
       "      <td>Nissan Qashqai 1.3 DIG-T mHEV 12V N-Connecta 4...</td>\n",
       "      <td>37544</td>\n",
       "      <td>Manual</td>\n",
       "      <td>2023</td>\n",
       "      <td>Gasolina</td>\n",
       "      <td>140</td>\n",
       "      <td>23545</td>\n",
       "    </tr>\n",
       "  </tbody>\n",
       "</table>\n",
       "</div>"
      ],
      "text/plain": [
       "                                                 title kilometraje  \\\n",
       "387  Nissan Qashqai 1.3 DIG-T mHEV 12V Acenta 4x2 1...       10678   \n",
       "33          Nissan Qashqai 1.3 DIG-T N-Style 4x2 103kW       64634   \n",
       "39   Nissan Qashqai 1.3 DIG-T mHEV 12V N-Connecta 4...       37544   \n",
       "\n",
       "           tipo  anio      fuel potencia precio  \n",
       "387      Manual  2023  Gasolina      140  21990  \n",
       "33   Automático  2021  Gasolina      140  18190  \n",
       "39       Manual  2023  Gasolina      140  23545  "
      ]
     },
     "execution_count": 67,
     "metadata": {},
     "output_type": "execute_result"
    }
   ],
   "source": [
    "df_completo.sample(3)"
   ]
  },
  {
   "cell_type": "markdown",
   "metadata": {},
   "source": [
    "Limpiamos los valores que no correspondan (En precio se han colado ocasion )"
   ]
  },
  {
   "cell_type": "code",
   "execution_count": 86,
   "metadata": {},
   "outputs": [],
   "source": [
    "\n",
    "df_completo = df_completo[~df_completo[\"precio\"].str.contains(\"-/-Ocasión\", na=False)]\n"
   ]
  },
  {
   "cell_type": "code",
   "execution_count": 89,
   "metadata": {},
   "outputs": [],
   "source": [
    "# df_completo[\"precio\"].unique() Lo comento para que no moleste"
   ]
  },
  {
   "cell_type": "code",
   "execution_count": 90,
   "metadata": {},
   "outputs": [
    {
     "name": "stdout",
     "output_type": "stream",
     "text": [
      "<class 'pandas.core.frame.DataFrame'>\n",
      "Index: 358 entries, 0 to 418\n",
      "Data columns (total 7 columns):\n",
      " #   Column       Non-Null Count  Dtype \n",
      "---  ------       --------------  ----- \n",
      " 0   title        358 non-null    object\n",
      " 1   kilometraje  358 non-null    object\n",
      " 2   tipo         358 non-null    object\n",
      " 3   anio         358 non-null    object\n",
      " 4   fuel         358 non-null    object\n",
      " 5   potencia     358 non-null    object\n",
      " 6   precio       358 non-null    object\n",
      "dtypes: object(7)\n",
      "memory usage: 22.4+ KB\n"
     ]
    }
   ],
   "source": [
    "df_completo.info()"
   ]
  },
  {
   "cell_type": "code",
   "execution_count": 212,
   "metadata": {},
   "outputs": [],
   "source": [
    "df_completo.to_csv(\"../datos/datos_segunda_mano.csv\")\n",
    "df_segunda_mano=pd.read_csv(\"../datos/datos_segunda_mano.csv\", index_col= \"Unnamed: 0\")"
   ]
  },
  {
   "cell_type": "markdown",
   "metadata": {},
   "source": [
    "Aquí formateamos"
   ]
  },
  {
   "cell_type": "code",
   "execution_count": 213,
   "metadata": {},
   "outputs": [],
   "source": [
    "df_segunda_mano[\"kilometraje\"]=df_segunda_mano[\"kilometraje\"].astype(int)\n",
    "df_segunda_mano[\"potencia\"]=df_segunda_mano[\"potencia\"].astype(int)\n",
    "df_segunda_mano[\"precio\"]=df_segunda_mano[\"precio\"].astype(int)\n",
    "df_segunda_mano[\"anio\"]=df_segunda_mano[\"anio\"].astype(int)\n"
   ]
  },
  {
   "cell_type": "code",
   "execution_count": 214,
   "metadata": {},
   "outputs": [
    {
     "name": "stdout",
     "output_type": "stream",
     "text": [
      "<class 'pandas.core.frame.DataFrame'>\n",
      "Index: 358 entries, 0 to 418\n",
      "Data columns (total 7 columns):\n",
      " #   Column       Non-Null Count  Dtype \n",
      "---  ------       --------------  ----- \n",
      " 0   title        358 non-null    object\n",
      " 1   kilometraje  358 non-null    int64 \n",
      " 2   tipo         358 non-null    object\n",
      " 3   anio         358 non-null    int64 \n",
      " 4   fuel         358 non-null    object\n",
      " 5   potencia     358 non-null    int64 \n",
      " 6   precio       358 non-null    int64 \n",
      "dtypes: int64(4), object(3)\n",
      "memory usage: 22.4+ KB\n"
     ]
    }
   ],
   "source": [
    "df_segunda_mano.info()"
   ]
  },
  {
   "cell_type": "markdown",
   "metadata": {},
   "source": [
    "Añado un id"
   ]
  },
  {
   "cell_type": "code",
   "execution_count": 215,
   "metadata": {},
   "outputs": [],
   "source": [
    "df_segunda_mano.index= df_segunda_mano.index+1\n",
    "df_segunda_mano.reset_index(inplace=True)"
   ]
  },
  {
   "cell_type": "code",
   "execution_count": 216,
   "metadata": {},
   "outputs": [],
   "source": [
    "dicc_encabezados3={\"index\":\"id_segunda_mano\",\n",
    "                    \"title\":\"version\",\n",
    "                    \"kilometraje\": \"kilometraje\",\n",
    "                    \"tipo\": \"tipo\",\n",
    "                    \"anio\": \"anio\",\n",
    "                    \"fuel\": \"motor\",\n",
    "                    \"potencia\": \"potencia\",\n",
    "                    \"precio\": \"precio\"\n",
    "                  }\n",
    "            \n",
    "df_segunda_mano.columns=df_segunda_mano.columns.map(dicc_encabezados3)"
   ]
  },
  {
   "cell_type": "code",
   "execution_count": 217,
   "metadata": {},
   "outputs": [
    {
     "data": {
      "text/html": [
       "<div>\n",
       "<style scoped>\n",
       "    .dataframe tbody tr th:only-of-type {\n",
       "        vertical-align: middle;\n",
       "    }\n",
       "\n",
       "    .dataframe tbody tr th {\n",
       "        vertical-align: top;\n",
       "    }\n",
       "\n",
       "    .dataframe thead th {\n",
       "        text-align: right;\n",
       "    }\n",
       "</style>\n",
       "<table border=\"1\" class=\"dataframe\">\n",
       "  <thead>\n",
       "    <tr style=\"text-align: right;\">\n",
       "      <th></th>\n",
       "      <th>id_segunda_mano</th>\n",
       "      <th>version</th>\n",
       "      <th>kilometraje</th>\n",
       "      <th>tipo</th>\n",
       "      <th>anio</th>\n",
       "      <th>motor</th>\n",
       "      <th>potencia</th>\n",
       "      <th>precio</th>\n",
       "    </tr>\n",
       "  </thead>\n",
       "  <tbody>\n",
       "    <tr>\n",
       "      <th>0</th>\n",
       "      <td>1</td>\n",
       "      <td>Nissan Qashqai 1.2 DIG-T Acenta 4x2</td>\n",
       "      <td>121649</td>\n",
       "      <td>Manual</td>\n",
       "      <td>2015</td>\n",
       "      <td>Gasolina</td>\n",
       "      <td>116</td>\n",
       "      <td>11480</td>\n",
       "    </tr>\n",
       "    <tr>\n",
       "      <th>1</th>\n",
       "      <td>2</td>\n",
       "      <td>Nissan Juke 1.5dCi Visia</td>\n",
       "      <td>260000</td>\n",
       "      <td>Manual</td>\n",
       "      <td>2012</td>\n",
       "      <td>Diésel</td>\n",
       "      <td>110</td>\n",
       "      <td>6500</td>\n",
       "    </tr>\n",
       "    <tr>\n",
       "      <th>2</th>\n",
       "      <td>3</td>\n",
       "      <td>Nissan Qashqai DIG-T 103kW (140CV) mHEV 4x2 Ac...</td>\n",
       "      <td>11290</td>\n",
       "      <td>Manual</td>\n",
       "      <td>2023</td>\n",
       "      <td>Electro/Gasolina</td>\n",
       "      <td>140</td>\n",
       "      <td>22000</td>\n",
       "    </tr>\n",
       "    <tr>\n",
       "      <th>3</th>\n",
       "      <td>4</td>\n",
       "      <td>Nissan Juke 1.6 N-Connecta 4x2 112</td>\n",
       "      <td>46287</td>\n",
       "      <td>Manual</td>\n",
       "      <td>2019</td>\n",
       "      <td>Gasolina</td>\n",
       "      <td>113</td>\n",
       "      <td>11790</td>\n",
       "    </tr>\n",
       "    <tr>\n",
       "      <th>4</th>\n",
       "      <td>5</td>\n",
       "      <td>Nissan Qashqai 1.6dCi Visia 4x2</td>\n",
       "      <td>178000</td>\n",
       "      <td>Manual</td>\n",
       "      <td>2018</td>\n",
       "      <td>Diésel</td>\n",
       "      <td>131</td>\n",
       "      <td>13900</td>\n",
       "    </tr>\n",
       "  </tbody>\n",
       "</table>\n",
       "</div>"
      ],
      "text/plain": [
       "   id_segunda_mano                                            version  \\\n",
       "0                1                Nissan Qashqai 1.2 DIG-T Acenta 4x2   \n",
       "1                2                           Nissan Juke 1.5dCi Visia   \n",
       "2                3  Nissan Qashqai DIG-T 103kW (140CV) mHEV 4x2 Ac...   \n",
       "3                4                 Nissan Juke 1.6 N-Connecta 4x2 112   \n",
       "4                5                    Nissan Qashqai 1.6dCi Visia 4x2   \n",
       "\n",
       "   kilometraje    tipo  anio             motor  potencia  precio  \n",
       "0       121649  Manual  2015          Gasolina       116   11480  \n",
       "1       260000  Manual  2012            Diésel       110    6500  \n",
       "2        11290  Manual  2023  Electro/Gasolina       140   22000  \n",
       "3        46287  Manual  2019          Gasolina       113   11790  \n",
       "4       178000  Manual  2018            Diésel       131   13900  "
      ]
     },
     "execution_count": 217,
     "metadata": {},
     "output_type": "execute_result"
    }
   ],
   "source": [
    "df_segunda_mano.head()"
   ]
  },
  {
   "cell_type": "code",
   "execution_count": 218,
   "metadata": {},
   "outputs": [],
   "source": [
    "df_segunda_mano.to_csv(\"../datos/datos_segunda_mano.csv\")"
   ]
  },
  {
   "cell_type": "markdown",
   "metadata": {},
   "source": [
    "Datos de segunda mano ya están formateados"
   ]
  }
 ],
 "metadata": {
  "kernelspec": {
   "display_name": "Python 3",
   "language": "python",
   "name": "python3"
  },
  "language_info": {
   "codemirror_mode": {
    "name": "ipython",
    "version": 3
   },
   "file_extension": ".py",
   "mimetype": "text/x-python",
   "name": "python",
   "nbconvert_exporter": "python",
   "pygments_lexer": "ipython3",
   "version": "3.11.9"
  }
 },
 "nbformat": 4,
 "nbformat_minor": 2
}
