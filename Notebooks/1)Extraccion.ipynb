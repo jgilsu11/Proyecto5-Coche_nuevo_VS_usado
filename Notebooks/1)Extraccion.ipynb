{
 "cells": [
  {
   "cell_type": "code",
   "execution_count": 9,
   "metadata": {},
   "outputs": [],
   "source": [
    "import pandas as pd\n",
    "import selenium\n",
    "import webdriver_manager\n",
    "from datetime import datetime \n",
    "\n",
    "from selenium.webdriver.support.ui import WebDriverWait\n",
    "from selenium.webdriver.common.by import By\n",
    "from selenium.webdriver.support import expected_conditions as EC\n",
    "\n",
    "from selenium import webdriver  # Selenium es una herramienta para automatizar la interacción con navegadores web.\n",
    "from webdriver_manager.chrome import ChromeDriverManager  # ChromeDriverManager gestiona la instalación del controlador de Chrome.\n",
    "from selenium.webdriver.common.keys import Keys  # Keys es útil para simular eventos de teclado en Selenium.\n",
    "from selenium.webdriver.support.ui import Select  # Select se utiliza para interactuar con elementos <select> en páginas web.\n",
    "from selenium.webdriver.support import expected_conditions as EC \n",
    "from time import sleep\n",
    "import pandas as pd\n",
    "from selenium import webdriver\n",
    "\n",
    "from tqdm import tqdm\n",
    "import os\n",
    "from bs4 import BeautifulSoup\n",
    "import requests\n",
    "import re\n",
    "\n",
    "import zipfile\n",
    "import shutil\n",
    "\n",
    "import os\n",
    "\n",
    "\n",
    "import pandas as pd\n",
    "\n",
    "import matplotlib.pyplot as plt\n",
    "import seaborn as sns\n",
    "\n",
    "import re\n",
    "\n",
    "pd.set_option('display.max_columns', None) # para poder visualizar todas las columnas de los DataFrames\n",
    "\n",
    "import json\n",
    "# Ignorar warings\n",
    "import warnings\n",
    "warnings.filterwarnings(\"ignore\")\n",
    "\n",
    "import dotenv\n",
    "from dotenv import load_dotenv\n",
    "load_dotenv()\n",
    "\n",
    "import psycopg2\n",
    "from psycopg2 import sql\n",
    "\n",
    "import sys\n",
    "sys.path.append(\"../\")  "
   ]
  },
  {
   "cell_type": "code",
   "execution_count": 4,
   "metadata": {},
   "outputs": [],
   "source": [
    "keywallapop= os.getenv(\"keywallapop\")"
   ]
  },
  {
   "cell_type": "markdown",
   "metadata": {},
   "source": [
    "Cuidado, de wallapop solo hay 20 llamadas mensuales"
   ]
  },
  {
   "cell_type": "code",
   "execution_count": null,
   "metadata": {},
   "outputs": [],
   "source": [
    "\n",
    "url = \"https://wallapop3.p.rapidapi.com/search\"\n",
    "\n",
    "querystring = {\"query\":\"nissan\",\"minPrice\":\"1000\",\"sort\":\"mostRecent\"}\n",
    "\n",
    "headers = {\n",
    "\t\"x-rapidapi-key\": keywallapop,\n",
    "\t\"x-rapidapi-host\": \"wallapop3.p.rapidapi.com\"\n",
    "}\n",
    "\n",
    "response = requests.get(url, headers=headers, params=querystring)\n",
    "\n",
    "resposa=response.json()"
   ]
  },
  {
   "cell_type": "markdown",
   "metadata": {},
   "source": [
    "SOLO NOS INTESESA:  \n",
    "- id (pasaré a numérico)  \n",
    "- user_id  \n",
    "- title  \n",
    "- description  \n",
    "- category_id (lo quiero para filtrar por 100(codigo correspondiente a coches)para que no me coja otros códigos que son de carroceria etc)  \n",
    "- price (que está en euros)  \n",
    "- location (por si las moscas)  \n",
    "- capacidad de traslado (no creo que me lo quede)  \n",
    "- refurbished(igual la mantengo pero los true los paso a 1 y los false a 0 porque en sql existe el bit)"
   ]
  },
  {
   "cell_type": "code",
   "execution_count": 19,
   "metadata": {},
   "outputs": [],
   "source": [
    "df_crudo=pd.DataFrame(resposa).head(4)"
   ]
  },
  {
   "cell_type": "code",
   "execution_count": 10,
   "metadata": {},
   "outputs": [],
   "source": [
    "with open(\"../src\", \"w\") as json_file:\n",
    "    json.dump(resposa, json_file, indent=4)"
   ]
  },
  {
   "cell_type": "code",
   "execution_count": 13,
   "metadata": {},
   "outputs": [
    {
     "data": {
      "text/plain": [
       "40"
      ]
     },
     "execution_count": 13,
     "metadata": {},
     "output_type": "execute_result"
    }
   ],
   "source": [
    "len (resposa)"
   ]
  },
  {
   "cell_type": "code",
   "execution_count": 37,
   "metadata": {},
   "outputs": [],
   "source": [
    "lista=[]\n",
    "df_final=pd.DataFrame()\n",
    "for i in range(0,40):\n",
    "    id_wallapop=resposa[i][\"id\"]\n",
    "    id_user=resposa[i][\"user_id\"]\n",
    "    title=resposa[i][\"title\"]\n",
    "    descripcion=resposa[i][\"description\"]\n",
    "    id_category=resposa[i][\"category_id\"]\n",
    "    precio=resposa[i][\"price\"][\"amount\"]\n",
    "    latitud=resposa[i][\"location\"][\"latitude\"]\n",
    "    longitud=resposa[i][\"location\"][\"longitude\"]\n",
    "    ciudad=resposa[i][\"location\"][\"city\"]\n",
    "    provincia=resposa[i][\"location\"][\"region2\"]\n",
    "    envio_disponible=resposa[i][\"shipping\"][\"item_is_shippable\"]\n",
    "    reparado=resposa[i][\"is_refurbished\"][\"flag\"]\n",
    "\n",
    "    lista.append([id_wallapop,id_user,title,descripcion,id_category,precio,latitud, longitud,ciudad,provincia,envio_disponible,reparado] )\n",
    "    df=pd.DataFrame(lista)\n",
    "    df_final= pd.concat([df_final,df])"
   ]
  },
  {
   "cell_type": "code",
   "execution_count": 38,
   "metadata": {},
   "outputs": [],
   "source": [
    "df_crudo.head()\n",
    "dicc_encabezados={0:\"id_wallapop\",\n",
    "                  1: \"id_user\",\n",
    "                  2: \"title\",\n",
    "                  3: \"descripcion\",\n",
    "                  4: \"id_category\",\n",
    "                  5: \"precio\",\n",
    "                  6: \"latitud\",\n",
    "                  7: \"longitud\",\n",
    "                  8: \"ciudad\",\n",
    "                  9: \"provincia\",\n",
    "                  10: \"envio_disponible\",\n",
    "                  11: \"reparado\"}"
   ]
  },
  {
   "cell_type": "code",
   "execution_count": 39,
   "metadata": {},
   "outputs": [],
   "source": [
    "df_final.columns= df_final.columns.map(dicc_encabezados)"
   ]
  },
  {
   "cell_type": "code",
   "execution_count": 40,
   "metadata": {},
   "outputs": [
    {
     "data": {
      "text/html": [
       "<div>\n",
       "<style scoped>\n",
       "    .dataframe tbody tr th:only-of-type {\n",
       "        vertical-align: middle;\n",
       "    }\n",
       "\n",
       "    .dataframe tbody tr th {\n",
       "        vertical-align: top;\n",
       "    }\n",
       "\n",
       "    .dataframe thead th {\n",
       "        text-align: right;\n",
       "    }\n",
       "</style>\n",
       "<table border=\"1\" class=\"dataframe\">\n",
       "  <thead>\n",
       "    <tr style=\"text-align: right;\">\n",
       "      <th></th>\n",
       "      <th>id_wallapop</th>\n",
       "      <th>id_user</th>\n",
       "      <th>title</th>\n",
       "      <th>descripcion</th>\n",
       "      <th>id_category</th>\n",
       "      <th>precio</th>\n",
       "      <th>latitud</th>\n",
       "      <th>longitud</th>\n",
       "      <th>ciudad</th>\n",
       "      <th>provincia</th>\n",
       "      <th>envio_disponible</th>\n",
       "      <th>reparado</th>\n",
       "    </tr>\n",
       "  </thead>\n",
       "  <tbody>\n",
       "    <tr>\n",
       "      <th>11</th>\n",
       "      <td>pzp2xeme9mj3</td>\n",
       "      <td>kp61gov98765</td>\n",
       "      <td>Nissan Qashqai 2016 pegatina C de DGT</td>\n",
       "      <td>vehiculo en perfecto estado general \\nitv reci...</td>\n",
       "      <td>100</td>\n",
       "      <td>12900.0</td>\n",
       "      <td>41.458269</td>\n",
       "      <td>2.250253</td>\n",
       "      <td>Badalona</td>\n",
       "      <td>Barcelona</td>\n",
       "      <td>False</td>\n",
       "      <td>False</td>\n",
       "    </tr>\n",
       "    <tr>\n",
       "      <th>14</th>\n",
       "      <td>mzn27k7nekzn</td>\n",
       "      <td>4w67vengy96x</td>\n",
       "      <td>carroceria caja nissan cabstar</td>\n",
       "      <td>2 carrocerías en muy buen estado,para camiones...</td>\n",
       "      <td>12800</td>\n",
       "      <td>1400.0</td>\n",
       "      <td>42.808361</td>\n",
       "      <td>-1.658409</td>\n",
       "      <td>Pamplona/Iruña</td>\n",
       "      <td>Navarra</td>\n",
       "      <td>True</td>\n",
       "      <td>False</td>\n",
       "    </tr>\n",
       "    <tr>\n",
       "      <th>20</th>\n",
       "      <td>nz041pxdyvjo</td>\n",
       "      <td>lqzmowoqyx6v</td>\n",
       "      <td>Nissan Patrol 1990</td>\n",
       "      <td>Vendo mi querido Patrol por necesidad. Motor d...</td>\n",
       "      <td>100</td>\n",
       "      <td>2600.0</td>\n",
       "      <td>36.914983</td>\n",
       "      <td>-2.442271</td>\n",
       "      <td>Pechina</td>\n",
       "      <td>Almería</td>\n",
       "      <td>False</td>\n",
       "      <td>False</td>\n",
       "    </tr>\n",
       "  </tbody>\n",
       "</table>\n",
       "</div>"
      ],
      "text/plain": [
       "     id_wallapop       id_user                                   title  \\\n",
       "11  pzp2xeme9mj3  kp61gov98765  Nissan Qashqai 2016 pegatina C de DGT    \n",
       "14  mzn27k7nekzn  4w67vengy96x          carroceria caja nissan cabstar   \n",
       "20  nz041pxdyvjo  lqzmowoqyx6v                      Nissan Patrol 1990   \n",
       "\n",
       "                                          descripcion  id_category   precio  \\\n",
       "11  vehiculo en perfecto estado general \\nitv reci...          100  12900.0   \n",
       "14  2 carrocerías en muy buen estado,para camiones...        12800   1400.0   \n",
       "20  Vendo mi querido Patrol por necesidad. Motor d...          100   2600.0   \n",
       "\n",
       "      latitud  longitud          ciudad  provincia  envio_disponible  reparado  \n",
       "11  41.458269  2.250253        Badalona  Barcelona             False     False  \n",
       "14  42.808361 -1.658409  Pamplona/Iruña    Navarra              True     False  \n",
       "20  36.914983 -2.442271         Pechina    Almería             False     False  "
      ]
     },
     "execution_count": 40,
     "metadata": {},
     "output_type": "execute_result"
    }
   ],
   "source": [
    "df_final.sample(3)"
   ]
  },
  {
   "cell_type": "code",
   "execution_count": 41,
   "metadata": {},
   "outputs": [
    {
     "data": {
      "text/plain": [
       "(820, 12)"
      ]
     },
     "execution_count": 41,
     "metadata": {},
     "output_type": "execute_result"
    }
   ],
   "source": [
    "df_final.shape"
   ]
  },
  {
   "cell_type": "markdown",
   "metadata": {},
   "source": [
    "ESTA LISTO PARA LA LIMPIEZA LO DE WALLAPOP"
   ]
  },
  {
   "cell_type": "code",
   "execution_count": 28,
   "metadata": {},
   "outputs": [
    {
     "name": "stdout",
     "output_type": "stream",
     "text": [
      "<class 'pandas.core.frame.DataFrame'>\n",
      "Index: 820 entries, 0 to 39\n",
      "Data columns (total 12 columns):\n",
      " #   Column            Non-Null Count  Dtype  \n",
      "---  ------            --------------  -----  \n",
      " 0   id_wallapop       820 non-null    object \n",
      " 1   id_user           820 non-null    object \n",
      " 2   title             820 non-null    object \n",
      " 3   descripcion       820 non-null    object \n",
      " 4   id_category       820 non-null    int64  \n",
      " 5   precio            820 non-null    float64\n",
      " 6   latitud           820 non-null    float64\n",
      " 7   longitud          820 non-null    float64\n",
      " 8   ciudad            820 non-null    object \n",
      " 9   provincia         820 non-null    object \n",
      " 10  envio_disponible  820 non-null    bool   \n",
      " 11  reparado          820 non-null    bool   \n",
      "dtypes: bool(2), float64(3), int64(1), object(6)\n",
      "memory usage: 72.1+ KB\n"
     ]
    }
   ],
   "source": [
    "df_final.info()"
   ]
  },
  {
   "cell_type": "code",
   "execution_count": 29,
   "metadata": {},
   "outputs": [],
   "source": [
    "keyconcesionario= os.getenv(\"keyconcesionario\")"
   ]
  },
  {
   "cell_type": "code",
   "execution_count": 64,
   "metadata": {},
   "outputs": [],
   "source": [
    "\n",
    "\n",
    "# Paso 1: Buscar concesionarios Nissan en Madrid\n",
    "search_url = 'https://api.yelp.com/v3/businesses/search'\n",
    "headers = {\n",
    "    'Authorization': f'Bearer {keyconcesionario}',\n",
    "}\n",
    "params = {\n",
    "    'term': 'concesionario Nissan',\n",
    "    'location': 'Madrid',\n",
    "    'limit': 50 \n",
    "}\n",
    "\n",
    "response = requests.get(search_url, headers=headers, params=params)\n",
    "\n",
    "if response.status_code == 200:\n",
    "    businesses = response.json().get('businesses', [])\n",
    "    lista=[]\n",
    "    df_final=pd.DataFrame()\n",
    "    for business in businesses:\n",
    "        business_id = business['id']\n",
    "        business_name= business['name']\n",
    "        calificacion= business['rating']\n",
    "        url= business[\"url\"]\n",
    "        lista.append([business_id,business_name,calificacion,url])\n",
    "        df=pd.DataFrame(lista)\n",
    "        df_finalc= pd.concat([df_finalc, df])\n",
    "\n",
    "else:\n",
    "    print(f\"Error en la búsqueda de concesionarios: {response.status_code}\")\n"
   ]
  },
  {
   "cell_type": "code",
   "execution_count": 66,
   "metadata": {},
   "outputs": [
    {
     "data": {
      "text/html": [
       "<div>\n",
       "<style scoped>\n",
       "    .dataframe tbody tr th:only-of-type {\n",
       "        vertical-align: middle;\n",
       "    }\n",
       "\n",
       "    .dataframe tbody tr th {\n",
       "        vertical-align: top;\n",
       "    }\n",
       "\n",
       "    .dataframe thead th {\n",
       "        text-align: right;\n",
       "    }\n",
       "</style>\n",
       "<table border=\"1\" class=\"dataframe\">\n",
       "  <thead>\n",
       "    <tr style=\"text-align: right;\">\n",
       "      <th></th>\n",
       "      <th>0</th>\n",
       "      <th>1</th>\n",
       "      <th>2</th>\n",
       "      <th>3</th>\n",
       "    </tr>\n",
       "  </thead>\n",
       "  <tbody>\n",
       "    <tr>\n",
       "      <th>0</th>\n",
       "      <td>foS71yZRhEOidmM_aVqiwA</td>\n",
       "      <td>Nissan Motor España</td>\n",
       "      <td>1.0</td>\n",
       "      <td>NaN</td>\n",
       "    </tr>\n",
       "    <tr>\n",
       "      <th>1</th>\n",
       "      <td>B2cXNS5efEAFgATa28KADA</td>\n",
       "      <td>Quiero Comprar un Coche</td>\n",
       "      <td>5.0</td>\n",
       "      <td>NaN</td>\n",
       "    </tr>\n",
       "    <tr>\n",
       "      <th>2</th>\n",
       "      <td>41EVs88iuczCSuauRdMaoQ</td>\n",
       "      <td>Nissan Iberia</td>\n",
       "      <td>0.0</td>\n",
       "      <td>NaN</td>\n",
       "    </tr>\n",
       "    <tr>\n",
       "      <th>3</th>\n",
       "      <td>sjQ22MDvy_WOs_nG-YIrLg</td>\n",
       "      <td>Nissan Iberia</td>\n",
       "      <td>0.0</td>\n",
       "      <td>NaN</td>\n",
       "    </tr>\n",
       "    <tr>\n",
       "      <th>4</th>\n",
       "      <td>Sjq5F7RT_s59ERD2CzPXKQ</td>\n",
       "      <td>Nissan Iberia</td>\n",
       "      <td>0.0</td>\n",
       "      <td>NaN</td>\n",
       "    </tr>\n",
       "    <tr>\n",
       "      <th>...</th>\n",
       "      <td>...</td>\n",
       "      <td>...</td>\n",
       "      <td>...</td>\n",
       "      <td>...</td>\n",
       "    </tr>\n",
       "    <tr>\n",
       "      <th>1</th>\n",
       "      <td>B2cXNS5efEAFgATa28KADA</td>\n",
       "      <td>Quiero Comprar un Coche</td>\n",
       "      <td>5.0</td>\n",
       "      <td>https://www.yelp.com/biz/quiero-comprar-un-coc...</td>\n",
       "    </tr>\n",
       "    <tr>\n",
       "      <th>2</th>\n",
       "      <td>41EVs88iuczCSuauRdMaoQ</td>\n",
       "      <td>Nissan Iberia</td>\n",
       "      <td>0.0</td>\n",
       "      <td>https://www.yelp.com/biz/nissan-iberia-madrid-...</td>\n",
       "    </tr>\n",
       "    <tr>\n",
       "      <th>3</th>\n",
       "      <td>sjQ22MDvy_WOs_nG-YIrLg</td>\n",
       "      <td>Nissan Iberia</td>\n",
       "      <td>0.0</td>\n",
       "      <td>https://www.yelp.com/biz/nissan-iberia-madrid-...</td>\n",
       "    </tr>\n",
       "    <tr>\n",
       "      <th>4</th>\n",
       "      <td>Sjq5F7RT_s59ERD2CzPXKQ</td>\n",
       "      <td>Nissan Iberia</td>\n",
       "      <td>0.0</td>\n",
       "      <td>https://www.yelp.com/biz/nissan-iberia-madrid?...</td>\n",
       "    </tr>\n",
       "    <tr>\n",
       "      <th>5</th>\n",
       "      <td>_YsiClWK1Y4c-DVrHvyiuw</td>\n",
       "      <td>Nissan Iberia</td>\n",
       "      <td>0.0</td>\n",
       "      <td>https://www.yelp.com/biz/nissan-iberia-segovia...</td>\n",
       "    </tr>\n",
       "  </tbody>\n",
       "</table>\n",
       "<p>69 rows × 4 columns</p>\n",
       "</div>"
      ],
      "text/plain": [
       "                         0                        1    2  \\\n",
       "0   foS71yZRhEOidmM_aVqiwA      Nissan Motor España  1.0   \n",
       "1   B2cXNS5efEAFgATa28KADA  Quiero Comprar un Coche  5.0   \n",
       "2   41EVs88iuczCSuauRdMaoQ            Nissan Iberia  0.0   \n",
       "3   sjQ22MDvy_WOs_nG-YIrLg            Nissan Iberia  0.0   \n",
       "4   Sjq5F7RT_s59ERD2CzPXKQ            Nissan Iberia  0.0   \n",
       "..                     ...                      ...  ...   \n",
       "1   B2cXNS5efEAFgATa28KADA  Quiero Comprar un Coche  5.0   \n",
       "2   41EVs88iuczCSuauRdMaoQ            Nissan Iberia  0.0   \n",
       "3   sjQ22MDvy_WOs_nG-YIrLg            Nissan Iberia  0.0   \n",
       "4   Sjq5F7RT_s59ERD2CzPXKQ            Nissan Iberia  0.0   \n",
       "5   _YsiClWK1Y4c-DVrHvyiuw            Nissan Iberia  0.0   \n",
       "\n",
       "                                                    3  \n",
       "0                                                 NaN  \n",
       "1                                                 NaN  \n",
       "2                                                 NaN  \n",
       "3                                                 NaN  \n",
       "4                                                 NaN  \n",
       "..                                                ...  \n",
       "1   https://www.yelp.com/biz/quiero-comprar-un-coc...  \n",
       "2   https://www.yelp.com/biz/nissan-iberia-madrid-...  \n",
       "3   https://www.yelp.com/biz/nissan-iberia-madrid-...  \n",
       "4   https://www.yelp.com/biz/nissan-iberia-madrid?...  \n",
       "5   https://www.yelp.com/biz/nissan-iberia-segovia...  \n",
       "\n",
       "[69 rows x 4 columns]"
      ]
     },
     "execution_count": 66,
     "metadata": {},
     "output_type": "execute_result"
    }
   ],
   "source": [
    "df_finalc"
   ]
  },
  {
   "cell_type": "code",
   "execution_count": 101,
   "metadata": {},
   "outputs": [
    {
     "ename": "IndexError",
     "evalue": "list index out of range",
     "output_type": "error",
     "traceback": [
      "\u001b[1;31m---------------------------------------------------------------------------\u001b[0m",
      "\u001b[1;31mIndexError\u001b[0m                                Traceback (most recent call last)",
      "Cell \u001b[1;32mIn[101], line 5\u001b[0m\n\u001b[0;32m      3\u001b[0m response3\u001b[38;5;241m=\u001b[39m requests\u001b[38;5;241m.\u001b[39mget(url3)\n\u001b[0;32m      4\u001b[0m responsa3\u001b[38;5;241m=\u001b[39m response3\u001b[38;5;241m.\u001b[39mjson()\n\u001b[1;32m----> 5\u001b[0m id_vehicle\u001b[38;5;241m=\u001b[39m\u001b[43mresponsa3\u001b[49m\u001b[43m[\u001b[49m\u001b[38;5;124;43m\"\u001b[39;49m\u001b[38;5;124;43mResults\u001b[39;49m\u001b[38;5;124;43m\"\u001b[39;49m\u001b[43m]\u001b[49m\u001b[43m[\u001b[49m\u001b[38;5;241;43m0\u001b[39;49m\u001b[43m]\u001b[49m[\u001b[38;5;124m\"\u001b[39m\u001b[38;5;124mVehicleId\u001b[39m\u001b[38;5;124m\"\u001b[39m]\n",
      "\u001b[1;31mIndexError\u001b[0m: list index out of range"
     ]
    }
   ],
   "source": [
    "url3= \"https://api.nhtsa.gov/SafetyRatings/modelyear/2013/make/Nissan/model/micra\"\n",
    "url2= \"https://api.nhtsa.gov/SafetyRatings/VehicleId/7520\"\n",
    "response3= requests.get(url3)\n",
    "responsa3= response3.json()\n",
    "id_vehicle=responsa3[\"Results\"][0][\"VehicleId\"]"
   ]
  },
  {
   "cell_type": "code",
   "execution_count": null,
   "metadata": {},
   "outputs": [
    {
     "ename": "IndexError",
     "evalue": "list index out of range",
     "output_type": "error",
     "traceback": [
      "\u001b[1;31m---------------------------------------------------------------------------\u001b[0m",
      "\u001b[1;31mIndexError\u001b[0m                                Traceback (most recent call last)",
      "Cell \u001b[1;32mIn[99], line 1\u001b[0m\n\u001b[1;32m----> 1\u001b[0m id_vehicle\u001b[38;5;241m=\u001b[39m\u001b[43mresponsa3\u001b[49m\u001b[43m[\u001b[49m\u001b[38;5;124;43m\"\u001b[39;49m\u001b[38;5;124;43mResults\u001b[39;49m\u001b[38;5;124;43m\"\u001b[39;49m\u001b[43m]\u001b[49m\u001b[43m[\u001b[49m\u001b[38;5;241;43m0\u001b[39;49m\u001b[43m]\u001b[49m[\u001b[38;5;124m\"\u001b[39m\u001b[38;5;124mVehicleId\u001b[39m\u001b[38;5;124m\"\u001b[39m]\n\u001b[0;32m      2\u001b[0m url2\u001b[38;5;241m=\u001b[39m \u001b[38;5;124mf\u001b[39m\u001b[38;5;124m\"\u001b[39m\u001b[38;5;124mhttps://api.nhtsa.gov/SafetyRatings/VehicleId/\u001b[39m\u001b[38;5;132;01m{\u001b[39;00mid_vehicle\u001b[38;5;132;01m}\u001b[39;00m\u001b[38;5;124m\"\u001b[39m\n\u001b[0;32m      3\u001b[0m response2\u001b[38;5;241m=\u001b[39m requests\u001b[38;5;241m.\u001b[39mget(url2)\n",
      "\u001b[1;31mIndexError\u001b[0m: list index out of range"
     ]
    }
   ],
   "source": [
    "\n",
    "url2= f\"https://api.nhtsa.gov/SafetyRatings/VehicleId/{id_vehicle}\"\n",
    "response2= requests.get(url2)\n",
    "responsa2= response2.json()\n",
    "rating_general=responsa2[\"Results\"][0][\"OverallRating\"]"
   ]
  },
  {
   "cell_type": "code",
   "execution_count": 137,
   "metadata": {},
   "outputs": [],
   "source": [
    "url3= \"https://api.nhtsa.gov/SafetyRatings/modelyear/2013/make/Acura\"\n",
    "url2= \"https://api.nhtsa.gov/SafetyRatings/VehicleId/7520\"\n",
    "response3= requests.get(url3)\n",
    "# responsa3= response3.json()\n",
    "id_vehicle=responsa3[\"Results\"][0][\"VehicleId\"]"
   ]
  },
  {
   "cell_type": "code",
   "execution_count": 138,
   "metadata": {},
   "outputs": [
    {
     "data": {
      "text/plain": [
       "{'Count': 8,\n",
       " 'Message': 'Results returned successfully',\n",
       " 'Results': [{'ModelYear': 2013,\n",
       "   'Make': 'ACURA',\n",
       "   'Model': 'ILX',\n",
       "   'VehicleId': 0},\n",
       "  {'ModelYear': 2013, 'Make': 'ACURA', 'Model': 'ILX HYBRID', 'VehicleId': 0},\n",
       "  {'ModelYear': 2013, 'Make': 'ACURA', 'Model': 'MDX', 'VehicleId': 0},\n",
       "  {'ModelYear': 2013, 'Make': 'ACURA', 'Model': 'RDX', 'VehicleId': 0},\n",
       "  {'ModelYear': 2013, 'Make': 'ACURA', 'Model': 'TL', 'VehicleId': 0},\n",
       "  {'ModelYear': 2013, 'Make': 'ACURA', 'Model': 'TSX', 'VehicleId': 0},\n",
       "  {'ModelYear': 2013,\n",
       "   'Make': 'ACURA',\n",
       "   'Model': 'TSX  SPORT WAGON',\n",
       "   'VehicleId': 0},\n",
       "  {'ModelYear': 2013, 'Make': 'ACURA', 'Model': 'ZDX', 'VehicleId': 0}]}"
      ]
     },
     "execution_count": 138,
     "metadata": {},
     "output_type": "execute_result"
    }
   ],
   "source": [
    "response3.json()"
   ]
  },
  {
   "cell_type": "code",
   "execution_count": 147,
   "metadata": {},
   "outputs": [
    {
     "data": {
      "text/plain": [
       "{'Count': 23,\n",
       " 'Message': 'Results returned successfully',\n",
       " 'Results': [{'ModelYear': 2013,\n",
       "   'Make': 'NISSAN',\n",
       "   'Model': '370Z',\n",
       "   'VehicleId': 0},\n",
       "  {'ModelYear': 2013,\n",
       "   'Make': 'NISSAN',\n",
       "   'Model': '370Z ROADSTER',\n",
       "   'VehicleId': 0},\n",
       "  {'ModelYear': 2013, 'Make': 'NISSAN', 'Model': 'ALTIMA', 'VehicleId': 0},\n",
       "  {'ModelYear': 2013, 'Make': 'NISSAN', 'Model': 'ARMADA', 'VehicleId': 0},\n",
       "  {'ModelYear': 2013, 'Make': 'NISSAN', 'Model': 'CUBE', 'VehicleId': 0},\n",
       "  {'ModelYear': 2013, 'Make': 'NISSAN', 'Model': 'FRONTIER', 'VehicleId': 0},\n",
       "  {'ModelYear': 2013, 'Make': 'NISSAN', 'Model': 'GT-R', 'VehicleId': 0},\n",
       "  {'ModelYear': 2013, 'Make': 'NISSAN', 'Model': 'JUKE', 'VehicleId': 0},\n",
       "  {'ModelYear': 2013, 'Make': 'NISSAN', 'Model': 'LEAF', 'VehicleId': 0},\n",
       "  {'ModelYear': 2013, 'Make': 'NISSAN', 'Model': 'MAXIMA', 'VehicleId': 0},\n",
       "  {'ModelYear': 2013, 'Make': 'NISSAN', 'Model': 'MURANO', 'VehicleId': 0},\n",
       "  {'ModelYear': 2013,\n",
       "   'Make': 'NISSAN',\n",
       "   'Model': 'MURANO CROSS',\n",
       "   'VehicleId': 0},\n",
       "  {'ModelYear': 2013, 'Make': 'NISSAN', 'Model': 'NV1500', 'VehicleId': 0},\n",
       "  {'ModelYear': 2013, 'Make': 'NISSAN', 'Model': 'NV200', 'VehicleId': 0},\n",
       "  {'ModelYear': 2013, 'Make': 'NISSAN', 'Model': 'NV2500', 'VehicleId': 0},\n",
       "  {'ModelYear': 2013, 'Make': 'NISSAN', 'Model': 'NV3500', 'VehicleId': 0},\n",
       "  {'ModelYear': 2013, 'Make': 'NISSAN', 'Model': 'PATHFINDER', 'VehicleId': 0},\n",
       "  {'ModelYear': 2013, 'Make': 'NISSAN', 'Model': 'QUEST', 'VehicleId': 0},\n",
       "  {'ModelYear': 2013, 'Make': 'NISSAN', 'Model': 'ROGUE', 'VehicleId': 0},\n",
       "  {'ModelYear': 2013, 'Make': 'NISSAN', 'Model': 'SENTRA', 'VehicleId': 0},\n",
       "  {'ModelYear': 2013, 'Make': 'NISSAN', 'Model': 'TITAN', 'VehicleId': 0},\n",
       "  {'ModelYear': 2013, 'Make': 'NISSAN', 'Model': 'VERSA', 'VehicleId': 0},\n",
       "  {'ModelYear': 2013, 'Make': 'NISSAN', 'Model': 'XTERRA', 'VehicleId': 0}]}"
      ]
     },
     "execution_count": 147,
     "metadata": {},
     "output_type": "execute_result"
    }
   ],
   "source": [
    "url3= \"https://api.nhtsa.gov/SafetyRatings/modelyear/2013/make/nissan\"\n",
    "url2= \"https://api.nhtsa.gov/SafetyRatings/VehicleId/7520\"\n",
    "response3= requests.get(url3)\n",
    "# responsa3= response3.json()\n",
    "id_vehicle=responsa3[\"Results\"][0][\"VehicleId\"]\n",
    "response3.json()"
   ]
  },
  {
   "cell_type": "code",
   "execution_count": 157,
   "metadata": {},
   "outputs": [],
   "source": [
    "lista_total = list()\n",
    "lista_1 = [1,2]\n",
    "lista_2 = [3,4]"
   ]
  },
  {
   "cell_type": "code",
   "execution_count": 158,
   "metadata": {},
   "outputs": [
    {
     "data": {
      "text/plain": [
       "[[[1, 2], [3, 4]]]"
      ]
     },
     "execution_count": 158,
     "metadata": {},
     "output_type": "execute_result"
    }
   ],
   "source": [
    "lista_total.append([lista_1,lista_2])\n",
    "\n",
    "lista_total"
   ]
  },
  {
   "cell_type": "code",
   "execution_count": null,
   "metadata": {},
   "outputs": [
    {
     "name": "stdout",
     "output_type": "stream",
     "text": [
      "[7558, 7559, 7745, 7266, 7278, 7277, 7279, 7272, 7271, 7270, 7269, 7561, 7288, 7287, 7286, 7285, 7292, 7291, 7562, 7563, 7564, 7666, 7667, 7565, 7698, 7566, 7567, 7290, 7289, 7568, 7276, 7275, 7274, 7273, 7284, 7268, 7267]\n"
     ]
    }
   ],
   "source": [
    "modelos = [diccio[\"Model\"] for diccio in response3.json()[\"Results\"]]\n",
    "modelos_ids = list()\n",
    "for modelo in modelos:\n",
    "    url3= f\"https://api.nhtsa.gov/SafetyRatings/modelyear/2013/make/nissan/model/{modelo}\"\n",
    "    response= requests.get(url3)\n",
    "    modelos_ids.extend([diccio[\"VehicleId\"] for diccio in response.json()[\"Results\"]])\n",
    "print(modelos_ids)"
   ]
  },
  {
   "cell_type": "code",
   "execution_count": null,
   "metadata": {},
   "outputs": [
    {
     "name": "stdout",
     "output_type": "stream",
     "text": [
      "{'Count': 1, 'Message': 'Results returned successfully', 'Results': [{'VehiclePicture': 'https://static.nhtsa.gov/images/vehicles/8258_st0640_046.png', 'OverallRating': 'Not Rated', 'OverallFrontCrashRating': 'Not Rated', 'FrontCrashDriversideRating': 'Not Rated', 'FrontCrashPassengersideRating': 'Not Rated', 'OverallSideCrashRating': 'Not Rated', 'SideCrashDriversideRating': 'Not Rated', 'SideCrashPassengersideRating': 'Not Rated', 'combinedSideBarrierAndPoleRating-Front': 'Not Rated', 'combinedSideBarrierAndPoleRating-Rear': 'Not Rated', 'sideBarrierRating-Overall': 'Not Rated', 'RolloverRating': 'Not Rated', 'RolloverRating2': 'Not Rated', 'RolloverPossibility': 0.0, 'RolloverPossibility2': 0.0, 'dynamicTipResult': ' ', 'SidePoleCrashRating': 'Not Rated', 'NHTSAElectronicStabilityControl': 'Standard', 'NHTSAForwardCollisionWarning': 'No', 'NHTSALaneDepartureWarning': 'No', 'ComplaintsCount': 17, 'RecallsCount': 0, 'InvestigationCount': 1, 'ModelYear': 2013, 'Make': 'NISSAN', 'Model': '370Z', 'VehicleDescription': '2013 Nissan 370Z 2 DR RWD', 'VehicleId': 7558}]}\n",
      "{'Count': 1, 'Message': 'Results returned successfully', 'Results': [{'VehiclePicture': 'https://static.nhtsa.gov/images/vehicles/8258_st0640_046.png', 'OverallRating': 'Not Rated', 'OverallFrontCrashRating': 'Not Rated', 'FrontCrashDriversideRating': 'Not Rated', 'FrontCrashPassengersideRating': 'Not Rated', 'OverallSideCrashRating': 'Not Rated', 'SideCrashDriversideRating': 'Not Rated', 'SideCrashPassengersideRating': 'Not Rated', 'combinedSideBarrierAndPoleRating-Front': 'Not Rated', 'combinedSideBarrierAndPoleRating-Rear': 'Not Rated', 'sideBarrierRating-Overall': 'Not Rated', 'RolloverRating': 'Not Rated', 'RolloverRating2': 'Not Rated', 'RolloverPossibility': 0.0, 'RolloverPossibility2': 0.0, 'dynamicTipResult': ' ', 'SidePoleCrashRating': 'Not Rated', 'NHTSAElectronicStabilityControl': 'Standard', 'NHTSAForwardCollisionWarning': 'No', 'NHTSALaneDepartureWarning': 'No', 'ComplaintsCount': 17, 'RecallsCount': 0, 'InvestigationCount': 1, 'ModelYear': 2013, 'Make': 'NISSAN', 'Model': '370Z ROADSTER', 'VehicleDescription': '2013 Nissan 370Z Roadster C RWD', 'VehicleId': 7559}]}\n",
      "{'Count': 1, 'Message': 'Results returned successfully', 'Results': [{'VehiclePicture': 'https://static.nhtsa.gov/images/vehicles/8175_st0640_046.png', 'OverallRating': '5', 'OverallFrontCrashRating': '5', 'FrontCrashDriversideRating': '5', 'FrontCrashPassengersideRating': '4', 'FrontCrashPicture': 'https://static.nhtsa.gov/crashTest/images/2013/v07966P085.jpg', 'FrontCrashVideo': 'https://static.nhtsa.gov/crashTest/videos/2013/v07966C016.wmv', 'OverallSideCrashRating': '5', 'SideCrashDriversideRating': '4', 'SideCrashPassengersideRating': '5', 'SideCrashPicture': 'https://static.nhtsa.gov/crashTest/images/2013/v07967P108.jpg', 'SideCrashVideo': 'https://static.nhtsa.gov/crashTest/videos/2013/v07967C012.wmv', 'combinedSideBarrierAndPoleRating-Front': '4', 'combinedSideBarrierAndPoleRating-Rear': '5', 'sideBarrierRating-Overall': '5', 'RolloverRating': '4', 'RolloverRating2': 'Not Rated', 'RolloverPossibility': 0.103, 'RolloverPossibility2': 0.0, 'dynamicTipResult': 'No Tip', 'SidePoleCrashRating': '5', 'SidePolePicture': 'https://static.nhtsa.gov/crashTest/images/2013/v07955P073.jpg', 'SidePoleVideo': 'https://static.nhtsa.gov/crashTest/videos/2013/v07955C012.wmv', 'NHTSAElectronicStabilityControl': 'Standard', 'NHTSAForwardCollisionWarning': 'No', 'NHTSALaneDepartureWarning': 'No', 'ComplaintsCount': 2262, 'RecallsCount': 12, 'InvestigationCount': 5, 'ModelYear': 2013, 'Make': 'NISSAN', 'Model': 'ALTIMA', 'VehicleDescription': '2013 Nissan Altima 4 DR FWD', 'VehicleId': 7745}]}\n",
      "{'Count': 1, 'Message': 'Results returned successfully', 'Results': [{'VehiclePicture': 'https://static.nhtsa.gov/images/vehicles/8559_st0640_046.png', 'OverallRating': 'Not Rated', 'OverallFrontCrashRating': 'Not Rated', 'FrontCrashDriversideRating': 'Not Rated', 'FrontCrashPassengersideRating': 'Not Rated', 'OverallSideCrashRating': 'Not Rated', 'SideCrashDriversideRating': 'Not Rated', 'SideCrashPassengersideRating': 'Not Rated', 'combinedSideBarrierAndPoleRating-Front': 'Not Rated', 'combinedSideBarrierAndPoleRating-Rear': 'Not Rated', 'sideBarrierRating-Overall': 'Not Rated', 'RolloverRating': '5', 'RolloverRating2': 'Not Rated', 'RolloverPossibility': 0.093, 'RolloverPossibility2': 0.0, 'dynamicTipResult': 'No Tip', 'SidePoleCrashRating': 'Not Rated', 'NHTSAElectronicStabilityControl': 'Standard', 'NHTSAForwardCollisionWarning': 'No', 'NHTSALaneDepartureWarning': 'No', 'ComplaintsCount': 2262, 'RecallsCount': 12, 'InvestigationCount': 5, 'ModelYear': 2013, 'Make': 'NISSAN', 'Model': 'ALTIMA', 'VehicleDescription': '2013 Nissan Altima 2 DR FWD', 'VehicleId': 7266}]}\n",
      "{'Count': 1, 'Message': 'Results returned successfully', 'Results': [{'VehiclePicture': 'https://static.nhtsa.gov/images/vehicles/8701_st0640_046.png', 'OverallRating': 'Not Rated', 'OverallFrontCrashRating': 'Not Rated', 'FrontCrashDriversideRating': 'Not Rated', 'FrontCrashPassengersideRating': 'Not Rated', 'OverallSideCrashRating': 'Not Rated', 'SideCrashDriversideRating': 'Not Rated', 'SideCrashPassengersideRating': 'Not Rated', 'combinedSideBarrierAndPoleRating-Front': 'Not Rated', 'combinedSideBarrierAndPoleRating-Rear': 'Not Rated', 'sideBarrierRating-Overall': 'Not Rated', 'RolloverRating': '3', 'RolloverRating2': 'Not Rated', 'RolloverPossibility': 0.212, 'RolloverPossibility2': 0.0, 'dynamicTipResult': 'No Tip', 'SidePoleCrashRating': 'Not Rated', 'NHTSAElectronicStabilityControl': 'Standard', 'NHTSAForwardCollisionWarning': 'No', 'NHTSALaneDepartureWarning': 'No', 'ComplaintsCount': 14, 'RecallsCount': 2, 'InvestigationCount': 0, 'ModelYear': 2013, 'Make': 'NISSAN', 'Model': 'ARMADA', 'VehicleDescription': '2013 Nissan Armada SUV RWD', 'VehicleId': 7278}]}\n",
      "{'Count': 1, 'Message': 'Results returned successfully', 'Results': [{'VehiclePicture': 'https://static.nhtsa.gov/images/vehicles/8701_st0640_046.png', 'OverallRating': 'Not Rated', 'OverallFrontCrashRating': 'Not Rated', 'FrontCrashDriversideRating': 'Not Rated', 'FrontCrashPassengersideRating': 'Not Rated', 'OverallSideCrashRating': 'Not Rated', 'SideCrashDriversideRating': 'Not Rated', 'SideCrashPassengersideRating': 'Not Rated', 'combinedSideBarrierAndPoleRating-Front': 'Not Rated', 'combinedSideBarrierAndPoleRating-Rear': 'Not Rated', 'sideBarrierRating-Overall': 'Not Rated', 'RolloverRating': '3', 'RolloverRating2': 'Not Rated', 'RolloverPossibility': 0.219, 'RolloverPossibility2': 0.0, 'dynamicTipResult': 'No Tip', 'SidePoleCrashRating': 'Not Rated', 'NHTSAElectronicStabilityControl': 'Standard', 'NHTSAForwardCollisionWarning': 'No', 'NHTSALaneDepartureWarning': 'No', 'ComplaintsCount': 14, 'RecallsCount': 2, 'InvestigationCount': 0, 'ModelYear': 2013, 'Make': 'NISSAN', 'Model': 'ARMADA', 'VehicleDescription': '2013 Nissan Armada SUV 4WD', 'VehicleId': 7277}]}\n",
      "{'Count': 1, 'Message': 'Results returned successfully', 'Results': [{'VehiclePicture': 'https://static.nhtsa.gov/images/vehicles/8728_st0640_046.png', 'OverallRating': 'Not Rated', 'OverallFrontCrashRating': 'Not Rated', 'FrontCrashDriversideRating': 'Not Rated', 'FrontCrashPassengersideRating': 'Not Rated', 'OverallSideCrashRating': 'Not Rated', 'SideCrashDriversideRating': 'Not Rated', 'SideCrashPassengersideRating': 'Not Rated', 'combinedSideBarrierAndPoleRating-Front': 'Not Rated', 'combinedSideBarrierAndPoleRating-Rear': 'Not Rated', 'sideBarrierRating-Overall': 'Not Rated', 'RolloverRating': '4', 'RolloverRating2': 'Not Rated', 'RolloverPossibility': 0.174, 'RolloverPossibility2': 0.0, 'dynamicTipResult': 'No Tip', 'SidePoleCrashRating': 'Not Rated', 'NHTSAElectronicStabilityControl': 'Standard', 'NHTSAForwardCollisionWarning': 'No', 'NHTSALaneDepartureWarning': 'No', 'ComplaintsCount': 3, 'RecallsCount': 1, 'InvestigationCount': 1, 'ModelYear': 2013, 'Make': 'NISSAN', 'Model': 'CUBE', 'VehicleDescription': '2013 Nissan Cube VAN FWD', 'VehicleId': 7279}]}\n",
      "{'Count': 1, 'Message': 'Results returned successfully', 'Results': [{'VehiclePicture': 'https://static.nhtsa.gov/images/vehicles/8809_st0640_046.png', 'OverallRating': 'Not Rated', 'OverallFrontCrashRating': 'Not Rated', 'FrontCrashDriversideRating': 'Not Rated', 'FrontCrashPassengersideRating': 'Not Rated', 'OverallSideCrashRating': 'Not Rated', 'SideCrashDriversideRating': 'Not Rated', 'SideCrashPassengersideRating': 'Not Rated', 'combinedSideBarrierAndPoleRating-Front': 'Not Rated', 'combinedSideBarrierAndPoleRating-Rear': 'Not Rated', 'sideBarrierRating-Overall': 'Not Rated', 'RolloverRating': '3', 'RolloverRating2': 'Not Rated', 'RolloverPossibility': 0.212, 'RolloverPossibility2': 0.0, 'dynamicTipResult': 'No Tip', 'SidePoleCrashRating': 'Not Rated', 'NHTSAElectronicStabilityControl': 'Standard', 'NHTSAForwardCollisionWarning': 'No', 'NHTSALaneDepartureWarning': 'No', 'ComplaintsCount': 46, 'RecallsCount': 1, 'InvestigationCount': 0, 'ModelYear': 2013, 'Make': 'NISSAN', 'Model': 'FRONTIER', 'VehicleDescription': '2013 Nissan Frontier Crew Cab PU/CC RWD', 'VehicleId': 7272}]}\n",
      "{'Count': 1, 'Message': 'Results returned successfully', 'Results': [{'VehiclePicture': 'https://static.nhtsa.gov/images/vehicles/8809_st0640_046.png', 'OverallRating': 'Not Rated', 'OverallFrontCrashRating': 'Not Rated', 'FrontCrashDriversideRating': 'Not Rated', 'FrontCrashPassengersideRating': 'Not Rated', 'OverallSideCrashRating': 'Not Rated', 'SideCrashDriversideRating': 'Not Rated', 'SideCrashPassengersideRating': 'Not Rated', 'combinedSideBarrierAndPoleRating-Front': 'Not Rated', 'combinedSideBarrierAndPoleRating-Rear': 'Not Rated', 'sideBarrierRating-Overall': 'Not Rated', 'RolloverRating': '4', 'RolloverRating2': 'Not Rated', 'RolloverPossibility': 0.198, 'RolloverPossibility2': 0.0, 'dynamicTipResult': 'No Tip', 'SidePoleCrashRating': 'Not Rated', 'NHTSAElectronicStabilityControl': 'Standard', 'NHTSAForwardCollisionWarning': 'No', 'NHTSALaneDepartureWarning': 'No', 'ComplaintsCount': 46, 'RecallsCount': 1, 'InvestigationCount': 0, 'ModelYear': 2013, 'Make': 'NISSAN', 'Model': 'FRONTIER', 'VehicleDescription': '2013 Nissan Frontier Crew Cab PU/CC 4WD', 'VehicleId': 7271}]}\n",
      "{'Count': 1, 'Message': 'Results returned successfully', 'Results': [{'VehiclePicture': 'https://static.nhtsa.gov/images/vehicles/8836_st0640_046.png', 'OverallRating': 'Not Rated', 'OverallFrontCrashRating': 'Not Rated', 'FrontCrashDriversideRating': 'Not Rated', 'FrontCrashPassengersideRating': 'Not Rated', 'OverallSideCrashRating': 'Not Rated', 'SideCrashDriversideRating': 'Not Rated', 'SideCrashPassengersideRating': 'Not Rated', 'combinedSideBarrierAndPoleRating-Front': 'Not Rated', 'combinedSideBarrierAndPoleRating-Rear': 'Not Rated', 'sideBarrierRating-Overall': 'Not Rated', 'RolloverRating': '3', 'RolloverRating2': 'Not Rated', 'RolloverPossibility': 0.212, 'RolloverPossibility2': 0.0, 'dynamicTipResult': 'No Tip', 'SidePoleCrashRating': 'Not Rated', 'NHTSAElectronicStabilityControl': 'Standard', 'NHTSAForwardCollisionWarning': 'No', 'NHTSALaneDepartureWarning': 'No', 'ComplaintsCount': 46, 'RecallsCount': 1, 'InvestigationCount': 0, 'ModelYear': 2013, 'Make': 'NISSAN', 'Model': 'FRONTIER', 'VehicleDescription': '2013 Nissan Frontier King Cab PU/EC RWD', 'VehicleId': 7270}]}\n",
      "{'Count': 1, 'Message': 'Results returned successfully', 'Results': [{'VehiclePicture': 'https://static.nhtsa.gov/images/vehicles/8836_st0640_046.png', 'OverallRating': 'Not Rated', 'OverallFrontCrashRating': 'Not Rated', 'FrontCrashDriversideRating': 'Not Rated', 'FrontCrashPassengersideRating': 'Not Rated', 'OverallSideCrashRating': 'Not Rated', 'SideCrashDriversideRating': 'Not Rated', 'SideCrashPassengersideRating': 'Not Rated', 'combinedSideBarrierAndPoleRating-Front': 'Not Rated', 'combinedSideBarrierAndPoleRating-Rear': 'Not Rated', 'sideBarrierRating-Overall': 'Not Rated', 'RolloverRating': '4', 'RolloverRating2': 'Not Rated', 'RolloverPossibility': 0.198, 'RolloverPossibility2': 0.0, 'dynamicTipResult': 'No Tip', 'SidePoleCrashRating': 'Not Rated', 'NHTSAElectronicStabilityControl': 'Standard', 'NHTSAForwardCollisionWarning': 'No', 'NHTSALaneDepartureWarning': 'No', 'ComplaintsCount': 46, 'RecallsCount': 1, 'InvestigationCount': 0, 'ModelYear': 2013, 'Make': 'NISSAN', 'Model': 'FRONTIER', 'VehicleDescription': '2013 Nissan Frontier King Cab PU/EC 4WD', 'VehicleId': 7269}]}\n",
      "{'Count': 1, 'Message': 'Results returned successfully', 'Results': [{'VehiclePicture': 'https://static.nhtsa.gov/images/vehicles/8074_st0640_046.png', 'OverallRating': 'Not Rated', 'OverallFrontCrashRating': 'Not Rated', 'FrontCrashDriversideRating': 'Not Rated', 'FrontCrashPassengersideRating': 'Not Rated', 'OverallSideCrashRating': 'Not Rated', 'SideCrashDriversideRating': 'Not Rated', 'SideCrashPassengersideRating': 'Not Rated', 'combinedSideBarrierAndPoleRating-Front': 'Not Rated', 'combinedSideBarrierAndPoleRating-Rear': 'Not Rated', 'sideBarrierRating-Overall': 'Not Rated', 'RolloverRating': 'Not Rated', 'RolloverRating2': 'Not Rated', 'RolloverPossibility': 0.0, 'RolloverPossibility2': 0.0, 'dynamicTipResult': ' ', 'SidePoleCrashRating': 'Not Rated', 'NHTSAElectronicStabilityControl': 'Standard', 'NHTSAForwardCollisionWarning': 'No', 'NHTSALaneDepartureWarning': 'No', 'ComplaintsCount': 1, 'RecallsCount': 0, 'InvestigationCount': 0, 'ModelYear': 2013, 'Make': 'NISSAN', 'Model': 'GT-R', 'VehicleDescription': '2013 Nissan GT-R 2 DR AWD', 'VehicleId': 7561}]}\n",
      "{'Count': 1, 'Message': 'Results returned successfully', 'Results': [{'VehiclePicture': 'https://static.nhtsa.gov/images/vehicles/8624_st0640_046.png', 'OverallRating': '4', 'OverallFrontCrashRating': '3', 'FrontCrashDriversideRating': '4', 'FrontCrashPassengersideRating': '3', 'FrontCrashPicture': 'https://static.nhtsa.gov/crashTest/images/2013/v07626P080.jpg', 'FrontCrashVideo': 'https://static.nhtsa.gov/crashTest/videos/2013/v07626C001.wmv', 'OverallSideCrashRating': '5', 'SideCrashDriversideRating': '4', 'SideCrashPassengersideRating': '5', 'SideCrashPicture': 'https://static.nhtsa.gov/crashTest/images/2013/v07629P115.jpg', 'SideCrashVideo': 'https://static.nhtsa.gov/crashTest/videos/2013/v07629C001.wmv', 'combinedSideBarrierAndPoleRating-Front': '4', 'combinedSideBarrierAndPoleRating-Rear': '5', 'sideBarrierRating-Overall': '4', 'RolloverRating': '4', 'RolloverRating2': 'Not Rated', 'RolloverPossibility': 0.159, 'RolloverPossibility2': 0.0, 'dynamicTipResult': 'No Tip', 'SidePoleCrashRating': '5', 'SidePolePicture': 'https://static.nhtsa.gov/crashTest/images/2013/v07630P079.jpg', 'SidePoleVideo': 'https://static.nhtsa.gov/crashTest/videos/2013/v07630C001.wmv', 'NHTSAElectronicStabilityControl': 'Standard', 'NHTSAForwardCollisionWarning': 'No', 'NHTSALaneDepartureWarning': 'No', 'ComplaintsCount': 93, 'RecallsCount': 2, 'InvestigationCount': 0, 'ModelYear': 2013, 'Make': 'NISSAN', 'Model': 'JUKE', 'VehicleDescription': '2013 Nissan Juke SUV FWD', 'VehicleId': 7288}]}\n",
      "{'Count': 1, 'Message': 'Results returned successfully', 'Results': [{'VehiclePicture': 'https://static.nhtsa.gov/images/vehicles/8624_st0640_046.png', 'OverallRating': '4', 'OverallFrontCrashRating': '3', 'FrontCrashDriversideRating': '4', 'FrontCrashPassengersideRating': '3', 'FrontCrashPicture': 'https://static.nhtsa.gov/crashTest/images/2013/v07626P080.jpg', 'FrontCrashVideo': 'https://static.nhtsa.gov/crashTest/videos/2013/v07626C001.wmv', 'OverallSideCrashRating': '5', 'SideCrashDriversideRating': '4', 'SideCrashPassengersideRating': '5', 'SideCrashPicture': 'https://static.nhtsa.gov/crashTest/images/2013/v07629P115.jpg', 'SideCrashVideo': 'https://static.nhtsa.gov/crashTest/videos/2013/v07629C001.wmv', 'combinedSideBarrierAndPoleRating-Front': '4', 'combinedSideBarrierAndPoleRating-Rear': '5', 'sideBarrierRating-Overall': '4', 'RolloverRating': '4', 'RolloverRating2': 'Not Rated', 'RolloverPossibility': 0.151, 'RolloverPossibility2': 0.0, 'dynamicTipResult': 'No Tip', 'SidePoleCrashRating': '5', 'SidePolePicture': 'https://static.nhtsa.gov/crashTest/images/2013/v07630P079.jpg', 'SidePoleVideo': 'https://static.nhtsa.gov/crashTest/videos/2013/v07630C001.wmv', 'NHTSAElectronicStabilityControl': 'Standard', 'NHTSAForwardCollisionWarning': 'No', 'NHTSALaneDepartureWarning': 'No', 'ComplaintsCount': 93, 'RecallsCount': 2, 'InvestigationCount': 0, 'ModelYear': 2013, 'Make': 'NISSAN', 'Model': 'JUKE', 'VehicleDescription': '2013 Nissan Juke SUV AWD', 'VehicleId': 7287}]}\n",
      "{'Count': 1, 'Message': 'Results returned successfully', 'Results': [{'VehiclePicture': 'https://static.nhtsa.gov/images/vehicles/8797_st0640_046.png', 'OverallRating': '4', 'OverallFrontCrashRating': '4', 'FrontCrashDriversideRating': '5', 'FrontCrashPassengersideRating': '3', 'FrontCrashPicture': 'https://static.nhtsa.gov/crashTest/images/2013/v08213P084.jpg', 'FrontCrashVideo': 'https://static.nhtsa.gov/crashTest/videos/2013/v08213C016.wmv', 'OverallSideCrashRating': '4', 'SideCrashDriversideRating': '5', 'SideCrashPassengersideRating': '3', 'SideCrashPicture': 'https://static.nhtsa.gov/crashTest/images/2013/v08216P108.jpg', 'SideCrashVideo': 'https://static.nhtsa.gov/crashTest/videos/2013/v08216C012.wmv', 'combinedSideBarrierAndPoleRating-Front': '5', 'combinedSideBarrierAndPoleRating-Rear': '3', 'sideBarrierRating-Overall': '4', 'RolloverRating': '4', 'RolloverRating2': 'Not Rated', 'RolloverPossibility': 0.109, 'RolloverPossibility2': 0.0, 'dynamicTipResult': 'No Tip', 'SidePoleCrashRating': '5', 'SidePolePicture': 'https://static.nhtsa.gov/crashTest/images/2013/v08215P077.jpg', 'SidePoleVideo': 'https://static.nhtsa.gov/crashTest/videos/2013/v08215C009.wmv', 'NHTSAElectronicStabilityControl': 'Standard', 'NHTSAForwardCollisionWarning': 'No', 'NHTSALaneDepartureWarning': 'No', 'ComplaintsCount': 79, 'RecallsCount': 5, 'InvestigationCount': 3, 'ModelYear': 2013, 'Make': 'NISSAN', 'Model': 'LEAF', 'VehicleDescription': '2013 Nissan Leaf 5 HB FWD', 'VehicleId': 7286}]}\n",
      "{'Count': 1, 'Message': 'Results returned successfully', 'Results': [{'VehiclePicture': 'https://static.nhtsa.gov/images/vehicles/8635_st0640_046.png', 'OverallRating': '4', 'OverallFrontCrashRating': '3', 'FrontCrashDriversideRating': '4', 'FrontCrashPassengersideRating': '2', 'FrontCrashPicture': 'https://static.nhtsa.gov/crashTest/images/2013/v07536P080.jpg', 'FrontCrashVideo': 'https://static.nhtsa.gov/crashTest/videos/2013/v07536C016.wmv', 'OverallSideCrashRating': '5', 'SideCrashDriversideRating': '3', 'SideCrashPassengersideRating': '5', 'SideCrashPicture': 'https://static.nhtsa.gov/crashTest/images/2013/v07535P110.jpg', 'SideCrashVideo': 'https://static.nhtsa.gov/crashTest/videos/2013/v07535C012.wmv', 'combinedSideBarrierAndPoleRating-Front': '4', 'combinedSideBarrierAndPoleRating-Rear': '5', 'sideBarrierRating-Overall': '5', 'RolloverRating': '5', 'RolloverRating2': 'Not Rated', 'RolloverPossibility': 0.101, 'RolloverPossibility2': 0.0, 'dynamicTipResult': 'No Tip', 'SidePoleCrashRating': '5', 'SidePolePicture': 'https://static.nhtsa.gov/crashTest/images/2013/v07532P074.jpg', 'SidePoleVideo': 'https://static.nhtsa.gov/crashTest/videos/2013/v07532C012.wmv', 'NHTSAElectronicStabilityControl': 'Standard', 'NHTSAForwardCollisionWarning': 'No', 'NHTSALaneDepartureWarning': 'No', 'ComplaintsCount': 61, 'RecallsCount': 0, 'InvestigationCount': 0, 'ModelYear': 2013, 'Make': 'NISSAN', 'Model': 'MAXIMA', 'VehicleDescription': '2013 Nissan Maxima 4 DR FWD', 'VehicleId': 7285}]}\n",
      "{'Count': 1, 'Message': 'Results returned successfully', 'Results': [{'VehiclePicture': 'https://static.nhtsa.gov/images/vehicles/8648_st0640_046.png', 'OverallRating': '4', 'OverallFrontCrashRating': '4', 'FrontCrashDriversideRating': '4', 'FrontCrashPassengersideRating': '3', 'FrontCrashPicture': 'https://static.nhtsa.gov/crashTest/images/2013/v07196P012.jpg', 'FrontCrashVideo': 'https://static.nhtsa.gov/crashTest/videos/2013/v07196C017.wmv', 'OverallSideCrashRating': '5', 'SideCrashDriversideRating': '5', 'SideCrashPassengersideRating': '4', 'SideCrashPicture': 'https://static.nhtsa.gov/crashTest/images/2013/v07192P010.jpg', 'SideCrashVideo': 'https://static.nhtsa.gov/crashTest/videos/2013/v07192C013.wmv', 'combinedSideBarrierAndPoleRating-Front': '5', 'combinedSideBarrierAndPoleRating-Rear': '4', 'sideBarrierRating-Overall': '5', 'RolloverRating': '4', 'RolloverRating2': 'Not Rated', 'RolloverPossibility': 0.179, 'RolloverPossibility2': 0.0, 'dynamicTipResult': 'No Tip', 'SidePoleCrashRating': '4', 'SidePolePicture': 'https://static.nhtsa.gov/crashTest/images/2013/v07190P010.jpg', 'SidePoleVideo': 'https://static.nhtsa.gov/crashTest/videos/2013/v07190C014.wmv', 'NHTSAElectronicStabilityControl': 'Standard', 'NHTSAForwardCollisionWarning': 'No', 'NHTSALaneDepartureWarning': 'No', 'ComplaintsCount': 67, 'RecallsCount': 1, 'InvestigationCount': 0, 'ModelYear': 2013, 'Make': 'NISSAN', 'Model': 'MURANO', 'VehicleDescription': '2013 Nissan Murano SUV FWD', 'VehicleId': 7292}]}\n",
      "{'Count': 1, 'Message': 'Results returned successfully', 'Results': [{'VehiclePicture': 'https://static.nhtsa.gov/images/vehicles/8648_st0640_046.png', 'OverallRating': '4', 'OverallFrontCrashRating': '4', 'FrontCrashDriversideRating': '4', 'FrontCrashPassengersideRating': '3', 'FrontCrashPicture': 'https://static.nhtsa.gov/crashTest/images/2013/v07196P012.jpg', 'FrontCrashVideo': 'https://static.nhtsa.gov/crashTest/videos/2013/v07196C017.wmv', 'OverallSideCrashRating': '5', 'SideCrashDriversideRating': '5', 'SideCrashPassengersideRating': '4', 'SideCrashPicture': 'https://static.nhtsa.gov/crashTest/images/2013/v07192P010.jpg', 'SideCrashVideo': 'https://static.nhtsa.gov/crashTest/videos/2013/v07192C013.wmv', 'combinedSideBarrierAndPoleRating-Front': '5', 'combinedSideBarrierAndPoleRating-Rear': '4', 'sideBarrierRating-Overall': '5', 'RolloverRating': '4', 'RolloverRating2': 'Not Rated', 'RolloverPossibility': 0.185, 'RolloverPossibility2': 0.0, 'dynamicTipResult': 'No Tip', 'SidePoleCrashRating': '4', 'SidePolePicture': 'https://static.nhtsa.gov/crashTest/images/2013/v07190P010.jpg', 'SidePoleVideo': 'https://static.nhtsa.gov/crashTest/videos/2013/v07190C014.wmv', 'NHTSAElectronicStabilityControl': 'Standard', 'NHTSAForwardCollisionWarning': 'No', 'NHTSALaneDepartureWarning': 'No', 'ComplaintsCount': 67, 'RecallsCount': 1, 'InvestigationCount': 0, 'ModelYear': 2013, 'Make': 'NISSAN', 'Model': 'MURANO', 'VehicleDescription': '2013 Nissan Murano SUV AWD', 'VehicleId': 7291}]}\n",
      "{'Count': 1, 'Message': 'Results returned successfully', 'Results': [{'VehiclePicture': 'https://static.nhtsa.gov/images/vehicles/8648_st0640_046.png', 'OverallRating': 'Not Rated', 'OverallFrontCrashRating': 'Not Rated', 'FrontCrashDriversideRating': 'Not Rated', 'FrontCrashPassengersideRating': 'Not Rated', 'OverallSideCrashRating': 'Not Rated', 'SideCrashDriversideRating': 'Not Rated', 'SideCrashPassengersideRating': 'Not Rated', 'combinedSideBarrierAndPoleRating-Front': 'Not Rated', 'combinedSideBarrierAndPoleRating-Rear': 'Not Rated', 'sideBarrierRating-Overall': 'Not Rated', 'RolloverRating': 'Not Rated', 'RolloverRating2': 'Not Rated', 'RolloverPossibility': 0.0, 'RolloverPossibility2': 0.0, 'dynamicTipResult': ' ', 'SidePoleCrashRating': 'Not Rated', 'NHTSAElectronicStabilityControl': 'Standard', 'NHTSAForwardCollisionWarning': 'No', 'NHTSALaneDepartureWarning': 'No', 'ComplaintsCount': 67, 'RecallsCount': 1, 'InvestigationCount': 0, 'ModelYear': 2013, 'Make': 'NISSAN', 'Model': 'MURANO CROSS', 'VehicleDescription': '2013 Nissan Murano Cross C AWD', 'VehicleId': 7562}]}\n",
      "{'Count': 1, 'Message': 'Results returned successfully', 'Results': [{'VehiclePicture': 'https://static.nhtsa.gov/images/vehicles/8759_st0640_046.png', 'OverallRating': 'Not Rated', 'OverallFrontCrashRating': 'Not Rated', 'FrontCrashDriversideRating': 'Not Rated', 'FrontCrashPassengersideRating': 'Not Rated', 'OverallSideCrashRating': 'Not Rated', 'SideCrashDriversideRating': 'Not Rated', 'SideCrashPassengersideRating': 'Not Rated', 'combinedSideBarrierAndPoleRating-Front': 'Not Rated', 'combinedSideBarrierAndPoleRating-Rear': 'Not Rated', 'sideBarrierRating-Overall': 'Not Rated', 'RolloverRating': 'Not Rated', 'RolloverRating2': 'Not Rated', 'RolloverPossibility': 0.0, 'RolloverPossibility2': 0.0, 'dynamicTipResult': ' ', 'SidePoleCrashRating': 'Not Rated', 'NHTSAElectronicStabilityControl': 'Standard', 'NHTSAForwardCollisionWarning': 'No', 'NHTSALaneDepartureWarning': 'No', 'ComplaintsCount': 6, 'RecallsCount': 3, 'InvestigationCount': 0, 'ModelYear': 2013, 'Make': 'NISSAN', 'Model': 'NV1500', 'VehicleDescription': '2013 Nissan NV1500 VAN RWD', 'VehicleId': 7563}]}\n",
      "{'Count': 1, 'Message': 'Results returned successfully', 'Results': [{'VehiclePicture': 'https://static.nhtsa.gov/images/vehicles/8858_st0640_046.png', 'OverallRating': 'Not Rated', 'OverallFrontCrashRating': 'Not Rated', 'FrontCrashDriversideRating': 'Not Rated', 'FrontCrashPassengersideRating': 'Not Rated', 'OverallSideCrashRating': 'Not Rated', 'SideCrashDriversideRating': 'Not Rated', 'SideCrashPassengersideRating': 'Not Rated', 'combinedSideBarrierAndPoleRating-Front': 'Not Rated', 'combinedSideBarrierAndPoleRating-Rear': 'Not Rated', 'sideBarrierRating-Overall': 'Not Rated', 'RolloverRating': 'Not Rated', 'RolloverRating2': 'Not Rated', 'RolloverPossibility': 0.0, 'RolloverPossibility2': 0.0, 'dynamicTipResult': ' ', 'SidePoleCrashRating': 'Not Rated', 'NHTSAElectronicStabilityControl': 'Standard', 'NHTSAForwardCollisionWarning': 'No', 'NHTSALaneDepartureWarning': 'No', 'ComplaintsCount': 20, 'RecallsCount': 7, 'InvestigationCount': 3, 'ModelYear': 2013, 'Make': 'NISSAN', 'Model': 'NV200', 'VehicleDescription': '2013 Nissan NV200 VAN FWD', 'VehicleId': 7564}]}\n",
      "{'Count': 1, 'Message': 'Results returned successfully', 'Results': [{'VehiclePicture': 'https://static.nhtsa.gov/images/vehicles/8732_st0640_046.png', 'OverallRating': 'Not Rated', 'OverallFrontCrashRating': 'Not Rated', 'FrontCrashDriversideRating': 'Not Rated', 'FrontCrashPassengersideRating': 'Not Rated', 'OverallSideCrashRating': 'Not Rated', 'SideCrashDriversideRating': 'Not Rated', 'SideCrashPassengersideRating': 'Not Rated', 'combinedSideBarrierAndPoleRating-Front': 'Not Rated', 'combinedSideBarrierAndPoleRating-Rear': 'Not Rated', 'sideBarrierRating-Overall': 'Not Rated', 'RolloverRating': 'Not Rated', 'RolloverRating2': 'Not Rated', 'RolloverPossibility': 0.0, 'RolloverPossibility2': 0.0, 'dynamicTipResult': ' ', 'SidePoleCrashRating': 'Not Rated', 'NHTSAElectronicStabilityControl': 'Standard', 'NHTSAForwardCollisionWarning': 'No', 'NHTSALaneDepartureWarning': 'No', 'ComplaintsCount': 8, 'RecallsCount': 3, 'InvestigationCount': 0, 'ModelYear': 2013, 'Make': 'NISSAN', 'Model': 'NV2500', 'VehicleDescription': '2013 Nissan NV2500 VAN RWD', 'VehicleId': 7666}]}\n",
      "{'Count': 1, 'Message': 'Results returned successfully', 'Results': [{'VehiclePicture': 'https://static.nhtsa.gov/images/vehicles/8697_st0640_046.png', 'OverallRating': 'Not Rated', 'OverallFrontCrashRating': 'Not Rated', 'FrontCrashDriversideRating': 'Not Rated', 'FrontCrashPassengersideRating': 'Not Rated', 'OverallSideCrashRating': 'Not Rated', 'SideCrashDriversideRating': 'Not Rated', 'SideCrashPassengersideRating': 'Not Rated', 'combinedSideBarrierAndPoleRating-Front': 'Not Rated', 'combinedSideBarrierAndPoleRating-Rear': 'Not Rated', 'sideBarrierRating-Overall': 'Not Rated', 'RolloverRating': '2', 'RolloverRating2': 'Not Rated', 'RolloverPossibility': 0.306, 'RolloverPossibility2': 0.0, 'dynamicTipResult': 'No Tip', 'SidePoleCrashRating': 'Not Rated', 'NHTSAElectronicStabilityControl': 'Standard', 'NHTSAForwardCollisionWarning': 'No', 'NHTSALaneDepartureWarning': 'No', 'ComplaintsCount': 7, 'RecallsCount': 3, 'InvestigationCount': 0, 'ModelYear': 2013, 'Make': 'NISSAN', 'Model': 'NV3500', 'VehicleDescription': '2013 Nissan NV3500 VAN RWD', 'VehicleId': 7667}]}\n",
      "{'Count': 1, 'Message': 'Results returned successfully', 'Results': [{'VehiclePicture': 'https://static.nhtsa.gov/images/vehicles/8697_st0640_046.png', 'OverallRating': 'Not Rated', 'OverallFrontCrashRating': 'Not Rated', 'FrontCrashDriversideRating': 'Not Rated', 'FrontCrashPassengersideRating': 'Not Rated', 'OverallSideCrashRating': 'Not Rated', 'SideCrashDriversideRating': 'Not Rated', 'SideCrashPassengersideRating': 'Not Rated', 'combinedSideBarrierAndPoleRating-Front': 'Not Rated', 'combinedSideBarrierAndPoleRating-Rear': 'Not Rated', 'sideBarrierRating-Overall': 'Not Rated', 'RolloverRating': '2', 'RolloverRating2': 'Not Rated', 'RolloverPossibility': 0.306, 'RolloverPossibility2': 0.0, 'dynamicTipResult': 'No Tip', 'SidePoleCrashRating': 'Not Rated', 'NHTSAElectronicStabilityControl': 'Standard', 'NHTSAForwardCollisionWarning': 'No', 'NHTSALaneDepartureWarning': 'No', 'ComplaintsCount': 7, 'RecallsCount': 3, 'InvestigationCount': 0, 'ModelYear': 2013, 'Make': 'NISSAN', 'Model': 'NV3500', 'VehicleDescription': '2013 Nissan NV3500 Passenger Van RWD', 'VehicleId': 7565}]}\n",
      "{'Count': 1, 'Message': 'Results returned successfully', 'Results': [{'VehiclePicture': 'https://static.nhtsa.gov/images/vehicles/8619_st0640_046.png', 'OverallRating': '4', 'OverallFrontCrashRating': '4', 'FrontCrashDriversideRating': '5', 'FrontCrashPassengersideRating': '3', 'OverallSideCrashRating': '5', 'SideCrashDriversideRating': '5', 'SideCrashPassengersideRating': '5', 'combinedSideBarrierAndPoleRating-Front': '5', 'combinedSideBarrierAndPoleRating-Rear': '5', 'sideBarrierRating-Overall': '5', 'RolloverRating': '4', 'RolloverRating2': 'Not Rated', 'RolloverPossibility': 0.169, 'RolloverPossibility2': 0.0, 'dynamicTipResult': 'No Tip', 'SidePoleCrashRating': '5', 'NHTSAElectronicStabilityControl': 'Standard', 'NHTSAForwardCollisionWarning': 'No', 'NHTSALaneDepartureWarning': 'No', 'ComplaintsCount': 846, 'RecallsCount': 11, 'InvestigationCount': 4, 'ModelYear': 2013, 'Make': 'NISSAN', 'Model': 'PATHFINDER', 'VehicleDescription': '2013 Nissan Pathfinder SUV AWD', 'VehicleId': 7698}]}\n",
      "{'Count': 1, 'Message': 'Results returned successfully', 'Results': [{'VehiclePicture': 'https://static.nhtsa.gov/images/vehicles/8619_st0640_046.png', 'OverallRating': '4', 'OverallFrontCrashRating': '4', 'FrontCrashDriversideRating': '5', 'FrontCrashPassengersideRating': '3', 'OverallSideCrashRating': '5', 'SideCrashDriversideRating': '5', 'SideCrashPassengersideRating': '5', 'combinedSideBarrierAndPoleRating-Front': '5', 'combinedSideBarrierAndPoleRating-Rear': '5', 'sideBarrierRating-Overall': '5', 'RolloverRating': '4', 'RolloverRating2': 'Not Rated', 'RolloverPossibility': 0.191, 'RolloverPossibility2': 0.0, 'dynamicTipResult': 'No Tip', 'SidePoleCrashRating': '5', 'NHTSAElectronicStabilityControl': 'Standard', 'NHTSAForwardCollisionWarning': 'No', 'NHTSALaneDepartureWarning': 'No', 'ComplaintsCount': 846, 'RecallsCount': 11, 'InvestigationCount': 4, 'ModelYear': 2013, 'Make': 'NISSAN', 'Model': 'PATHFINDER', 'VehicleDescription': '2013 Nissan Pathfinder SUV FWD', 'VehicleId': 7566}]}\n",
      "{'Count': 1, 'Message': 'Results returned successfully', 'Results': [{'VehiclePicture': 'https://static.nhtsa.gov/images/vehicles/8760_st0640_046.png', 'OverallRating': 'Not Rated', 'OverallFrontCrashRating': 'Not Rated', 'FrontCrashDriversideRating': 'Not Rated', 'FrontCrashPassengersideRating': 'Not Rated', 'OverallSideCrashRating': 'Not Rated', 'SideCrashDriversideRating': 'Not Rated', 'SideCrashPassengersideRating': 'Not Rated', 'combinedSideBarrierAndPoleRating-Front': 'Not Rated', 'combinedSideBarrierAndPoleRating-Rear': 'Not Rated', 'sideBarrierRating-Overall': 'Not Rated', 'RolloverRating': 'Not Rated', 'RolloverRating2': 'Not Rated', 'RolloverPossibility': 0.0, 'RolloverPossibility2': 0.0, 'dynamicTipResult': ' ', 'SidePoleCrashRating': 'Not Rated', 'NHTSAElectronicStabilityControl': 'Standard', 'NHTSAForwardCollisionWarning': 'No', 'NHTSALaneDepartureWarning': 'No', 'ComplaintsCount': 18, 'RecallsCount': 0, 'InvestigationCount': 0, 'ModelYear': 2013, 'Make': 'NISSAN', 'Model': 'QUEST', 'VehicleDescription': '2013 Nissan Quest VAN FWD', 'VehicleId': 7567}]}\n",
      "{'Count': 1, 'Message': 'Results returned successfully', 'Results': [{'VehiclePicture': 'https://static.nhtsa.gov/images/vehicles/8257_st0640_046.png', 'OverallRating': '4', 'OverallFrontCrashRating': '4', 'FrontCrashDriversideRating': '4', 'FrontCrashPassengersideRating': '3', 'FrontCrashPicture': 'https://static.nhtsa.gov/crashTest/images/2013/v07112P024.jpg', 'FrontCrashVideo': 'https://static.nhtsa.gov/crashTest/videos/2013/v07112C016.wmv', 'OverallSideCrashRating': '5', 'SideCrashDriversideRating': '5', 'SideCrashPassengersideRating': '5', 'SideCrashPicture': 'https://static.nhtsa.gov/crashTest/images/2013/v07110P010.jpg', 'SideCrashVideo': 'https://static.nhtsa.gov/crashTest/videos/2013/v07110C012.wmv', 'combinedSideBarrierAndPoleRating-Front': '5', 'combinedSideBarrierAndPoleRating-Rear': '5', 'sideBarrierRating-Overall': '5', 'RolloverRating': '4', 'RolloverRating2': 'Not Rated', 'RolloverPossibility': 0.179, 'RolloverPossibility2': 0.0, 'dynamicTipResult': 'No Tip', 'SidePoleCrashRating': '5', 'SidePolePicture': 'https://static.nhtsa.gov/crashTest/images/2013/v07109P039.jpg', 'SidePoleVideo': 'https://static.nhtsa.gov/crashTest/videos/2013/v07109C010.wmv', 'NHTSAElectronicStabilityControl': 'Standard', 'NHTSAForwardCollisionWarning': 'No', 'NHTSALaneDepartureWarning': 'No', 'ComplaintsCount': 585, 'RecallsCount': 1, 'InvestigationCount': 1, 'ModelYear': 2013, 'Make': 'NISSAN', 'Model': 'ROGUE', 'VehicleDescription': '2013 Nissan Rogue SUV AWD', 'VehicleId': 7290}]}\n",
      "{'Count': 1, 'Message': 'Results returned successfully', 'Results': [{'VehiclePicture': 'https://static.nhtsa.gov/images/vehicles/8257_st0640_046.png', 'OverallRating': '4', 'OverallFrontCrashRating': '4', 'FrontCrashDriversideRating': '4', 'FrontCrashPassengersideRating': '3', 'FrontCrashPicture': 'https://static.nhtsa.gov/crashTest/images/2013/v07112P024.jpg', 'FrontCrashVideo': 'https://static.nhtsa.gov/crashTest/videos/2013/v07112C016.wmv', 'OverallSideCrashRating': '5', 'SideCrashDriversideRating': '5', 'SideCrashPassengersideRating': '5', 'SideCrashPicture': 'https://static.nhtsa.gov/crashTest/images/2013/v07110P010.jpg', 'SideCrashVideo': 'https://static.nhtsa.gov/crashTest/videos/2013/v07110C012.wmv', 'combinedSideBarrierAndPoleRating-Front': '5', 'combinedSideBarrierAndPoleRating-Rear': '5', 'sideBarrierRating-Overall': '5', 'RolloverRating': '4', 'RolloverRating2': 'Not Rated', 'RolloverPossibility': 0.198, 'RolloverPossibility2': 0.0, 'dynamicTipResult': 'No Tip', 'SidePoleCrashRating': '5', 'SidePolePicture': 'https://static.nhtsa.gov/crashTest/images/2013/v07109P039.jpg', 'SidePoleVideo': 'https://static.nhtsa.gov/crashTest/videos/2013/v07109C010.wmv', 'NHTSAElectronicStabilityControl': 'Standard', 'NHTSAForwardCollisionWarning': 'No', 'NHTSALaneDepartureWarning': 'No', 'ComplaintsCount': 585, 'RecallsCount': 1, 'InvestigationCount': 1, 'ModelYear': 2013, 'Make': 'NISSAN', 'Model': 'ROGUE', 'VehicleDescription': '2013 Nissan Rogue SUV FWD', 'VehicleId': 7289}]}\n",
      "{'Count': 1, 'Message': 'Results returned successfully', 'Results': [{'VehiclePicture': 'https://static.nhtsa.gov/images/vehicles/8582_st0640_046.png', 'OverallRating': '4', 'OverallFrontCrashRating': '4', 'FrontCrashDriversideRating': '4', 'FrontCrashPassengersideRating': '3', 'FrontCrashPicture': 'https://static.nhtsa.gov/crashTest/images/2013/v08068P082.jpg', 'FrontCrashVideo': 'https://static.nhtsa.gov/crashTest/videos/2013/v08068C021.wmv', 'OverallSideCrashRating': '5', 'SideCrashDriversideRating': '5', 'SideCrashPassengersideRating': '5', 'SideCrashPicture': 'https://static.nhtsa.gov/crashTest/images/2013/v08072P106.jpg', 'SideCrashVideo': 'https://static.nhtsa.gov/crashTest/videos/2013/v08072C013.wmv', 'combinedSideBarrierAndPoleRating-Front': '5', 'combinedSideBarrierAndPoleRating-Rear': '5', 'sideBarrierRating-Overall': '5', 'RolloverRating': '4', 'RolloverRating2': 'Not Rated', 'RolloverPossibility': 0.121, 'RolloverPossibility2': 0.0, 'dynamicTipResult': 'No Tip', 'SidePoleCrashRating': '5', 'SidePolePicture': 'https://static.nhtsa.gov/crashTest/images/2013/v08093P072.jpg', 'SidePoleVideo': 'https://static.nhtsa.gov/crashTest/videos/2013/v08093C014.wmv', 'NHTSAElectronicStabilityControl': 'Standard', 'NHTSAForwardCollisionWarning': 'No', 'NHTSALaneDepartureWarning': 'No', 'ComplaintsCount': 621, 'RecallsCount': 6, 'InvestigationCount': 3, 'ModelYear': 2013, 'Make': 'NISSAN', 'Model': 'SENTRA', 'VehicleDescription': '2013 Nissan Sentra 4 DR FWD', 'VehicleId': 7568}]}\n",
      "{'Count': 1, 'Message': 'Results returned successfully', 'Results': [{'VehiclePicture': 'https://static.nhtsa.gov/images/vehicles/8762_st0640_046.png', 'OverallRating': 'Not Rated', 'OverallFrontCrashRating': 'Not Rated', 'FrontCrashDriversideRating': 'Not Rated', 'FrontCrashPassengersideRating': 'Not Rated', 'OverallSideCrashRating': 'Not Rated', 'SideCrashDriversideRating': 'Not Rated', 'SideCrashPassengersideRating': 'Not Rated', 'combinedSideBarrierAndPoleRating-Front': 'Not Rated', 'combinedSideBarrierAndPoleRating-Rear': 'Not Rated', 'sideBarrierRating-Overall': 'Not Rated', 'RolloverRating': '3', 'RolloverRating2': 'Not Rated', 'RolloverPossibility': 0.212, 'RolloverPossibility2': 0.0, 'dynamicTipResult': 'No Tip', 'SidePoleCrashRating': 'Not Rated', 'NHTSAElectronicStabilityControl': 'Standard', 'NHTSAForwardCollisionWarning': 'No', 'NHTSALaneDepartureWarning': 'No', 'ComplaintsCount': 11, 'RecallsCount': 3, 'InvestigationCount': 0, 'ModelYear': 2013, 'Make': 'NISSAN', 'Model': 'TITAN', 'VehicleDescription': '2013 Nissan Titan Crew Cab PU/CC 4WD', 'VehicleId': 7276}]}\n",
      "{'Count': 1, 'Message': 'Results returned successfully', 'Results': [{'VehiclePicture': 'https://static.nhtsa.gov/images/vehicles/8762_st0640_046.png', 'OverallRating': 'Not Rated', 'OverallFrontCrashRating': 'Not Rated', 'FrontCrashDriversideRating': 'Not Rated', 'FrontCrashPassengersideRating': 'Not Rated', 'OverallSideCrashRating': 'Not Rated', 'SideCrashDriversideRating': 'Not Rated', 'SideCrashPassengersideRating': 'Not Rated', 'combinedSideBarrierAndPoleRating-Front': 'Not Rated', 'combinedSideBarrierAndPoleRating-Rear': 'Not Rated', 'sideBarrierRating-Overall': 'Not Rated', 'RolloverRating': '4', 'RolloverRating2': 'Not Rated', 'RolloverPossibility': 0.191, 'RolloverPossibility2': 0.0, 'dynamicTipResult': 'No Tip', 'SidePoleCrashRating': 'Not Rated', 'NHTSAElectronicStabilityControl': 'Standard', 'NHTSAForwardCollisionWarning': 'No', 'NHTSALaneDepartureWarning': 'No', 'ComplaintsCount': 11, 'RecallsCount': 3, 'InvestigationCount': 0, 'ModelYear': 2013, 'Make': 'NISSAN', 'Model': 'TITAN', 'VehicleDescription': '2013 Nissan Titan Crew Cab PU/CC RWD', 'VehicleId': 7275}]}\n",
      "{'Count': 1, 'Message': 'Results returned successfully', 'Results': [{'VehiclePicture': 'https://static.nhtsa.gov/images/vehicles/8756_st0640_046.png', 'OverallRating': 'Not Rated', 'OverallFrontCrashRating': 'Not Rated', 'FrontCrashDriversideRating': 'Not Rated', 'FrontCrashPassengersideRating': 'Not Rated', 'OverallSideCrashRating': 'Not Rated', 'SideCrashDriversideRating': 'Not Rated', 'SideCrashPassengersideRating': 'Not Rated', 'combinedSideBarrierAndPoleRating-Front': 'Not Rated', 'combinedSideBarrierAndPoleRating-Rear': 'Not Rated', 'sideBarrierRating-Overall': 'Not Rated', 'RolloverRating': '4', 'RolloverRating2': 'Not Rated', 'RolloverPossibility': 0.191, 'RolloverPossibility2': 0.0, 'dynamicTipResult': 'No Tip', 'SidePoleCrashRating': 'Not Rated', 'NHTSAElectronicStabilityControl': 'Standard', 'NHTSAForwardCollisionWarning': 'No', 'NHTSALaneDepartureWarning': 'No', 'ComplaintsCount': 11, 'RecallsCount': 3, 'InvestigationCount': 0, 'ModelYear': 2013, 'Make': 'NISSAN', 'Model': 'TITAN', 'VehicleDescription': '2013 Nissan Titan King Cab PU/EC RWD', 'VehicleId': 7274}]}\n",
      "{'Count': 1, 'Message': 'Results returned successfully', 'Results': [{'VehiclePicture': 'https://static.nhtsa.gov/images/vehicles/8756_st0640_046.png', 'OverallRating': 'Not Rated', 'OverallFrontCrashRating': 'Not Rated', 'FrontCrashDriversideRating': 'Not Rated', 'FrontCrashPassengersideRating': 'Not Rated', 'OverallSideCrashRating': 'Not Rated', 'SideCrashDriversideRating': 'Not Rated', 'SideCrashPassengersideRating': 'Not Rated', 'combinedSideBarrierAndPoleRating-Front': 'Not Rated', 'combinedSideBarrierAndPoleRating-Rear': 'Not Rated', 'sideBarrierRating-Overall': 'Not Rated', 'RolloverRating': '3', 'RolloverRating2': 'Not Rated', 'RolloverPossibility': 0.212, 'RolloverPossibility2': 0.0, 'dynamicTipResult': 'No Tip', 'SidePoleCrashRating': 'Not Rated', 'NHTSAElectronicStabilityControl': 'Standard', 'NHTSAForwardCollisionWarning': 'No', 'NHTSALaneDepartureWarning': 'No', 'ComplaintsCount': 11, 'RecallsCount': 3, 'InvestigationCount': 0, 'ModelYear': 2013, 'Make': 'NISSAN', 'Model': 'TITAN', 'VehicleDescription': '2013 Nissan Titan King Cab PU/EC 4WD', 'VehicleId': 7273}]}\n",
      "{'Count': 1, 'Message': 'Results returned successfully', 'Results': [{'VehiclePicture': 'https://static.nhtsa.gov/images/vehicles/8480_st0640_046.png', 'OverallRating': '4', 'OverallFrontCrashRating': '3', 'FrontCrashDriversideRating': '4', 'FrontCrashPassengersideRating': '3', 'FrontCrashPicture': 'https://static.nhtsa.gov/crashTest/images/2013/v07609P001.jpg', 'FrontCrashVideo': 'https://static.nhtsa.gov/crashTest/videos/2013/v07609C001.wmv', 'OverallSideCrashRating': '4', 'SideCrashDriversideRating': '3', 'SideCrashPassengersideRating': '4', 'SideCrashPicture': 'https://static.nhtsa.gov/crashTest/images/2013/v07636P103.jpg', 'SideCrashVideo': 'https://static.nhtsa.gov/crashTest/videos/2013/v07636C001.wmv', 'combinedSideBarrierAndPoleRating-Front': '4', 'combinedSideBarrierAndPoleRating-Rear': '4', 'sideBarrierRating-Overall': '3', 'RolloverRating': '4', 'RolloverRating2': 'Not Rated', 'RolloverPossibility': 0.147, 'RolloverPossibility2': 0.0, 'dynamicTipResult': 'No Tip', 'SidePoleCrashRating': '5', 'SidePolePicture': 'https://static.nhtsa.gov/crashTest/images/2013/v07634P070.jpg', 'SidePoleVideo': 'https://static.nhtsa.gov/crashTest/videos/2013/v07634C001.wmv', 'NHTSAElectronicStabilityControl': 'Standard', 'NHTSAForwardCollisionWarning': 'No', 'NHTSALaneDepartureWarning': 'No', 'ComplaintsCount': 197, 'RecallsCount': 1, 'InvestigationCount': 4, 'ModelYear': 2013, 'Make': 'NISSAN', 'Model': 'VERSA', 'VehicleDescription': '2013 Nissan Versa 4 DR FWD', 'VehicleId': 7284}]}\n",
      "{'Count': 1, 'Message': 'Results returned successfully', 'Results': [{'VehiclePicture': 'https://static.nhtsa.gov/images/vehicles/8845_st0640_046.png', 'OverallRating': 'Not Rated', 'OverallFrontCrashRating': 'Not Rated', 'FrontCrashDriversideRating': 'Not Rated', 'FrontCrashPassengersideRating': 'Not Rated', 'OverallSideCrashRating': 'Not Rated', 'SideCrashDriversideRating': 'Not Rated', 'SideCrashPassengersideRating': 'Not Rated', 'combinedSideBarrierAndPoleRating-Front': 'Not Rated', 'combinedSideBarrierAndPoleRating-Rear': 'Not Rated', 'sideBarrierRating-Overall': 'Not Rated', 'RolloverRating': '3', 'RolloverRating2': 'Not Rated', 'RolloverPossibility': 0.246, 'RolloverPossibility2': 0.0, 'dynamicTipResult': 'No Tip', 'SidePoleCrashRating': 'Not Rated', 'NHTSAElectronicStabilityControl': 'Standard', 'NHTSAForwardCollisionWarning': 'No', 'NHTSALaneDepartureWarning': 'No', 'ComplaintsCount': 4, 'RecallsCount': 0, 'InvestigationCount': 0, 'ModelYear': 2013, 'Make': 'NISSAN', 'Model': 'XTERRA', 'VehicleDescription': '2013 Nissan Xterra SUV RWD', 'VehicleId': 7268}]}\n",
      "{'Count': 1, 'Message': 'Results returned successfully', 'Results': [{'VehiclePicture': 'https://static.nhtsa.gov/images/vehicles/8845_st0640_046.png', 'OverallRating': 'Not Rated', 'OverallFrontCrashRating': 'Not Rated', 'FrontCrashDriversideRating': 'Not Rated', 'FrontCrashPassengersideRating': 'Not Rated', 'OverallSideCrashRating': 'Not Rated', 'SideCrashDriversideRating': 'Not Rated', 'SideCrashPassengersideRating': 'Not Rated', 'combinedSideBarrierAndPoleRating-Front': 'Not Rated', 'combinedSideBarrierAndPoleRating-Rear': 'Not Rated', 'sideBarrierRating-Overall': 'Not Rated', 'RolloverRating': '3', 'RolloverRating2': 'Not Rated', 'RolloverPossibility': 0.256, 'RolloverPossibility2': 0.0, 'dynamicTipResult': 'No Tip', 'SidePoleCrashRating': 'Not Rated', 'NHTSAElectronicStabilityControl': 'Standard', 'NHTSAForwardCollisionWarning': 'No', 'NHTSALaneDepartureWarning': 'No', 'ComplaintsCount': 4, 'RecallsCount': 0, 'InvestigationCount': 0, 'ModelYear': 2013, 'Make': 'NISSAN', 'Model': 'XTERRA', 'VehicleDescription': '2013 Nissan Xterra SUV 4WD', 'VehicleId': 7267}]}\n"
     ]
    }
   ],
   "source": [
    "##funcion mas grande que itera por los años\n",
    "# funcion conseguir modelos_ids\n",
    "modelos = [diccio[\"Model\"] for diccio in response3.json()[\"Results\"]]\n",
    "modelos_ids = list()\n",
    "for modelo in modelos:\n",
    "    url3= f\"https://api.nhtsa.gov/SafetyRatings/modelyear/2013/make/nissan/model/{modelo}\"\n",
    "    response= requests.get(url3)\n",
    "    modelos_ids.extend([diccio[\"VehicleId\"] for diccio in response.json()[\"Results\"]])\n",
    "print(modelos_ids)\n",
    "\n",
    "# funcion conseguir ratings con input modelos_ids\n",
    "for modelo_id in modelos_ids:\n",
    "    url2= f\"https://api.nhtsa.gov/SafetyRatings/VehicleId/{modelo_id}\"\n",
    "    response= requests.get(url2)\n",
    "    print(response.json())\n",
    "    # por cada id tengo un response, con o sin ratings, almacenar rting, si no, NaN\n",
    "    # construir df\n",
    "    # añadir columna año"
   ]
  },
  {
   "cell_type": "code",
   "execution_count": 163,
   "metadata": {},
   "outputs": [
    {
     "ename": "NameError",
     "evalue": "name 'np' is not defined",
     "output_type": "error",
     "traceback": [
      "\u001b[1;31m---------------------------------------------------------------------------\u001b[0m",
      "\u001b[1;31mNameError\u001b[0m                                 Traceback (most recent call last)",
      "Cell \u001b[1;32mIn[163], line 58\u001b[0m\n\u001b[0;32m     56\u001b[0m \u001b[38;5;66;03m# Ejemplo de uso\u001b[39;00m\n\u001b[0;32m     57\u001b[0m años \u001b[38;5;241m=\u001b[39m \u001b[38;5;28mrange\u001b[39m(\u001b[38;5;241m2013\u001b[39m, \u001b[38;5;241m2016\u001b[39m)  \u001b[38;5;66;03m# Puedes cambiar el rango de años según lo necesites\u001b[39;00m\n\u001b[1;32m---> 58\u001b[0m df_ratings \u001b[38;5;241m=\u001b[39m \u001b[43mconstruir_dataframe\u001b[49m\u001b[43m(\u001b[49m\u001b[43maños\u001b[49m\u001b[43m)\u001b[49m\n\u001b[0;32m     59\u001b[0m \u001b[38;5;28mprint\u001b[39m(df_ratings)\n",
      "Cell \u001b[1;32mIn[163], line 46\u001b[0m, in \u001b[0;36mconstruir_dataframe\u001b[1;34m(años, make)\u001b[0m\n\u001b[0;32m     44\u001b[0m \u001b[38;5;28;01mfor\u001b[39;00m año \u001b[38;5;129;01min\u001b[39;00m años:\n\u001b[0;32m     45\u001b[0m     modelos_ids \u001b[38;5;241m=\u001b[39m obtener_modelos_ids_por_año(año, make)\n\u001b[1;32m---> 46\u001b[0m     ratings \u001b[38;5;241m=\u001b[39m \u001b[43mobtener_ratings\u001b[49m\u001b[43m(\u001b[49m\u001b[43mmodelos_ids\u001b[49m\u001b[43m)\u001b[49m\n\u001b[0;32m     48\u001b[0m     \u001b[38;5;66;03m# Agregar cada rating al DataFrame con el año correspondiente\u001b[39;00m\n\u001b[0;32m     49\u001b[0m     \u001b[38;5;28;01mfor\u001b[39;00m rating \u001b[38;5;129;01min\u001b[39;00m ratings:\n",
      "Cell \u001b[1;32mIn[163], line 30\u001b[0m, in \u001b[0;36mobtener_ratings\u001b[1;34m(modelos_ids)\u001b[0m\n\u001b[0;32m     27\u001b[0m rating_info \u001b[38;5;241m=\u001b[39m response\u001b[38;5;241m.\u001b[39mjson()\u001b[38;5;241m.\u001b[39mget(\u001b[38;5;124m\"\u001b[39m\u001b[38;5;124mResults\u001b[39m\u001b[38;5;124m\"\u001b[39m, [])\n\u001b[0;32m     29\u001b[0m \u001b[38;5;28;01mif\u001b[39;00m rating_info:\n\u001b[1;32m---> 30\u001b[0m     rating \u001b[38;5;241m=\u001b[39m rating_info[\u001b[38;5;241m0\u001b[39m]\u001b[38;5;241m.\u001b[39mget(\u001b[38;5;124m\"\u001b[39m\u001b[38;5;124mOverallRating\u001b[39m\u001b[38;5;124m\"\u001b[39m, \u001b[43mnp\u001b[49m\u001b[38;5;241m.\u001b[39mnan)  \u001b[38;5;66;03m# Obtener el rating o NaN si no está\u001b[39;00m\n\u001b[0;32m     31\u001b[0m \u001b[38;5;28;01melse\u001b[39;00m:\n\u001b[0;32m     32\u001b[0m     rating \u001b[38;5;241m=\u001b[39m np\u001b[38;5;241m.\u001b[39mnan\n",
      "\u001b[1;31mNameError\u001b[0m: name 'np' is not defined"
     ]
    }
   ],
   "source": [
    "\n",
    "\n",
    "def obtener_modelos_ids_por_año(año, make='nissan'):\n",
    "    \"\"\"\n",
    "    Función para obtener los IDs de vehículos de los modelos de una marca y un año específico.\n",
    "    \"\"\"\n",
    "    modelos_ids = []\n",
    "    url_modelos = f\"https://api.nhtsa.gov/SafetyRatings/modelyear/{año}/make/{make}\"\n",
    "    response_modelos = requests.get(url_modelos)\n",
    "    modelos = [modelo[\"Model\"] for modelo in response_modelos.json().get(\"Results\", [])]\n",
    "    \n",
    "    for modelo in modelos:\n",
    "        url_modelo_id = f\"https://api.nhtsa.gov/SafetyRatings/modelyear/{año}/make/{make}/model/{modelo}\"\n",
    "        response = requests.get(url_modelo_id)\n",
    "        ids = [vehiculo[\"VehicleId\"] for vehiculo in response.json().get(\"Results\", [])]\n",
    "        modelos_ids.extend(ids)\n",
    "    \n",
    "    return modelos_ids\n",
    "\n",
    "def obtener_ratings(modelos_ids):\n",
    "    \"\"\"\n",
    "    Función para obtener las calificaciones de seguridad de una lista de IDs de vehículos.\n",
    "    \"\"\"\n",
    "    ratings = []\n",
    "    \n",
    "    for modelo_id in modelos_ids:\n",
    "        url_rating = f\"https://api.nhtsa.gov/SafetyRatings/VehicleId/{modelo_id}\"\n",
    "        response = requests.get(url_rating)\n",
    "        rating_info = response.json().get(\"Results\", [])\n",
    "        \n",
    "        if rating_info:\n",
    "            rating = rating_info[0].get(\"OverallRating\", np.nan)  # Obtener el rating o NaN si no está\n",
    "        else:\n",
    "            rating = np.nan\n",
    "        \n",
    "        ratings.append({\"VehicleId\": modelo_id, \"Rating\": rating})\n",
    "    \n",
    "    return ratings\n",
    "\n",
    "def construir_dataframe(años, make='nissan'):\n",
    "    \"\"\"\n",
    "    Función principal para iterar por los años, obtener los modelos, sus IDs, los ratings y construir un DataFrame.\n",
    "    \"\"\"\n",
    "    data = []\n",
    "    \n",
    "    for año in años:\n",
    "        modelos_ids = obtener_modelos_ids_por_año(año, make)\n",
    "        ratings = obtener_ratings(modelos_ids)\n",
    "        \n",
    "        # Agregar cada rating al DataFrame con el año correspondiente\n",
    "        for rating in ratings:\n",
    "            rating[\"Año\"] = año\n",
    "            data.append(rating)\n",
    "    \n",
    "    df = pd.DataFrame(data)\n",
    "    return df\n",
    "\n",
    "# Ejemplo de uso\n",
    "años = range(2013, 2016)  # Puedes cambiar el rango de años según lo necesites\n",
    "df_ratings = construir_dataframe(años)\n",
    "print(df_ratings)\n"
   ]
  }
 ],
 "metadata": {
  "kernelspec": {
   "display_name": "Python 3",
   "language": "python",
   "name": "python3"
  },
  "language_info": {
   "codemirror_mode": {
    "name": "ipython",
    "version": 3
   },
   "file_extension": ".py",
   "mimetype": "text/x-python",
   "name": "python",
   "nbconvert_exporter": "python",
   "pygments_lexer": "ipython3",
   "version": "3.11.9"
  }
 },
 "nbformat": 4,
 "nbformat_minor": 2
}
