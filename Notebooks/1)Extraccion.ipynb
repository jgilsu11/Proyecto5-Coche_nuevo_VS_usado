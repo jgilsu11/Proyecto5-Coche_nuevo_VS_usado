{
 "cells": [
  {
   "cell_type": "code",
   "execution_count": 1,
   "metadata": {},
   "outputs": [],
   "source": [
    "import pandas as pd\n",
    "import selenium\n",
    "import webdriver_manager\n",
    "from datetime import datetime \n",
    "\n",
    "from selenium.webdriver.support.ui import WebDriverWait\n",
    "from selenium.webdriver.common.by import By\n",
    "from selenium.webdriver.support import expected_conditions as EC\n",
    "\n",
    "from selenium import webdriver  # Selenium es una herramienta para automatizar la interacción con navegadores web.\n",
    "from webdriver_manager.chrome import ChromeDriverManager  # ChromeDriverManager gestiona la instalación del controlador de Chrome.\n",
    "from selenium.webdriver.common.keys import Keys  # Keys es útil para simular eventos de teclado en Selenium.\n",
    "from selenium.webdriver.support.ui import Select  # Select se utiliza para interactuar con elementos <select> en páginas web.\n",
    "from selenium.webdriver.support import expected_conditions as EC \n",
    "from time import sleep\n",
    "import pandas as pd\n",
    "from selenium import webdriver\n",
    "\n",
    "from tqdm import tqdm\n",
    "import os\n",
    "from bs4 import BeautifulSoup\n",
    "import requests\n",
    "import re\n",
    "\n",
    "import zipfile\n",
    "import shutil\n",
    "\n",
    "import os\n",
    "\n",
    "\n",
    "import pandas as pd\n",
    "\n",
    "import matplotlib.pyplot as plt\n",
    "import seaborn as sns\n",
    "\n",
    "import re\n",
    "\n",
    "pd.set_option('display.max_columns', None) # para poder visualizar todas las columnas de los DataFrames\n",
    "\n",
    "import json\n",
    "# Ignorar warings\n",
    "import warnings\n",
    "warnings.filterwarnings(\"ignore\")\n",
    "\n",
    "import dotenv\n",
    "from dotenv import load_dotenv\n",
    "load_dotenv()\n",
    "\n",
    "import psycopg2\n",
    "from psycopg2 import sql\n",
    "pd.set_option('display.max_columns', None)\n",
    "\n",
    "import sys\n",
    "sys.path.append(\"../\")  "
   ]
  },
  {
   "cell_type": "code",
   "execution_count": null,
   "metadata": {},
   "outputs": [],
   "source": [
    "keywallapop= os.getenv(\"keywallapop\")"
   ]
  },
  {
   "cell_type": "markdown",
   "metadata": {},
   "source": [
    "Cuidado, de wallapop solo hay 20 llamadas mensuales"
   ]
  },
  {
   "cell_type": "code",
   "execution_count": null,
   "metadata": {},
   "outputs": [],
   "source": [
    "\n",
    "url = \"https://wallapop3.p.rapidapi.com/search\"\n",
    "\n",
    "querystring = {\"query\":\"nissan\",\"minPrice\":\"2000\",\"sort\":\"mostRecent\"}\n",
    "\n",
    "headers = {\n",
    "\t\"x-rapidapi-key\": keywallapop,\n",
    "\t\"x-rapidapi-host\": \"wallapop3.p.rapidapi.com\"\n",
    "}\n",
    "\n",
    "response = requests.get(url, headers=headers, params=querystring)\n",
    "\n",
    "resposa=response.json()"
   ]
  },
  {
   "cell_type": "markdown",
   "metadata": {},
   "source": [
    "SOLO NOS INTESESA:  \n",
    "- id (pasaré a numérico)  \n",
    "- user_id  \n",
    "- title  \n",
    "- description  \n",
    "- category_id (lo quiero para filtrar por 100(codigo correspondiente a coches)para que no me coja otros códigos que son de carroceria etc)  \n",
    "- price (que está en euros)  \n",
    "- location (por si las moscas)  \n",
    "- capacidad de traslado (no creo que me lo quede)  \n",
    "- refurbished(igual la mantengo pero los true los paso a 1 y los false a 0 porque en sql existe el bit)"
   ]
  },
  {
   "cell_type": "code",
   "execution_count": null,
   "metadata": {},
   "outputs": [],
   "source": [
    "# with open(\"../src\", \"w\") as json_file:\n",
    "#     json.dump(resposa, json_file, indent=4)"
   ]
  },
  {
   "cell_type": "code",
   "execution_count": null,
   "metadata": {},
   "outputs": [],
   "source": [
    "len (resposa)"
   ]
  },
  {
   "cell_type": "code",
   "execution_count": null,
   "metadata": {},
   "outputs": [],
   "source": [
    "lista=[]\n",
    "df_final=pd.DataFrame()\n",
    "for i in range(0,40):\n",
    "    id_wallapop=resposa[i][\"id\"]\n",
    "    id_user=resposa[i][\"user_id\"]\n",
    "    version=resposa[i][\"title\"]\n",
    "    descripcion=resposa[i][\"description\"]\n",
    "    id_categoria=resposa[i][\"category_id\"]\n",
    "    precio=resposa[i][\"price\"][\"amount\"]\n",
    "    latitud=resposa[i][\"location\"][\"latitude\"]\n",
    "    longitud=resposa[i][\"location\"][\"longitude\"]\n",
    "    ciudad=resposa[i][\"location\"][\"city\"]\n",
    "    provincia=resposa[i][\"location\"][\"region2\"]\n",
    "    envio_disponible=resposa[i][\"shipping\"][\"item_is_shippable\"]\n",
    "    reparado=resposa[i][\"is_refurbished\"][\"flag\"]\n",
    "\n",
    "    lista.append([id_wallapop,id_user,title,descripcion,id_category,precio,latitud, longitud,ciudad,provincia,envio_disponible,reparado] )\n",
    "    df=pd.DataFrame(lista)\n",
    "    df_final= pd.concat([df_final,df])"
   ]
  },
  {
   "cell_type": "code",
   "execution_count": null,
   "metadata": {},
   "outputs": [],
   "source": [
    "\n",
    "dicc_encabezados={0:\"id_wallapop\",\n",
    "                  1: \"id_user\",\n",
    "                  2: \"version\",\n",
    "                  3: \"descripcion\",\n",
    "                  4: \"id_categoria\",\n",
    "                  5: \"precio\",\n",
    "                  6: \"latitud\",\n",
    "                  7: \"longitud\",\n",
    "                  8: \"ciudad\",\n",
    "                  9: \"provincia\",\n",
    "                  10: \"envio_disponible\",\n",
    "                  11: \"reparado\"}\n",
    "df_final.columns= df_final.columns.map(dicc_encabezados)"
   ]
  },
  {
   "cell_type": "code",
   "execution_count": null,
   "metadata": {},
   "outputs": [],
   "source": [
    "df_final.sample(3)"
   ]
  },
  {
   "cell_type": "code",
   "execution_count": null,
   "metadata": {},
   "outputs": [],
   "source": [
    "df_final.shape"
   ]
  },
  {
   "cell_type": "markdown",
   "metadata": {},
   "source": [
    "ESTA LISTO PARA LA LIMPIEZA LO DE WALLAPOP"
   ]
  },
  {
   "cell_type": "markdown",
   "metadata": {},
   "source": [
    "**Tratamiento de duplicados y nulos Wallapop**  \n",
    "*NULOS*  \n",
    "\n",
    "No hay nulos\n",
    "\n",
    "*DUPLICADOS*  \n",
    "\n",
    "Me he fijado que tiene muchos duplicados y que por alguna razon en la extraccion se han repetido con lo que sería necesario eliminarlos (o los users han subido el mismo anuncio muchas veces cosa que dudo porque wallapop no deja)\n",
    "\n",
    "*DATOS INNECESARIOS*  \n",
    "\n",
    "Eliminamos las columnas que no nos interesan y que aportan más problemas que información   \n",
    "\n",
    "He intentado quedarme con el nombre de la version en una nueva columna pero hay demasiados anuncios que no ponen el nombre de la version entonces no me valía.\n",
    "\n",
    "\n",
    "*Importante a tener en cuenta*  \n",
    "\n",
    "Al final me quedo solo con la provincia de Madrid porque el resto del proyecto lo estoy haciendo en base a Madrid provincia\n"
   ]
  },
  {
   "cell_type": "markdown",
   "metadata": {},
   "source": [
    "SOLO NOS INTESESA:  \n",
    "- id (pasaré a numérico)  \n",
    "- user_id  \n",
    "- title  \n",
    "- description  \n",
    "- category_id (lo quiero para filtrar por 100(codigo correspondiente a coches)para que no me coja otros códigos que son de carroceria etc)  \n",
    "- price (que está en euros)  \n",
    "- location (por si las moscas)  \n",
    "- capacidad de traslado (no creo que me lo quede)  \n",
    "- refurbished(igual la mantengo pero los true los paso a 1 y los false a 0 porque en sql existe el bit pero no tiene valores true)"
   ]
  },
  {
   "cell_type": "code",
   "execution_count": null,
   "metadata": {},
   "outputs": [],
   "source": [
    "df_final.duplicated().sum()"
   ]
  },
  {
   "cell_type": "code",
   "execution_count": null,
   "metadata": {},
   "outputs": [],
   "source": [
    "df_final.drop_duplicates(inplace=True)"
   ]
  },
  {
   "cell_type": "markdown",
   "metadata": {},
   "source": [
    "Ahora que ya he comprobado que solo hay categoría coche, la elimino"
   ]
  },
  {
   "cell_type": "code",
   "execution_count": null,
   "metadata": {},
   "outputs": [],
   "source": [
    "df_final[\"id_categoria\"].unique()"
   ]
  },
  {
   "cell_type": "code",
   "execution_count": null,
   "metadata": {},
   "outputs": [],
   "source": [
    "df_final[\"version\"].unique()"
   ]
  },
  {
   "cell_type": "code",
   "execution_count": null,
   "metadata": {},
   "outputs": [],
   "source": [
    "df_final[\"envio_disponible\"].unique()"
   ]
  },
  {
   "cell_type": "code",
   "execution_count": null,
   "metadata": {},
   "outputs": [],
   "source": [
    "df_final[\"reparado\"].unique()"
   ]
  },
  {
   "cell_type": "code",
   "execution_count": null,
   "metadata": {},
   "outputs": [],
   "source": [
    "df_final=df_final.drop(columns= [\"id_wallapop\",\"id_user\",\"id_categoria\", \"version\", \"envio_disponible\", \"reparado\"])"
   ]
  },
  {
   "cell_type": "code",
   "execution_count": null,
   "metadata": {},
   "outputs": [],
   "source": [
    "df_final.info()"
   ]
  },
  {
   "cell_type": "code",
   "execution_count": null,
   "metadata": {},
   "outputs": [],
   "source": [
    "df_final.sample(3)"
   ]
  },
  {
   "cell_type": "code",
   "execution_count": null,
   "metadata": {},
   "outputs": [],
   "source": [
    "df_final=df_final[df_final[\"provincia\"]==\"Madrid\"]\n",
    "df_final.reset_index(drop=True, inplace=True)"
   ]
  },
  {
   "cell_type": "markdown",
   "metadata": {},
   "source": [
    "Añado un id"
   ]
  },
  {
   "cell_type": "code",
   "execution_count": null,
   "metadata": {},
   "outputs": [],
   "source": [
    "df_final.index=df_final.index+1\n",
    "df_final.reset_index(inplace= True)"
   ]
  },
  {
   "cell_type": "code",
   "execution_count": null,
   "metadata": {},
   "outputs": [],
   "source": [
    "\n",
    "dicc_encabezados0={\"index\":\"id_wallapop\",\n",
    "                  \"descripcion\": \"descripcion\",\n",
    "                  \"precio\": \"precio\",\n",
    "                  \"latitud\": \"latitud\",\n",
    "                  \"longitud\": \"longitud\",\n",
    "                  \"ciudad\": \"ciudad\",\n",
    "                  \"provincia\": \"provincia\"}\n",
    "\n",
    "df_final.columns=df_final.columns.map(dicc_encabezados0)"
   ]
  },
  {
   "cell_type": "code",
   "execution_count": null,
   "metadata": {},
   "outputs": [],
   "source": [
    "df_final.to_csv(\"../datos/datos_wallapop.csv\")\n",
    "df_wallapop=pd.read_csv(\"../datos/datos_wallapop.csv\", index_col= \"Unnamed: 0\" )"
   ]
  },
  {
   "cell_type": "code",
   "execution_count": 10,
   "metadata": {},
   "outputs": [
    {
     "data": {
      "text/html": [
       "<div>\n",
       "<style scoped>\n",
       "    .dataframe tbody tr th:only-of-type {\n",
       "        vertical-align: middle;\n",
       "    }\n",
       "\n",
       "    .dataframe tbody tr th {\n",
       "        vertical-align: top;\n",
       "    }\n",
       "\n",
       "    .dataframe thead th {\n",
       "        text-align: right;\n",
       "    }\n",
       "</style>\n",
       "<table border=\"1\" class=\"dataframe\">\n",
       "  <thead>\n",
       "    <tr style=\"text-align: right;\">\n",
       "      <th></th>\n",
       "      <th>id_wallapop</th>\n",
       "      <th>descripcion</th>\n",
       "      <th>precio</th>\n",
       "      <th>latitud</th>\n",
       "      <th>longitud</th>\n",
       "      <th>ciudad</th>\n",
       "      <th>provincia</th>\n",
       "    </tr>\n",
       "  </thead>\n",
       "  <tbody>\n",
       "    <tr>\n",
       "      <th>0</th>\n",
       "      <td>1</td>\n",
       "      <td>nisan almera tino del 2004 ba por cadena le ve...</td>\n",
       "      <td>2200</td>\n",
       "      <td>40.301646</td>\n",
       "      <td>-3.441828</td>\n",
       "      <td>Arganda del Rey</td>\n",
       "      <td>Madrid</td>\n",
       "    </tr>\n",
       "    <tr>\n",
       "      <th>1</th>\n",
       "      <td>2</td>\n",
       "      <td>vendo mi coche en perfecto estado de motor y d...</td>\n",
       "      <td>6500</td>\n",
       "      <td>40.620256</td>\n",
       "      <td>-3.910636</td>\n",
       "      <td>Hoyo de Manzanares</td>\n",
       "      <td>Madrid</td>\n",
       "    </tr>\n",
       "    <tr>\n",
       "      <th>2</th>\n",
       "      <td>3</td>\n",
       "      <td>coche usado por mi mujer para ir a trabajar.\\n...</td>\n",
       "      <td>11500</td>\n",
       "      <td>40.494190</td>\n",
       "      <td>-3.961537</td>\n",
       "      <td>Villanueva del Pardillo</td>\n",
       "      <td>Madrid</td>\n",
       "    </tr>\n",
       "    <tr>\n",
       "      <th>3</th>\n",
       "      <td>4</td>\n",
       "      <td>se vende nissan patrol k260 embrague nuevo , b...</td>\n",
       "      <td>4500</td>\n",
       "      <td>40.419014</td>\n",
       "      <td>-3.707443</td>\n",
       "      <td>Madrid</td>\n",
       "      <td>Madrid</td>\n",
       "    </tr>\n",
       "  </tbody>\n",
       "</table>\n",
       "</div>"
      ],
      "text/plain": [
       "   id_wallapop                                        descripcion  precio  \\\n",
       "0            1  nisan almera tino del 2004 ba por cadena le ve...    2200   \n",
       "1            2  vendo mi coche en perfecto estado de motor y d...    6500   \n",
       "2            3  coche usado por mi mujer para ir a trabajar.\\n...   11500   \n",
       "3            4  se vende nissan patrol k260 embrague nuevo , b...    4500   \n",
       "\n",
       "     latitud  longitud                   ciudad provincia  \n",
       "0  40.301646 -3.441828          Arganda del Rey    Madrid  \n",
       "1  40.620256 -3.910636       Hoyo de Manzanares    Madrid  \n",
       "2  40.494190 -3.961537  Villanueva del Pardillo    Madrid  \n",
       "3  40.419014 -3.707443                   Madrid    Madrid  "
      ]
     },
     "execution_count": 10,
     "metadata": {},
     "output_type": "execute_result"
    }
   ],
   "source": [
    "df_wallapop.head(4)"
   ]
  },
  {
   "cell_type": "markdown",
   "metadata": {},
   "source": [
    "API seguridad del modelo"
   ]
  },
  {
   "cell_type": "code",
   "execution_count": null,
   "metadata": {},
   "outputs": [],
   "source": [
    "url_anio = f\"https://api.nhtsa.gov/SafetyRatings/modelyear/2013/make/nissan\"\n",
    "response3 = requests.get(url_anio)\n",
    "if response3.status_code == 200:\n",
    "    modelos = [diccio[\"Model\"] for diccio in response3.json().get(\"Results\", [])]\n",
    "else:\n",
    "    print(f\"Error: {response3.status_code} - {response3.text}\")\n",
    "    \n"
   ]
  },
  {
   "cell_type": "code",
   "execution_count": null,
   "metadata": {},
   "outputs": [],
   "source": [
    "\n",
    "\n",
    "df_ratings = pd.DataFrame()\n",
    "\n",
    "for anio in range(2011, 2026):\n",
    "    url_anio = f\"https://api.nhtsa.gov/SafetyRatings/modelyear/{anio}/make/nissan\"\n",
    "    response3 = requests.get(url_anio)\n",
    "    \n",
    "    #verifica si no da error\n",
    "    if response3.status_code == 200:\n",
    "        try:\n",
    "            modelos = [diccio[\"Model\"] for diccio in response3.json().get(\"Results\", [])]\n",
    "        except (KeyError, ValueError) as e:\n",
    "            print(f\"Error al obtener modelos para el año {anio}: {e}\")\n",
    "            continue\n",
    "    else:\n",
    "        print(f\"Error en la solicitud para el año {anio}: {response3.status_code}\")\n",
    "        continue\n",
    "\n",
    "    modelos_ids = []\n",
    "    for modelo in modelos:\n",
    "        url3 = f\"https://api.nhtsa.gov/SafetyRatings/modelyear/{anio}/make/nissan/model/{modelo}\"\n",
    "        response = requests.get(url3)\n",
    "\n",
    "        if response.status_code == 200:\n",
    "            try:\n",
    "                modelos_ids.extend([diccio[\"VehicleId\"] for diccio in response.json().get(\"Results\", [])])\n",
    "            except (KeyError, ValueError) as e:\n",
    "                print(f\"Error al obtener VehicleId para modelo {modelo} en el año {anio}: {e}\")\n",
    "                continue\n",
    "        else:\n",
    "            print(f\"Error en la solicitud para modelo {modelo}, año {anio}: {response.status_code}\")\n",
    "            continue\n",
    "\n",
    "    #conseguir ratings con modelos_ids\n",
    "    for modelo_id in modelos_ids:\n",
    "        url2 = f\"https://api.nhtsa.gov/SafetyRatings/VehicleId/{modelo_id}\"\n",
    "        response = requests.get(url2)\n",
    "\n",
    "        if response.status_code == 200:\n",
    "            try:\n",
    "                df = pd.DataFrame(response.json().get(\"Results\", []))\n",
    "                df_ratings = pd.concat([df_ratings, df], ignore_index=True)\n",
    "            except (KeyError, ValueError) as e:\n",
    "                print(f\"Error al obtener ratings para VehicleId {modelo_id}: {e}\")\n",
    "        else:\n",
    "            print(f\"Error en la solicitud para VehicleId {modelo_id}: {response.status_code}\")\n"
   ]
  },
  {
   "cell_type": "code",
   "execution_count": null,
   "metadata": {},
   "outputs": [],
   "source": [
    "df_ratings.sample(4)"
   ]
  },
  {
   "cell_type": "code",
   "execution_count": null,
   "metadata": {},
   "outputs": [],
   "source": [
    "df_ratings.info()"
   ]
  },
  {
   "cell_type": "code",
   "execution_count": null,
   "metadata": {},
   "outputs": [],
   "source": [
    "df_ratings.to_csv(\"../datos/datos_seguridad.csv\")\n",
    "df_seguridad=pd.read_csv(\"../datos/datos_seguridad.csv\", index_col= \"Unnamed: 0\" )"
   ]
  },
  {
   "cell_type": "markdown",
   "metadata": {},
   "source": [
    "ESTÁ listo para la limpieza lo de SEGURIDAD"
   ]
  },
  {
   "cell_type": "markdown",
   "metadata": {},
   "source": [
    "**Tratamiento de duplicados y nulos Seguridad**  \n",
    "*NULOS*  \n",
    "\n",
    "Había muchos Not Rated que convertí en nulos para eliminarlos porque si no tiene rating, no nos aporta nada de valor \n",
    "\n",
    "*DUPLICADOS*  \n",
    "\n",
    "No tiene duplicados\n",
    "\n",
    "\n",
    "*DATOS INNECESARIOS*  \n",
    "\n",
    "Eliminamos las columnas que no nos interesan y que aportan más problemas que información \n"
   ]
  },
  {
   "cell_type": "code",
   "execution_count": null,
   "metadata": {},
   "outputs": [],
   "source": [
    "df_seguridad=df_seguridad.drop(columns= [\"VehiclePicture\",\"FrontCrashDriversideRating\",\"FrontCrashPassengersideRating\", \"SideCrashDriversideRating\", \"SideCrashPassengersideRating\", \"combinedSideBarrierAndPoleRating-Front\", \"combinedSideBarrierAndPoleRating-Rear\", \"RolloverRating2\", \"RolloverPossibility2\", \"dynamicTipResult\", \"FrontCrashPicture\", \"FrontCrashVideo\", \"SideCrashPicture\", \"SideCrashVideo\", \"SidePolePicture\", \"SidePoleVideo\"])"
   ]
  },
  {
   "cell_type": "code",
   "execution_count": null,
   "metadata": {},
   "outputs": [],
   "source": [
    "df_seguridad.sample(4)"
   ]
  },
  {
   "cell_type": "code",
   "execution_count": null,
   "metadata": {},
   "outputs": [],
   "source": [
    "df_seguridad[\"estabilidad_electronica\"].value_counts()"
   ]
  },
  {
   "cell_type": "code",
   "execution_count": null,
   "metadata": {},
   "outputs": [],
   "source": [
    "df_seguridad[\"aviso_choque_frontal\"].value_counts()"
   ]
  },
  {
   "cell_type": "code",
   "execution_count": null,
   "metadata": {},
   "outputs": [],
   "source": [
    "df_seguridad[\"aviso_desvio_carril\"].value_counts()"
   ]
  },
  {
   "cell_type": "code",
   "execution_count": null,
   "metadata": {},
   "outputs": [],
   "source": [
    "df_seguridad.replace(\"Not Rated\", pd.NA, inplace=True)\n",
    "\n",
    "columnas_rating = [\"OverallRating\", \"OverallFrontCrashRating\", \"OverallSideCrashRating\",\"sideBarrierRating-Overall\", \"RolloverRating\", \"SidePoleCrashRating\"]\n",
    "df_seguridad.dropna(subset=columnas_rating, inplace=True)\n",
    "df_seguridad.reset_index(drop= True, inplace=True)"
   ]
  },
  {
   "cell_type": "code",
   "execution_count": null,
   "metadata": {},
   "outputs": [],
   "source": [
    "df_seguridad[columnas_rating] = df_seguridad[columnas_rating].astype(int)"
   ]
  },
  {
   "cell_type": "code",
   "execution_count": null,
   "metadata": {},
   "outputs": [],
   "source": [
    "df_seguridad.duplicated().sum()"
   ]
  },
  {
   "cell_type": "code",
   "execution_count": null,
   "metadata": {},
   "outputs": [],
   "source": [
    "df_seguridad.info()"
   ]
  },
  {
   "cell_type": "markdown",
   "metadata": {},
   "source": [
    "Añado un id"
   ]
  },
  {
   "cell_type": "code",
   "execution_count": null,
   "metadata": {},
   "outputs": [],
   "source": [
    "df_seguridad.index= df_seguridad.index+1\n",
    "df_seguridad.reset_index(inplace=True)"
   ]
  },
  {
   "cell_type": "code",
   "execution_count": null,
   "metadata": {},
   "outputs": [],
   "source": [
    "dicc_encabezados={\n",
    "    \"index\": \"id_seguridad\",\n",
    "    \"OverallRating\": \"evaluacion_general\",\n",
    "    \"OverallFrontCrashRating\": \"evaluacion_choque_frontal\",\n",
    "    \"OverallSideCrashRating\": \"evaluacion_choque_lateral\",\n",
    "    \"sideBarrierRating-Overall\": \"evaluacion_barrera_lateral\",\n",
    "    \"RolloverRating\": \"evaluacion_vuelco\",\n",
    "    \"RolloverPossibility\": \"probabilidad_vuelco\",\n",
    "    \"SidePoleCrashRating\": \"evaluacion_choque_columna\",\n",
    "    \"NHTSAElectronicStabilityControl\": \"estabilidad_electronica\",\n",
    "    \"NHTSAForwardCollisionWarning\": \"aviso_choque_frontal\",\n",
    "    \"NHTSALaneDepartureWarning\": \"aviso_desvio_carril\",\n",
    "    \"ComplaintsCount\": \"quejas\",\n",
    "    \"RecallsCount\": \"retiradas\",\n",
    "    \"InvestigationCount\": \"investigaciones\",\n",
    "    \"ModelYear\": \"anio\",\n",
    "    \"Make\": \"marca\",\n",
    "    \"Model\": \"version\",\n",
    "    \"VehicleDescription\": \"descripcion\",\n",
    "    \"VehicleId\": \"vehiculo_id\"\n",
    "}\n",
    "            \n",
    "df_seguridad.columns=df_seguridad.columns.map(dicc_encabezados)"
   ]
  },
  {
   "cell_type": "code",
   "execution_count": null,
   "metadata": {},
   "outputs": [],
   "source": [
    "df_seguridad.to_csv(\"../datos/datos_seguridad.csv\")"
   ]
  },
  {
   "cell_type": "markdown",
   "metadata": {},
   "source": [
    "Empezamos con web scrapping de Quecochemecompro"
   ]
  },
  {
   "cell_type": "markdown",
   "metadata": {},
   "source": [
    "Este funciona sin duplicados(Primera tabla solo porque es donde están los modelos más simples y el cliente al que estamos intentando informar prioriza mucho el ahorro)"
   ]
  },
  {
   "cell_type": "code",
   "execution_count": null,
   "metadata": {},
   "outputs": [],
   "source": [
    "url_nuevo = \"https://www.quecochemecompro.com/\"\n",
    "\n",
    "driver=webdriver.Chrome()\n",
    "driver.maximize_window()\n",
    "driver.get(url_nuevo)\n",
    "\n",
    "#acepto cookies\n",
    "driver.find_element(\"css selector\", \"#qc-cmp2-ui > div.qc-cmp2-footer.qc-cmp2-footer-overlay.qc-cmp2-footer-scrolled > div > button.css-y6krop\").click()\n",
    "sleep(2)\n",
    "#me meto en nuevos\n",
    "driver.find_element(\"css selector\", \"#header-menu > li:nth-child(1) > a\").click()\n",
    "\n",
    "\n",
    "sleep(2)\n",
    "#click en el buscador \n",
    "driver.find_element(\"css selector\", \"#header > div.tw-container.flex.gap-4 > div > div.hidden.lg\\:flex.w-60.ml-auto.mr-8.gap-4.items-center > form\").click()\n",
    "sleep(2)\n",
    "#meto nissan en el buscador\n",
    "driver.find_element(\"css selector\", \"#header > div.tw-container.flex.gap-4 > div > div.hidden.lg\\:flex.w-60.ml-auto.mr-8.gap-4.items-center > form > input\").send_keys(\"nissan\", Keys.ENTER)\n",
    "\n",
    "#saco los nombres para meterlos en una lista\n",
    "\n",
    "sopa_nuevos = BeautifulSoup(driver.page_source, 'html.parser')\n",
    "lista_nombre_modelo=[]\n",
    "for modelo in sopa_nuevos.find_all(\"li\", {\"class\":\"mx-auto w-full min-w-[20rem]\"}):\n",
    "    tag_a = modelo.find(\"a\", title=True)\n",
    "    if tag_a:\n",
    "        lista_nombre_modelo.append(tag_a[\"title\"])\n",
    "\n",
    "\n",
    "df_datos_modelos = pd.DataFrame()\n",
    "for n_modelo in range(1, len(lista_nombre_modelo) + 1):\n",
    "    sleep(2)\n",
    "    # Hacer click en el modelo específico\n",
    "    driver.find_element(\"css selector\", f\"#results > ul > li:nth-child({n_modelo}) > div > div.relative.z-10 > div.flex.justify-between.items-end.py-3.leading-5.text-17 > div:nth-child(1) > a\").click()\n",
    "    sopa_tabla = BeautifulSoup(driver.page_source, 'html.parser')\n",
    "    sleep(2)\n",
    "    df_tablas=pd.DataFrame()\n",
    "    \n",
    "    try:  # Encontrar la tabla de datos\n",
    "        \n",
    "        sleep(2) #hace click por si hay más tablas\n",
    "\n",
    "        try:\n",
    "            driver.find_element(\"css selector\", f\"#versions > div > div:nth-child(2) > table > tfoot > tr > td > ul > li:nth-child(2) > a\").click()\n",
    "            \n",
    "        except:\n",
    "            # Si no encuentra el selector con nth-child(2), intenta con nth-child(3)\n",
    "            \n",
    "            driver.find_element(\"css selector\", f\"#versions > div > div:nth-child(3) > table > tfoot > tr > td > ul > li:nth-child(2) > a\").click()\n",
    "            \n",
    "        tabla = sopa_tabla.find(\"table\")  #a lo mejor no me coge en algunas porque hay otra tabla                \n",
    "        \n",
    "        encabezados = [th.get_text(strip=True) for th in tabla.find_all(\"thead\")[0].find_all(\"th\")]\n",
    "\n",
    "        filas = []\n",
    "        for tr in tabla.find_all(\"tbody\")[0].find_all(\"tr\"):\n",
    "            filas.append([td.get_text(strip=True) for td in tr.find_all(\"td\")])\n",
    "\n",
    "        df_tabla = pd.DataFrame(filas, columns=encabezados)\n",
    "        df_tabla[\"Modelo\"] = lista_nombre_modelo[n_modelo - 1]\n",
    "        df_tablas= pd.concat([df_tablas, df_tabla])\n",
    "\n",
    "\n",
    "\n",
    "\n",
    "        df_datos_modelos= pd.concat([df_datos_modelos, df_tablas], ignore_index=True)\n",
    "\n",
    "    except:\n",
    "        \n",
    "        driver.back()\n",
    "        continue\n",
    "        \n",
    "    driver.back()    \n",
    "\n",
    "\n"
   ]
  },
  {
   "cell_type": "code",
   "execution_count": null,
   "metadata": {},
   "outputs": [],
   "source": [
    "df_datos_modelos.sample(3)"
   ]
  },
  {
   "cell_type": "code",
   "execution_count": null,
   "metadata": {},
   "outputs": [],
   "source": [
    "df_datos_modelos.to_csv(\"../datos/datos_modelos_nuevos.csv\")\n",
    "df_datos_modelos_nuevos=pd.read_csv(\"../datos/datos_modelos_nuevos.csv\", index_col= \"Unnamed: 0\" )"
   ]
  },
  {
   "cell_type": "markdown",
   "metadata": {},
   "source": [
    "Coches nuevos listos para limpiar"
   ]
  },
  {
   "cell_type": "markdown",
   "metadata": {},
   "source": [
    "**Tratamiento de duplicados y nulos Nuevos**  \n",
    "*NULOS*  \n",
    "\n",
    "Hay nulos en consumo y autonomía asique decido meter los valores de autonomia en los nan de consumo (porque corresponden a los coches electricos) y elimino la columna autonomía.  \n",
    "\n",
    "Finalmente nos quedamos sin ningun nulo sin necesidad de hacer un dropna\n",
    "\n",
    "*DUPLICADOS*  \n",
    "\n",
    "No tiene duplicados\n",
    "\n",
    "\n",
    "*DATOS INNECESARIOS*  \n",
    "\n",
    "También elimino la columna etiqueta y oferta ya que no se ofrecen información relevante  \n",
    "\n",
    "En la columna de Consumo me he fijado que hay 5 valores con \"-\" lo que no me permite formatear esa columna(dado que son tan pocos, voy a eliminarlos porque al tener la autonomía en la misma columna la media no es representativa)"
   ]
  },
  {
   "cell_type": "code",
   "execution_count": null,
   "metadata": {},
   "outputs": [],
   "source": [
    "df_datos_modelos_nuevos.sample(5)"
   ]
  },
  {
   "cell_type": "code",
   "execution_count": null,
   "metadata": {},
   "outputs": [],
   "source": [
    "df_datos_modelos_nuevos[\"Consumo\"] = df_datos_modelos_nuevos[\"Consumo\"].fillna(df_datos_modelos_nuevos[\"Autonomía\"])\n"
   ]
  },
  {
   "cell_type": "code",
   "execution_count": null,
   "metadata": {},
   "outputs": [],
   "source": [
    "df_datos_modelos_nuevos=df_datos_modelos_nuevos.drop(columns= [\"Etiqueta\",\"Oferta\",\"Autonomía\"])"
   ]
  },
  {
   "cell_type": "code",
   "execution_count": null,
   "metadata": {},
   "outputs": [],
   "source": [
    "df_datos_modelos_nuevos[\"Consumo\"]=df_datos_modelos_nuevos[\"Consumo\"].str.replace(\"l/100Km\", \"\").str.replace(\",\",\".\").str.replace(\" Km\", \"\")\n",
    "df_datos_modelos_nuevos[\"PVP\"]=df_datos_modelos_nuevos[\"PVP\"].str.replace(\"€\", \"\").str.replace(\".\", \"\")"
   ]
  },
  {
   "cell_type": "code",
   "execution_count": null,
   "metadata": {},
   "outputs": [],
   "source": [
    "df_datos_modelos_nuevos.duplicated().sum()"
   ]
  },
  {
   "cell_type": "code",
   "execution_count": null,
   "metadata": {},
   "outputs": [],
   "source": [
    "df_datos_modelos_nuevos=df_datos_modelos_nuevos[df_datos_modelos_nuevos[\"Consumo\"]!= \"-\"]"
   ]
  },
  {
   "cell_type": "code",
   "execution_count": null,
   "metadata": {},
   "outputs": [],
   "source": [
    "df_datos_modelos_nuevos[\"PVP\"]=df_datos_modelos_nuevos[\"PVP\"].astype(int)\n",
    "df_datos_modelos_nuevos[\"Consumo\"]=df_datos_modelos_nuevos[\"Consumo\"].astype(float)"
   ]
  },
  {
   "cell_type": "markdown",
   "metadata": {},
   "source": [
    "Añado un id"
   ]
  },
  {
   "cell_type": "code",
   "execution_count": null,
   "metadata": {},
   "outputs": [],
   "source": [
    "df_datos_modelos_nuevos.index= df_datos_modelos_nuevos.index+1\n",
    "df_datos_modelos_nuevos.reset_index(inplace=True)"
   ]
  },
  {
   "cell_type": "code",
   "execution_count": null,
   "metadata": {},
   "outputs": [],
   "source": [
    "dicc_encabezados1={\"index\":\"id_modelo_nuevo\",\n",
    "                    \"Versión\":\"version\",\n",
    "                    \"Puertas\": \"puertas\",\n",
    "                    \"CV\": \"potencia\",\n",
    "                    \"Consumo\": \"consumo\",\n",
    "                    \"Motor\": \"motor\",\n",
    "                    \"PVP\": \"precio\",\n",
    "                    \"Modelo\": \"modelo\"\n",
    "                  }\n",
    "            \n",
    "df_datos_modelos_nuevos.columns=df_datos_modelos_nuevos.columns.map(dicc_encabezados1)"
   ]
  },
  {
   "cell_type": "code",
   "execution_count": 11,
   "metadata": {},
   "outputs": [
    {
     "name": "stdout",
     "output_type": "stream",
     "text": [
      "<class 'pandas.core.frame.DataFrame'>\n",
      "Index: 107 entries, 0 to 106\n",
      "Data columns (total 10 columns):\n",
      " #   Column           Non-Null Count  Dtype  \n",
      "---  ------           --------------  -----  \n",
      " 0   id_modelo_nuevo  107 non-null    int64  \n",
      " 1   version          107 non-null    object \n",
      " 2   puertas          107 non-null    int64  \n",
      " 3   potencia         107 non-null    int64  \n",
      " 4   consumo          107 non-null    float64\n",
      " 5   motor            107 non-null    object \n",
      " 6   precio           107 non-null    int64  \n",
      " 7   modelo           107 non-null    object \n",
      " 8   provincia        107 non-null    object \n",
      " 9   anio             107 non-null    int64  \n",
      "dtypes: float64(1), int64(5), object(4)\n",
      "memory usage: 9.2+ KB\n"
     ]
    }
   ],
   "source": [
    "df_datos_modelos_nuevos.info()"
   ]
  },
  {
   "cell_type": "code",
   "execution_count": 19,
   "metadata": {},
   "outputs": [],
   "source": [
    "df_datos_modelos_nuevos[\"provincia\"]= \"Madrid\"\n",
    "df_datos_modelos_nuevos[\"anio\"]= 2024"
   ]
  },
  {
   "cell_type": "code",
   "execution_count": 21,
   "metadata": {},
   "outputs": [],
   "source": [
    "df_datos_modelos_nuevos.to_csv(\"../datos/datos_modelos_nuevos.csv\")"
   ]
  },
  {
   "cell_type": "markdown",
   "metadata": {},
   "source": [
    "Datos de modelos nuevos ya están formateados"
   ]
  },
  {
   "cell_type": "markdown",
   "metadata": {},
   "source": [
    "Alternativa 2º mano"
   ]
  },
  {
   "cell_type": "code",
   "execution_count": null,
   "metadata": {},
   "outputs": [],
   "source": [
    "url_alterantiva= \"https://www.autoscout24.es/\"\n",
    "driver=webdriver.Chrome()\n",
    "driver.maximize_window()\n",
    "driver.get(url_alterantiva)\n",
    "\n",
    "#acepto cookies\n",
    "driver.find_element(\"css selector\", \"#as24-cmp-popup > div > div._acceptance-buttons_1lphq_85 > button._consent-accept_1lphq_114\").click()\n",
    "\n",
    "#despliego menu\n",
    "driver.find_element(\"css selector\", \"#make\").click()\n",
    "sleep(2)\n",
    "#elijo nissan\n",
    "driver.find_element(\"css selector\", \"#make > optgroup:nth-child(3) > option:nth-child(172)\").click()\n",
    "sleep(2)\n",
    "#le da a buscar\n",
    "driver.find_element(\"css selector\", \"#search-mask-search-cta\").click()\n",
    "sleep(2)\n",
    "\n",
    "#que nos de solo madrid\n",
    "driver.find_element(\"css selector\", \"#__next > div > div > div.ListPage_wrapper__vFmTi > div.ListPage_container__Optya > div:nth-child(2) > aside > div > div:nth-child(2) > div:nth-child(1) > div > div.Location_wrapper__mvayy > div:nth-child(2) > div > div > div.input-wrapper > div > button > svg\").click()\n",
    "sleep(2)\n",
    "\n",
    "\n",
    "df_completo=pd.DataFrame()\n",
    "for pag in range(1,21):\n",
    "    df=pd.DataFrame()\n",
    "    url_pag=f\"https://www.autoscout24.es/lst/nissan?atype=C&cy=E&damaged_listing=exclude&desc=0&lat=40.435712&lon=-3.6405248&page={pag}&powertype=kw&search_id=1yf3g5xh5i1&sort=standard&source=listpage_pagination&ustate=N%2CU&zipr=200\"\n",
    "    driver.get(url_pag)\n",
    "    sopa_alternativa = BeautifulSoup(driver.page_source, 'html.parser')\n",
    "    sleep(2)\n",
    "    #conseguir nombre\n",
    "    lista_nombres = sopa_alternativa.findAll(\"h2\")\n",
    "    todos_nombres=[nombre.getText().replace(\"\\xa0\", \" \") for nombre in lista_nombres]\n",
    "    df_nombre=pd.DataFrame(todos_nombres)\n",
    "\n",
    "\n",
    "    #conseguir datos\n",
    "    lista_datos= sopa_alternativa.findAll(\"div\", {\"class\":\"VehicleDetailTable_container__XhfV1\"})\n",
    "    todos_datos = [re.sub(r'(Manual|Automático)\\d{2}/(\\d{4})(Diésel|Gasolina|Electro/Gasolina|Eléctrico)\\d*', r'\\1 \\2 \\3', dato.getText()).replace(\"km\", \" \").replace(\"CV\", \"\").replace(\"kW\", \"\").replace(\".\", \"\").replace(\"(\", \"\").replace(\")\", \"\").split() for dato in lista_datos]\n",
    "    df_dato=pd.DataFrame(todos_datos)\n",
    "\n",
    "\n",
    "    #Conseguir precio\n",
    "    lista_precios= sopa_alternativa.findAll(\"p\", {\"class\":\"Price_price__APlgs PriceAndSeals_current_price__ykUpx\"})\n",
    "    todos_precios=[precio.getText().replace(\"€ \",\"\").replace(\",-\",\"\").replace(\".\",\"\") for precio in lista_precios]\n",
    "    df_precio=pd.DataFrame(todos_precios)\n",
    "\n",
    "    df= pd.concat([df,df_nombre,df_dato,df_precio], axis=1, ignore_index=True)\n",
    "    df_completo=pd.concat([df_completo, df], axis=0, ignore_index=True)\n"
   ]
  },
  {
   "cell_type": "code",
   "execution_count": null,
   "metadata": {},
   "outputs": [],
   "source": [
    "df_completo.sample(5)"
   ]
  },
  {
   "cell_type": "markdown",
   "metadata": {},
   "source": [
    "**Tratamiento de duplicados y nulos Segunda Mano**  \n",
    "*NULOS*  \n",
    "\n",
    "Hay nulos porque se crean algunas columnas por datos que están formateados distinto. Puedo permitirme eliminar las columnas casi llenas de nulos y luego eliminar los restantes para que los 367 que se queden, tengan datos.  \n",
    "\n",
    "*DUPLICADOS*  \n",
    "\n",
    "Decido no eliminarlos porque el hecho de que se repitan nos muestra que coches se están vendiendo más\n",
    "\n",
    "\n",
    "*DATOS INNECESARIOS*  \n",
    "\n",
    "En la columna de precio se cuela Ocasión como si fuera un precio lo que me dificultaría pasar al formato correcto por ello como apenas son 10 los elimino"
   ]
  },
  {
   "cell_type": "code",
   "execution_count": null,
   "metadata": {},
   "outputs": [],
   "source": [
    "df_completo.info()"
   ]
  },
  {
   "cell_type": "code",
   "execution_count": null,
   "metadata": {},
   "outputs": [],
   "source": [
    "df_completo.duplicated().sum()"
   ]
  },
  {
   "cell_type": "code",
   "execution_count": null,
   "metadata": {},
   "outputs": [],
   "source": [
    "df_completo[df_completo.duplicated()].head()"
   ]
  },
  {
   "cell_type": "code",
   "execution_count": null,
   "metadata": {},
   "outputs": [],
   "source": [
    "df_completo=df_completo.drop(columns= [7,8,9,10])"
   ]
  },
  {
   "cell_type": "code",
   "execution_count": null,
   "metadata": {},
   "outputs": [],
   "source": [
    "df_completo.dropna(inplace=True)"
   ]
  },
  {
   "cell_type": "code",
   "execution_count": null,
   "metadata": {},
   "outputs": [],
   "source": [
    "df_completo.info()"
   ]
  },
  {
   "cell_type": "code",
   "execution_count": null,
   "metadata": {},
   "outputs": [],
   "source": [
    "dicc_encabezados2={0:\"title\",\n",
    "                  1: \"kilometraje\",\n",
    "                  2: \"tipo\",\n",
    "                  3: \"anio\",\n",
    "                  4: \"fuel\",\n",
    "                  5: \"potencia\",\n",
    "                  6: \"precio\"}\n",
    "df_completo.columns=df_completo.columns.map(dicc_encabezados2)"
   ]
  },
  {
   "cell_type": "code",
   "execution_count": null,
   "metadata": {},
   "outputs": [],
   "source": [
    "df_completo.sample(3)"
   ]
  },
  {
   "cell_type": "markdown",
   "metadata": {},
   "source": [
    "Limpiamos los valores que no correspondan (En precio se han colado ocasion )"
   ]
  },
  {
   "cell_type": "code",
   "execution_count": null,
   "metadata": {},
   "outputs": [],
   "source": [
    "\n",
    "df_completo = df_completo[~df_completo[\"precio\"].str.contains(\"-/-Ocasión\", na=False)]\n"
   ]
  },
  {
   "cell_type": "code",
   "execution_count": null,
   "metadata": {},
   "outputs": [],
   "source": [
    "# df_completo[\"precio\"].unique() Lo comento para que no moleste"
   ]
  },
  {
   "cell_type": "code",
   "execution_count": null,
   "metadata": {},
   "outputs": [],
   "source": [
    "df_completo.info()"
   ]
  },
  {
   "cell_type": "code",
   "execution_count": null,
   "metadata": {},
   "outputs": [],
   "source": [
    "df_completo.to_csv(\"../datos/datos_segunda_mano.csv\")\n",
    "df_segunda_mano=pd.read_csv(\"../datos/datos_segunda_mano.csv\", index_col= \"Unnamed: 0\")"
   ]
  },
  {
   "cell_type": "markdown",
   "metadata": {},
   "source": [
    "Aquí formateamos"
   ]
  },
  {
   "cell_type": "code",
   "execution_count": null,
   "metadata": {},
   "outputs": [],
   "source": [
    "df_segunda_mano[\"kilometraje\"]=df_segunda_mano[\"kilometraje\"].astype(int)\n",
    "df_segunda_mano[\"potencia\"]=df_segunda_mano[\"potencia\"].astype(int)\n",
    "df_segunda_mano[\"precio\"]=df_segunda_mano[\"precio\"].astype(int)\n",
    "df_segunda_mano[\"anio\"]=df_segunda_mano[\"anio\"].astype(int)\n"
   ]
  },
  {
   "cell_type": "code",
   "execution_count": null,
   "metadata": {},
   "outputs": [],
   "source": [
    "df_segunda_mano.info()"
   ]
  },
  {
   "cell_type": "markdown",
   "metadata": {},
   "source": [
    "Añado un id"
   ]
  },
  {
   "cell_type": "code",
   "execution_count": null,
   "metadata": {},
   "outputs": [],
   "source": [
    "df_segunda_mano.index= df_segunda_mano.index+1\n",
    "df_segunda_mano.reset_index(inplace=True)"
   ]
  },
  {
   "cell_type": "code",
   "execution_count": null,
   "metadata": {},
   "outputs": [],
   "source": [
    "dicc_encabezados3={\"index\":\"id_segunda_mano\",\n",
    "                    \"title\":\"version\",\n",
    "                    \"kilometraje\": \"kilometraje\",\n",
    "                    \"tipo\": \"tipo\",\n",
    "                    \"anio\": \"anio\",\n",
    "                    \"fuel\": \"motor\",\n",
    "                    \"potencia\": \"potencia\",\n",
    "                    \"precio\": \"precio\"\n",
    "                  }\n",
    "            \n",
    "df_segunda_mano.columns=df_segunda_mano.columns.map(dicc_encabezados3)"
   ]
  },
  {
   "cell_type": "code",
   "execution_count": 12,
   "metadata": {},
   "outputs": [
    {
     "data": {
      "text/html": [
       "<div>\n",
       "<style scoped>\n",
       "    .dataframe tbody tr th:only-of-type {\n",
       "        vertical-align: middle;\n",
       "    }\n",
       "\n",
       "    .dataframe tbody tr th {\n",
       "        vertical-align: top;\n",
       "    }\n",
       "\n",
       "    .dataframe thead th {\n",
       "        text-align: right;\n",
       "    }\n",
       "</style>\n",
       "<table border=\"1\" class=\"dataframe\">\n",
       "  <thead>\n",
       "    <tr style=\"text-align: right;\">\n",
       "      <th></th>\n",
       "      <th>id_segunda_mano</th>\n",
       "      <th>version</th>\n",
       "      <th>kilometraje</th>\n",
       "      <th>tipo</th>\n",
       "      <th>anio</th>\n",
       "      <th>motor</th>\n",
       "      <th>potencia</th>\n",
       "      <th>precio</th>\n",
       "      <th>provincia</th>\n",
       "    </tr>\n",
       "  </thead>\n",
       "  <tbody>\n",
       "    <tr>\n",
       "      <th>0</th>\n",
       "      <td>1</td>\n",
       "      <td>Nissan Qashqai 1.2 DIG-T Acenta 4x2</td>\n",
       "      <td>121649</td>\n",
       "      <td>Manual</td>\n",
       "      <td>2015</td>\n",
       "      <td>Gasolina</td>\n",
       "      <td>116</td>\n",
       "      <td>11480</td>\n",
       "      <td>Madrid</td>\n",
       "    </tr>\n",
       "    <tr>\n",
       "      <th>1</th>\n",
       "      <td>2</td>\n",
       "      <td>Nissan Juke 1.5dCi Visia</td>\n",
       "      <td>260000</td>\n",
       "      <td>Manual</td>\n",
       "      <td>2012</td>\n",
       "      <td>Diésel</td>\n",
       "      <td>110</td>\n",
       "      <td>6500</td>\n",
       "      <td>Madrid</td>\n",
       "    </tr>\n",
       "    <tr>\n",
       "      <th>2</th>\n",
       "      <td>3</td>\n",
       "      <td>Nissan Qashqai DIG-T 103kW (140CV) mHEV 4x2 Ac...</td>\n",
       "      <td>11290</td>\n",
       "      <td>Manual</td>\n",
       "      <td>2023</td>\n",
       "      <td>Electro/Gasolina</td>\n",
       "      <td>140</td>\n",
       "      <td>22000</td>\n",
       "      <td>Madrid</td>\n",
       "    </tr>\n",
       "    <tr>\n",
       "      <th>3</th>\n",
       "      <td>4</td>\n",
       "      <td>Nissan Juke 1.6 N-Connecta 4x2 112</td>\n",
       "      <td>46287</td>\n",
       "      <td>Manual</td>\n",
       "      <td>2019</td>\n",
       "      <td>Gasolina</td>\n",
       "      <td>113</td>\n",
       "      <td>11790</td>\n",
       "      <td>Madrid</td>\n",
       "    </tr>\n",
       "    <tr>\n",
       "      <th>4</th>\n",
       "      <td>5</td>\n",
       "      <td>Nissan Qashqai 1.6dCi Visia 4x2</td>\n",
       "      <td>178000</td>\n",
       "      <td>Manual</td>\n",
       "      <td>2018</td>\n",
       "      <td>Diésel</td>\n",
       "      <td>131</td>\n",
       "      <td>13900</td>\n",
       "      <td>Madrid</td>\n",
       "    </tr>\n",
       "  </tbody>\n",
       "</table>\n",
       "</div>"
      ],
      "text/plain": [
       "   id_segunda_mano                                            version  \\\n",
       "0                1                Nissan Qashqai 1.2 DIG-T Acenta 4x2   \n",
       "1                2                           Nissan Juke 1.5dCi Visia   \n",
       "2                3  Nissan Qashqai DIG-T 103kW (140CV) mHEV 4x2 Ac...   \n",
       "3                4                 Nissan Juke 1.6 N-Connecta 4x2 112   \n",
       "4                5                    Nissan Qashqai 1.6dCi Visia 4x2   \n",
       "\n",
       "   kilometraje    tipo  anio             motor  potencia  precio provincia  \n",
       "0       121649  Manual  2015          Gasolina       116   11480    Madrid  \n",
       "1       260000  Manual  2012            Diésel       110    6500    Madrid  \n",
       "2        11290  Manual  2023  Electro/Gasolina       140   22000    Madrid  \n",
       "3        46287  Manual  2019          Gasolina       113   11790    Madrid  \n",
       "4       178000  Manual  2018            Diésel       131   13900    Madrid  "
      ]
     },
     "execution_count": 12,
     "metadata": {},
     "output_type": "execute_result"
    }
   ],
   "source": [
    "df_segunda_mano.head()"
   ]
  },
  {
   "cell_type": "code",
   "execution_count": null,
   "metadata": {},
   "outputs": [],
   "source": [
    "df_segunda_mano[\"potencia\"].unique()"
   ]
  },
  {
   "cell_type": "code",
   "execution_count": 23,
   "metadata": {},
   "outputs": [],
   "source": [
    "df_segunda_mano[\"provincia\"]= \"Madrid\""
   ]
  },
  {
   "cell_type": "code",
   "execution_count": 24,
   "metadata": {},
   "outputs": [],
   "source": [
    "df_segunda_mano.to_csv(\"../datos/datos_segunda_mano.csv\")"
   ]
  },
  {
   "cell_type": "markdown",
   "metadata": {},
   "source": [
    "Datos de segunda mano ya están formateados"
   ]
  },
  {
   "cell_type": "markdown",
   "metadata": {},
   "source": [
    "INICIO CREACIÓN DE TABLAS (agregando)"
   ]
  },
  {
   "cell_type": "markdown",
   "metadata": {},
   "source": [
    "ANIO"
   ]
  },
  {
   "cell_type": "code",
   "execution_count": 13,
   "metadata": {},
   "outputs": [],
   "source": [
    "lista_viejo=df_segunda_mano[\"anio\"].unique()\n",
    "lista_nuevo=df_datos_modelos_nuevos[\"anio\"].unique()\n",
    "lista_seg=df_seguridad[\"anio\"].unique()\n",
    "lista_anios= []\n",
    "lista_anios.extend(lista_seg)\n",
    "lista_anios.extend(lista_nuevo)\n",
    "lista_anios.extend(lista_viejo)\n"
   ]
  },
  {
   "cell_type": "code",
   "execution_count": 14,
   "metadata": {},
   "outputs": [
    {
     "data": {
      "text/plain": [
       "np.int64(15)"
      ]
     },
     "execution_count": 14,
     "metadata": {},
     "output_type": "execute_result"
    }
   ],
   "source": [
    "df_anios=pd.DataFrame(lista_anios)\n",
    "df_anios.duplicated().sum()"
   ]
  },
  {
   "cell_type": "code",
   "execution_count": 15,
   "metadata": {},
   "outputs": [
    {
     "data": {
      "text/html": [
       "<div>\n",
       "<style scoped>\n",
       "    .dataframe tbody tr th:only-of-type {\n",
       "        vertical-align: middle;\n",
       "    }\n",
       "\n",
       "    .dataframe tbody tr th {\n",
       "        vertical-align: top;\n",
       "    }\n",
       "\n",
       "    .dataframe thead th {\n",
       "        text-align: right;\n",
       "    }\n",
       "</style>\n",
       "<table border=\"1\" class=\"dataframe\">\n",
       "  <thead>\n",
       "    <tr style=\"text-align: right;\">\n",
       "      <th></th>\n",
       "      <th>id_anio</th>\n",
       "      <th>anio</th>\n",
       "    </tr>\n",
       "  </thead>\n",
       "  <tbody>\n",
       "    <tr>\n",
       "      <th>0</th>\n",
       "      <td>1</td>\n",
       "      <td>2011</td>\n",
       "    </tr>\n",
       "    <tr>\n",
       "      <th>1</th>\n",
       "      <td>2</td>\n",
       "      <td>2012</td>\n",
       "    </tr>\n",
       "    <tr>\n",
       "      <th>2</th>\n",
       "      <td>3</td>\n",
       "      <td>2013</td>\n",
       "    </tr>\n",
       "    <tr>\n",
       "      <th>3</th>\n",
       "      <td>4</td>\n",
       "      <td>2014</td>\n",
       "    </tr>\n",
       "    <tr>\n",
       "      <th>4</th>\n",
       "      <td>5</td>\n",
       "      <td>2015</td>\n",
       "    </tr>\n",
       "  </tbody>\n",
       "</table>\n",
       "</div>"
      ],
      "text/plain": [
       "   id_anio  anio\n",
       "0        1  2011\n",
       "1        2  2012\n",
       "2        3  2013\n",
       "3        4  2014\n",
       "4        5  2015"
      ]
     },
     "execution_count": 15,
     "metadata": {},
     "output_type": "execute_result"
    }
   ],
   "source": [
    "df_anios.drop_duplicates(inplace=True)\n",
    "df_anios.reset_index(drop=True, inplace=True)\n",
    "df_anios.duplicated().sum()\n",
    "df_anios.index=df_anios.index+1\n",
    "df_anios.reset_index(inplace=True)\n",
    "dicc_anios={\n",
    "            \"index\": \"id_anio\",\n",
    "            0 : \"anio\"}\n",
    "df_anios.columns=df_anios.columns.map(dicc_anios)   \n",
    "df_anios.head()   "
   ]
  },
  {
   "cell_type": "markdown",
   "metadata": {},
   "source": [
    "MOTOR"
   ]
  },
  {
   "cell_type": "code",
   "execution_count": 16,
   "metadata": {},
   "outputs": [],
   "source": [
    "lista_viejo=df_segunda_mano[\"motor\"].unique()\n",
    "lista_nuevo=df_datos_modelos_nuevos[\"motor\"].unique()\n",
    "lista_motores= []\n",
    "lista_motores.extend(lista_nuevo)\n",
    "lista_motores.extend(lista_viejo)"
   ]
  },
  {
   "cell_type": "code",
   "execution_count": 17,
   "metadata": {},
   "outputs": [
    {
     "data": {
      "text/plain": [
       "np.int64(2)"
      ]
     },
     "execution_count": 17,
     "metadata": {},
     "output_type": "execute_result"
    }
   ],
   "source": [
    "df_motores=pd.DataFrame(lista_motores)\n",
    "df_motores.duplicated().sum()"
   ]
  },
  {
   "cell_type": "code",
   "execution_count": 18,
   "metadata": {},
   "outputs": [
    {
     "data": {
      "text/html": [
       "<div>\n",
       "<style scoped>\n",
       "    .dataframe tbody tr th:only-of-type {\n",
       "        vertical-align: middle;\n",
       "    }\n",
       "\n",
       "    .dataframe tbody tr th {\n",
       "        vertical-align: top;\n",
       "    }\n",
       "\n",
       "    .dataframe thead th {\n",
       "        text-align: right;\n",
       "    }\n",
       "</style>\n",
       "<table border=\"1\" class=\"dataframe\">\n",
       "  <thead>\n",
       "    <tr style=\"text-align: right;\">\n",
       "      <th></th>\n",
       "      <th>id_motor</th>\n",
       "      <th>motor</th>\n",
       "    </tr>\n",
       "  </thead>\n",
       "  <tbody>\n",
       "    <tr>\n",
       "      <th>0</th>\n",
       "      <td>1</td>\n",
       "      <td>MHEV Gasolina</td>\n",
       "    </tr>\n",
       "    <tr>\n",
       "      <th>1</th>\n",
       "      <td>2</td>\n",
       "      <td>HEV Gasolina</td>\n",
       "    </tr>\n",
       "    <tr>\n",
       "      <th>2</th>\n",
       "      <td>3</td>\n",
       "      <td>Gasolina</td>\n",
       "    </tr>\n",
       "    <tr>\n",
       "      <th>3</th>\n",
       "      <td>4</td>\n",
       "      <td>Eléctrico</td>\n",
       "    </tr>\n",
       "    <tr>\n",
       "      <th>4</th>\n",
       "      <td>5</td>\n",
       "      <td>Diesel</td>\n",
       "    </tr>\n",
       "  </tbody>\n",
       "</table>\n",
       "</div>"
      ],
      "text/plain": [
       "   id_motor          motor\n",
       "0         1  MHEV Gasolina\n",
       "1         2   HEV Gasolina\n",
       "2         3       Gasolina\n",
       "3         4      Eléctrico\n",
       "4         5         Diesel"
      ]
     },
     "execution_count": 18,
     "metadata": {},
     "output_type": "execute_result"
    }
   ],
   "source": [
    "df_motores.drop_duplicates(inplace=True)\n",
    "df_motores.reset_index(drop=True, inplace=True)\n",
    "df_motores.index=df_motores.index+1\n",
    "df_motores.reset_index(inplace=True)\n",
    "dicc_motores={\n",
    "            \"index\": \"id_motor\",\n",
    "            0 : \"motor\"}\n",
    "df_motores.columns=df_motores.columns.map(dicc_motores)   \n",
    "df_motores.head()  "
   ]
  },
  {
   "cell_type": "markdown",
   "metadata": {},
   "source": [
    "POTENCIA"
   ]
  },
  {
   "cell_type": "code",
   "execution_count": 19,
   "metadata": {},
   "outputs": [],
   "source": [
    "lista_viejo=df_segunda_mano[\"potencia\"].unique()\n",
    "lista_nuevo=df_datos_modelos_nuevos[\"potencia\"].unique()\n",
    "lista_potencias= []\n",
    "lista_potencias.extend(lista_nuevo)\n",
    "lista_potencias.extend(lista_viejo)"
   ]
  },
  {
   "cell_type": "code",
   "execution_count": 20,
   "metadata": {},
   "outputs": [
    {
     "data": {
      "text/plain": [
       "np.int64(10)"
      ]
     },
     "execution_count": 20,
     "metadata": {},
     "output_type": "execute_result"
    }
   ],
   "source": [
    "df_potencias=pd.DataFrame(lista_potencias)\n",
    "df_potencias.duplicated().sum()"
   ]
  },
  {
   "cell_type": "code",
   "execution_count": 21,
   "metadata": {},
   "outputs": [
    {
     "data": {
      "text/html": [
       "<div>\n",
       "<style scoped>\n",
       "    .dataframe tbody tr th:only-of-type {\n",
       "        vertical-align: middle;\n",
       "    }\n",
       "\n",
       "    .dataframe tbody tr th {\n",
       "        vertical-align: top;\n",
       "    }\n",
       "\n",
       "    .dataframe thead th {\n",
       "        text-align: right;\n",
       "    }\n",
       "</style>\n",
       "<table border=\"1\" class=\"dataframe\">\n",
       "  <thead>\n",
       "    <tr style=\"text-align: right;\">\n",
       "      <th></th>\n",
       "      <th>id_potencia</th>\n",
       "      <th>potencia</th>\n",
       "    </tr>\n",
       "  </thead>\n",
       "  <tbody>\n",
       "    <tr>\n",
       "      <th>0</th>\n",
       "      <td>1</td>\n",
       "      <td>140</td>\n",
       "    </tr>\n",
       "    <tr>\n",
       "      <th>1</th>\n",
       "      <td>2</td>\n",
       "      <td>158</td>\n",
       "    </tr>\n",
       "    <tr>\n",
       "      <th>2</th>\n",
       "      <td>3</td>\n",
       "      <td>190</td>\n",
       "    </tr>\n",
       "    <tr>\n",
       "      <th>3</th>\n",
       "      <td>4</td>\n",
       "      <td>114</td>\n",
       "    </tr>\n",
       "    <tr>\n",
       "      <th>4</th>\n",
       "      <td>5</td>\n",
       "      <td>143</td>\n",
       "    </tr>\n",
       "  </tbody>\n",
       "</table>\n",
       "</div>"
      ],
      "text/plain": [
       "   id_potencia  potencia\n",
       "0            1       140\n",
       "1            2       158\n",
       "2            3       190\n",
       "3            4       114\n",
       "4            5       143"
      ]
     },
     "execution_count": 21,
     "metadata": {},
     "output_type": "execute_result"
    }
   ],
   "source": [
    "df_potencias.drop_duplicates(inplace=True)\n",
    "df_potencias.reset_index(drop=True, inplace=True)\n",
    "df_potencias.index=df_potencias.index+1\n",
    "df_potencias.reset_index(inplace=True)\n",
    "dicc_potencias={\n",
    "            \"index\": \"id_potencia\",\n",
    "            0 : \"potencia\"}\n",
    "df_potencias.columns=df_potencias.columns.map(dicc_potencias)   \n",
    "df_potencias.head()"
   ]
  },
  {
   "cell_type": "markdown",
   "metadata": {},
   "source": [
    "EQUIPAMIENTOS SEGURIDAD"
   ]
  },
  {
   "cell_type": "code",
   "execution_count": 22,
   "metadata": {},
   "outputs": [],
   "source": [
    "lista_seg1=df_seguridad[\"estabilidad_electronica\"].unique()\n",
    "lista_seg2=df_seguridad[\"aviso_choque_frontal\"].unique()\n",
    "lista_seg3=df_seguridad[\"aviso_desvio_carril\"].unique()\n",
    "lista_equipamientos= []\n",
    "lista_equipamientos.extend(lista_seg1)\n",
    "lista_equipamientos.extend(lista_seg2)\n",
    "lista_equipamientos.extend(lista_seg3)"
   ]
  },
  {
   "cell_type": "code",
   "execution_count": 23,
   "metadata": {},
   "outputs": [
    {
     "data": {
      "text/plain": [
       "np.int64(6)"
      ]
     },
     "execution_count": 23,
     "metadata": {},
     "output_type": "execute_result"
    }
   ],
   "source": [
    "df_equipamientos=pd.DataFrame(lista_equipamientos)\n",
    "df_equipamientos.duplicated().sum()"
   ]
  },
  {
   "cell_type": "code",
   "execution_count": 24,
   "metadata": {},
   "outputs": [
    {
     "data": {
      "text/html": [
       "<div>\n",
       "<style scoped>\n",
       "    .dataframe tbody tr th:only-of-type {\n",
       "        vertical-align: middle;\n",
       "    }\n",
       "\n",
       "    .dataframe tbody tr th {\n",
       "        vertical-align: top;\n",
       "    }\n",
       "\n",
       "    .dataframe thead th {\n",
       "        text-align: right;\n",
       "    }\n",
       "</style>\n",
       "<table border=\"1\" class=\"dataframe\">\n",
       "  <thead>\n",
       "    <tr style=\"text-align: right;\">\n",
       "      <th></th>\n",
       "      <th>id_equipamiento</th>\n",
       "      <th>equipamiento</th>\n",
       "    </tr>\n",
       "  </thead>\n",
       "  <tbody>\n",
       "    <tr>\n",
       "      <th>0</th>\n",
       "      <td>1</td>\n",
       "      <td>Standard</td>\n",
       "    </tr>\n",
       "    <tr>\n",
       "      <th>1</th>\n",
       "      <td>2</td>\n",
       "      <td>Optional</td>\n",
       "    </tr>\n",
       "    <tr>\n",
       "      <th>2</th>\n",
       "      <td>3</td>\n",
       "      <td>No</td>\n",
       "    </tr>\n",
       "    <tr>\n",
       "      <th>3</th>\n",
       "      <td>4</td>\n",
       "      <td>Standard &amp; Optional</td>\n",
       "    </tr>\n",
       "  </tbody>\n",
       "</table>\n",
       "</div>"
      ],
      "text/plain": [
       "   id_equipamiento         equipamiento\n",
       "0                1             Standard\n",
       "1                2             Optional\n",
       "2                3                   No\n",
       "3                4  Standard & Optional"
      ]
     },
     "execution_count": 24,
     "metadata": {},
     "output_type": "execute_result"
    }
   ],
   "source": [
    "df_equipamientos.drop_duplicates(inplace=True)\n",
    "df_equipamientos.reset_index(drop=True, inplace=True)\n",
    "df_equipamientos.index=df_equipamientos.index+1\n",
    "df_equipamientos.reset_index(inplace=True)\n",
    "dicc_equipamientos={\n",
    "            \"index\": \"id_equipamiento\",\n",
    "            0 : \"equipamiento\"}\n",
    "df_equipamientos.columns=df_equipamientos.columns.map(dicc_equipamientos)   \n",
    "df_equipamientos"
   ]
  },
  {
   "cell_type": "markdown",
   "metadata": {},
   "source": [
    "CONTINUACION CREACION DE TABLAS"
   ]
  },
  {
   "cell_type": "markdown",
   "metadata": {},
   "source": [
    "PROVINCIA"
   ]
  },
  {
   "cell_type": "code",
   "execution_count": 25,
   "metadata": {},
   "outputs": [],
   "source": [
    "df_provincias= pd.DataFrame(df_datos_modelos_nuevos[\"provincia\"].unique())\n",
    "df_provincias.index=df_provincias.index+1\n",
    "df_provincias.reset_index(inplace=True)"
   ]
  },
  {
   "cell_type": "code",
   "execution_count": 26,
   "metadata": {},
   "outputs": [
    {
     "data": {
      "text/html": [
       "<div>\n",
       "<style scoped>\n",
       "    .dataframe tbody tr th:only-of-type {\n",
       "        vertical-align: middle;\n",
       "    }\n",
       "\n",
       "    .dataframe tbody tr th {\n",
       "        vertical-align: top;\n",
       "    }\n",
       "\n",
       "    .dataframe thead th {\n",
       "        text-align: right;\n",
       "    }\n",
       "</style>\n",
       "<table border=\"1\" class=\"dataframe\">\n",
       "  <thead>\n",
       "    <tr style=\"text-align: right;\">\n",
       "      <th></th>\n",
       "      <th>id_provincia</th>\n",
       "      <th>provincia</th>\n",
       "    </tr>\n",
       "  </thead>\n",
       "  <tbody>\n",
       "    <tr>\n",
       "      <th>0</th>\n",
       "      <td>1</td>\n",
       "      <td>Madrid</td>\n",
       "    </tr>\n",
       "  </tbody>\n",
       "</table>\n",
       "</div>"
      ],
      "text/plain": [
       "   id_provincia provincia\n",
       "0             1    Madrid"
      ]
     },
     "execution_count": 26,
     "metadata": {},
     "output_type": "execute_result"
    }
   ],
   "source": [
    "dicc_provincias={\n",
    "            \"index\": \"id_provincia\",\n",
    "            0 : \"provincia\"}\n",
    "df_provincias.columns=df_provincias.columns.map(dicc_provincias)  \n",
    "df_provincias"
   ]
  },
  {
   "cell_type": "markdown",
   "metadata": {},
   "source": [
    "TIPO"
   ]
  },
  {
   "cell_type": "code",
   "execution_count": 27,
   "metadata": {},
   "outputs": [],
   "source": [
    "df_cambio_marcha= pd.DataFrame(df_segunda_mano[\"tipo\"].unique())\n",
    "df_cambio_marcha.index=df_cambio_marcha.index+1\n",
    "df_cambio_marcha.reset_index(inplace=True)"
   ]
  },
  {
   "cell_type": "code",
   "execution_count": 28,
   "metadata": {},
   "outputs": [
    {
     "data": {
      "text/html": [
       "<div>\n",
       "<style scoped>\n",
       "    .dataframe tbody tr th:only-of-type {\n",
       "        vertical-align: middle;\n",
       "    }\n",
       "\n",
       "    .dataframe tbody tr th {\n",
       "        vertical-align: top;\n",
       "    }\n",
       "\n",
       "    .dataframe thead th {\n",
       "        text-align: right;\n",
       "    }\n",
       "</style>\n",
       "<table border=\"1\" class=\"dataframe\">\n",
       "  <thead>\n",
       "    <tr style=\"text-align: right;\">\n",
       "      <th></th>\n",
       "      <th>id_cambio</th>\n",
       "      <th>tipo</th>\n",
       "    </tr>\n",
       "  </thead>\n",
       "  <tbody>\n",
       "    <tr>\n",
       "      <th>0</th>\n",
       "      <td>1</td>\n",
       "      <td>Manual</td>\n",
       "    </tr>\n",
       "    <tr>\n",
       "      <th>1</th>\n",
       "      <td>2</td>\n",
       "      <td>Automático</td>\n",
       "    </tr>\n",
       "  </tbody>\n",
       "</table>\n",
       "</div>"
      ],
      "text/plain": [
       "   id_cambio        tipo\n",
       "0          1      Manual\n",
       "1          2  Automático"
      ]
     },
     "execution_count": 28,
     "metadata": {},
     "output_type": "execute_result"
    }
   ],
   "source": [
    "dicc_tipos={\n",
    "            \"index\": \"id_cambio\",\n",
    "            0 : \"tipo\"}\n",
    "df_cambio_marcha.columns=df_cambio_marcha.columns.map(dicc_tipos)  \n",
    "df_cambio_marcha"
   ]
  },
  {
   "cell_type": "markdown",
   "metadata": {},
   "source": [
    "MODELO"
   ]
  },
  {
   "cell_type": "code",
   "execution_count": 29,
   "metadata": {},
   "outputs": [],
   "source": [
    "df_modelos= pd.DataFrame(df_datos_modelos_nuevos[\"modelo\"].unique())\n",
    "df_modelos.index=df_modelos.index+1\n",
    "df_modelos.reset_index(inplace=True)"
   ]
  },
  {
   "cell_type": "code",
   "execution_count": 30,
   "metadata": {},
   "outputs": [
    {
     "data": {
      "text/html": [
       "<div>\n",
       "<style scoped>\n",
       "    .dataframe tbody tr th:only-of-type {\n",
       "        vertical-align: middle;\n",
       "    }\n",
       "\n",
       "    .dataframe tbody tr th {\n",
       "        vertical-align: top;\n",
       "    }\n",
       "\n",
       "    .dataframe thead th {\n",
       "        text-align: right;\n",
       "    }\n",
       "</style>\n",
       "<table border=\"1\" class=\"dataframe\">\n",
       "  <thead>\n",
       "    <tr style=\"text-align: right;\">\n",
       "      <th></th>\n",
       "      <th>id_modelo</th>\n",
       "      <th>modelo</th>\n",
       "    </tr>\n",
       "  </thead>\n",
       "  <tbody>\n",
       "    <tr>\n",
       "      <th>0</th>\n",
       "      <td>1</td>\n",
       "      <td>Nissan Qashqai</td>\n",
       "    </tr>\n",
       "    <tr>\n",
       "      <th>1</th>\n",
       "      <td>2</td>\n",
       "      <td>Nissan Qashqai híbrido</td>\n",
       "    </tr>\n",
       "    <tr>\n",
       "      <th>2</th>\n",
       "      <td>3</td>\n",
       "      <td>Nissan Juke</td>\n",
       "    </tr>\n",
       "    <tr>\n",
       "      <th>3</th>\n",
       "      <td>4</td>\n",
       "      <td>Nissan Juke híbrido</td>\n",
       "    </tr>\n",
       "    <tr>\n",
       "      <th>4</th>\n",
       "      <td>5</td>\n",
       "      <td>Nissan X-Trail</td>\n",
       "    </tr>\n",
       "  </tbody>\n",
       "</table>\n",
       "</div>"
      ],
      "text/plain": [
       "   id_modelo                  modelo\n",
       "0          1          Nissan Qashqai\n",
       "1          2  Nissan Qashqai híbrido\n",
       "2          3             Nissan Juke\n",
       "3          4     Nissan Juke híbrido\n",
       "4          5          Nissan X-Trail"
      ]
     },
     "execution_count": 30,
     "metadata": {},
     "output_type": "execute_result"
    }
   ],
   "source": [
    "dicc_modelos={\n",
    "            \"index\": \"id_modelo\",\n",
    "            0 : \"modelo\"}\n",
    "df_modelos.columns=df_modelos.columns.map(dicc_modelos)  \n",
    "df_modelos.head()"
   ]
  },
  {
   "cell_type": "markdown",
   "metadata": {},
   "source": [
    "AHORA TOCA SUSTITUIR LOS IDS EN LAS TABLAS GRANDES"
   ]
  },
  {
   "cell_type": "code",
   "execution_count": 31,
   "metadata": {},
   "outputs": [
    {
     "data": {
      "text/html": [
       "<div>\n",
       "<style scoped>\n",
       "    .dataframe tbody tr th:only-of-type {\n",
       "        vertical-align: middle;\n",
       "    }\n",
       "\n",
       "    .dataframe tbody tr th {\n",
       "        vertical-align: top;\n",
       "    }\n",
       "\n",
       "    .dataframe thead th {\n",
       "        text-align: right;\n",
       "    }\n",
       "</style>\n",
       "<table border=\"1\" class=\"dataframe\">\n",
       "  <thead>\n",
       "    <tr style=\"text-align: right;\">\n",
       "      <th></th>\n",
       "      <th>id_segunda_mano</th>\n",
       "      <th>version</th>\n",
       "      <th>kilometraje</th>\n",
       "      <th>tipo</th>\n",
       "      <th>anio</th>\n",
       "      <th>motor</th>\n",
       "      <th>potencia</th>\n",
       "      <th>precio</th>\n",
       "      <th>provincia</th>\n",
       "    </tr>\n",
       "  </thead>\n",
       "  <tbody>\n",
       "    <tr>\n",
       "      <th>0</th>\n",
       "      <td>1</td>\n",
       "      <td>Nissan Qashqai 1.2 DIG-T Acenta 4x2</td>\n",
       "      <td>121649</td>\n",
       "      <td>Manual</td>\n",
       "      <td>2015</td>\n",
       "      <td>Gasolina</td>\n",
       "      <td>116</td>\n",
       "      <td>11480</td>\n",
       "      <td>Madrid</td>\n",
       "    </tr>\n",
       "    <tr>\n",
       "      <th>1</th>\n",
       "      <td>2</td>\n",
       "      <td>Nissan Juke 1.5dCi Visia</td>\n",
       "      <td>260000</td>\n",
       "      <td>Manual</td>\n",
       "      <td>2012</td>\n",
       "      <td>Diésel</td>\n",
       "      <td>110</td>\n",
       "      <td>6500</td>\n",
       "      <td>Madrid</td>\n",
       "    </tr>\n",
       "    <tr>\n",
       "      <th>2</th>\n",
       "      <td>3</td>\n",
       "      <td>Nissan Qashqai DIG-T 103kW (140CV) mHEV 4x2 Ac...</td>\n",
       "      <td>11290</td>\n",
       "      <td>Manual</td>\n",
       "      <td>2023</td>\n",
       "      <td>Electro/Gasolina</td>\n",
       "      <td>140</td>\n",
       "      <td>22000</td>\n",
       "      <td>Madrid</td>\n",
       "    </tr>\n",
       "  </tbody>\n",
       "</table>\n",
       "</div>"
      ],
      "text/plain": [
       "   id_segunda_mano                                            version  \\\n",
       "0                1                Nissan Qashqai 1.2 DIG-T Acenta 4x2   \n",
       "1                2                           Nissan Juke 1.5dCi Visia   \n",
       "2                3  Nissan Qashqai DIG-T 103kW (140CV) mHEV 4x2 Ac...   \n",
       "\n",
       "   kilometraje    tipo  anio             motor  potencia  precio provincia  \n",
       "0       121649  Manual  2015          Gasolina       116   11480    Madrid  \n",
       "1       260000  Manual  2012            Diésel       110    6500    Madrid  \n",
       "2        11290  Manual  2023  Electro/Gasolina       140   22000    Madrid  "
      ]
     },
     "execution_count": 31,
     "metadata": {},
     "output_type": "execute_result"
    }
   ],
   "source": [
    "df_segunda_mano.head(3)"
   ]
  },
  {
   "cell_type": "code",
   "execution_count": 32,
   "metadata": {},
   "outputs": [
    {
     "data": {
      "text/html": [
       "<div>\n",
       "<style scoped>\n",
       "    .dataframe tbody tr th:only-of-type {\n",
       "        vertical-align: middle;\n",
       "    }\n",
       "\n",
       "    .dataframe tbody tr th {\n",
       "        vertical-align: top;\n",
       "    }\n",
       "\n",
       "    .dataframe thead th {\n",
       "        text-align: right;\n",
       "    }\n",
       "</style>\n",
       "<table border=\"1\" class=\"dataframe\">\n",
       "  <thead>\n",
       "    <tr style=\"text-align: right;\">\n",
       "      <th></th>\n",
       "      <th>id_modelo_nuevo</th>\n",
       "      <th>version</th>\n",
       "      <th>puertas</th>\n",
       "      <th>potencia</th>\n",
       "      <th>consumo</th>\n",
       "      <th>motor</th>\n",
       "      <th>precio</th>\n",
       "      <th>modelo</th>\n",
       "      <th>provincia</th>\n",
       "      <th>anio</th>\n",
       "    </tr>\n",
       "  </thead>\n",
       "  <tbody>\n",
       "    <tr>\n",
       "      <th>0</th>\n",
       "      <td>1</td>\n",
       "      <td>NISSAN QASHQAI 1.3 DIG-T MHEV 103KW (140CV) AC...</td>\n",
       "      <td>5</td>\n",
       "      <td>140</td>\n",
       "      <td>6.3</td>\n",
       "      <td>MHEV Gasolina</td>\n",
       "      <td>31200</td>\n",
       "      <td>Nissan Qashqai</td>\n",
       "      <td>Madrid</td>\n",
       "      <td>2024</td>\n",
       "    </tr>\n",
       "    <tr>\n",
       "      <th>1</th>\n",
       "      <td>2</td>\n",
       "      <td>NISSAN QASHQAI (O)1.3 DIG-T MHEV 103KW (140CV)...</td>\n",
       "      <td>5</td>\n",
       "      <td>140</td>\n",
       "      <td>6.3</td>\n",
       "      <td>MHEV Gasolina</td>\n",
       "      <td>32700</td>\n",
       "      <td>Nissan Qashqai</td>\n",
       "      <td>Madrid</td>\n",
       "      <td>2024</td>\n",
       "    </tr>\n",
       "    <tr>\n",
       "      <th>2</th>\n",
       "      <td>3</td>\n",
       "      <td>NISSAN QASHQAI 1.3 DIG-T MHEV 116KW (158CV) AC...</td>\n",
       "      <td>5</td>\n",
       "      <td>158</td>\n",
       "      <td>6.3</td>\n",
       "      <td>MHEV Gasolina</td>\n",
       "      <td>34300</td>\n",
       "      <td>Nissan Qashqai</td>\n",
       "      <td>Madrid</td>\n",
       "      <td>2024</td>\n",
       "    </tr>\n",
       "  </tbody>\n",
       "</table>\n",
       "</div>"
      ],
      "text/plain": [
       "   id_modelo_nuevo                                            version  \\\n",
       "0                1  NISSAN QASHQAI 1.3 DIG-T MHEV 103KW (140CV) AC...   \n",
       "1                2  NISSAN QASHQAI (O)1.3 DIG-T MHEV 103KW (140CV)...   \n",
       "2                3  NISSAN QASHQAI 1.3 DIG-T MHEV 116KW (158CV) AC...   \n",
       "\n",
       "   puertas  potencia  consumo          motor  precio          modelo  \\\n",
       "0        5       140      6.3  MHEV Gasolina   31200  Nissan Qashqai   \n",
       "1        5       140      6.3  MHEV Gasolina   32700  Nissan Qashqai   \n",
       "2        5       158      6.3  MHEV Gasolina   34300  Nissan Qashqai   \n",
       "\n",
       "  provincia  anio  \n",
       "0    Madrid  2024  \n",
       "1    Madrid  2024  \n",
       "2    Madrid  2024  "
      ]
     },
     "execution_count": 32,
     "metadata": {},
     "output_type": "execute_result"
    }
   ],
   "source": [
    "df_datos_modelos_nuevos.head(3)"
   ]
  },
  {
   "cell_type": "code",
   "execution_count": 33,
   "metadata": {},
   "outputs": [
    {
     "data": {
      "text/html": [
       "<div>\n",
       "<style scoped>\n",
       "    .dataframe tbody tr th:only-of-type {\n",
       "        vertical-align: middle;\n",
       "    }\n",
       "\n",
       "    .dataframe tbody tr th {\n",
       "        vertical-align: top;\n",
       "    }\n",
       "\n",
       "    .dataframe thead th {\n",
       "        text-align: right;\n",
       "    }\n",
       "</style>\n",
       "<table border=\"1\" class=\"dataframe\">\n",
       "  <thead>\n",
       "    <tr style=\"text-align: right;\">\n",
       "      <th></th>\n",
       "      <th>id_seguridad</th>\n",
       "      <th>evaluacion_general</th>\n",
       "      <th>evaluacion_choque_frontal</th>\n",
       "      <th>evaluacion_choque_lateral</th>\n",
       "      <th>evaluacion_barrera_lateral</th>\n",
       "      <th>evaluacion_vuelco</th>\n",
       "      <th>probabilidad_vuelco</th>\n",
       "      <th>evaluacion_choque_columna</th>\n",
       "      <th>estabilidad_electronica</th>\n",
       "      <th>aviso_choque_frontal</th>\n",
       "      <th>aviso_desvio_carril</th>\n",
       "      <th>quejas</th>\n",
       "      <th>retiradas</th>\n",
       "      <th>investigaciones</th>\n",
       "      <th>anio</th>\n",
       "      <th>marca</th>\n",
       "      <th>version</th>\n",
       "      <th>descripcion</th>\n",
       "      <th>vehiculo_id</th>\n",
       "    </tr>\n",
       "  </thead>\n",
       "  <tbody>\n",
       "    <tr>\n",
       "      <th>0</th>\n",
       "      <td>1</td>\n",
       "      <td>4</td>\n",
       "      <td>4</td>\n",
       "      <td>5</td>\n",
       "      <td>4</td>\n",
       "      <td>4</td>\n",
       "      <td>0.105</td>\n",
       "      <td>5</td>\n",
       "      <td>Standard</td>\n",
       "      <td>No</td>\n",
       "      <td>No</td>\n",
       "      <td>236</td>\n",
       "      <td>1</td>\n",
       "      <td>0</td>\n",
       "      <td>2011</td>\n",
       "      <td>NISSAN</td>\n",
       "      <td>ALTIMA</td>\n",
       "      <td>2011 Nissan Altima 4 DR FWD</td>\n",
       "      <td>357</td>\n",
       "    </tr>\n",
       "    <tr>\n",
       "      <th>1</th>\n",
       "      <td>2</td>\n",
       "      <td>4</td>\n",
       "      <td>4</td>\n",
       "      <td>5</td>\n",
       "      <td>4</td>\n",
       "      <td>4</td>\n",
       "      <td>0.105</td>\n",
       "      <td>5</td>\n",
       "      <td>Standard</td>\n",
       "      <td>No</td>\n",
       "      <td>No</td>\n",
       "      <td>240</td>\n",
       "      <td>1</td>\n",
       "      <td>1</td>\n",
       "      <td>2011</td>\n",
       "      <td>NISSAN</td>\n",
       "      <td>ALTIMA HEV</td>\n",
       "      <td>2011 Nissan Altima HEV 4 DR FWD</td>\n",
       "      <td>359</td>\n",
       "    </tr>\n",
       "    <tr>\n",
       "      <th>2</th>\n",
       "      <td>3</td>\n",
       "      <td>5</td>\n",
       "      <td>4</td>\n",
       "      <td>5</td>\n",
       "      <td>5</td>\n",
       "      <td>4</td>\n",
       "      <td>0.110</td>\n",
       "      <td>4</td>\n",
       "      <td>Standard</td>\n",
       "      <td>No</td>\n",
       "      <td>No</td>\n",
       "      <td>93</td>\n",
       "      <td>0</td>\n",
       "      <td>3</td>\n",
       "      <td>2011</td>\n",
       "      <td>NISSAN</td>\n",
       "      <td>LEAF</td>\n",
       "      <td>2011 Nissan Leaf 5 HB FWD</td>\n",
       "      <td>367</td>\n",
       "    </tr>\n",
       "  </tbody>\n",
       "</table>\n",
       "</div>"
      ],
      "text/plain": [
       "   id_seguridad  evaluacion_general  evaluacion_choque_frontal  \\\n",
       "0             1                   4                          4   \n",
       "1             2                   4                          4   \n",
       "2             3                   5                          4   \n",
       "\n",
       "   evaluacion_choque_lateral  evaluacion_barrera_lateral  evaluacion_vuelco  \\\n",
       "0                          5                           4                  4   \n",
       "1                          5                           4                  4   \n",
       "2                          5                           5                  4   \n",
       "\n",
       "   probabilidad_vuelco  evaluacion_choque_columna estabilidad_electronica  \\\n",
       "0                0.105                          5                Standard   \n",
       "1                0.105                          5                Standard   \n",
       "2                0.110                          4                Standard   \n",
       "\n",
       "  aviso_choque_frontal aviso_desvio_carril  quejas  retiradas  \\\n",
       "0                   No                  No     236          1   \n",
       "1                   No                  No     240          1   \n",
       "2                   No                  No      93          0   \n",
       "\n",
       "   investigaciones  anio   marca     version                      descripcion  \\\n",
       "0                0  2011  NISSAN      ALTIMA      2011 Nissan Altima 4 DR FWD   \n",
       "1                1  2011  NISSAN  ALTIMA HEV  2011 Nissan Altima HEV 4 DR FWD   \n",
       "2                3  2011  NISSAN        LEAF        2011 Nissan Leaf 5 HB FWD   \n",
       "\n",
       "   vehiculo_id  \n",
       "0          357  \n",
       "1          359  \n",
       "2          367  "
      ]
     },
     "execution_count": 33,
     "metadata": {},
     "output_type": "execute_result"
    }
   ],
   "source": [
    "df_seguridad.head(3)"
   ]
  },
  {
   "cell_type": "code",
   "execution_count": 34,
   "metadata": {},
   "outputs": [
    {
     "data": {
      "text/html": [
       "<div>\n",
       "<style scoped>\n",
       "    .dataframe tbody tr th:only-of-type {\n",
       "        vertical-align: middle;\n",
       "    }\n",
       "\n",
       "    .dataframe tbody tr th {\n",
       "        vertical-align: top;\n",
       "    }\n",
       "\n",
       "    .dataframe thead th {\n",
       "        text-align: right;\n",
       "    }\n",
       "</style>\n",
       "<table border=\"1\" class=\"dataframe\">\n",
       "  <thead>\n",
       "    <tr style=\"text-align: right;\">\n",
       "      <th></th>\n",
       "      <th>id_wallapop</th>\n",
       "      <th>descripcion</th>\n",
       "      <th>precio</th>\n",
       "      <th>latitud</th>\n",
       "      <th>longitud</th>\n",
       "      <th>ciudad</th>\n",
       "      <th>provincia</th>\n",
       "    </tr>\n",
       "  </thead>\n",
       "  <tbody>\n",
       "    <tr>\n",
       "      <th>0</th>\n",
       "      <td>1</td>\n",
       "      <td>nisan almera tino del 2004 ba por cadena le ve...</td>\n",
       "      <td>2200</td>\n",
       "      <td>40.301646</td>\n",
       "      <td>-3.441828</td>\n",
       "      <td>Arganda del Rey</td>\n",
       "      <td>Madrid</td>\n",
       "    </tr>\n",
       "    <tr>\n",
       "      <th>1</th>\n",
       "      <td>2</td>\n",
       "      <td>vendo mi coche en perfecto estado de motor y d...</td>\n",
       "      <td>6500</td>\n",
       "      <td>40.620256</td>\n",
       "      <td>-3.910636</td>\n",
       "      <td>Hoyo de Manzanares</td>\n",
       "      <td>Madrid</td>\n",
       "    </tr>\n",
       "    <tr>\n",
       "      <th>2</th>\n",
       "      <td>3</td>\n",
       "      <td>coche usado por mi mujer para ir a trabajar.\\n...</td>\n",
       "      <td>11500</td>\n",
       "      <td>40.494190</td>\n",
       "      <td>-3.961537</td>\n",
       "      <td>Villanueva del Pardillo</td>\n",
       "      <td>Madrid</td>\n",
       "    </tr>\n",
       "  </tbody>\n",
       "</table>\n",
       "</div>"
      ],
      "text/plain": [
       "   id_wallapop                                        descripcion  precio  \\\n",
       "0            1  nisan almera tino del 2004 ba por cadena le ve...    2200   \n",
       "1            2  vendo mi coche en perfecto estado de motor y d...    6500   \n",
       "2            3  coche usado por mi mujer para ir a trabajar.\\n...   11500   \n",
       "\n",
       "     latitud  longitud                   ciudad provincia  \n",
       "0  40.301646 -3.441828          Arganda del Rey    Madrid  \n",
       "1  40.620256 -3.910636       Hoyo de Manzanares    Madrid  \n",
       "2  40.494190 -3.961537  Villanueva del Pardillo    Madrid  "
      ]
     },
     "execution_count": 34,
     "metadata": {},
     "output_type": "execute_result"
    }
   ],
   "source": [
    "df_wallapop.head(3)"
   ]
  },
  {
   "cell_type": "markdown",
   "metadata": {},
   "source": [
    "Primero en wallapop"
   ]
  },
  {
   "cell_type": "code",
   "execution_count": 35,
   "metadata": {},
   "outputs": [
    {
     "data": {
      "text/plain": [
       "{'Madrid': 1}"
      ]
     },
     "execution_count": 35,
     "metadata": {},
     "output_type": "execute_result"
    }
   ],
   "source": [
    "dicc_provincia = df_provincias.set_index('provincia')['id_provincia'].to_dict()\n",
    "dicc_provincia"
   ]
  },
  {
   "cell_type": "code",
   "execution_count": 36,
   "metadata": {},
   "outputs": [],
   "source": [
    "df_wallapop['id_provincia'] = df_wallapop['provincia'].map(dicc_provincia)\n"
   ]
  },
  {
   "cell_type": "code",
   "execution_count": 37,
   "metadata": {},
   "outputs": [],
   "source": [
    "df_wallapop.drop(columns=\"provincia\", inplace=True)"
   ]
  },
  {
   "cell_type": "code",
   "execution_count": 38,
   "metadata": {},
   "outputs": [
    {
     "data": {
      "text/html": [
       "<div>\n",
       "<style scoped>\n",
       "    .dataframe tbody tr th:only-of-type {\n",
       "        vertical-align: middle;\n",
       "    }\n",
       "\n",
       "    .dataframe tbody tr th {\n",
       "        vertical-align: top;\n",
       "    }\n",
       "\n",
       "    .dataframe thead th {\n",
       "        text-align: right;\n",
       "    }\n",
       "</style>\n",
       "<table border=\"1\" class=\"dataframe\">\n",
       "  <thead>\n",
       "    <tr style=\"text-align: right;\">\n",
       "      <th></th>\n",
       "      <th>id_wallapop</th>\n",
       "      <th>descripcion</th>\n",
       "      <th>precio</th>\n",
       "      <th>latitud</th>\n",
       "      <th>longitud</th>\n",
       "      <th>ciudad</th>\n",
       "      <th>id_provincia</th>\n",
       "    </tr>\n",
       "  </thead>\n",
       "  <tbody>\n",
       "    <tr>\n",
       "      <th>0</th>\n",
       "      <td>1</td>\n",
       "      <td>nisan almera tino del 2004 ba por cadena le ve...</td>\n",
       "      <td>2200</td>\n",
       "      <td>40.301646</td>\n",
       "      <td>-3.441828</td>\n",
       "      <td>Arganda del Rey</td>\n",
       "      <td>1</td>\n",
       "    </tr>\n",
       "    <tr>\n",
       "      <th>1</th>\n",
       "      <td>2</td>\n",
       "      <td>vendo mi coche en perfecto estado de motor y d...</td>\n",
       "      <td>6500</td>\n",
       "      <td>40.620256</td>\n",
       "      <td>-3.910636</td>\n",
       "      <td>Hoyo de Manzanares</td>\n",
       "      <td>1</td>\n",
       "    </tr>\n",
       "  </tbody>\n",
       "</table>\n",
       "</div>"
      ],
      "text/plain": [
       "   id_wallapop                                        descripcion  precio  \\\n",
       "0            1  nisan almera tino del 2004 ba por cadena le ve...    2200   \n",
       "1            2  vendo mi coche en perfecto estado de motor y d...    6500   \n",
       "\n",
       "     latitud  longitud              ciudad  id_provincia  \n",
       "0  40.301646 -3.441828     Arganda del Rey             1  \n",
       "1  40.620256 -3.910636  Hoyo de Manzanares             1  "
      ]
     },
     "execution_count": 38,
     "metadata": {},
     "output_type": "execute_result"
    }
   ],
   "source": [
    "df_wallapop.head(2)"
   ]
  },
  {
   "cell_type": "markdown",
   "metadata": {},
   "source": [
    "Segundo en nuevos"
   ]
  },
  {
   "cell_type": "code",
   "execution_count": 39,
   "metadata": {},
   "outputs": [],
   "source": [
    "dicc_potencia = df_potencias.set_index('potencia')['id_potencia'].to_dict()\n",
    "dicc_motor = df_motores.set_index('motor')['id_motor'].to_dict()\n",
    "dicc_modelo = df_modelos.set_index('modelo')['id_modelo'].to_dict()\n",
    "dicc_anio = df_anios.set_index('anio')['id_anio'].to_dict()"
   ]
  },
  {
   "cell_type": "code",
   "execution_count": 40,
   "metadata": {},
   "outputs": [],
   "source": [
    "df_datos_modelos_nuevos['id_provincia'] = df_datos_modelos_nuevos['provincia'].map(dicc_provincia)\n",
    "df_datos_modelos_nuevos['id_potencia'] = df_datos_modelos_nuevos['potencia'].map(dicc_potencia)\n",
    "df_datos_modelos_nuevos['id_motor'] = df_datos_modelos_nuevos['motor'].map(dicc_motor)\n",
    "df_datos_modelos_nuevos['id_modelo'] = df_datos_modelos_nuevos['modelo'].map(dicc_modelo)\n",
    "df_datos_modelos_nuevos['id_anio'] = df_datos_modelos_nuevos['anio'].map(dicc_anio)\n"
   ]
  },
  {
   "cell_type": "code",
   "execution_count": 41,
   "metadata": {},
   "outputs": [],
   "source": [
    "df_datos_modelos_nuevos.drop(columns=\"provincia\", inplace=True)\n",
    "df_datos_modelos_nuevos.drop(columns=\"potencia\", inplace=True)\n",
    "df_datos_modelos_nuevos.drop(columns=\"motor\", inplace=True)\n",
    "df_datos_modelos_nuevos.drop(columns=\"modelo\", inplace=True)\n",
    "df_datos_modelos_nuevos.drop(columns=\"anio\", inplace=True)"
   ]
  },
  {
   "cell_type": "code",
   "execution_count": 42,
   "metadata": {},
   "outputs": [
    {
     "data": {
      "text/html": [
       "<div>\n",
       "<style scoped>\n",
       "    .dataframe tbody tr th:only-of-type {\n",
       "        vertical-align: middle;\n",
       "    }\n",
       "\n",
       "    .dataframe tbody tr th {\n",
       "        vertical-align: top;\n",
       "    }\n",
       "\n",
       "    .dataframe thead th {\n",
       "        text-align: right;\n",
       "    }\n",
       "</style>\n",
       "<table border=\"1\" class=\"dataframe\">\n",
       "  <thead>\n",
       "    <tr style=\"text-align: right;\">\n",
       "      <th></th>\n",
       "      <th>id_modelo_nuevo</th>\n",
       "      <th>version</th>\n",
       "      <th>puertas</th>\n",
       "      <th>consumo</th>\n",
       "      <th>precio</th>\n",
       "      <th>id_provincia</th>\n",
       "      <th>id_potencia</th>\n",
       "      <th>id_motor</th>\n",
       "      <th>id_modelo</th>\n",
       "      <th>id_anio</th>\n",
       "    </tr>\n",
       "  </thead>\n",
       "  <tbody>\n",
       "    <tr>\n",
       "      <th>0</th>\n",
       "      <td>1</td>\n",
       "      <td>NISSAN QASHQAI 1.3 DIG-T MHEV 103KW (140CV) AC...</td>\n",
       "      <td>5</td>\n",
       "      <td>6.3</td>\n",
       "      <td>31200</td>\n",
       "      <td>1</td>\n",
       "      <td>1</td>\n",
       "      <td>1</td>\n",
       "      <td>1</td>\n",
       "      <td>14</td>\n",
       "    </tr>\n",
       "    <tr>\n",
       "      <th>1</th>\n",
       "      <td>2</td>\n",
       "      <td>NISSAN QASHQAI (O)1.3 DIG-T MHEV 103KW (140CV)...</td>\n",
       "      <td>5</td>\n",
       "      <td>6.3</td>\n",
       "      <td>32700</td>\n",
       "      <td>1</td>\n",
       "      <td>1</td>\n",
       "      <td>1</td>\n",
       "      <td>1</td>\n",
       "      <td>14</td>\n",
       "    </tr>\n",
       "  </tbody>\n",
       "</table>\n",
       "</div>"
      ],
      "text/plain": [
       "   id_modelo_nuevo                                            version  \\\n",
       "0                1  NISSAN QASHQAI 1.3 DIG-T MHEV 103KW (140CV) AC...   \n",
       "1                2  NISSAN QASHQAI (O)1.3 DIG-T MHEV 103KW (140CV)...   \n",
       "\n",
       "   puertas  consumo  precio  id_provincia  id_potencia  id_motor  id_modelo  \\\n",
       "0        5      6.3   31200             1            1         1          1   \n",
       "1        5      6.3   32700             1            1         1          1   \n",
       "\n",
       "   id_anio  \n",
       "0       14  \n",
       "1       14  "
      ]
     },
     "execution_count": 42,
     "metadata": {},
     "output_type": "execute_result"
    }
   ],
   "source": [
    "df_datos_modelos_nuevos.head(2)"
   ]
  },
  {
   "cell_type": "markdown",
   "metadata": {},
   "source": [
    "Tercero en segunda mano"
   ]
  },
  {
   "cell_type": "code",
   "execution_count": 43,
   "metadata": {},
   "outputs": [],
   "source": [
    "dicc_cambio = df_cambio_marcha.set_index('tipo')['id_cambio'].to_dict()"
   ]
  },
  {
   "cell_type": "code",
   "execution_count": 44,
   "metadata": {},
   "outputs": [],
   "source": [
    "df_segunda_mano['id_provincia'] = df_segunda_mano['provincia'].map(dicc_provincia)\n",
    "df_segunda_mano['id_potencia'] = df_segunda_mano['potencia'].map(dicc_potencia)\n",
    "df_segunda_mano['id_motor'] = df_segunda_mano['motor'].map(dicc_motor)\n",
    "df_segunda_mano['id_cambio'] = df_segunda_mano['tipo'].map(dicc_cambio)\n",
    "df_segunda_mano['id_anio'] = df_segunda_mano['anio'].map(dicc_anio)\n"
   ]
  },
  {
   "cell_type": "code",
   "execution_count": 45,
   "metadata": {},
   "outputs": [],
   "source": [
    "df_segunda_mano.drop(columns=\"provincia\", inplace=True)\n",
    "df_segunda_mano.drop(columns=\"potencia\", inplace=True)\n",
    "df_segunda_mano.drop(columns=\"motor\", inplace=True)\n",
    "df_segunda_mano.drop(columns=\"tipo\", inplace=True)\n",
    "df_segunda_mano.drop(columns=\"anio\", inplace=True)"
   ]
  },
  {
   "cell_type": "code",
   "execution_count": 46,
   "metadata": {},
   "outputs": [
    {
     "data": {
      "text/html": [
       "<div>\n",
       "<style scoped>\n",
       "    .dataframe tbody tr th:only-of-type {\n",
       "        vertical-align: middle;\n",
       "    }\n",
       "\n",
       "    .dataframe tbody tr th {\n",
       "        vertical-align: top;\n",
       "    }\n",
       "\n",
       "    .dataframe thead th {\n",
       "        text-align: right;\n",
       "    }\n",
       "</style>\n",
       "<table border=\"1\" class=\"dataframe\">\n",
       "  <thead>\n",
       "    <tr style=\"text-align: right;\">\n",
       "      <th></th>\n",
       "      <th>id_segunda_mano</th>\n",
       "      <th>version</th>\n",
       "      <th>kilometraje</th>\n",
       "      <th>precio</th>\n",
       "      <th>id_provincia</th>\n",
       "      <th>id_potencia</th>\n",
       "      <th>id_motor</th>\n",
       "      <th>id_cambio</th>\n",
       "      <th>id_anio</th>\n",
       "    </tr>\n",
       "  </thead>\n",
       "  <tbody>\n",
       "    <tr>\n",
       "      <th>0</th>\n",
       "      <td>1</td>\n",
       "      <td>Nissan Qashqai 1.2 DIG-T Acenta 4x2</td>\n",
       "      <td>121649</td>\n",
       "      <td>11480</td>\n",
       "      <td>1</td>\n",
       "      <td>18</td>\n",
       "      <td>3</td>\n",
       "      <td>1</td>\n",
       "      <td>5</td>\n",
       "    </tr>\n",
       "    <tr>\n",
       "      <th>1</th>\n",
       "      <td>2</td>\n",
       "      <td>Nissan Juke 1.5dCi Visia</td>\n",
       "      <td>260000</td>\n",
       "      <td>6500</td>\n",
       "      <td>1</td>\n",
       "      <td>15</td>\n",
       "      <td>6</td>\n",
       "      <td>1</td>\n",
       "      <td>2</td>\n",
       "    </tr>\n",
       "  </tbody>\n",
       "</table>\n",
       "</div>"
      ],
      "text/plain": [
       "   id_segunda_mano                              version  kilometraje  precio  \\\n",
       "0                1  Nissan Qashqai 1.2 DIG-T Acenta 4x2       121649   11480   \n",
       "1                2             Nissan Juke 1.5dCi Visia       260000    6500   \n",
       "\n",
       "   id_provincia  id_potencia  id_motor  id_cambio  id_anio  \n",
       "0             1           18         3          1        5  \n",
       "1             1           15         6          1        2  "
      ]
     },
     "execution_count": 46,
     "metadata": {},
     "output_type": "execute_result"
    }
   ],
   "source": [
    "df_segunda_mano.head(2)"
   ]
  },
  {
   "cell_type": "markdown",
   "metadata": {},
   "source": [
    "Por útimo la Seguridad"
   ]
  },
  {
   "cell_type": "code",
   "execution_count": 47,
   "metadata": {},
   "outputs": [],
   "source": [
    "dicc_equipamiento = df_equipamientos.set_index('equipamiento')['id_equipamiento'].to_dict()"
   ]
  },
  {
   "cell_type": "code",
   "execution_count": 48,
   "metadata": {},
   "outputs": [],
   "source": [
    "df_seguridad['id_anio'] = df_seguridad['anio'].map(dicc_anio)\n",
    "df_seguridad['id_equipamiento_aviso_choque_front'] = df_seguridad['aviso_choque_frontal'].map(dicc_equipamiento)\n",
    "df_seguridad['id_equipamiento_aviso_desvio_carril'] = df_seguridad['aviso_desvio_carril'].map(dicc_equipamiento)\n",
    "df_seguridad['id_equipamiento_estabilidad_electronica'] = df_seguridad['estabilidad_electronica'].map(dicc_equipamiento)"
   ]
  },
  {
   "cell_type": "code",
   "execution_count": 49,
   "metadata": {},
   "outputs": [],
   "source": [
    "df_seguridad.drop(columns=\"anio\", inplace=True)\n",
    "df_seguridad.drop(columns=\"estabilidad_electronica\", inplace=True)\n",
    "df_seguridad.drop(columns=\"aviso_choque_frontal\", inplace=True)\n",
    "df_seguridad.drop(columns=\"aviso_desvio_carril\", inplace=True)"
   ]
  },
  {
   "cell_type": "code",
   "execution_count": 50,
   "metadata": {},
   "outputs": [
    {
     "data": {
      "text/html": [
       "<div>\n",
       "<style scoped>\n",
       "    .dataframe tbody tr th:only-of-type {\n",
       "        vertical-align: middle;\n",
       "    }\n",
       "\n",
       "    .dataframe tbody tr th {\n",
       "        vertical-align: top;\n",
       "    }\n",
       "\n",
       "    .dataframe thead th {\n",
       "        text-align: right;\n",
       "    }\n",
       "</style>\n",
       "<table border=\"1\" class=\"dataframe\">\n",
       "  <thead>\n",
       "    <tr style=\"text-align: right;\">\n",
       "      <th></th>\n",
       "      <th>id_seguridad</th>\n",
       "      <th>evaluacion_general</th>\n",
       "      <th>evaluacion_choque_frontal</th>\n",
       "      <th>evaluacion_choque_lateral</th>\n",
       "      <th>evaluacion_barrera_lateral</th>\n",
       "      <th>evaluacion_vuelco</th>\n",
       "      <th>probabilidad_vuelco</th>\n",
       "      <th>evaluacion_choque_columna</th>\n",
       "      <th>quejas</th>\n",
       "      <th>retiradas</th>\n",
       "      <th>investigaciones</th>\n",
       "      <th>marca</th>\n",
       "      <th>version</th>\n",
       "      <th>descripcion</th>\n",
       "      <th>vehiculo_id</th>\n",
       "      <th>id_anio</th>\n",
       "      <th>id_equipamiento_aviso_choque_front</th>\n",
       "      <th>id_equipamiento_aviso_desvio_carril</th>\n",
       "      <th>id_equipamiento_estabilidad_electronica</th>\n",
       "    </tr>\n",
       "  </thead>\n",
       "  <tbody>\n",
       "    <tr>\n",
       "      <th>0</th>\n",
       "      <td>1</td>\n",
       "      <td>4</td>\n",
       "      <td>4</td>\n",
       "      <td>5</td>\n",
       "      <td>4</td>\n",
       "      <td>4</td>\n",
       "      <td>0.105</td>\n",
       "      <td>5</td>\n",
       "      <td>236</td>\n",
       "      <td>1</td>\n",
       "      <td>0</td>\n",
       "      <td>NISSAN</td>\n",
       "      <td>ALTIMA</td>\n",
       "      <td>2011 Nissan Altima 4 DR FWD</td>\n",
       "      <td>357</td>\n",
       "      <td>1</td>\n",
       "      <td>3</td>\n",
       "      <td>3</td>\n",
       "      <td>1</td>\n",
       "    </tr>\n",
       "    <tr>\n",
       "      <th>1</th>\n",
       "      <td>2</td>\n",
       "      <td>4</td>\n",
       "      <td>4</td>\n",
       "      <td>5</td>\n",
       "      <td>4</td>\n",
       "      <td>4</td>\n",
       "      <td>0.105</td>\n",
       "      <td>5</td>\n",
       "      <td>240</td>\n",
       "      <td>1</td>\n",
       "      <td>1</td>\n",
       "      <td>NISSAN</td>\n",
       "      <td>ALTIMA HEV</td>\n",
       "      <td>2011 Nissan Altima HEV 4 DR FWD</td>\n",
       "      <td>359</td>\n",
       "      <td>1</td>\n",
       "      <td>3</td>\n",
       "      <td>3</td>\n",
       "      <td>1</td>\n",
       "    </tr>\n",
       "  </tbody>\n",
       "</table>\n",
       "</div>"
      ],
      "text/plain": [
       "   id_seguridad  evaluacion_general  evaluacion_choque_frontal  \\\n",
       "0             1                   4                          4   \n",
       "1             2                   4                          4   \n",
       "\n",
       "   evaluacion_choque_lateral  evaluacion_barrera_lateral  evaluacion_vuelco  \\\n",
       "0                          5                           4                  4   \n",
       "1                          5                           4                  4   \n",
       "\n",
       "   probabilidad_vuelco  evaluacion_choque_columna  quejas  retiradas  \\\n",
       "0                0.105                          5     236          1   \n",
       "1                0.105                          5     240          1   \n",
       "\n",
       "   investigaciones   marca     version                      descripcion  \\\n",
       "0                0  NISSAN      ALTIMA      2011 Nissan Altima 4 DR FWD   \n",
       "1                1  NISSAN  ALTIMA HEV  2011 Nissan Altima HEV 4 DR FWD   \n",
       "\n",
       "   vehiculo_id  id_anio  id_equipamiento_aviso_choque_front  \\\n",
       "0          357        1                                   3   \n",
       "1          359        1                                   3   \n",
       "\n",
       "   id_equipamiento_aviso_desvio_carril  \\\n",
       "0                                    3   \n",
       "1                                    3   \n",
       "\n",
       "   id_equipamiento_estabilidad_electronica  \n",
       "0                                        1  \n",
       "1                                        1  "
      ]
     },
     "execution_count": 50,
     "metadata": {},
     "output_type": "execute_result"
    }
   ],
   "source": [
    "df_seguridad.head(2)"
   ]
  },
  {
   "cell_type": "code",
   "execution_count": 56,
   "metadata": {},
   "outputs": [],
   "source": [
    "df_segunda_mano.to_csv(\"../datos/datos_segunda_mano.csv\")\n",
    "df_seguridad.to_csv(\"../datos/datos_seguridad.csv\")\n",
    "df_datos_modelos_nuevos.to_csv(\"../datos/datos_modelos_nuevos.csv\")\n",
    "df_wallapop.to_csv(\"../datos/datos_wallapop.csv\")"
   ]
  },
  {
   "cell_type": "markdown",
   "metadata": {},
   "source": [
    "AHORA HABRÍA QUE CREAR LA BASE DE DATOS Y SUS RESPECTIVAS TABLAS"
   ]
  },
  {
   "cell_type": "code",
   "execution_count": 51,
   "metadata": {},
   "outputs": [],
   "source": [
    "key= os.getenv(\"key\")"
   ]
  },
  {
   "cell_type": "code",
   "execution_count": 176,
   "metadata": {},
   "outputs": [
    {
     "name": "stdout",
     "output_type": "stream",
     "text": [
      "Error de tipo: la base de datos «Vehiculos» ya existe\n",
      "\n"
     ]
    }
   ],
   "source": [
    "\n",
    "conexion = psycopg2.connect(\n",
    "    host=\"localhost\",       \n",
    "    user=\"postgres\",      \n",
    "    password=key, \n",
    "    port=\"5432\"            \n",
    ")\n",
    "\n",
    "\n",
    "conexion.autocommit = True  \n",
    "cursor = conexion.cursor()\n",
    "\n",
    "nombre_base_datos = \"Vehiculos\"\n",
    "\n",
    "try:\n",
    "    cursor.execute(sql.SQL(\"CREATE DATABASE {}\").format(sql.Identifier(nombre_base_datos)))\n",
    "except psycopg2.Error as e:\n",
    "    print(\"Error de tipo:\", e)\n",
    "\n",
    "\n",
    "\n"
   ]
  },
  {
   "cell_type": "code",
   "execution_count": 177,
   "metadata": {},
   "outputs": [],
   "source": [
    "try:\n",
    "    conexion= psycopg2.connect(\n",
    "        database= \"Vehiculos\",\n",
    "        user= \"postgres\",\n",
    "        password= key,\n",
    "        host= \"localhost\",\n",
    "        port= \"5432\"\n",
    "    )\n",
    "except:\n",
    "    print(f\"Ocurrió el error {e}\")"
   ]
  },
  {
   "cell_type": "markdown",
   "metadata": {},
   "source": [
    "AHORA LAS TABLAS"
   ]
  },
  {
   "cell_type": "markdown",
   "metadata": {},
   "source": [
    "MODELOS"
   ]
  },
  {
   "cell_type": "code",
   "execution_count": 76,
   "metadata": {},
   "outputs": [
    {
     "data": {
      "text/html": [
       "<div>\n",
       "<style scoped>\n",
       "    .dataframe tbody tr th:only-of-type {\n",
       "        vertical-align: middle;\n",
       "    }\n",
       "\n",
       "    .dataframe tbody tr th {\n",
       "        vertical-align: top;\n",
       "    }\n",
       "\n",
       "    .dataframe thead th {\n",
       "        text-align: right;\n",
       "    }\n",
       "</style>\n",
       "<table border=\"1\" class=\"dataframe\">\n",
       "  <thead>\n",
       "    <tr style=\"text-align: right;\">\n",
       "      <th></th>\n",
       "      <th>id_modelo</th>\n",
       "      <th>modelo</th>\n",
       "    </tr>\n",
       "  </thead>\n",
       "  <tbody>\n",
       "    <tr>\n",
       "      <th>0</th>\n",
       "      <td>1</td>\n",
       "      <td>Nissan Qashqai</td>\n",
       "    </tr>\n",
       "    <tr>\n",
       "      <th>1</th>\n",
       "      <td>2</td>\n",
       "      <td>Nissan Qashqai híbrido</td>\n",
       "    </tr>\n",
       "  </tbody>\n",
       "</table>\n",
       "</div>"
      ],
      "text/plain": [
       "   id_modelo                  modelo\n",
       "0          1          Nissan Qashqai\n",
       "1          2  Nissan Qashqai híbrido"
      ]
     },
     "execution_count": 76,
     "metadata": {},
     "output_type": "execute_result"
    }
   ],
   "source": [
    "df_modelos.head(2)"
   ]
  },
  {
   "cell_type": "code",
   "execution_count": 77,
   "metadata": {},
   "outputs": [],
   "source": [
    "cursor=conexion.cursor()\n",
    "query_creacion=\"\"\" \n",
    "CREATE TABLE IF NOT EXISTS modelos(\n",
    "    id_modelo INT PRIMARY KEY,\n",
    "    modelo VARCHAR (150)\n",
    ");\n",
    "\n",
    "\"\"\"\n",
    "\n",
    "\n",
    "cursor.execute(query_creacion)   \n",
    "conexion.commit()\n"
   ]
  },
  {
   "cell_type": "code",
   "execution_count": 78,
   "metadata": {},
   "outputs": [],
   "source": [
    "lista_de_tuplas=[]\n",
    "for fila in df_modelos.values:\n",
    "    lista_de_tuplas.append(tuple(fila))"
   ]
  },
  {
   "cell_type": "code",
   "execution_count": 79,
   "metadata": {},
   "outputs": [],
   "source": [
    "     \n",
    "query_insercion= \"INSERT INTO modelos (id_modelo, modelo) VALUES (%s, %s);\"     \n",
    "\n",
    "cursor.executemany(query_insercion, lista_de_tuplas)          \n",
    "conexion.commit()"
   ]
  },
  {
   "cell_type": "markdown",
   "metadata": {},
   "source": [
    "TIPO"
   ]
  },
  {
   "cell_type": "code",
   "execution_count": 80,
   "metadata": {},
   "outputs": [
    {
     "data": {
      "text/html": [
       "<div>\n",
       "<style scoped>\n",
       "    .dataframe tbody tr th:only-of-type {\n",
       "        vertical-align: middle;\n",
       "    }\n",
       "\n",
       "    .dataframe tbody tr th {\n",
       "        vertical-align: top;\n",
       "    }\n",
       "\n",
       "    .dataframe thead th {\n",
       "        text-align: right;\n",
       "    }\n",
       "</style>\n",
       "<table border=\"1\" class=\"dataframe\">\n",
       "  <thead>\n",
       "    <tr style=\"text-align: right;\">\n",
       "      <th></th>\n",
       "      <th>id_cambio</th>\n",
       "      <th>tipo</th>\n",
       "    </tr>\n",
       "  </thead>\n",
       "  <tbody>\n",
       "    <tr>\n",
       "      <th>0</th>\n",
       "      <td>1</td>\n",
       "      <td>Manual</td>\n",
       "    </tr>\n",
       "    <tr>\n",
       "      <th>1</th>\n",
       "      <td>2</td>\n",
       "      <td>Automático</td>\n",
       "    </tr>\n",
       "  </tbody>\n",
       "</table>\n",
       "</div>"
      ],
      "text/plain": [
       "   id_cambio        tipo\n",
       "0          1      Manual\n",
       "1          2  Automático"
      ]
     },
     "execution_count": 80,
     "metadata": {},
     "output_type": "execute_result"
    }
   ],
   "source": [
    "df_cambio_marcha.head(2)"
   ]
  },
  {
   "cell_type": "code",
   "execution_count": 81,
   "metadata": {},
   "outputs": [],
   "source": [
    "cursor=conexion.cursor()\n",
    "query_creacion=\"\"\" \n",
    "CREATE TABLE IF NOT EXISTS cambio_marcha(\n",
    "    id_cambio INT PRIMARY KEY,\n",
    "    tipo VARCHAR (100)\n",
    ");\n",
    "\n",
    "\"\"\"\n",
    "cursor.execute(query_creacion)   \n",
    "conexion.commit()"
   ]
  },
  {
   "cell_type": "code",
   "execution_count": 82,
   "metadata": {},
   "outputs": [],
   "source": [
    "\n",
    "\n",
    "lista_de_tuplas=[]\n",
    "for fila in df_cambio_marcha.values:\n",
    "    lista_de_tuplas.append(tuple(fila))\n"
   ]
  },
  {
   "cell_type": "code",
   "execution_count": 83,
   "metadata": {},
   "outputs": [],
   "source": [
    "     \n",
    "query_insercion= \"INSERT INTO cambio_marcha (id_cambio, tipo) VALUES (%s, %s);\"     \n",
    "\n",
    "cursor.executemany(query_insercion, lista_de_tuplas)          \n",
    "conexion.commit()"
   ]
  },
  {
   "cell_type": "markdown",
   "metadata": {},
   "source": [
    "Motor"
   ]
  },
  {
   "cell_type": "code",
   "execution_count": 84,
   "metadata": {},
   "outputs": [
    {
     "data": {
      "text/html": [
       "<div>\n",
       "<style scoped>\n",
       "    .dataframe tbody tr th:only-of-type {\n",
       "        vertical-align: middle;\n",
       "    }\n",
       "\n",
       "    .dataframe tbody tr th {\n",
       "        vertical-align: top;\n",
       "    }\n",
       "\n",
       "    .dataframe thead th {\n",
       "        text-align: right;\n",
       "    }\n",
       "</style>\n",
       "<table border=\"1\" class=\"dataframe\">\n",
       "  <thead>\n",
       "    <tr style=\"text-align: right;\">\n",
       "      <th></th>\n",
       "      <th>id_motor</th>\n",
       "      <th>motor</th>\n",
       "    </tr>\n",
       "  </thead>\n",
       "  <tbody>\n",
       "    <tr>\n",
       "      <th>0</th>\n",
       "      <td>1</td>\n",
       "      <td>MHEV Gasolina</td>\n",
       "    </tr>\n",
       "    <tr>\n",
       "      <th>1</th>\n",
       "      <td>2</td>\n",
       "      <td>HEV Gasolina</td>\n",
       "    </tr>\n",
       "  </tbody>\n",
       "</table>\n",
       "</div>"
      ],
      "text/plain": [
       "   id_motor          motor\n",
       "0         1  MHEV Gasolina\n",
       "1         2   HEV Gasolina"
      ]
     },
     "execution_count": 84,
     "metadata": {},
     "output_type": "execute_result"
    }
   ],
   "source": [
    "df_motores.head(2)"
   ]
  },
  {
   "cell_type": "code",
   "execution_count": 85,
   "metadata": {},
   "outputs": [],
   "source": [
    "cursor=conexion.cursor()\n",
    "query_creacion=\"\"\" \n",
    "CREATE TABLE IF NOT EXISTS motores(\n",
    "    id_motor INT PRIMARY KEY,\n",
    "    motor VARCHAR (100)\n",
    ");\n",
    "\n",
    "\"\"\"\n",
    "cursor.execute(query_creacion)   \n",
    "conexion.commit()"
   ]
  },
  {
   "cell_type": "code",
   "execution_count": 86,
   "metadata": {},
   "outputs": [],
   "source": [
    "\n",
    "\n",
    "lista_de_tuplas=[]\n",
    "for fila in df_motores.values:\n",
    "    lista_de_tuplas.append(tuple(fila))\n"
   ]
  },
  {
   "cell_type": "code",
   "execution_count": 87,
   "metadata": {},
   "outputs": [],
   "source": [
    "     \n",
    "query_insercion= \"INSERT INTO motores (id_motor, motor) VALUES (%s, %s);\"     \n",
    "\n",
    "cursor.executemany(query_insercion, lista_de_tuplas)          \n",
    "conexion.commit()"
   ]
  },
  {
   "cell_type": "markdown",
   "metadata": {},
   "source": [
    "POTENCIA"
   ]
  },
  {
   "cell_type": "code",
   "execution_count": 88,
   "metadata": {},
   "outputs": [
    {
     "data": {
      "text/html": [
       "<div>\n",
       "<style scoped>\n",
       "    .dataframe tbody tr th:only-of-type {\n",
       "        vertical-align: middle;\n",
       "    }\n",
       "\n",
       "    .dataframe tbody tr th {\n",
       "        vertical-align: top;\n",
       "    }\n",
       "\n",
       "    .dataframe thead th {\n",
       "        text-align: right;\n",
       "    }\n",
       "</style>\n",
       "<table border=\"1\" class=\"dataframe\">\n",
       "  <thead>\n",
       "    <tr style=\"text-align: right;\">\n",
       "      <th></th>\n",
       "      <th>id_potencia</th>\n",
       "      <th>potencia</th>\n",
       "    </tr>\n",
       "  </thead>\n",
       "  <tbody>\n",
       "    <tr>\n",
       "      <th>0</th>\n",
       "      <td>1</td>\n",
       "      <td>140</td>\n",
       "    </tr>\n",
       "    <tr>\n",
       "      <th>1</th>\n",
       "      <td>2</td>\n",
       "      <td>158</td>\n",
       "    </tr>\n",
       "  </tbody>\n",
       "</table>\n",
       "</div>"
      ],
      "text/plain": [
       "   id_potencia  potencia\n",
       "0            1       140\n",
       "1            2       158"
      ]
     },
     "execution_count": 88,
     "metadata": {},
     "output_type": "execute_result"
    }
   ],
   "source": [
    "df_potencias.head(2)"
   ]
  },
  {
   "cell_type": "code",
   "execution_count": 99,
   "metadata": {},
   "outputs": [],
   "source": [
    "cursor=conexion.cursor()\n",
    "query_creacion=\"\"\" \n",
    "CREATE TABLE IF NOT EXISTS potencias(\n",
    "    id_potencia INT PRIMARY KEY,\n",
    "    potencia INT\n",
    ");\n",
    "\n",
    "\"\"\"\n",
    "cursor.execute(query_creacion)   \n",
    "conexion.commit()"
   ]
  },
  {
   "cell_type": "code",
   "execution_count": 100,
   "metadata": {},
   "outputs": [],
   "source": [
    "\n",
    "\n",
    "lista_de_tuplas=[]\n",
    "for fila in df_potencias.values:\n",
    "    lista_de_tuplas.append(tuple(fila))\n"
   ]
  },
  {
   "cell_type": "code",
   "execution_count": 101,
   "metadata": {},
   "outputs": [],
   "source": [
    "tuplas_int = [tuple(int(valor) for valor in tupla) for tupla in lista_de_tuplas]"
   ]
  },
  {
   "cell_type": "code",
   "execution_count": 102,
   "metadata": {},
   "outputs": [],
   "source": [
    "     \n",
    "query_insercion= \"INSERT INTO potencias (id_potencia, potencia) VALUES (%s, %s);\"     \n",
    "\n",
    "cursor.executemany(query_insercion, tuplas_int)          \n",
    "conexion.commit()"
   ]
  },
  {
   "cell_type": "markdown",
   "metadata": {},
   "source": [
    "ANIO"
   ]
  },
  {
   "cell_type": "code",
   "execution_count": 103,
   "metadata": {},
   "outputs": [
    {
     "data": {
      "text/html": [
       "<div>\n",
       "<style scoped>\n",
       "    .dataframe tbody tr th:only-of-type {\n",
       "        vertical-align: middle;\n",
       "    }\n",
       "\n",
       "    .dataframe tbody tr th {\n",
       "        vertical-align: top;\n",
       "    }\n",
       "\n",
       "    .dataframe thead th {\n",
       "        text-align: right;\n",
       "    }\n",
       "</style>\n",
       "<table border=\"1\" class=\"dataframe\">\n",
       "  <thead>\n",
       "    <tr style=\"text-align: right;\">\n",
       "      <th></th>\n",
       "      <th>id_anio</th>\n",
       "      <th>anio</th>\n",
       "    </tr>\n",
       "  </thead>\n",
       "  <tbody>\n",
       "    <tr>\n",
       "      <th>0</th>\n",
       "      <td>1</td>\n",
       "      <td>2011</td>\n",
       "    </tr>\n",
       "    <tr>\n",
       "      <th>1</th>\n",
       "      <td>2</td>\n",
       "      <td>2012</td>\n",
       "    </tr>\n",
       "  </tbody>\n",
       "</table>\n",
       "</div>"
      ],
      "text/plain": [
       "   id_anio  anio\n",
       "0        1  2011\n",
       "1        2  2012"
      ]
     },
     "execution_count": 103,
     "metadata": {},
     "output_type": "execute_result"
    }
   ],
   "source": [
    "df_anios.head(2)"
   ]
  },
  {
   "cell_type": "code",
   "execution_count": 120,
   "metadata": {},
   "outputs": [],
   "source": [
    "cursor=conexion.cursor()\n",
    "query_creacion=\"\"\" \n",
    "CREATE TABLE IF NOT EXISTS anios(\n",
    "    id_anio INT PRIMARY KEY,\n",
    "    anio INT\n",
    ");\n",
    "\n",
    "\"\"\"\n",
    "cursor.execute(query_creacion)   \n",
    "conexion.commit()"
   ]
  },
  {
   "cell_type": "code",
   "execution_count": 121,
   "metadata": {},
   "outputs": [],
   "source": [
    "\n",
    "\n",
    "lista_de_tuplas=[]\n",
    "for fila in df_anios.values:\n",
    "    lista_de_tuplas.append(tuple(fila))\n",
    "tuplas_int = [tuple(int(valor) for valor in tupla) for tupla in lista_de_tuplas]"
   ]
  },
  {
   "cell_type": "code",
   "execution_count": 122,
   "metadata": {},
   "outputs": [],
   "source": [
    "     \n",
    "query_insercion= \"INSERT INTO anios (id_anio, anio) VALUES (%s, %s);\"     \n",
    "\n",
    "cursor.executemany(query_insercion, tuplas_int)          \n",
    "conexion.commit()"
   ]
  },
  {
   "cell_type": "markdown",
   "metadata": {},
   "source": [
    "PROVINCIAS"
   ]
  },
  {
   "cell_type": "code",
   "execution_count": 123,
   "metadata": {},
   "outputs": [
    {
     "data": {
      "text/html": [
       "<div>\n",
       "<style scoped>\n",
       "    .dataframe tbody tr th:only-of-type {\n",
       "        vertical-align: middle;\n",
       "    }\n",
       "\n",
       "    .dataframe tbody tr th {\n",
       "        vertical-align: top;\n",
       "    }\n",
       "\n",
       "    .dataframe thead th {\n",
       "        text-align: right;\n",
       "    }\n",
       "</style>\n",
       "<table border=\"1\" class=\"dataframe\">\n",
       "  <thead>\n",
       "    <tr style=\"text-align: right;\">\n",
       "      <th></th>\n",
       "      <th>id_provincia</th>\n",
       "      <th>provincia</th>\n",
       "    </tr>\n",
       "  </thead>\n",
       "  <tbody>\n",
       "    <tr>\n",
       "      <th>0</th>\n",
       "      <td>1</td>\n",
       "      <td>Madrid</td>\n",
       "    </tr>\n",
       "  </tbody>\n",
       "</table>\n",
       "</div>"
      ],
      "text/plain": [
       "   id_provincia provincia\n",
       "0             1    Madrid"
      ]
     },
     "execution_count": 123,
     "metadata": {},
     "output_type": "execute_result"
    }
   ],
   "source": [
    "df_provincias.head(1)"
   ]
  },
  {
   "cell_type": "code",
   "execution_count": 124,
   "metadata": {},
   "outputs": [],
   "source": [
    "cursor=conexion.cursor()\n",
    "query_creacion=\"\"\" \n",
    "CREATE TABLE IF NOT EXISTS provincias(\n",
    "    id_provincia INT PRIMARY KEY,\n",
    "    provincia VARCHAR (100)\n",
    ");\n",
    "\n",
    "\"\"\"\n",
    "cursor.execute(query_creacion)   \n",
    "conexion.commit()"
   ]
  },
  {
   "cell_type": "code",
   "execution_count": 125,
   "metadata": {},
   "outputs": [],
   "source": [
    "\n",
    "\n",
    "lista_de_tuplas=[]\n",
    "for fila in df_provincias.values:\n",
    "    lista_de_tuplas.append(tuple(fila))\n"
   ]
  },
  {
   "cell_type": "code",
   "execution_count": 126,
   "metadata": {},
   "outputs": [],
   "source": [
    "     \n",
    "query_insercion= \"INSERT INTO provincias (id_provincia, provincia) VALUES (%s, %s);\"     \n",
    "\n",
    "cursor.executemany(query_insercion, lista_de_tuplas)          \n",
    "conexion.commit()"
   ]
  },
  {
   "cell_type": "markdown",
   "metadata": {},
   "source": [
    "EQUIPAMIENTOS"
   ]
  },
  {
   "cell_type": "code",
   "execution_count": 127,
   "metadata": {},
   "outputs": [
    {
     "data": {
      "text/html": [
       "<div>\n",
       "<style scoped>\n",
       "    .dataframe tbody tr th:only-of-type {\n",
       "        vertical-align: middle;\n",
       "    }\n",
       "\n",
       "    .dataframe tbody tr th {\n",
       "        vertical-align: top;\n",
       "    }\n",
       "\n",
       "    .dataframe thead th {\n",
       "        text-align: right;\n",
       "    }\n",
       "</style>\n",
       "<table border=\"1\" class=\"dataframe\">\n",
       "  <thead>\n",
       "    <tr style=\"text-align: right;\">\n",
       "      <th></th>\n",
       "      <th>id_equipamiento</th>\n",
       "      <th>equipamiento</th>\n",
       "    </tr>\n",
       "  </thead>\n",
       "  <tbody>\n",
       "    <tr>\n",
       "      <th>0</th>\n",
       "      <td>1</td>\n",
       "      <td>Standard</td>\n",
       "    </tr>\n",
       "    <tr>\n",
       "      <th>1</th>\n",
       "      <td>2</td>\n",
       "      <td>Optional</td>\n",
       "    </tr>\n",
       "  </tbody>\n",
       "</table>\n",
       "</div>"
      ],
      "text/plain": [
       "   id_equipamiento equipamiento\n",
       "0                1     Standard\n",
       "1                2     Optional"
      ]
     },
     "execution_count": 127,
     "metadata": {},
     "output_type": "execute_result"
    }
   ],
   "source": [
    "df_equipamientos.head(2)"
   ]
  },
  {
   "cell_type": "code",
   "execution_count": 128,
   "metadata": {},
   "outputs": [],
   "source": [
    "cursor=conexion.cursor()\n",
    "query_creacion=\"\"\" \n",
    "CREATE TABLE IF NOT EXISTS equipamientos(\n",
    "    id_equipamiento INT PRIMARY KEY,\n",
    "    equipamiento VARCHAR (100)\n",
    ");\n",
    "\n",
    "\"\"\"\n",
    "cursor.execute(query_creacion)   \n",
    "conexion.commit()"
   ]
  },
  {
   "cell_type": "code",
   "execution_count": 129,
   "metadata": {},
   "outputs": [],
   "source": [
    "\n",
    "\n",
    "lista_de_tuplas=[]\n",
    "for fila in df_equipamientos.values:\n",
    "    lista_de_tuplas.append(tuple(fila))\n"
   ]
  },
  {
   "cell_type": "code",
   "execution_count": 130,
   "metadata": {},
   "outputs": [],
   "source": [
    "     \n",
    "query_insercion= \"INSERT INTO equipamientos (id_equipamiento, equipamiento) VALUES (%s, %s);\"     \n",
    "\n",
    "cursor.executemany(query_insercion, lista_de_tuplas)          \n",
    "conexion.commit()"
   ]
  },
  {
   "cell_type": "markdown",
   "metadata": {},
   "source": [
    "AHORA TOCAN LAS GRANDES"
   ]
  },
  {
   "cell_type": "markdown",
   "metadata": {},
   "source": [
    "WALLAPOP"
   ]
  },
  {
   "cell_type": "code",
   "execution_count": 150,
   "metadata": {},
   "outputs": [
    {
     "data": {
      "text/html": [
       "<div>\n",
       "<style scoped>\n",
       "    .dataframe tbody tr th:only-of-type {\n",
       "        vertical-align: middle;\n",
       "    }\n",
       "\n",
       "    .dataframe tbody tr th {\n",
       "        vertical-align: top;\n",
       "    }\n",
       "\n",
       "    .dataframe thead th {\n",
       "        text-align: right;\n",
       "    }\n",
       "</style>\n",
       "<table border=\"1\" class=\"dataframe\">\n",
       "  <thead>\n",
       "    <tr style=\"text-align: right;\">\n",
       "      <th></th>\n",
       "      <th>id_wallapop</th>\n",
       "      <th>descripcion</th>\n",
       "      <th>precio</th>\n",
       "      <th>latitud</th>\n",
       "      <th>longitud</th>\n",
       "      <th>ciudad</th>\n",
       "      <th>id_provincia</th>\n",
       "    </tr>\n",
       "  </thead>\n",
       "  <tbody>\n",
       "    <tr>\n",
       "      <th>0</th>\n",
       "      <td>1</td>\n",
       "      <td>nisan almera tino del 2004 ba por cadena le ve...</td>\n",
       "      <td>2200</td>\n",
       "      <td>40.301646</td>\n",
       "      <td>-3.441828</td>\n",
       "      <td>Arganda del Rey</td>\n",
       "      <td>1</td>\n",
       "    </tr>\n",
       "    <tr>\n",
       "      <th>1</th>\n",
       "      <td>2</td>\n",
       "      <td>vendo mi coche en perfecto estado de motor y d...</td>\n",
       "      <td>6500</td>\n",
       "      <td>40.620256</td>\n",
       "      <td>-3.910636</td>\n",
       "      <td>Hoyo de Manzanares</td>\n",
       "      <td>1</td>\n",
       "    </tr>\n",
       "  </tbody>\n",
       "</table>\n",
       "</div>"
      ],
      "text/plain": [
       "   id_wallapop                                        descripcion  precio  \\\n",
       "0            1  nisan almera tino del 2004 ba por cadena le ve...    2200   \n",
       "1            2  vendo mi coche en perfecto estado de motor y d...    6500   \n",
       "\n",
       "     latitud  longitud              ciudad  id_provincia  \n",
       "0  40.301646 -3.441828     Arganda del Rey             1  \n",
       "1  40.620256 -3.910636  Hoyo de Manzanares             1  "
      ]
     },
     "execution_count": 150,
     "metadata": {},
     "output_type": "execute_result"
    }
   ],
   "source": [
    "df_wallapop.head(2)"
   ]
  },
  {
   "cell_type": "code",
   "execution_count": 156,
   "metadata": {},
   "outputs": [],
   "source": [
    "cursor=conexion.cursor()\n",
    "query_creacion=\"\"\" \n",
    "CREATE TABLE IF NOT EXISTS wallapop(\n",
    "    id_wallapop INT PRIMARY KEY,\n",
    "    descripcion VARCHAR (1000),\n",
    "    precio INT,\n",
    "    latitud NUMERIC,\n",
    "    longitud NUMERIC,\n",
    "    ciudad VARCHAR(200),\n",
    "    id_provincia INT,\n",
    "    FOREIGN KEY (id_provincia) REFERENCES provincias(id_provincia) ON DELETE RESTRICT ON UPDATE CASCADE\n",
    ");\n",
    "\"\"\"\n",
    "cursor.execute(query_creacion)   \n",
    "conexion.commit()"
   ]
  },
  {
   "cell_type": "code",
   "execution_count": 157,
   "metadata": {},
   "outputs": [],
   "source": [
    "\n",
    "\n",
    "lista_de_tuplas=[]\n",
    "for fila in df_wallapop.values:\n",
    "    lista_de_tuplas.append(tuple(fila))\n"
   ]
  },
  {
   "cell_type": "code",
   "execution_count": 158,
   "metadata": {},
   "outputs": [],
   "source": [
    "     \n",
    "query_insercion= \"INSERT INTO wallapop (id_wallapop,descripcion,precio,latitud, longitud, ciudad,id_provincia ) VALUES (%s, %s,%s, %s,%s, %s, %s);\"     \n",
    "\n",
    "cursor.executemany(query_insercion, lista_de_tuplas)          \n",
    "conexion.commit()"
   ]
  },
  {
   "cell_type": "markdown",
   "metadata": {},
   "source": [
    "SEGURIDAD"
   ]
  },
  {
   "cell_type": "code",
   "execution_count": 159,
   "metadata": {},
   "outputs": [
    {
     "data": {
      "text/html": [
       "<div>\n",
       "<style scoped>\n",
       "    .dataframe tbody tr th:only-of-type {\n",
       "        vertical-align: middle;\n",
       "    }\n",
       "\n",
       "    .dataframe tbody tr th {\n",
       "        vertical-align: top;\n",
       "    }\n",
       "\n",
       "    .dataframe thead th {\n",
       "        text-align: right;\n",
       "    }\n",
       "</style>\n",
       "<table border=\"1\" class=\"dataframe\">\n",
       "  <thead>\n",
       "    <tr style=\"text-align: right;\">\n",
       "      <th></th>\n",
       "      <th>id_seguridad</th>\n",
       "      <th>evaluacion_general</th>\n",
       "      <th>evaluacion_choque_frontal</th>\n",
       "      <th>evaluacion_choque_lateral</th>\n",
       "      <th>evaluacion_barrera_lateral</th>\n",
       "      <th>evaluacion_vuelco</th>\n",
       "      <th>probabilidad_vuelco</th>\n",
       "      <th>evaluacion_choque_columna</th>\n",
       "      <th>quejas</th>\n",
       "      <th>retiradas</th>\n",
       "      <th>investigaciones</th>\n",
       "      <th>marca</th>\n",
       "      <th>version</th>\n",
       "      <th>descripcion</th>\n",
       "      <th>vehiculo_id</th>\n",
       "      <th>id_anio</th>\n",
       "      <th>id_equipamiento_aviso_choque_front</th>\n",
       "      <th>id_equipamiento_aviso_desvio_carril</th>\n",
       "      <th>id_equipamiento_estabilidad_electronica</th>\n",
       "    </tr>\n",
       "  </thead>\n",
       "  <tbody>\n",
       "    <tr>\n",
       "      <th>0</th>\n",
       "      <td>1</td>\n",
       "      <td>4</td>\n",
       "      <td>4</td>\n",
       "      <td>5</td>\n",
       "      <td>4</td>\n",
       "      <td>4</td>\n",
       "      <td>0.105</td>\n",
       "      <td>5</td>\n",
       "      <td>236</td>\n",
       "      <td>1</td>\n",
       "      <td>0</td>\n",
       "      <td>NISSAN</td>\n",
       "      <td>ALTIMA</td>\n",
       "      <td>2011 Nissan Altima 4 DR FWD</td>\n",
       "      <td>357</td>\n",
       "      <td>1</td>\n",
       "      <td>3</td>\n",
       "      <td>3</td>\n",
       "      <td>1</td>\n",
       "    </tr>\n",
       "    <tr>\n",
       "      <th>1</th>\n",
       "      <td>2</td>\n",
       "      <td>4</td>\n",
       "      <td>4</td>\n",
       "      <td>5</td>\n",
       "      <td>4</td>\n",
       "      <td>4</td>\n",
       "      <td>0.105</td>\n",
       "      <td>5</td>\n",
       "      <td>240</td>\n",
       "      <td>1</td>\n",
       "      <td>1</td>\n",
       "      <td>NISSAN</td>\n",
       "      <td>ALTIMA HEV</td>\n",
       "      <td>2011 Nissan Altima HEV 4 DR FWD</td>\n",
       "      <td>359</td>\n",
       "      <td>1</td>\n",
       "      <td>3</td>\n",
       "      <td>3</td>\n",
       "      <td>1</td>\n",
       "    </tr>\n",
       "  </tbody>\n",
       "</table>\n",
       "</div>"
      ],
      "text/plain": [
       "   id_seguridad  evaluacion_general  evaluacion_choque_frontal  \\\n",
       "0             1                   4                          4   \n",
       "1             2                   4                          4   \n",
       "\n",
       "   evaluacion_choque_lateral  evaluacion_barrera_lateral  evaluacion_vuelco  \\\n",
       "0                          5                           4                  4   \n",
       "1                          5                           4                  4   \n",
       "\n",
       "   probabilidad_vuelco  evaluacion_choque_columna  quejas  retiradas  \\\n",
       "0                0.105                          5     236          1   \n",
       "1                0.105                          5     240          1   \n",
       "\n",
       "   investigaciones   marca     version                      descripcion  \\\n",
       "0                0  NISSAN      ALTIMA      2011 Nissan Altima 4 DR FWD   \n",
       "1                1  NISSAN  ALTIMA HEV  2011 Nissan Altima HEV 4 DR FWD   \n",
       "\n",
       "   vehiculo_id  id_anio  id_equipamiento_aviso_choque_front  \\\n",
       "0          357        1                                   3   \n",
       "1          359        1                                   3   \n",
       "\n",
       "   id_equipamiento_aviso_desvio_carril  \\\n",
       "0                                    3   \n",
       "1                                    3   \n",
       "\n",
       "   id_equipamiento_estabilidad_electronica  \n",
       "0                                        1  \n",
       "1                                        1  "
      ]
     },
     "execution_count": 159,
     "metadata": {},
     "output_type": "execute_result"
    }
   ],
   "source": [
    "df_seguridad.head(2)"
   ]
  },
  {
   "cell_type": "code",
   "execution_count": 160,
   "metadata": {},
   "outputs": [
    {
     "data": {
      "text/html": [
       "<div>\n",
       "<style scoped>\n",
       "    .dataframe tbody tr th:only-of-type {\n",
       "        vertical-align: middle;\n",
       "    }\n",
       "\n",
       "    .dataframe tbody tr th {\n",
       "        vertical-align: top;\n",
       "    }\n",
       "\n",
       "    .dataframe thead th {\n",
       "        text-align: right;\n",
       "    }\n",
       "</style>\n",
       "<table border=\"1\" class=\"dataframe\">\n",
       "  <thead>\n",
       "    <tr style=\"text-align: right;\">\n",
       "      <th></th>\n",
       "      <th>id_equipamiento</th>\n",
       "      <th>equipamiento</th>\n",
       "    </tr>\n",
       "  </thead>\n",
       "  <tbody>\n",
       "    <tr>\n",
       "      <th>0</th>\n",
       "      <td>1</td>\n",
       "      <td>Standard</td>\n",
       "    </tr>\n",
       "    <tr>\n",
       "      <th>1</th>\n",
       "      <td>2</td>\n",
       "      <td>Optional</td>\n",
       "    </tr>\n",
       "  </tbody>\n",
       "</table>\n",
       "</div>"
      ],
      "text/plain": [
       "   id_equipamiento equipamiento\n",
       "0                1     Standard\n",
       "1                2     Optional"
      ]
     },
     "execution_count": 160,
     "metadata": {},
     "output_type": "execute_result"
    }
   ],
   "source": [
    "df_equipamientos.head(2)"
   ]
  },
  {
   "cell_type": "code",
   "execution_count": 161,
   "metadata": {},
   "outputs": [],
   "source": [
    "cursor=conexion.cursor()\n",
    "query_creacion=\"\"\" \n",
    "CREATE TABLE IF NOT EXISTS seguridad(\n",
    "    id_seguridad INT PRIMARY KEY,\n",
    "    evaluacion_general INT,\n",
    "    evaluacion_choque_frontal INT,\n",
    "    evaluacion_choque_lateral INT,\n",
    "    evaluacion_barrera_lateral INT,\n",
    "    evaluacion_vuelco INT,\n",
    "    probabilidad_vuelco NUMERIC,\n",
    "    evaluacion_choque_columna INT,\n",
    "    quejas INT,\n",
    "    retiradas INT,\n",
    "    investigaciones INT,\n",
    "    marca VARCHAR (100),\n",
    "    version VARCHAR (200),\n",
    "    descripcion VARCHAR (300),\n",
    "    vehiculo_id INT,\n",
    "    id_anio INT,\n",
    "    id_equipamiento_aviso_choque_front INT,\n",
    "    id_equipamiento_aviso_desvio_carril INT,\n",
    "    id_equipamiento_estabilidad_electronica INT,\n",
    "    FOREIGN KEY (id_anio) REFERENCES anios(id_anio) ON DELETE RESTRICT ON UPDATE CASCADE,\n",
    "    FOREIGN KEY (id_equipamiento_aviso_choque_front) REFERENCES equipamientos(id_equipamiento) ON DELETE RESTRICT ON UPDATE CASCADE,\n",
    "    FOREIGN KEY (id_equipamiento_aviso_desvio_carril) REFERENCES equipamientos(id_equipamiento) ON DELETE RESTRICT ON UPDATE CASCADE,\n",
    "    FOREIGN KEY (id_equipamiento_estabilidad_electronica) REFERENCES equipamientos(id_equipamiento) ON DELETE RESTRICT ON UPDATE CASCADE\n",
    ");\n",
    "\"\"\"\n",
    "cursor.execute(query_creacion)   \n",
    "conexion.commit()"
   ]
  },
  {
   "cell_type": "code",
   "execution_count": 162,
   "metadata": {},
   "outputs": [],
   "source": [
    "\n",
    "\n",
    "lista_de_tuplas=[]\n",
    "for fila in df_seguridad.values:\n",
    "    lista_de_tuplas.append(tuple(fila))\n"
   ]
  },
  {
   "cell_type": "code",
   "execution_count": 163,
   "metadata": {},
   "outputs": [],
   "source": [
    "     \n",
    "query_insercion= \"INSERT INTO seguridad (id_seguridad,evaluacion_general,evaluacion_choque_frontal,evaluacion_choque_lateral,evaluacion_barrera_lateral,evaluacion_vuelco,probabilidad_vuelco,evaluacion_choque_columna,quejas,retiradas,investigaciones, marca, version,descripcion,vehiculo_id, id_anio,id_equipamiento_aviso_choque_front,id_equipamiento_aviso_desvio_carril,id_equipamiento_estabilidad_electronica) VALUES (%s, %s,%s, %s,%s, %s, %s,%s, %s,%s, %s,%s, %s, %s,%s, %s, %s,%s, %s);\"     \n",
    "\n",
    "cursor.executemany(query_insercion, lista_de_tuplas)          \n",
    "conexion.commit()"
   ]
  },
  {
   "cell_type": "markdown",
   "metadata": {},
   "source": [
    "SEGUNDA MANO"
   ]
  },
  {
   "cell_type": "code",
   "execution_count": 164,
   "metadata": {},
   "outputs": [
    {
     "data": {
      "text/html": [
       "<div>\n",
       "<style scoped>\n",
       "    .dataframe tbody tr th:only-of-type {\n",
       "        vertical-align: middle;\n",
       "    }\n",
       "\n",
       "    .dataframe tbody tr th {\n",
       "        vertical-align: top;\n",
       "    }\n",
       "\n",
       "    .dataframe thead th {\n",
       "        text-align: right;\n",
       "    }\n",
       "</style>\n",
       "<table border=\"1\" class=\"dataframe\">\n",
       "  <thead>\n",
       "    <tr style=\"text-align: right;\">\n",
       "      <th></th>\n",
       "      <th>id_segunda_mano</th>\n",
       "      <th>version</th>\n",
       "      <th>kilometraje</th>\n",
       "      <th>precio</th>\n",
       "      <th>id_provincia</th>\n",
       "      <th>id_potencia</th>\n",
       "      <th>id_motor</th>\n",
       "      <th>id_cambio</th>\n",
       "      <th>id_anio</th>\n",
       "    </tr>\n",
       "  </thead>\n",
       "  <tbody>\n",
       "    <tr>\n",
       "      <th>0</th>\n",
       "      <td>1</td>\n",
       "      <td>Nissan Qashqai 1.2 DIG-T Acenta 4x2</td>\n",
       "      <td>121649</td>\n",
       "      <td>11480</td>\n",
       "      <td>1</td>\n",
       "      <td>18</td>\n",
       "      <td>3</td>\n",
       "      <td>1</td>\n",
       "      <td>5</td>\n",
       "    </tr>\n",
       "    <tr>\n",
       "      <th>1</th>\n",
       "      <td>2</td>\n",
       "      <td>Nissan Juke 1.5dCi Visia</td>\n",
       "      <td>260000</td>\n",
       "      <td>6500</td>\n",
       "      <td>1</td>\n",
       "      <td>15</td>\n",
       "      <td>6</td>\n",
       "      <td>1</td>\n",
       "      <td>2</td>\n",
       "    </tr>\n",
       "  </tbody>\n",
       "</table>\n",
       "</div>"
      ],
      "text/plain": [
       "   id_segunda_mano                              version  kilometraje  precio  \\\n",
       "0                1  Nissan Qashqai 1.2 DIG-T Acenta 4x2       121649   11480   \n",
       "1                2             Nissan Juke 1.5dCi Visia       260000    6500   \n",
       "\n",
       "   id_provincia  id_potencia  id_motor  id_cambio  id_anio  \n",
       "0             1           18         3          1        5  \n",
       "1             1           15         6          1        2  "
      ]
     },
     "execution_count": 164,
     "metadata": {},
     "output_type": "execute_result"
    }
   ],
   "source": [
    "df_segunda_mano.head(2)"
   ]
  },
  {
   "cell_type": "code",
   "execution_count": 172,
   "metadata": {},
   "outputs": [],
   "source": [
    "cursor=conexion.cursor()\n",
    "query_creacion=\"\"\" \n",
    "CREATE TABLE IF NOT EXISTS segunda_mano(\n",
    "    id_segunda_mano INT PRIMARY KEY,\n",
    "    version VARCHAR(200),\n",
    "    kilometraje INT,\n",
    "    precio INT,\n",
    "    id_provincia INT,\n",
    "    id_potencia INT,\n",
    "    id_motor INT,\n",
    "    id_cambio INT,\n",
    "    id_anio INT,\n",
    "    FOREIGN KEY (id_provincia) REFERENCES provincias(id_provincia) ON DELETE RESTRICT ON UPDATE CASCADE,\n",
    "    FOREIGN KEY (id_potencia) REFERENCES potencias(id_potencia) ON DELETE RESTRICT ON UPDATE CASCADE,\n",
    "    FOREIGN KEY (id_motor) REFERENCES motores(id_motor) ON DELETE RESTRICT ON UPDATE CASCADE,\n",
    "    FOREIGN KEY (id_cambio) REFERENCES cambio_marcha(id_cambio) ON DELETE RESTRICT ON UPDATE CASCADE,\n",
    "    FOREIGN KEY (id_anio) REFERENCES anios(id_anio) ON DELETE RESTRICT ON UPDATE CASCADE\n",
    ");\n",
    "\"\"\"\n",
    "cursor.execute(query_creacion)   \n",
    "conexion.commit()"
   ]
  },
  {
   "cell_type": "code",
   "execution_count": 173,
   "metadata": {},
   "outputs": [],
   "source": [
    "\n",
    "\n",
    "lista_de_tuplas=[]\n",
    "for fila in df_segunda_mano.values:\n",
    "    lista_de_tuplas.append(tuple(fila))\n"
   ]
  },
  {
   "cell_type": "code",
   "execution_count": 174,
   "metadata": {},
   "outputs": [],
   "source": [
    "     \n",
    "query_insercion= \"INSERT INTO segunda_mano (id_segunda_mano,version,kilometraje,precio,id_provincia,id_potencia,id_motor,id_cambio,id_anio) VALUES (%s, %s,%s, %s,%s, %s, %s,%s,%s);\"     \n",
    "\n",
    "cursor.executemany(query_insercion, lista_de_tuplas)          \n",
    "conexion.commit()"
   ]
  },
  {
   "cell_type": "markdown",
   "metadata": {},
   "source": [
    "NUEVOS"
   ]
  },
  {
   "cell_type": "code",
   "execution_count": 178,
   "metadata": {},
   "outputs": [
    {
     "data": {
      "text/html": [
       "<div>\n",
       "<style scoped>\n",
       "    .dataframe tbody tr th:only-of-type {\n",
       "        vertical-align: middle;\n",
       "    }\n",
       "\n",
       "    .dataframe tbody tr th {\n",
       "        vertical-align: top;\n",
       "    }\n",
       "\n",
       "    .dataframe thead th {\n",
       "        text-align: right;\n",
       "    }\n",
       "</style>\n",
       "<table border=\"1\" class=\"dataframe\">\n",
       "  <thead>\n",
       "    <tr style=\"text-align: right;\">\n",
       "      <th></th>\n",
       "      <th>id_modelo_nuevo</th>\n",
       "      <th>version</th>\n",
       "      <th>puertas</th>\n",
       "      <th>consumo</th>\n",
       "      <th>precio</th>\n",
       "      <th>id_provincia</th>\n",
       "      <th>id_potencia</th>\n",
       "      <th>id_motor</th>\n",
       "      <th>id_modelo</th>\n",
       "      <th>id_anio</th>\n",
       "    </tr>\n",
       "  </thead>\n",
       "  <tbody>\n",
       "    <tr>\n",
       "      <th>0</th>\n",
       "      <td>1</td>\n",
       "      <td>NISSAN QASHQAI 1.3 DIG-T MHEV 103KW (140CV) AC...</td>\n",
       "      <td>5</td>\n",
       "      <td>6.3</td>\n",
       "      <td>31200</td>\n",
       "      <td>1</td>\n",
       "      <td>1</td>\n",
       "      <td>1</td>\n",
       "      <td>1</td>\n",
       "      <td>14</td>\n",
       "    </tr>\n",
       "    <tr>\n",
       "      <th>1</th>\n",
       "      <td>2</td>\n",
       "      <td>NISSAN QASHQAI (O)1.3 DIG-T MHEV 103KW (140CV)...</td>\n",
       "      <td>5</td>\n",
       "      <td>6.3</td>\n",
       "      <td>32700</td>\n",
       "      <td>1</td>\n",
       "      <td>1</td>\n",
       "      <td>1</td>\n",
       "      <td>1</td>\n",
       "      <td>14</td>\n",
       "    </tr>\n",
       "  </tbody>\n",
       "</table>\n",
       "</div>"
      ],
      "text/plain": [
       "   id_modelo_nuevo                                            version  \\\n",
       "0                1  NISSAN QASHQAI 1.3 DIG-T MHEV 103KW (140CV) AC...   \n",
       "1                2  NISSAN QASHQAI (O)1.3 DIG-T MHEV 103KW (140CV)...   \n",
       "\n",
       "   puertas  consumo  precio  id_provincia  id_potencia  id_motor  id_modelo  \\\n",
       "0        5      6.3   31200             1            1         1          1   \n",
       "1        5      6.3   32700             1            1         1          1   \n",
       "\n",
       "   id_anio  \n",
       "0       14  \n",
       "1       14  "
      ]
     },
     "execution_count": 178,
     "metadata": {},
     "output_type": "execute_result"
    }
   ],
   "source": [
    "df_datos_modelos_nuevos.head(2)"
   ]
  },
  {
   "cell_type": "code",
   "execution_count": 179,
   "metadata": {},
   "outputs": [],
   "source": [
    "cursor=conexion.cursor()\n",
    "query_creacion=\"\"\" \n",
    "CREATE TABLE IF NOT EXISTS modelos_nuevos(\n",
    "    id_modelo_nuevo INT PRIMARY KEY,\n",
    "    version VARCHAR(400),\n",
    "    puertas INT,\n",
    "    consumo NUMERIC,\n",
    "    precio INT,\n",
    "    id_provincia INT,\n",
    "    id_potencia INT,\n",
    "    id_motor INT,\n",
    "    id_modelo INT,\n",
    "    id_anio INT,\n",
    "    FOREIGN KEY (id_provincia) REFERENCES provincias(id_provincia) ON DELETE RESTRICT ON UPDATE CASCADE,\n",
    "    FOREIGN KEY (id_potencia) REFERENCES potencias(id_potencia) ON DELETE RESTRICT ON UPDATE CASCADE,\n",
    "    FOREIGN KEY (id_motor) REFERENCES motores(id_motor) ON DELETE RESTRICT ON UPDATE CASCADE,\n",
    "    FOREIGN KEY (id_modelo) REFERENCES modelos(id_modelo) ON DELETE RESTRICT ON UPDATE CASCADE,\n",
    "    FOREIGN KEY (id_anio) REFERENCES anios(id_anio) ON DELETE RESTRICT ON UPDATE CASCADE\n",
    ");\n",
    "\"\"\"\n",
    "cursor.execute(query_creacion)   \n",
    "conexion.commit()"
   ]
  },
  {
   "cell_type": "code",
   "execution_count": 180,
   "metadata": {},
   "outputs": [],
   "source": [
    "\n",
    "\n",
    "lista_de_tuplas=[]\n",
    "for fila in df_datos_modelos_nuevos.values:\n",
    "    lista_de_tuplas.append(tuple(fila))\n"
   ]
  },
  {
   "cell_type": "code",
   "execution_count": 181,
   "metadata": {},
   "outputs": [],
   "source": [
    "     \n",
    "query_insercion= \"INSERT INTO modelos_nuevos (id_modelo_nuevo,version,puertas,consumo,precio,id_provincia,id_potencia,id_motor,id_modelo,id_anio) VALUES (%s, %s,%s, %s,%s, %s, %s,%s,%s,%s);\"     \n",
    "\n",
    "cursor.executemany(query_insercion, lista_de_tuplas)          \n",
    "conexion.commit()"
   ]
  }
 ],
 "metadata": {
  "kernelspec": {
   "display_name": "Python 3",
   "language": "python",
   "name": "python3"
  },
  "language_info": {
   "codemirror_mode": {
    "name": "ipython",
    "version": 3
   },
   "file_extension": ".py",
   "mimetype": "text/x-python",
   "name": "python",
   "nbconvert_exporter": "python",
   "pygments_lexer": "ipython3",
   "version": "3.11.9"
  }
 },
 "nbformat": 4,
 "nbformat_minor": 2
}
