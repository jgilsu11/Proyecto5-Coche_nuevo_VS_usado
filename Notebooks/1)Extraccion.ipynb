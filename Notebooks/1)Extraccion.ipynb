{
 "cells": [
  {
   "cell_type": "code",
   "execution_count": 9,
   "metadata": {},
   "outputs": [],
   "source": [
    "import pandas as pd\n",
    "import selenium\n",
    "import webdriver_manager\n",
    "from datetime import datetime \n",
    "\n",
    "from selenium.webdriver.support.ui import WebDriverWait\n",
    "from selenium.webdriver.common.by import By\n",
    "from selenium.webdriver.support import expected_conditions as EC\n",
    "\n",
    "from selenium import webdriver  # Selenium es una herramienta para automatizar la interacción con navegadores web.\n",
    "from webdriver_manager.chrome import ChromeDriverManager  # ChromeDriverManager gestiona la instalación del controlador de Chrome.\n",
    "from selenium.webdriver.common.keys import Keys  # Keys es útil para simular eventos de teclado en Selenium.\n",
    "from selenium.webdriver.support.ui import Select  # Select se utiliza para interactuar con elementos <select> en páginas web.\n",
    "from selenium.webdriver.support import expected_conditions as EC \n",
    "from time import sleep\n",
    "import pandas as pd\n",
    "from selenium import webdriver\n",
    "\n",
    "from tqdm import tqdm\n",
    "import os\n",
    "from bs4 import BeautifulSoup\n",
    "import requests\n",
    "import re\n",
    "\n",
    "import zipfile\n",
    "import shutil\n",
    "\n",
    "import os\n",
    "\n",
    "\n",
    "import pandas as pd\n",
    "\n",
    "import matplotlib.pyplot as plt\n",
    "import seaborn as sns\n",
    "\n",
    "import re\n",
    "\n",
    "pd.set_option('display.max_columns', None) # para poder visualizar todas las columnas de los DataFrames\n",
    "\n",
    "import json\n",
    "# Ignorar warings\n",
    "import warnings\n",
    "warnings.filterwarnings(\"ignore\")\n",
    "\n",
    "import dotenv\n",
    "from dotenv import load_dotenv\n",
    "load_dotenv()\n",
    "\n",
    "import psycopg2\n",
    "from psycopg2 import sql\n",
    "\n",
    "import sys\n",
    "sys.path.append(\"../\")  "
   ]
  },
  {
   "cell_type": "code",
   "execution_count": 4,
   "metadata": {},
   "outputs": [],
   "source": [
    "keywallapop= os.getenv(\"keywallapop\")"
   ]
  },
  {
   "cell_type": "markdown",
   "metadata": {},
   "source": [
    "Cuidado, de wallapop solo hay 20 llamadas mensuales"
   ]
  },
  {
   "cell_type": "code",
   "execution_count": null,
   "metadata": {},
   "outputs": [],
   "source": [
    "\n",
    "url = \"https://wallapop3.p.rapidapi.com/search\"\n",
    "\n",
    "querystring = {\"query\":\"nissan\",\"minPrice\":\"1000\",\"sort\":\"mostRecent\"}\n",
    "\n",
    "headers = {\n",
    "\t\"x-rapidapi-key\": keywallapop,\n",
    "\t\"x-rapidapi-host\": \"wallapop3.p.rapidapi.com\"\n",
    "}\n",
    "\n",
    "response = requests.get(url, headers=headers, params=querystring)\n",
    "\n",
    "resposa=response.json()"
   ]
  },
  {
   "cell_type": "markdown",
   "metadata": {},
   "source": [
    "SOLO NOS INTESESA:  \n",
    "- id (pasaré a numérico)  \n",
    "- user_id  \n",
    "- title  \n",
    "- description  \n",
    "- category_id (lo quiero para filtrar por 100(codigo correspondiente a coches)para que no me coja otros códigos que son de carroceria etc)  \n",
    "- price (que está en euros)  \n",
    "- location (por si las moscas)  \n",
    "- capacidad de traslado (no creo que me lo quede)  \n",
    "- refurbished(igual la mantengo pero los true los paso a 1 y los false a 0 porque en sql existe el bit)"
   ]
  },
  {
   "cell_type": "code",
   "execution_count": 19,
   "metadata": {},
   "outputs": [],
   "source": [
    "df_crudo=pd.DataFrame(resposa).head(4)"
   ]
  },
  {
   "cell_type": "code",
   "execution_count": 10,
   "metadata": {},
   "outputs": [],
   "source": [
    "with open(\"../src\", \"w\") as json_file:\n",
    "    json.dump(resposa, json_file, indent=4)"
   ]
  },
  {
   "cell_type": "code",
   "execution_count": 13,
   "metadata": {},
   "outputs": [
    {
     "data": {
      "text/plain": [
       "40"
      ]
     },
     "execution_count": 13,
     "metadata": {},
     "output_type": "execute_result"
    }
   ],
   "source": [
    "len (resposa)"
   ]
  },
  {
   "cell_type": "code",
   "execution_count": 37,
   "metadata": {},
   "outputs": [],
   "source": [
    "lista=[]\n",
    "df_final=pd.DataFrame()\n",
    "for i in range(0,40):\n",
    "    id_wallapop=resposa[i][\"id\"]\n",
    "    id_user=resposa[i][\"user_id\"]\n",
    "    title=resposa[i][\"title\"]\n",
    "    descripcion=resposa[i][\"description\"]\n",
    "    id_category=resposa[i][\"category_id\"]\n",
    "    precio=resposa[i][\"price\"][\"amount\"]\n",
    "    latitud=resposa[i][\"location\"][\"latitude\"]\n",
    "    longitud=resposa[i][\"location\"][\"longitude\"]\n",
    "    ciudad=resposa[i][\"location\"][\"city\"]\n",
    "    provincia=resposa[i][\"location\"][\"region2\"]\n",
    "    envio_disponible=resposa[i][\"shipping\"][\"item_is_shippable\"]\n",
    "    reparado=resposa[i][\"is_refurbished\"][\"flag\"]\n",
    "\n",
    "    lista.append([id_wallapop,id_user,title,descripcion,id_category,precio,latitud, longitud,ciudad,provincia,envio_disponible,reparado] )\n",
    "    df=pd.DataFrame(lista)\n",
    "    df_final= pd.concat([df_final,df])"
   ]
  },
  {
   "cell_type": "code",
   "execution_count": 38,
   "metadata": {},
   "outputs": [],
   "source": [
    "df_crudo.head()\n",
    "dicc_encabezados={0:\"id_wallapop\",\n",
    "                  1: \"id_user\",\n",
    "                  2: \"title\",\n",
    "                  3: \"descripcion\",\n",
    "                  4: \"id_category\",\n",
    "                  5: \"precio\",\n",
    "                  6: \"latitud\",\n",
    "                  7: \"longitud\",\n",
    "                  8: \"ciudad\",\n",
    "                  9: \"provincia\",\n",
    "                  10: \"envio_disponible\",\n",
    "                  11: \"reparado\"}"
   ]
  },
  {
   "cell_type": "code",
   "execution_count": 39,
   "metadata": {},
   "outputs": [],
   "source": [
    "df_final.columns= df_final.columns.map(dicc_encabezados)"
   ]
  },
  {
   "cell_type": "code",
   "execution_count": 40,
   "metadata": {},
   "outputs": [
    {
     "data": {
      "text/html": [
       "<div>\n",
       "<style scoped>\n",
       "    .dataframe tbody tr th:only-of-type {\n",
       "        vertical-align: middle;\n",
       "    }\n",
       "\n",
       "    .dataframe tbody tr th {\n",
       "        vertical-align: top;\n",
       "    }\n",
       "\n",
       "    .dataframe thead th {\n",
       "        text-align: right;\n",
       "    }\n",
       "</style>\n",
       "<table border=\"1\" class=\"dataframe\">\n",
       "  <thead>\n",
       "    <tr style=\"text-align: right;\">\n",
       "      <th></th>\n",
       "      <th>id_wallapop</th>\n",
       "      <th>id_user</th>\n",
       "      <th>title</th>\n",
       "      <th>descripcion</th>\n",
       "      <th>id_category</th>\n",
       "      <th>precio</th>\n",
       "      <th>latitud</th>\n",
       "      <th>longitud</th>\n",
       "      <th>ciudad</th>\n",
       "      <th>provincia</th>\n",
       "      <th>envio_disponible</th>\n",
       "      <th>reparado</th>\n",
       "    </tr>\n",
       "  </thead>\n",
       "  <tbody>\n",
       "    <tr>\n",
       "      <th>11</th>\n",
       "      <td>pzp2xeme9mj3</td>\n",
       "      <td>kp61gov98765</td>\n",
       "      <td>Nissan Qashqai 2016 pegatina C de DGT</td>\n",
       "      <td>vehiculo en perfecto estado general \\nitv reci...</td>\n",
       "      <td>100</td>\n",
       "      <td>12900.0</td>\n",
       "      <td>41.458269</td>\n",
       "      <td>2.250253</td>\n",
       "      <td>Badalona</td>\n",
       "      <td>Barcelona</td>\n",
       "      <td>False</td>\n",
       "      <td>False</td>\n",
       "    </tr>\n",
       "    <tr>\n",
       "      <th>14</th>\n",
       "      <td>mzn27k7nekzn</td>\n",
       "      <td>4w67vengy96x</td>\n",
       "      <td>carroceria caja nissan cabstar</td>\n",
       "      <td>2 carrocerías en muy buen estado,para camiones...</td>\n",
       "      <td>12800</td>\n",
       "      <td>1400.0</td>\n",
       "      <td>42.808361</td>\n",
       "      <td>-1.658409</td>\n",
       "      <td>Pamplona/Iruña</td>\n",
       "      <td>Navarra</td>\n",
       "      <td>True</td>\n",
       "      <td>False</td>\n",
       "    </tr>\n",
       "    <tr>\n",
       "      <th>20</th>\n",
       "      <td>nz041pxdyvjo</td>\n",
       "      <td>lqzmowoqyx6v</td>\n",
       "      <td>Nissan Patrol 1990</td>\n",
       "      <td>Vendo mi querido Patrol por necesidad. Motor d...</td>\n",
       "      <td>100</td>\n",
       "      <td>2600.0</td>\n",
       "      <td>36.914983</td>\n",
       "      <td>-2.442271</td>\n",
       "      <td>Pechina</td>\n",
       "      <td>Almería</td>\n",
       "      <td>False</td>\n",
       "      <td>False</td>\n",
       "    </tr>\n",
       "  </tbody>\n",
       "</table>\n",
       "</div>"
      ],
      "text/plain": [
       "     id_wallapop       id_user                                   title  \\\n",
       "11  pzp2xeme9mj3  kp61gov98765  Nissan Qashqai 2016 pegatina C de DGT    \n",
       "14  mzn27k7nekzn  4w67vengy96x          carroceria caja nissan cabstar   \n",
       "20  nz041pxdyvjo  lqzmowoqyx6v                      Nissan Patrol 1990   \n",
       "\n",
       "                                          descripcion  id_category   precio  \\\n",
       "11  vehiculo en perfecto estado general \\nitv reci...          100  12900.0   \n",
       "14  2 carrocerías en muy buen estado,para camiones...        12800   1400.0   \n",
       "20  Vendo mi querido Patrol por necesidad. Motor d...          100   2600.0   \n",
       "\n",
       "      latitud  longitud          ciudad  provincia  envio_disponible  reparado  \n",
       "11  41.458269  2.250253        Badalona  Barcelona             False     False  \n",
       "14  42.808361 -1.658409  Pamplona/Iruña    Navarra              True     False  \n",
       "20  36.914983 -2.442271         Pechina    Almería             False     False  "
      ]
     },
     "execution_count": 40,
     "metadata": {},
     "output_type": "execute_result"
    }
   ],
   "source": [
    "df_final.sample(3)"
   ]
  },
  {
   "cell_type": "code",
   "execution_count": 41,
   "metadata": {},
   "outputs": [
    {
     "data": {
      "text/plain": [
       "(820, 12)"
      ]
     },
     "execution_count": 41,
     "metadata": {},
     "output_type": "execute_result"
    }
   ],
   "source": [
    "df_final.shape"
   ]
  },
  {
   "cell_type": "markdown",
   "metadata": {},
   "source": [
    "ESTA LISTO PARA LA LIMPIEZA LO DE WALLAPOP"
   ]
  },
  {
   "cell_type": "code",
   "execution_count": 28,
   "metadata": {},
   "outputs": [
    {
     "name": "stdout",
     "output_type": "stream",
     "text": [
      "<class 'pandas.core.frame.DataFrame'>\n",
      "Index: 820 entries, 0 to 39\n",
      "Data columns (total 12 columns):\n",
      " #   Column            Non-Null Count  Dtype  \n",
      "---  ------            --------------  -----  \n",
      " 0   id_wallapop       820 non-null    object \n",
      " 1   id_user           820 non-null    object \n",
      " 2   title             820 non-null    object \n",
      " 3   descripcion       820 non-null    object \n",
      " 4   id_category       820 non-null    int64  \n",
      " 5   precio            820 non-null    float64\n",
      " 6   latitud           820 non-null    float64\n",
      " 7   longitud          820 non-null    float64\n",
      " 8   ciudad            820 non-null    object \n",
      " 9   provincia         820 non-null    object \n",
      " 10  envio_disponible  820 non-null    bool   \n",
      " 11  reparado          820 non-null    bool   \n",
      "dtypes: bool(2), float64(3), int64(1), object(6)\n",
      "memory usage: 72.1+ KB\n"
     ]
    }
   ],
   "source": [
    "df_final.info()"
   ]
  },
  {
   "cell_type": "code",
   "execution_count": 29,
   "metadata": {},
   "outputs": [],
   "source": [
    "keyconcesionario= os.getenv(\"keyconcesionario\")"
   ]
  },
  {
   "cell_type": "code",
   "execution_count": 64,
   "metadata": {},
   "outputs": [],
   "source": [
    "\n",
    "\n",
    "# Paso 1: Buscar concesionarios Nissan en Madrid\n",
    "search_url = 'https://api.yelp.com/v3/businesses/search'\n",
    "headers = {\n",
    "    'Authorization': f'Bearer {keyconcesionario}',\n",
    "}\n",
    "params = {\n",
    "    'term': 'concesionario Nissan',\n",
    "    'location': 'Madrid',\n",
    "    'limit': 50 \n",
    "}\n",
    "\n",
    "response = requests.get(search_url, headers=headers, params=params)\n",
    "\n",
    "if response.status_code == 200:\n",
    "    businesses = response.json().get('businesses', [])\n",
    "    lista=[]\n",
    "    df_final=pd.DataFrame()\n",
    "    for business in businesses:\n",
    "        business_id = business['id']\n",
    "        business_name= business['name']\n",
    "        calificacion= business['rating']\n",
    "        url= business[\"url\"]\n",
    "        lista.append([business_id,business_name,calificacion,url])\n",
    "        df=pd.DataFrame(lista)\n",
    "        df_finalc= pd.concat([df_finalc, df])\n",
    "\n",
    "else:\n",
    "    print(f\"Error en la búsqueda de concesionarios: {response.status_code}\")\n"
   ]
  },
  {
   "cell_type": "code",
   "execution_count": 66,
   "metadata": {},
   "outputs": [
    {
     "data": {
      "text/html": [
       "<div>\n",
       "<style scoped>\n",
       "    .dataframe tbody tr th:only-of-type {\n",
       "        vertical-align: middle;\n",
       "    }\n",
       "\n",
       "    .dataframe tbody tr th {\n",
       "        vertical-align: top;\n",
       "    }\n",
       "\n",
       "    .dataframe thead th {\n",
       "        text-align: right;\n",
       "    }\n",
       "</style>\n",
       "<table border=\"1\" class=\"dataframe\">\n",
       "  <thead>\n",
       "    <tr style=\"text-align: right;\">\n",
       "      <th></th>\n",
       "      <th>0</th>\n",
       "      <th>1</th>\n",
       "      <th>2</th>\n",
       "      <th>3</th>\n",
       "    </tr>\n",
       "  </thead>\n",
       "  <tbody>\n",
       "    <tr>\n",
       "      <th>0</th>\n",
       "      <td>foS71yZRhEOidmM_aVqiwA</td>\n",
       "      <td>Nissan Motor España</td>\n",
       "      <td>1.0</td>\n",
       "      <td>NaN</td>\n",
       "    </tr>\n",
       "    <tr>\n",
       "      <th>1</th>\n",
       "      <td>B2cXNS5efEAFgATa28KADA</td>\n",
       "      <td>Quiero Comprar un Coche</td>\n",
       "      <td>5.0</td>\n",
       "      <td>NaN</td>\n",
       "    </tr>\n",
       "    <tr>\n",
       "      <th>2</th>\n",
       "      <td>41EVs88iuczCSuauRdMaoQ</td>\n",
       "      <td>Nissan Iberia</td>\n",
       "      <td>0.0</td>\n",
       "      <td>NaN</td>\n",
       "    </tr>\n",
       "    <tr>\n",
       "      <th>3</th>\n",
       "      <td>sjQ22MDvy_WOs_nG-YIrLg</td>\n",
       "      <td>Nissan Iberia</td>\n",
       "      <td>0.0</td>\n",
       "      <td>NaN</td>\n",
       "    </tr>\n",
       "    <tr>\n",
       "      <th>4</th>\n",
       "      <td>Sjq5F7RT_s59ERD2CzPXKQ</td>\n",
       "      <td>Nissan Iberia</td>\n",
       "      <td>0.0</td>\n",
       "      <td>NaN</td>\n",
       "    </tr>\n",
       "    <tr>\n",
       "      <th>...</th>\n",
       "      <td>...</td>\n",
       "      <td>...</td>\n",
       "      <td>...</td>\n",
       "      <td>...</td>\n",
       "    </tr>\n",
       "    <tr>\n",
       "      <th>1</th>\n",
       "      <td>B2cXNS5efEAFgATa28KADA</td>\n",
       "      <td>Quiero Comprar un Coche</td>\n",
       "      <td>5.0</td>\n",
       "      <td>https://www.yelp.com/biz/quiero-comprar-un-coc...</td>\n",
       "    </tr>\n",
       "    <tr>\n",
       "      <th>2</th>\n",
       "      <td>41EVs88iuczCSuauRdMaoQ</td>\n",
       "      <td>Nissan Iberia</td>\n",
       "      <td>0.0</td>\n",
       "      <td>https://www.yelp.com/biz/nissan-iberia-madrid-...</td>\n",
       "    </tr>\n",
       "    <tr>\n",
       "      <th>3</th>\n",
       "      <td>sjQ22MDvy_WOs_nG-YIrLg</td>\n",
       "      <td>Nissan Iberia</td>\n",
       "      <td>0.0</td>\n",
       "      <td>https://www.yelp.com/biz/nissan-iberia-madrid-...</td>\n",
       "    </tr>\n",
       "    <tr>\n",
       "      <th>4</th>\n",
       "      <td>Sjq5F7RT_s59ERD2CzPXKQ</td>\n",
       "      <td>Nissan Iberia</td>\n",
       "      <td>0.0</td>\n",
       "      <td>https://www.yelp.com/biz/nissan-iberia-madrid?...</td>\n",
       "    </tr>\n",
       "    <tr>\n",
       "      <th>5</th>\n",
       "      <td>_YsiClWK1Y4c-DVrHvyiuw</td>\n",
       "      <td>Nissan Iberia</td>\n",
       "      <td>0.0</td>\n",
       "      <td>https://www.yelp.com/biz/nissan-iberia-segovia...</td>\n",
       "    </tr>\n",
       "  </tbody>\n",
       "</table>\n",
       "<p>69 rows × 4 columns</p>\n",
       "</div>"
      ],
      "text/plain": [
       "                         0                        1    2  \\\n",
       "0   foS71yZRhEOidmM_aVqiwA      Nissan Motor España  1.0   \n",
       "1   B2cXNS5efEAFgATa28KADA  Quiero Comprar un Coche  5.0   \n",
       "2   41EVs88iuczCSuauRdMaoQ            Nissan Iberia  0.0   \n",
       "3   sjQ22MDvy_WOs_nG-YIrLg            Nissan Iberia  0.0   \n",
       "4   Sjq5F7RT_s59ERD2CzPXKQ            Nissan Iberia  0.0   \n",
       "..                     ...                      ...  ...   \n",
       "1   B2cXNS5efEAFgATa28KADA  Quiero Comprar un Coche  5.0   \n",
       "2   41EVs88iuczCSuauRdMaoQ            Nissan Iberia  0.0   \n",
       "3   sjQ22MDvy_WOs_nG-YIrLg            Nissan Iberia  0.0   \n",
       "4   Sjq5F7RT_s59ERD2CzPXKQ            Nissan Iberia  0.0   \n",
       "5   _YsiClWK1Y4c-DVrHvyiuw            Nissan Iberia  0.0   \n",
       "\n",
       "                                                    3  \n",
       "0                                                 NaN  \n",
       "1                                                 NaN  \n",
       "2                                                 NaN  \n",
       "3                                                 NaN  \n",
       "4                                                 NaN  \n",
       "..                                                ...  \n",
       "1   https://www.yelp.com/biz/quiero-comprar-un-coc...  \n",
       "2   https://www.yelp.com/biz/nissan-iberia-madrid-...  \n",
       "3   https://www.yelp.com/biz/nissan-iberia-madrid-...  \n",
       "4   https://www.yelp.com/biz/nissan-iberia-madrid?...  \n",
       "5   https://www.yelp.com/biz/nissan-iberia-segovia...  \n",
       "\n",
       "[69 rows x 4 columns]"
      ]
     },
     "execution_count": 66,
     "metadata": {},
     "output_type": "execute_result"
    }
   ],
   "source": [
    "df_finalc"
   ]
  },
  {
   "cell_type": "code",
   "execution_count": 100,
   "metadata": {},
   "outputs": [
    {
     "ename": "IndexError",
     "evalue": "list index out of range",
     "output_type": "error",
     "traceback": [
      "\u001b[1;31m---------------------------------------------------------------------------\u001b[0m",
      "\u001b[1;31mIndexError\u001b[0m                                Traceback (most recent call last)",
      "Cell \u001b[1;32mIn[100], line 5\u001b[0m\n\u001b[0;32m      3\u001b[0m response3\u001b[38;5;241m=\u001b[39m requests\u001b[38;5;241m.\u001b[39mget(url3)\n\u001b[0;32m      4\u001b[0m responsa3\u001b[38;5;241m=\u001b[39m response3\u001b[38;5;241m.\u001b[39mjson()\n\u001b[1;32m----> 5\u001b[0m id_vehicle\u001b[38;5;241m=\u001b[39m\u001b[43mresponsa3\u001b[49m\u001b[43m[\u001b[49m\u001b[38;5;124;43m\"\u001b[39;49m\u001b[38;5;124;43mResults\u001b[39;49m\u001b[38;5;124;43m\"\u001b[39;49m\u001b[43m]\u001b[49m\u001b[43m[\u001b[49m\u001b[38;5;241;43m0\u001b[39;49m\u001b[43m]\u001b[49m[\u001b[38;5;124m\"\u001b[39m\u001b[38;5;124mVehicleId\u001b[39m\u001b[38;5;124m\"\u001b[39m]\n",
      "\u001b[1;31mIndexError\u001b[0m: list index out of range"
     ]
    }
   ],
   "source": [
    "url3= \"https://api.nhtsa.gov/SafetyRatings/modelyear/2013/make/nissan/model/micra\"\n",
    "url2= \"https://api.nhtsa.gov/SafetyRatings/VehicleId/7520\"\n",
    "response3= requests.get(url3)\n",
    "responsa3= response3.json()\n",
    "id_vehicle=responsa3[\"Results\"][0][\"VehicleId\"]"
   ]
  },
  {
   "cell_type": "code",
   "execution_count": null,
   "metadata": {},
   "outputs": [
    {
     "ename": "IndexError",
     "evalue": "list index out of range",
     "output_type": "error",
     "traceback": [
      "\u001b[1;31m---------------------------------------------------------------------------\u001b[0m",
      "\u001b[1;31mIndexError\u001b[0m                                Traceback (most recent call last)",
      "Cell \u001b[1;32mIn[99], line 1\u001b[0m\n\u001b[1;32m----> 1\u001b[0m id_vehicle\u001b[38;5;241m=\u001b[39m\u001b[43mresponsa3\u001b[49m\u001b[43m[\u001b[49m\u001b[38;5;124;43m\"\u001b[39;49m\u001b[38;5;124;43mResults\u001b[39;49m\u001b[38;5;124;43m\"\u001b[39;49m\u001b[43m]\u001b[49m\u001b[43m[\u001b[49m\u001b[38;5;241;43m0\u001b[39;49m\u001b[43m]\u001b[49m[\u001b[38;5;124m\"\u001b[39m\u001b[38;5;124mVehicleId\u001b[39m\u001b[38;5;124m\"\u001b[39m]\n\u001b[0;32m      2\u001b[0m url2\u001b[38;5;241m=\u001b[39m \u001b[38;5;124mf\u001b[39m\u001b[38;5;124m\"\u001b[39m\u001b[38;5;124mhttps://api.nhtsa.gov/SafetyRatings/VehicleId/\u001b[39m\u001b[38;5;132;01m{\u001b[39;00mid_vehicle\u001b[38;5;132;01m}\u001b[39;00m\u001b[38;5;124m\"\u001b[39m\n\u001b[0;32m      3\u001b[0m response2\u001b[38;5;241m=\u001b[39m requests\u001b[38;5;241m.\u001b[39mget(url2)\n",
      "\u001b[1;31mIndexError\u001b[0m: list index out of range"
     ]
    }
   ],
   "source": [
    "\n",
    "url2= f\"https://api.nhtsa.gov/SafetyRatings/VehicleId/{id_vehicle}\"\n",
    "response2= requests.get(url2)\n",
    "responsa2= response2.json()\n",
    "rating_general=responsa2[\"Results\"][0][\"OverallRating\"]"
   ]
  },
  {
   "cell_type": "code",
   "execution_count": null,
   "metadata": {},
   "outputs": [],
   "source": []
  },
  {
   "cell_type": "code",
   "execution_count": null,
   "metadata": {},
   "outputs": [
    {
     "data": {
      "text/plain": [
       "'Not Rated'"
      ]
     },
     "execution_count": 97,
     "metadata": {},
     "output_type": "execute_result"
    }
   ],
   "source": []
  },
  {
   "cell_type": "code",
   "execution_count": null,
   "metadata": {},
   "outputs": [],
   "source": []
  }
 ],
 "metadata": {
  "kernelspec": {
   "display_name": "Python 3",
   "language": "python",
   "name": "python3"
  },
  "language_info": {
   "codemirror_mode": {
    "name": "ipython",
    "version": 3
   },
   "file_extension": ".py",
   "mimetype": "text/x-python",
   "name": "python",
   "nbconvert_exporter": "python",
   "pygments_lexer": "ipython3",
   "version": "3.11.9"
  }
 },
 "nbformat": 4,
 "nbformat_minor": 2
}
