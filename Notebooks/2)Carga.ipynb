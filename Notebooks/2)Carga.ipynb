{
 "cells": [
  {
   "cell_type": "code",
   "execution_count": null,
   "metadata": {},
   "outputs": [],
   "source": [
    "import pandas as pd\n",
    "import selenium\n",
    "import webdriver_manager\n",
    "from datetime import datetime \n",
    "\n",
    "from selenium.webdriver.support.ui import WebDriverWait\n",
    "from selenium.webdriver.common.by import By\n",
    "from selenium.webdriver.support import expected_conditions as EC\n",
    "\n",
    "from selenium import webdriver  # Selenium es una herramienta para automatizar la interacción con navegadores web.\n",
    "from webdriver_manager.chrome import ChromeDriverManager  # ChromeDriverManager gestiona la instalación del controlador de Chrome.\n",
    "from selenium.webdriver.common.keys import Keys  # Keys es útil para simular eventos de teclado en Selenium.\n",
    "from selenium.webdriver.support.ui import Select  # Select se utiliza para interactuar con elementos <select> en páginas web.\n",
    "from selenium.webdriver.support import expected_conditions as EC \n",
    "from time import sleep\n",
    "import pandas as pd\n",
    "from selenium import webdriver\n",
    "\n",
    "from tqdm import tqdm\n",
    "import os\n",
    "from bs4 import BeautifulSoup\n",
    "import requests\n",
    "import re\n",
    "\n",
    "import zipfile\n",
    "import shutil\n",
    "\n",
    "import os\n",
    "\n",
    "\n",
    "import pandas as pd\n",
    "\n",
    "import matplotlib.pyplot as plt\n",
    "import seaborn as sns\n",
    "\n",
    "import re\n",
    "\n",
    "pd.set_option('display.max_columns', None) # para poder visualizar todas las columnas de los DataFrames\n",
    "\n",
    "import json\n",
    "# Ignorar warings\n",
    "import warnings\n",
    "warnings.filterwarnings(\"ignore\")\n",
    "\n",
    "import dotenv\n",
    "from dotenv import load_dotenv\n",
    "load_dotenv()\n",
    "\n",
    "import psycopg2\n",
    "from psycopg2 import sql\n",
    "pd.set_option('display.max_columns', None)\n",
    "\n",
    "import sys\n",
    "sys.path.append(\"../\")  "
   ]
  },
  {
   "cell_type": "code",
   "execution_count": null,
   "metadata": {},
   "outputs": [],
   "source": [
    "df_wallapop=pd.read_csv(\"../datos/datos_wallapop.csv\", index_col= \"Unnamed: 0\" )\n",
    "df_seguridad=pd.read_csv(\"../datos/datos_seguridad.csv\", index_col= \"Unnamed: 0\" )\n",
    "df_datos_modelos_nuevos=pd.read_csv(\"../datos/datos_modelos_nuevos.csv\", index_col= \"Unnamed: 0\" )\n",
    "df_segunda_mano=pd.read_csv(\"../datos/datos_segunda_mano.csv\", index_col= \"Unnamed: 0\")"
   ]
  },
  {
   "cell_type": "code",
   "execution_count": null,
   "metadata": {},
   "outputs": [
    {
     "data": {
      "text/html": [
       "<div>\n",
       "<style scoped>\n",
       "    .dataframe tbody tr th:only-of-type {\n",
       "        vertical-align: middle;\n",
       "    }\n",
       "\n",
       "    .dataframe tbody tr th {\n",
       "        vertical-align: top;\n",
       "    }\n",
       "\n",
       "    .dataframe thead th {\n",
       "        text-align: right;\n",
       "    }\n",
       "</style>\n",
       "<table border=\"1\" class=\"dataframe\">\n",
       "  <thead>\n",
       "    <tr style=\"text-align: right;\">\n",
       "      <th></th>\n",
       "      <th>id_wallapop</th>\n",
       "      <th>descripcion</th>\n",
       "      <th>precio</th>\n",
       "      <th>latitud</th>\n",
       "      <th>longitud</th>\n",
       "      <th>ciudad</th>\n",
       "      <th>provincia</th>\n",
       "    </tr>\n",
       "  </thead>\n",
       "  <tbody>\n",
       "    <tr>\n",
       "      <th>0</th>\n",
       "      <td>1</td>\n",
       "      <td>nisan almera tino del 2004 ba por cadena le ve...</td>\n",
       "      <td>2200</td>\n",
       "      <td>40.301646</td>\n",
       "      <td>-3.441828</td>\n",
       "      <td>Arganda del Rey</td>\n",
       "      <td>Madrid</td>\n",
       "    </tr>\n",
       "    <tr>\n",
       "      <th>1</th>\n",
       "      <td>2</td>\n",
       "      <td>vendo mi coche en perfecto estado de motor y d...</td>\n",
       "      <td>6500</td>\n",
       "      <td>40.620256</td>\n",
       "      <td>-3.910636</td>\n",
       "      <td>Hoyo de Manzanares</td>\n",
       "      <td>Madrid</td>\n",
       "    </tr>\n",
       "    <tr>\n",
       "      <th>2</th>\n",
       "      <td>3</td>\n",
       "      <td>coche usado por mi mujer para ir a trabajar.\\n...</td>\n",
       "      <td>11500</td>\n",
       "      <td>40.494190</td>\n",
       "      <td>-3.961537</td>\n",
       "      <td>Villanueva del Pardillo</td>\n",
       "      <td>Madrid</td>\n",
       "    </tr>\n",
       "    <tr>\n",
       "      <th>3</th>\n",
       "      <td>4</td>\n",
       "      <td>se vende nissan patrol k260 embrague nuevo , b...</td>\n",
       "      <td>4500</td>\n",
       "      <td>40.419014</td>\n",
       "      <td>-3.707443</td>\n",
       "      <td>Madrid</td>\n",
       "      <td>Madrid</td>\n",
       "    </tr>\n",
       "  </tbody>\n",
       "</table>\n",
       "</div>"
      ],
      "text/plain": [
       "   id_wallapop                                        descripcion  precio  \\\n",
       "0            1  nisan almera tino del 2004 ba por cadena le ve...    2200   \n",
       "1            2  vendo mi coche en perfecto estado de motor y d...    6500   \n",
       "2            3  coche usado por mi mujer para ir a trabajar.\\n...   11500   \n",
       "3            4  se vende nissan patrol k260 embrague nuevo , b...    4500   \n",
       "\n",
       "     latitud  longitud                   ciudad provincia  \n",
       "0  40.301646 -3.441828          Arganda del Rey    Madrid  \n",
       "1  40.620256 -3.910636       Hoyo de Manzanares    Madrid  \n",
       "2  40.494190 -3.961537  Villanueva del Pardillo    Madrid  \n",
       "3  40.419014 -3.707443                   Madrid    Madrid  "
      ]
     },
     "metadata": {},
     "output_type": "display_data"
    }
   ],
   "source": [
    "df_wallapop.head(4)"
   ]
  },
  {
   "cell_type": "code",
   "execution_count": null,
   "metadata": {},
   "outputs": [],
   "source": [
    "df_seguridad.head(4)"
   ]
  },
  {
   "cell_type": "code",
   "execution_count": null,
   "metadata": {},
   "outputs": [],
   "source": [
    "df_datos_modelos_nuevos.head(4)"
   ]
  },
  {
   "cell_type": "code",
   "execution_count": null,
   "metadata": {},
   "outputs": [],
   "source": [
    "df_segunda_mano.head(4)"
   ]
  },
  {
   "cell_type": "markdown",
   "metadata": {},
   "source": [
    "INICIO CREACIÓN DE TABLAS (agregando)"
   ]
  },
  {
   "cell_type": "markdown",
   "metadata": {},
   "source": [
    "ANIO"
   ]
  },
  {
   "cell_type": "code",
   "execution_count": null,
   "metadata": {},
   "outputs": [],
   "source": [
    "lista_viejo=df_segunda_mano[\"anio\"].unique()\n",
    "lista_nuevo=df_datos_modelos_nuevos[\"anio\"].unique()\n",
    "lista_seg=df_seguridad[\"anio\"].unique()\n",
    "lista_anios= []\n",
    "lista_anios.extend(lista_seg)\n",
    "lista_anios.extend(lista_nuevo)\n",
    "lista_anios.extend(lista_viejo)\n"
   ]
  },
  {
   "cell_type": "code",
   "execution_count": null,
   "metadata": {},
   "outputs": [
    {
     "data": {
      "text/plain": [
       "np.int64(15)"
      ]
     },
     "metadata": {},
     "output_type": "display_data"
    }
   ],
   "source": [
    "df_anios=pd.DataFrame(lista_anios)\n",
    "df_anios.duplicated().sum()"
   ]
  },
  {
   "cell_type": "code",
   "execution_count": null,
   "metadata": {},
   "outputs": [
    {
     "data": {
      "text/html": [
       "<div>\n",
       "<style scoped>\n",
       "    .dataframe tbody tr th:only-of-type {\n",
       "        vertical-align: middle;\n",
       "    }\n",
       "\n",
       "    .dataframe tbody tr th {\n",
       "        vertical-align: top;\n",
       "    }\n",
       "\n",
       "    .dataframe thead th {\n",
       "        text-align: right;\n",
       "    }\n",
       "</style>\n",
       "<table border=\"1\" class=\"dataframe\">\n",
       "  <thead>\n",
       "    <tr style=\"text-align: right;\">\n",
       "      <th></th>\n",
       "      <th>id_anio</th>\n",
       "      <th>anio</th>\n",
       "    </tr>\n",
       "  </thead>\n",
       "  <tbody>\n",
       "    <tr>\n",
       "      <th>0</th>\n",
       "      <td>1</td>\n",
       "      <td>2011</td>\n",
       "    </tr>\n",
       "    <tr>\n",
       "      <th>1</th>\n",
       "      <td>2</td>\n",
       "      <td>2012</td>\n",
       "    </tr>\n",
       "    <tr>\n",
       "      <th>2</th>\n",
       "      <td>3</td>\n",
       "      <td>2013</td>\n",
       "    </tr>\n",
       "    <tr>\n",
       "      <th>3</th>\n",
       "      <td>4</td>\n",
       "      <td>2014</td>\n",
       "    </tr>\n",
       "    <tr>\n",
       "      <th>4</th>\n",
       "      <td>5</td>\n",
       "      <td>2015</td>\n",
       "    </tr>\n",
       "  </tbody>\n",
       "</table>\n",
       "</div>"
      ],
      "text/plain": [
       "   id_anio  anio\n",
       "0        1  2011\n",
       "1        2  2012\n",
       "2        3  2013\n",
       "3        4  2014\n",
       "4        5  2015"
      ]
     },
     "metadata": {},
     "output_type": "display_data"
    }
   ],
   "source": [
    "df_anios.drop_duplicates(inplace=True)\n",
    "df_anios.reset_index(drop=True, inplace=True)\n",
    "df_anios.duplicated().sum()\n",
    "df_anios.index=df_anios.index+1\n",
    "df_anios.reset_index(inplace=True)\n",
    "dicc_anios={\n",
    "            \"index\": \"id_anio\",\n",
    "            0 : \"anio\"}\n",
    "df_anios.columns=df_anios.columns.map(dicc_anios)   \n",
    "df_anios.head()   "
   ]
  },
  {
   "cell_type": "markdown",
   "metadata": {},
   "source": [
    "MOTOR"
   ]
  },
  {
   "cell_type": "code",
   "execution_count": null,
   "metadata": {},
   "outputs": [],
   "source": [
    "lista_viejo=df_segunda_mano[\"motor\"].unique()\n",
    "lista_nuevo=df_datos_modelos_nuevos[\"motor\"].unique()\n",
    "lista_motores= []\n",
    "lista_motores.extend(lista_nuevo)\n",
    "lista_motores.extend(lista_viejo)"
   ]
  },
  {
   "cell_type": "code",
   "execution_count": null,
   "metadata": {},
   "outputs": [
    {
     "data": {
      "text/plain": [
       "np.int64(2)"
      ]
     },
     "metadata": {},
     "output_type": "display_data"
    }
   ],
   "source": [
    "df_motores=pd.DataFrame(lista_motores)\n",
    "df_motores.duplicated().sum()"
   ]
  },
  {
   "cell_type": "code",
   "execution_count": null,
   "metadata": {},
   "outputs": [
    {
     "data": {
      "text/html": [
       "<div>\n",
       "<style scoped>\n",
       "    .dataframe tbody tr th:only-of-type {\n",
       "        vertical-align: middle;\n",
       "    }\n",
       "\n",
       "    .dataframe tbody tr th {\n",
       "        vertical-align: top;\n",
       "    }\n",
       "\n",
       "    .dataframe thead th {\n",
       "        text-align: right;\n",
       "    }\n",
       "</style>\n",
       "<table border=\"1\" class=\"dataframe\">\n",
       "  <thead>\n",
       "    <tr style=\"text-align: right;\">\n",
       "      <th></th>\n",
       "      <th>id_motor</th>\n",
       "      <th>motor</th>\n",
       "    </tr>\n",
       "  </thead>\n",
       "  <tbody>\n",
       "    <tr>\n",
       "      <th>0</th>\n",
       "      <td>1</td>\n",
       "      <td>MHEV Gasolina</td>\n",
       "    </tr>\n",
       "    <tr>\n",
       "      <th>1</th>\n",
       "      <td>2</td>\n",
       "      <td>HEV Gasolina</td>\n",
       "    </tr>\n",
       "    <tr>\n",
       "      <th>2</th>\n",
       "      <td>3</td>\n",
       "      <td>Gasolina</td>\n",
       "    </tr>\n",
       "    <tr>\n",
       "      <th>3</th>\n",
       "      <td>4</td>\n",
       "      <td>Eléctrico</td>\n",
       "    </tr>\n",
       "    <tr>\n",
       "      <th>4</th>\n",
       "      <td>5</td>\n",
       "      <td>Diesel</td>\n",
       "    </tr>\n",
       "  </tbody>\n",
       "</table>\n",
       "</div>"
      ],
      "text/plain": [
       "   id_motor          motor\n",
       "0         1  MHEV Gasolina\n",
       "1         2   HEV Gasolina\n",
       "2         3       Gasolina\n",
       "3         4      Eléctrico\n",
       "4         5         Diesel"
      ]
     },
     "metadata": {},
     "output_type": "display_data"
    }
   ],
   "source": [
    "df_motores.drop_duplicates(inplace=True)\n",
    "df_motores.reset_index(drop=True, inplace=True)\n",
    "df_motores.index=df_motores.index+1\n",
    "df_motores.reset_index(inplace=True)\n",
    "dicc_motores={\n",
    "            \"index\": \"id_motor\",\n",
    "            0 : \"motor\"}\n",
    "df_motores.columns=df_motores.columns.map(dicc_motores)   \n",
    "df_motores.head()  "
   ]
  },
  {
   "cell_type": "markdown",
   "metadata": {},
   "source": [
    "POTENCIA"
   ]
  },
  {
   "cell_type": "code",
   "execution_count": null,
   "metadata": {},
   "outputs": [],
   "source": [
    "lista_viejo=df_segunda_mano[\"potencia\"].unique()\n",
    "lista_nuevo=df_datos_modelos_nuevos[\"potencia\"].unique()\n",
    "lista_potencias= []\n",
    "lista_potencias.extend(lista_nuevo)\n",
    "lista_potencias.extend(lista_viejo)"
   ]
  },
  {
   "cell_type": "code",
   "execution_count": null,
   "metadata": {},
   "outputs": [
    {
     "data": {
      "text/plain": [
       "np.int64(10)"
      ]
     },
     "metadata": {},
     "output_type": "display_data"
    }
   ],
   "source": [
    "df_potencias=pd.DataFrame(lista_potencias)\n",
    "df_potencias.duplicated().sum()"
   ]
  },
  {
   "cell_type": "code",
   "execution_count": null,
   "metadata": {},
   "outputs": [
    {
     "data": {
      "text/html": [
       "<div>\n",
       "<style scoped>\n",
       "    .dataframe tbody tr th:only-of-type {\n",
       "        vertical-align: middle;\n",
       "    }\n",
       "\n",
       "    .dataframe tbody tr th {\n",
       "        vertical-align: top;\n",
       "    }\n",
       "\n",
       "    .dataframe thead th {\n",
       "        text-align: right;\n",
       "    }\n",
       "</style>\n",
       "<table border=\"1\" class=\"dataframe\">\n",
       "  <thead>\n",
       "    <tr style=\"text-align: right;\">\n",
       "      <th></th>\n",
       "      <th>id_potencia</th>\n",
       "      <th>potencia</th>\n",
       "    </tr>\n",
       "  </thead>\n",
       "  <tbody>\n",
       "    <tr>\n",
       "      <th>0</th>\n",
       "      <td>1</td>\n",
       "      <td>140</td>\n",
       "    </tr>\n",
       "    <tr>\n",
       "      <th>1</th>\n",
       "      <td>2</td>\n",
       "      <td>158</td>\n",
       "    </tr>\n",
       "    <tr>\n",
       "      <th>2</th>\n",
       "      <td>3</td>\n",
       "      <td>190</td>\n",
       "    </tr>\n",
       "    <tr>\n",
       "      <th>3</th>\n",
       "      <td>4</td>\n",
       "      <td>114</td>\n",
       "    </tr>\n",
       "    <tr>\n",
       "      <th>4</th>\n",
       "      <td>5</td>\n",
       "      <td>143</td>\n",
       "    </tr>\n",
       "  </tbody>\n",
       "</table>\n",
       "</div>"
      ],
      "text/plain": [
       "   id_potencia  potencia\n",
       "0            1       140\n",
       "1            2       158\n",
       "2            3       190\n",
       "3            4       114\n",
       "4            5       143"
      ]
     },
     "metadata": {},
     "output_type": "display_data"
    }
   ],
   "source": [
    "df_potencias.drop_duplicates(inplace=True)\n",
    "df_potencias.reset_index(drop=True, inplace=True)\n",
    "df_potencias.index=df_potencias.index+1\n",
    "df_potencias.reset_index(inplace=True)\n",
    "dicc_potencias={\n",
    "            \"index\": \"id_potencia\",\n",
    "            0 : \"potencia\"}\n",
    "df_potencias.columns=df_potencias.columns.map(dicc_potencias)   \n",
    "df_potencias.head()"
   ]
  },
  {
   "cell_type": "markdown",
   "metadata": {},
   "source": [
    "EQUIPAMIENTOS SEGURIDAD"
   ]
  },
  {
   "cell_type": "code",
   "execution_count": null,
   "metadata": {},
   "outputs": [],
   "source": [
    "lista_seg1=df_seguridad[\"estabilidad_electronica\"].unique()\n",
    "lista_seg2=df_seguridad[\"aviso_choque_frontal\"].unique()\n",
    "lista_seg3=df_seguridad[\"aviso_desvio_carril\"].unique()\n",
    "lista_equipamientos= []\n",
    "lista_equipamientos.extend(lista_seg1)\n",
    "lista_equipamientos.extend(lista_seg2)\n",
    "lista_equipamientos.extend(lista_seg3)"
   ]
  },
  {
   "cell_type": "code",
   "execution_count": null,
   "metadata": {},
   "outputs": [
    {
     "data": {
      "text/plain": [
       "np.int64(6)"
      ]
     },
     "metadata": {},
     "output_type": "display_data"
    }
   ],
   "source": [
    "df_equipamientos=pd.DataFrame(lista_equipamientos)\n",
    "df_equipamientos.duplicated().sum()"
   ]
  },
  {
   "cell_type": "code",
   "execution_count": null,
   "metadata": {},
   "outputs": [
    {
     "data": {
      "text/html": [
       "<div>\n",
       "<style scoped>\n",
       "    .dataframe tbody tr th:only-of-type {\n",
       "        vertical-align: middle;\n",
       "    }\n",
       "\n",
       "    .dataframe tbody tr th {\n",
       "        vertical-align: top;\n",
       "    }\n",
       "\n",
       "    .dataframe thead th {\n",
       "        text-align: right;\n",
       "    }\n",
       "</style>\n",
       "<table border=\"1\" class=\"dataframe\">\n",
       "  <thead>\n",
       "    <tr style=\"text-align: right;\">\n",
       "      <th></th>\n",
       "      <th>id_equipamiento</th>\n",
       "      <th>equipamiento</th>\n",
       "    </tr>\n",
       "  </thead>\n",
       "  <tbody>\n",
       "    <tr>\n",
       "      <th>0</th>\n",
       "      <td>1</td>\n",
       "      <td>Standard</td>\n",
       "    </tr>\n",
       "    <tr>\n",
       "      <th>1</th>\n",
       "      <td>2</td>\n",
       "      <td>Optional</td>\n",
       "    </tr>\n",
       "    <tr>\n",
       "      <th>2</th>\n",
       "      <td>3</td>\n",
       "      <td>No</td>\n",
       "    </tr>\n",
       "    <tr>\n",
       "      <th>3</th>\n",
       "      <td>4</td>\n",
       "      <td>Standard &amp; Optional</td>\n",
       "    </tr>\n",
       "  </tbody>\n",
       "</table>\n",
       "</div>"
      ],
      "text/plain": [
       "   id_equipamiento         equipamiento\n",
       "0                1             Standard\n",
       "1                2             Optional\n",
       "2                3                   No\n",
       "3                4  Standard & Optional"
      ]
     },
     "metadata": {},
     "output_type": "display_data"
    }
   ],
   "source": [
    "df_equipamientos.drop_duplicates(inplace=True)\n",
    "df_equipamientos.reset_index(drop=True, inplace=True)\n",
    "df_equipamientos.index=df_equipamientos.index+1\n",
    "df_equipamientos.reset_index(inplace=True)\n",
    "dicc_equipamientos={\n",
    "            \"index\": \"id_equipamiento\",\n",
    "            0 : \"equipamiento\"}\n",
    "df_equipamientos.columns=df_equipamientos.columns.map(dicc_equipamientos)   \n",
    "df_equipamientos"
   ]
  },
  {
   "cell_type": "markdown",
   "metadata": {},
   "source": [
    "CONTINUACION CREACION DE TABLAS"
   ]
  },
  {
   "cell_type": "markdown",
   "metadata": {},
   "source": [
    "PROVINCIA"
   ]
  },
  {
   "cell_type": "code",
   "execution_count": null,
   "metadata": {},
   "outputs": [],
   "source": [
    "df_provincias= pd.DataFrame(df_datos_modelos_nuevos[\"provincia\"].unique())\n",
    "df_provincias.index=df_provincias.index+1\n",
    "df_provincias.reset_index(inplace=True)"
   ]
  },
  {
   "cell_type": "code",
   "execution_count": null,
   "metadata": {},
   "outputs": [
    {
     "data": {
      "text/html": [
       "<div>\n",
       "<style scoped>\n",
       "    .dataframe tbody tr th:only-of-type {\n",
       "        vertical-align: middle;\n",
       "    }\n",
       "\n",
       "    .dataframe tbody tr th {\n",
       "        vertical-align: top;\n",
       "    }\n",
       "\n",
       "    .dataframe thead th {\n",
       "        text-align: right;\n",
       "    }\n",
       "</style>\n",
       "<table border=\"1\" class=\"dataframe\">\n",
       "  <thead>\n",
       "    <tr style=\"text-align: right;\">\n",
       "      <th></th>\n",
       "      <th>id_provincia</th>\n",
       "      <th>provincia</th>\n",
       "    </tr>\n",
       "  </thead>\n",
       "  <tbody>\n",
       "    <tr>\n",
       "      <th>0</th>\n",
       "      <td>1</td>\n",
       "      <td>Madrid</td>\n",
       "    </tr>\n",
       "  </tbody>\n",
       "</table>\n",
       "</div>"
      ],
      "text/plain": [
       "   id_provincia provincia\n",
       "0             1    Madrid"
      ]
     },
     "metadata": {},
     "output_type": "display_data"
    }
   ],
   "source": [
    "dicc_provincias={\n",
    "            \"index\": \"id_provincia\",\n",
    "            0 : \"provincia\"}\n",
    "df_provincias.columns=df_provincias.columns.map(dicc_provincias)  \n",
    "df_provincias"
   ]
  },
  {
   "cell_type": "markdown",
   "metadata": {},
   "source": [
    "TIPO"
   ]
  },
  {
   "cell_type": "code",
   "execution_count": null,
   "metadata": {},
   "outputs": [],
   "source": [
    "df_cambio_marcha= pd.DataFrame(df_segunda_mano[\"tipo\"].unique())\n",
    "df_cambio_marcha.index=df_cambio_marcha.index+1\n",
    "df_cambio_marcha.reset_index(inplace=True)"
   ]
  },
  {
   "cell_type": "code",
   "execution_count": null,
   "metadata": {},
   "outputs": [
    {
     "data": {
      "text/html": [
       "<div>\n",
       "<style scoped>\n",
       "    .dataframe tbody tr th:only-of-type {\n",
       "        vertical-align: middle;\n",
       "    }\n",
       "\n",
       "    .dataframe tbody tr th {\n",
       "        vertical-align: top;\n",
       "    }\n",
       "\n",
       "    .dataframe thead th {\n",
       "        text-align: right;\n",
       "    }\n",
       "</style>\n",
       "<table border=\"1\" class=\"dataframe\">\n",
       "  <thead>\n",
       "    <tr style=\"text-align: right;\">\n",
       "      <th></th>\n",
       "      <th>id_cambio</th>\n",
       "      <th>tipo</th>\n",
       "    </tr>\n",
       "  </thead>\n",
       "  <tbody>\n",
       "    <tr>\n",
       "      <th>0</th>\n",
       "      <td>1</td>\n",
       "      <td>Manual</td>\n",
       "    </tr>\n",
       "    <tr>\n",
       "      <th>1</th>\n",
       "      <td>2</td>\n",
       "      <td>Automático</td>\n",
       "    </tr>\n",
       "  </tbody>\n",
       "</table>\n",
       "</div>"
      ],
      "text/plain": [
       "   id_cambio        tipo\n",
       "0          1      Manual\n",
       "1          2  Automático"
      ]
     },
     "metadata": {},
     "output_type": "display_data"
    }
   ],
   "source": [
    "dicc_tipos={\n",
    "            \"index\": \"id_cambio\",\n",
    "            0 : \"tipo\"}\n",
    "df_cambio_marcha.columns=df_cambio_marcha.columns.map(dicc_tipos)  \n",
    "df_cambio_marcha"
   ]
  },
  {
   "cell_type": "markdown",
   "metadata": {},
   "source": [
    "MODELO"
   ]
  },
  {
   "cell_type": "code",
   "execution_count": null,
   "metadata": {},
   "outputs": [],
   "source": [
    "df_modelos= pd.DataFrame(df_datos_modelos_nuevos[\"modelo\"].unique())\n",
    "df_modelos.index=df_modelos.index+1\n",
    "df_modelos.reset_index(inplace=True)"
   ]
  },
  {
   "cell_type": "code",
   "execution_count": null,
   "metadata": {},
   "outputs": [
    {
     "data": {
      "text/html": [
       "<div>\n",
       "<style scoped>\n",
       "    .dataframe tbody tr th:only-of-type {\n",
       "        vertical-align: middle;\n",
       "    }\n",
       "\n",
       "    .dataframe tbody tr th {\n",
       "        vertical-align: top;\n",
       "    }\n",
       "\n",
       "    .dataframe thead th {\n",
       "        text-align: right;\n",
       "    }\n",
       "</style>\n",
       "<table border=\"1\" class=\"dataframe\">\n",
       "  <thead>\n",
       "    <tr style=\"text-align: right;\">\n",
       "      <th></th>\n",
       "      <th>id_modelo</th>\n",
       "      <th>modelo</th>\n",
       "    </tr>\n",
       "  </thead>\n",
       "  <tbody>\n",
       "    <tr>\n",
       "      <th>0</th>\n",
       "      <td>1</td>\n",
       "      <td>Nissan Qashqai</td>\n",
       "    </tr>\n",
       "    <tr>\n",
       "      <th>1</th>\n",
       "      <td>2</td>\n",
       "      <td>Nissan Qashqai híbrido</td>\n",
       "    </tr>\n",
       "    <tr>\n",
       "      <th>2</th>\n",
       "      <td>3</td>\n",
       "      <td>Nissan Juke</td>\n",
       "    </tr>\n",
       "    <tr>\n",
       "      <th>3</th>\n",
       "      <td>4</td>\n",
       "      <td>Nissan Juke híbrido</td>\n",
       "    </tr>\n",
       "    <tr>\n",
       "      <th>4</th>\n",
       "      <td>5</td>\n",
       "      <td>Nissan X-Trail</td>\n",
       "    </tr>\n",
       "  </tbody>\n",
       "</table>\n",
       "</div>"
      ],
      "text/plain": [
       "   id_modelo                  modelo\n",
       "0          1          Nissan Qashqai\n",
       "1          2  Nissan Qashqai híbrido\n",
       "2          3             Nissan Juke\n",
       "3          4     Nissan Juke híbrido\n",
       "4          5          Nissan X-Trail"
      ]
     },
     "metadata": {},
     "output_type": "display_data"
    }
   ],
   "source": [
    "dicc_modelos={\n",
    "            \"index\": \"id_modelo\",\n",
    "            0 : \"modelo\"}\n",
    "df_modelos.columns=df_modelos.columns.map(dicc_modelos)  \n",
    "df_modelos.head()"
   ]
  },
  {
   "cell_type": "markdown",
   "metadata": {},
   "source": [
    "AHORA TOCA SUSTITUIR LOS IDS EN LAS TABLAS GRANDES"
   ]
  },
  {
   "cell_type": "code",
   "execution_count": null,
   "metadata": {},
   "outputs": [
    {
     "data": {
      "text/html": [
       "<div>\n",
       "<style scoped>\n",
       "    .dataframe tbody tr th:only-of-type {\n",
       "        vertical-align: middle;\n",
       "    }\n",
       "\n",
       "    .dataframe tbody tr th {\n",
       "        vertical-align: top;\n",
       "    }\n",
       "\n",
       "    .dataframe thead th {\n",
       "        text-align: right;\n",
       "    }\n",
       "</style>\n",
       "<table border=\"1\" class=\"dataframe\">\n",
       "  <thead>\n",
       "    <tr style=\"text-align: right;\">\n",
       "      <th></th>\n",
       "      <th>id_segunda_mano</th>\n",
       "      <th>version</th>\n",
       "      <th>kilometraje</th>\n",
       "      <th>tipo</th>\n",
       "      <th>anio</th>\n",
       "      <th>motor</th>\n",
       "      <th>potencia</th>\n",
       "      <th>precio</th>\n",
       "      <th>provincia</th>\n",
       "    </tr>\n",
       "  </thead>\n",
       "  <tbody>\n",
       "    <tr>\n",
       "      <th>0</th>\n",
       "      <td>1</td>\n",
       "      <td>Nissan Qashqai 1.2 DIG-T Acenta 4x2</td>\n",
       "      <td>121649</td>\n",
       "      <td>Manual</td>\n",
       "      <td>2015</td>\n",
       "      <td>Gasolina</td>\n",
       "      <td>116</td>\n",
       "      <td>11480</td>\n",
       "      <td>Madrid</td>\n",
       "    </tr>\n",
       "    <tr>\n",
       "      <th>1</th>\n",
       "      <td>2</td>\n",
       "      <td>Nissan Juke 1.5dCi Visia</td>\n",
       "      <td>260000</td>\n",
       "      <td>Manual</td>\n",
       "      <td>2012</td>\n",
       "      <td>Diésel</td>\n",
       "      <td>110</td>\n",
       "      <td>6500</td>\n",
       "      <td>Madrid</td>\n",
       "    </tr>\n",
       "    <tr>\n",
       "      <th>2</th>\n",
       "      <td>3</td>\n",
       "      <td>Nissan Qashqai DIG-T 103kW (140CV) mHEV 4x2 Ac...</td>\n",
       "      <td>11290</td>\n",
       "      <td>Manual</td>\n",
       "      <td>2023</td>\n",
       "      <td>Electro/Gasolina</td>\n",
       "      <td>140</td>\n",
       "      <td>22000</td>\n",
       "      <td>Madrid</td>\n",
       "    </tr>\n",
       "  </tbody>\n",
       "</table>\n",
       "</div>"
      ],
      "text/plain": [
       "   id_segunda_mano                                            version  \\\n",
       "0                1                Nissan Qashqai 1.2 DIG-T Acenta 4x2   \n",
       "1                2                           Nissan Juke 1.5dCi Visia   \n",
       "2                3  Nissan Qashqai DIG-T 103kW (140CV) mHEV 4x2 Ac...   \n",
       "\n",
       "   kilometraje    tipo  anio             motor  potencia  precio provincia  \n",
       "0       121649  Manual  2015          Gasolina       116   11480    Madrid  \n",
       "1       260000  Manual  2012            Diésel       110    6500    Madrid  \n",
       "2        11290  Manual  2023  Electro/Gasolina       140   22000    Madrid  "
      ]
     },
     "metadata": {},
     "output_type": "display_data"
    }
   ],
   "source": [
    "df_segunda_mano.head(3)"
   ]
  },
  {
   "cell_type": "code",
   "execution_count": null,
   "metadata": {},
   "outputs": [
    {
     "data": {
      "text/html": [
       "<div>\n",
       "<style scoped>\n",
       "    .dataframe tbody tr th:only-of-type {\n",
       "        vertical-align: middle;\n",
       "    }\n",
       "\n",
       "    .dataframe tbody tr th {\n",
       "        vertical-align: top;\n",
       "    }\n",
       "\n",
       "    .dataframe thead th {\n",
       "        text-align: right;\n",
       "    }\n",
       "</style>\n",
       "<table border=\"1\" class=\"dataframe\">\n",
       "  <thead>\n",
       "    <tr style=\"text-align: right;\">\n",
       "      <th></th>\n",
       "      <th>id_modelo_nuevo</th>\n",
       "      <th>version</th>\n",
       "      <th>puertas</th>\n",
       "      <th>potencia</th>\n",
       "      <th>consumo</th>\n",
       "      <th>motor</th>\n",
       "      <th>precio</th>\n",
       "      <th>modelo</th>\n",
       "      <th>provincia</th>\n",
       "      <th>anio</th>\n",
       "    </tr>\n",
       "  </thead>\n",
       "  <tbody>\n",
       "    <tr>\n",
       "      <th>0</th>\n",
       "      <td>1</td>\n",
       "      <td>NISSAN QASHQAI 1.3 DIG-T MHEV 103KW (140CV) AC...</td>\n",
       "      <td>5</td>\n",
       "      <td>140</td>\n",
       "      <td>6.3</td>\n",
       "      <td>MHEV Gasolina</td>\n",
       "      <td>31200</td>\n",
       "      <td>Nissan Qashqai</td>\n",
       "      <td>Madrid</td>\n",
       "      <td>2024</td>\n",
       "    </tr>\n",
       "    <tr>\n",
       "      <th>1</th>\n",
       "      <td>2</td>\n",
       "      <td>NISSAN QASHQAI (O)1.3 DIG-T MHEV 103KW (140CV)...</td>\n",
       "      <td>5</td>\n",
       "      <td>140</td>\n",
       "      <td>6.3</td>\n",
       "      <td>MHEV Gasolina</td>\n",
       "      <td>32700</td>\n",
       "      <td>Nissan Qashqai</td>\n",
       "      <td>Madrid</td>\n",
       "      <td>2024</td>\n",
       "    </tr>\n",
       "    <tr>\n",
       "      <th>2</th>\n",
       "      <td>3</td>\n",
       "      <td>NISSAN QASHQAI 1.3 DIG-T MHEV 116KW (158CV) AC...</td>\n",
       "      <td>5</td>\n",
       "      <td>158</td>\n",
       "      <td>6.3</td>\n",
       "      <td>MHEV Gasolina</td>\n",
       "      <td>34300</td>\n",
       "      <td>Nissan Qashqai</td>\n",
       "      <td>Madrid</td>\n",
       "      <td>2024</td>\n",
       "    </tr>\n",
       "  </tbody>\n",
       "</table>\n",
       "</div>"
      ],
      "text/plain": [
       "   id_modelo_nuevo                                            version  \\\n",
       "0                1  NISSAN QASHQAI 1.3 DIG-T MHEV 103KW (140CV) AC...   \n",
       "1                2  NISSAN QASHQAI (O)1.3 DIG-T MHEV 103KW (140CV)...   \n",
       "2                3  NISSAN QASHQAI 1.3 DIG-T MHEV 116KW (158CV) AC...   \n",
       "\n",
       "   puertas  potencia  consumo          motor  precio          modelo  \\\n",
       "0        5       140      6.3  MHEV Gasolina   31200  Nissan Qashqai   \n",
       "1        5       140      6.3  MHEV Gasolina   32700  Nissan Qashqai   \n",
       "2        5       158      6.3  MHEV Gasolina   34300  Nissan Qashqai   \n",
       "\n",
       "  provincia  anio  \n",
       "0    Madrid  2024  \n",
       "1    Madrid  2024  \n",
       "2    Madrid  2024  "
      ]
     },
     "metadata": {},
     "output_type": "display_data"
    }
   ],
   "source": [
    "df_datos_modelos_nuevos.head(3)"
   ]
  },
  {
   "cell_type": "code",
   "execution_count": null,
   "metadata": {},
   "outputs": [
    {
     "data": {
      "text/html": [
       "<div>\n",
       "<style scoped>\n",
       "    .dataframe tbody tr th:only-of-type {\n",
       "        vertical-align: middle;\n",
       "    }\n",
       "\n",
       "    .dataframe tbody tr th {\n",
       "        vertical-align: top;\n",
       "    }\n",
       "\n",
       "    .dataframe thead th {\n",
       "        text-align: right;\n",
       "    }\n",
       "</style>\n",
       "<table border=\"1\" class=\"dataframe\">\n",
       "  <thead>\n",
       "    <tr style=\"text-align: right;\">\n",
       "      <th></th>\n",
       "      <th>id_seguridad</th>\n",
       "      <th>evaluacion_general</th>\n",
       "      <th>evaluacion_choque_frontal</th>\n",
       "      <th>evaluacion_choque_lateral</th>\n",
       "      <th>evaluacion_barrera_lateral</th>\n",
       "      <th>evaluacion_vuelco</th>\n",
       "      <th>probabilidad_vuelco</th>\n",
       "      <th>evaluacion_choque_columna</th>\n",
       "      <th>estabilidad_electronica</th>\n",
       "      <th>aviso_choque_frontal</th>\n",
       "      <th>aviso_desvio_carril</th>\n",
       "      <th>quejas</th>\n",
       "      <th>retiradas</th>\n",
       "      <th>investigaciones</th>\n",
       "      <th>anio</th>\n",
       "      <th>marca</th>\n",
       "      <th>version</th>\n",
       "      <th>descripcion</th>\n",
       "      <th>vehiculo_id</th>\n",
       "    </tr>\n",
       "  </thead>\n",
       "  <tbody>\n",
       "    <tr>\n",
       "      <th>0</th>\n",
       "      <td>1</td>\n",
       "      <td>4</td>\n",
       "      <td>4</td>\n",
       "      <td>5</td>\n",
       "      <td>4</td>\n",
       "      <td>4</td>\n",
       "      <td>0.105</td>\n",
       "      <td>5</td>\n",
       "      <td>Standard</td>\n",
       "      <td>No</td>\n",
       "      <td>No</td>\n",
       "      <td>236</td>\n",
       "      <td>1</td>\n",
       "      <td>0</td>\n",
       "      <td>2011</td>\n",
       "      <td>NISSAN</td>\n",
       "      <td>ALTIMA</td>\n",
       "      <td>2011 Nissan Altima 4 DR FWD</td>\n",
       "      <td>357</td>\n",
       "    </tr>\n",
       "    <tr>\n",
       "      <th>1</th>\n",
       "      <td>2</td>\n",
       "      <td>4</td>\n",
       "      <td>4</td>\n",
       "      <td>5</td>\n",
       "      <td>4</td>\n",
       "      <td>4</td>\n",
       "      <td>0.105</td>\n",
       "      <td>5</td>\n",
       "      <td>Standard</td>\n",
       "      <td>No</td>\n",
       "      <td>No</td>\n",
       "      <td>240</td>\n",
       "      <td>1</td>\n",
       "      <td>1</td>\n",
       "      <td>2011</td>\n",
       "      <td>NISSAN</td>\n",
       "      <td>ALTIMA HEV</td>\n",
       "      <td>2011 Nissan Altima HEV 4 DR FWD</td>\n",
       "      <td>359</td>\n",
       "    </tr>\n",
       "    <tr>\n",
       "      <th>2</th>\n",
       "      <td>3</td>\n",
       "      <td>5</td>\n",
       "      <td>4</td>\n",
       "      <td>5</td>\n",
       "      <td>5</td>\n",
       "      <td>4</td>\n",
       "      <td>0.110</td>\n",
       "      <td>4</td>\n",
       "      <td>Standard</td>\n",
       "      <td>No</td>\n",
       "      <td>No</td>\n",
       "      <td>93</td>\n",
       "      <td>0</td>\n",
       "      <td>3</td>\n",
       "      <td>2011</td>\n",
       "      <td>NISSAN</td>\n",
       "      <td>LEAF</td>\n",
       "      <td>2011 Nissan Leaf 5 HB FWD</td>\n",
       "      <td>367</td>\n",
       "    </tr>\n",
       "  </tbody>\n",
       "</table>\n",
       "</div>"
      ],
      "text/plain": [
       "   id_seguridad  evaluacion_general  evaluacion_choque_frontal  \\\n",
       "0             1                   4                          4   \n",
       "1             2                   4                          4   \n",
       "2             3                   5                          4   \n",
       "\n",
       "   evaluacion_choque_lateral  evaluacion_barrera_lateral  evaluacion_vuelco  \\\n",
       "0                          5                           4                  4   \n",
       "1                          5                           4                  4   \n",
       "2                          5                           5                  4   \n",
       "\n",
       "   probabilidad_vuelco  evaluacion_choque_columna estabilidad_electronica  \\\n",
       "0                0.105                          5                Standard   \n",
       "1                0.105                          5                Standard   \n",
       "2                0.110                          4                Standard   \n",
       "\n",
       "  aviso_choque_frontal aviso_desvio_carril  quejas  retiradas  \\\n",
       "0                   No                  No     236          1   \n",
       "1                   No                  No     240          1   \n",
       "2                   No                  No      93          0   \n",
       "\n",
       "   investigaciones  anio   marca     version                      descripcion  \\\n",
       "0                0  2011  NISSAN      ALTIMA      2011 Nissan Altima 4 DR FWD   \n",
       "1                1  2011  NISSAN  ALTIMA HEV  2011 Nissan Altima HEV 4 DR FWD   \n",
       "2                3  2011  NISSAN        LEAF        2011 Nissan Leaf 5 HB FWD   \n",
       "\n",
       "   vehiculo_id  \n",
       "0          357  \n",
       "1          359  \n",
       "2          367  "
      ]
     },
     "metadata": {},
     "output_type": "display_data"
    }
   ],
   "source": [
    "df_seguridad.head(3)"
   ]
  },
  {
   "cell_type": "code",
   "execution_count": null,
   "metadata": {},
   "outputs": [
    {
     "data": {
      "text/html": [
       "<div>\n",
       "<style scoped>\n",
       "    .dataframe tbody tr th:only-of-type {\n",
       "        vertical-align: middle;\n",
       "    }\n",
       "\n",
       "    .dataframe tbody tr th {\n",
       "        vertical-align: top;\n",
       "    }\n",
       "\n",
       "    .dataframe thead th {\n",
       "        text-align: right;\n",
       "    }\n",
       "</style>\n",
       "<table border=\"1\" class=\"dataframe\">\n",
       "  <thead>\n",
       "    <tr style=\"text-align: right;\">\n",
       "      <th></th>\n",
       "      <th>id_wallapop</th>\n",
       "      <th>descripcion</th>\n",
       "      <th>precio</th>\n",
       "      <th>latitud</th>\n",
       "      <th>longitud</th>\n",
       "      <th>ciudad</th>\n",
       "      <th>provincia</th>\n",
       "    </tr>\n",
       "  </thead>\n",
       "  <tbody>\n",
       "    <tr>\n",
       "      <th>0</th>\n",
       "      <td>1</td>\n",
       "      <td>nisan almera tino del 2004 ba por cadena le ve...</td>\n",
       "      <td>2200</td>\n",
       "      <td>40.301646</td>\n",
       "      <td>-3.441828</td>\n",
       "      <td>Arganda del Rey</td>\n",
       "      <td>Madrid</td>\n",
       "    </tr>\n",
       "    <tr>\n",
       "      <th>1</th>\n",
       "      <td>2</td>\n",
       "      <td>vendo mi coche en perfecto estado de motor y d...</td>\n",
       "      <td>6500</td>\n",
       "      <td>40.620256</td>\n",
       "      <td>-3.910636</td>\n",
       "      <td>Hoyo de Manzanares</td>\n",
       "      <td>Madrid</td>\n",
       "    </tr>\n",
       "    <tr>\n",
       "      <th>2</th>\n",
       "      <td>3</td>\n",
       "      <td>coche usado por mi mujer para ir a trabajar.\\n...</td>\n",
       "      <td>11500</td>\n",
       "      <td>40.494190</td>\n",
       "      <td>-3.961537</td>\n",
       "      <td>Villanueva del Pardillo</td>\n",
       "      <td>Madrid</td>\n",
       "    </tr>\n",
       "  </tbody>\n",
       "</table>\n",
       "</div>"
      ],
      "text/plain": [
       "   id_wallapop                                        descripcion  precio  \\\n",
       "0            1  nisan almera tino del 2004 ba por cadena le ve...    2200   \n",
       "1            2  vendo mi coche en perfecto estado de motor y d...    6500   \n",
       "2            3  coche usado por mi mujer para ir a trabajar.\\n...   11500   \n",
       "\n",
       "     latitud  longitud                   ciudad provincia  \n",
       "0  40.301646 -3.441828          Arganda del Rey    Madrid  \n",
       "1  40.620256 -3.910636       Hoyo de Manzanares    Madrid  \n",
       "2  40.494190 -3.961537  Villanueva del Pardillo    Madrid  "
      ]
     },
     "metadata": {},
     "output_type": "display_data"
    }
   ],
   "source": [
    "df_wallapop.head(3)"
   ]
  },
  {
   "cell_type": "markdown",
   "metadata": {},
   "source": [
    "Primero en wallapop"
   ]
  },
  {
   "cell_type": "code",
   "execution_count": null,
   "metadata": {},
   "outputs": [
    {
     "data": {
      "text/plain": [
       "{'Madrid': 1}"
      ]
     },
     "metadata": {},
     "output_type": "display_data"
    }
   ],
   "source": [
    "dicc_provincia = df_provincias.set_index('provincia')['id_provincia'].to_dict()\n",
    "dicc_provincia"
   ]
  },
  {
   "cell_type": "code",
   "execution_count": null,
   "metadata": {},
   "outputs": [],
   "source": [
    "df_wallapop['id_provincia'] = df_wallapop['provincia'].map(dicc_provincia)\n"
   ]
  },
  {
   "cell_type": "code",
   "execution_count": null,
   "metadata": {},
   "outputs": [],
   "source": [
    "df_wallapop.drop(columns=\"provincia\", inplace=True)"
   ]
  },
  {
   "cell_type": "code",
   "execution_count": null,
   "metadata": {},
   "outputs": [
    {
     "data": {
      "text/html": [
       "<div>\n",
       "<style scoped>\n",
       "    .dataframe tbody tr th:only-of-type {\n",
       "        vertical-align: middle;\n",
       "    }\n",
       "\n",
       "    .dataframe tbody tr th {\n",
       "        vertical-align: top;\n",
       "    }\n",
       "\n",
       "    .dataframe thead th {\n",
       "        text-align: right;\n",
       "    }\n",
       "</style>\n",
       "<table border=\"1\" class=\"dataframe\">\n",
       "  <thead>\n",
       "    <tr style=\"text-align: right;\">\n",
       "      <th></th>\n",
       "      <th>id_wallapop</th>\n",
       "      <th>descripcion</th>\n",
       "      <th>precio</th>\n",
       "      <th>latitud</th>\n",
       "      <th>longitud</th>\n",
       "      <th>ciudad</th>\n",
       "      <th>id_provincia</th>\n",
       "    </tr>\n",
       "  </thead>\n",
       "  <tbody>\n",
       "    <tr>\n",
       "      <th>0</th>\n",
       "      <td>1</td>\n",
       "      <td>nisan almera tino del 2004 ba por cadena le ve...</td>\n",
       "      <td>2200</td>\n",
       "      <td>40.301646</td>\n",
       "      <td>-3.441828</td>\n",
       "      <td>Arganda del Rey</td>\n",
       "      <td>1</td>\n",
       "    </tr>\n",
       "    <tr>\n",
       "      <th>1</th>\n",
       "      <td>2</td>\n",
       "      <td>vendo mi coche en perfecto estado de motor y d...</td>\n",
       "      <td>6500</td>\n",
       "      <td>40.620256</td>\n",
       "      <td>-3.910636</td>\n",
       "      <td>Hoyo de Manzanares</td>\n",
       "      <td>1</td>\n",
       "    </tr>\n",
       "  </tbody>\n",
       "</table>\n",
       "</div>"
      ],
      "text/plain": [
       "   id_wallapop                                        descripcion  precio  \\\n",
       "0            1  nisan almera tino del 2004 ba por cadena le ve...    2200   \n",
       "1            2  vendo mi coche en perfecto estado de motor y d...    6500   \n",
       "\n",
       "     latitud  longitud              ciudad  id_provincia  \n",
       "0  40.301646 -3.441828     Arganda del Rey             1  \n",
       "1  40.620256 -3.910636  Hoyo de Manzanares             1  "
      ]
     },
     "metadata": {},
     "output_type": "display_data"
    }
   ],
   "source": [
    "df_wallapop.head(2)"
   ]
  },
  {
   "cell_type": "markdown",
   "metadata": {},
   "source": [
    "Segundo en nuevos"
   ]
  },
  {
   "cell_type": "code",
   "execution_count": null,
   "metadata": {},
   "outputs": [],
   "source": [
    "dicc_potencia = df_potencias.set_index('potencia')['id_potencia'].to_dict()\n",
    "dicc_motor = df_motores.set_index('motor')['id_motor'].to_dict()\n",
    "dicc_modelo = df_modelos.set_index('modelo')['id_modelo'].to_dict()\n",
    "dicc_anio = df_anios.set_index('anio')['id_anio'].to_dict()"
   ]
  },
  {
   "cell_type": "code",
   "execution_count": null,
   "metadata": {},
   "outputs": [],
   "source": [
    "df_datos_modelos_nuevos['id_provincia'] = df_datos_modelos_nuevos['provincia'].map(dicc_provincia)\n",
    "df_datos_modelos_nuevos['id_potencia'] = df_datos_modelos_nuevos['potencia'].map(dicc_potencia)\n",
    "df_datos_modelos_nuevos['id_motor'] = df_datos_modelos_nuevos['motor'].map(dicc_motor)\n",
    "df_datos_modelos_nuevos['id_modelo'] = df_datos_modelos_nuevos['modelo'].map(dicc_modelo)\n",
    "df_datos_modelos_nuevos['id_anio'] = df_datos_modelos_nuevos['anio'].map(dicc_anio)\n"
   ]
  },
  {
   "cell_type": "code",
   "execution_count": null,
   "metadata": {},
   "outputs": [],
   "source": [
    "df_datos_modelos_nuevos.drop(columns=\"provincia\", inplace=True)\n",
    "df_datos_modelos_nuevos.drop(columns=\"potencia\", inplace=True)\n",
    "df_datos_modelos_nuevos.drop(columns=\"motor\", inplace=True)\n",
    "df_datos_modelos_nuevos.drop(columns=\"modelo\", inplace=True)\n",
    "df_datos_modelos_nuevos.drop(columns=\"anio\", inplace=True)"
   ]
  },
  {
   "cell_type": "code",
   "execution_count": null,
   "metadata": {},
   "outputs": [
    {
     "data": {
      "text/html": [
       "<div>\n",
       "<style scoped>\n",
       "    .dataframe tbody tr th:only-of-type {\n",
       "        vertical-align: middle;\n",
       "    }\n",
       "\n",
       "    .dataframe tbody tr th {\n",
       "        vertical-align: top;\n",
       "    }\n",
       "\n",
       "    .dataframe thead th {\n",
       "        text-align: right;\n",
       "    }\n",
       "</style>\n",
       "<table border=\"1\" class=\"dataframe\">\n",
       "  <thead>\n",
       "    <tr style=\"text-align: right;\">\n",
       "      <th></th>\n",
       "      <th>id_modelo_nuevo</th>\n",
       "      <th>version</th>\n",
       "      <th>puertas</th>\n",
       "      <th>consumo</th>\n",
       "      <th>precio</th>\n",
       "      <th>id_provincia</th>\n",
       "      <th>id_potencia</th>\n",
       "      <th>id_motor</th>\n",
       "      <th>id_modelo</th>\n",
       "      <th>id_anio</th>\n",
       "    </tr>\n",
       "  </thead>\n",
       "  <tbody>\n",
       "    <tr>\n",
       "      <th>0</th>\n",
       "      <td>1</td>\n",
       "      <td>NISSAN QASHQAI 1.3 DIG-T MHEV 103KW (140CV) AC...</td>\n",
       "      <td>5</td>\n",
       "      <td>6.3</td>\n",
       "      <td>31200</td>\n",
       "      <td>1</td>\n",
       "      <td>1</td>\n",
       "      <td>1</td>\n",
       "      <td>1</td>\n",
       "      <td>14</td>\n",
       "    </tr>\n",
       "    <tr>\n",
       "      <th>1</th>\n",
       "      <td>2</td>\n",
       "      <td>NISSAN QASHQAI (O)1.3 DIG-T MHEV 103KW (140CV)...</td>\n",
       "      <td>5</td>\n",
       "      <td>6.3</td>\n",
       "      <td>32700</td>\n",
       "      <td>1</td>\n",
       "      <td>1</td>\n",
       "      <td>1</td>\n",
       "      <td>1</td>\n",
       "      <td>14</td>\n",
       "    </tr>\n",
       "  </tbody>\n",
       "</table>\n",
       "</div>"
      ],
      "text/plain": [
       "   id_modelo_nuevo                                            version  \\\n",
       "0                1  NISSAN QASHQAI 1.3 DIG-T MHEV 103KW (140CV) AC...   \n",
       "1                2  NISSAN QASHQAI (O)1.3 DIG-T MHEV 103KW (140CV)...   \n",
       "\n",
       "   puertas  consumo  precio  id_provincia  id_potencia  id_motor  id_modelo  \\\n",
       "0        5      6.3   31200             1            1         1          1   \n",
       "1        5      6.3   32700             1            1         1          1   \n",
       "\n",
       "   id_anio  \n",
       "0       14  \n",
       "1       14  "
      ]
     },
     "metadata": {},
     "output_type": "display_data"
    }
   ],
   "source": [
    "df_datos_modelos_nuevos.head(2)"
   ]
  },
  {
   "cell_type": "markdown",
   "metadata": {},
   "source": [
    "Tercero en segunda mano"
   ]
  },
  {
   "cell_type": "code",
   "execution_count": null,
   "metadata": {},
   "outputs": [],
   "source": [
    "dicc_cambio = df_cambio_marcha.set_index('tipo')['id_cambio'].to_dict()"
   ]
  },
  {
   "cell_type": "code",
   "execution_count": null,
   "metadata": {},
   "outputs": [],
   "source": [
    "df_segunda_mano['id_provincia'] = df_segunda_mano['provincia'].map(dicc_provincia)\n",
    "df_segunda_mano['id_potencia'] = df_segunda_mano['potencia'].map(dicc_potencia)\n",
    "df_segunda_mano['id_motor'] = df_segunda_mano['motor'].map(dicc_motor)\n",
    "df_segunda_mano['id_cambio'] = df_segunda_mano['tipo'].map(dicc_cambio)\n",
    "df_segunda_mano['id_anio'] = df_segunda_mano['anio'].map(dicc_anio)\n"
   ]
  },
  {
   "cell_type": "code",
   "execution_count": null,
   "metadata": {},
   "outputs": [],
   "source": [
    "df_segunda_mano.drop(columns=\"provincia\", inplace=True)\n",
    "df_segunda_mano.drop(columns=\"potencia\", inplace=True)\n",
    "df_segunda_mano.drop(columns=\"motor\", inplace=True)\n",
    "df_segunda_mano.drop(columns=\"tipo\", inplace=True)\n",
    "df_segunda_mano.drop(columns=\"anio\", inplace=True)"
   ]
  },
  {
   "cell_type": "code",
   "execution_count": null,
   "metadata": {},
   "outputs": [
    {
     "data": {
      "text/html": [
       "<div>\n",
       "<style scoped>\n",
       "    .dataframe tbody tr th:only-of-type {\n",
       "        vertical-align: middle;\n",
       "    }\n",
       "\n",
       "    .dataframe tbody tr th {\n",
       "        vertical-align: top;\n",
       "    }\n",
       "\n",
       "    .dataframe thead th {\n",
       "        text-align: right;\n",
       "    }\n",
       "</style>\n",
       "<table border=\"1\" class=\"dataframe\">\n",
       "  <thead>\n",
       "    <tr style=\"text-align: right;\">\n",
       "      <th></th>\n",
       "      <th>id_segunda_mano</th>\n",
       "      <th>version</th>\n",
       "      <th>kilometraje</th>\n",
       "      <th>precio</th>\n",
       "      <th>id_provincia</th>\n",
       "      <th>id_potencia</th>\n",
       "      <th>id_motor</th>\n",
       "      <th>id_cambio</th>\n",
       "      <th>id_anio</th>\n",
       "    </tr>\n",
       "  </thead>\n",
       "  <tbody>\n",
       "    <tr>\n",
       "      <th>0</th>\n",
       "      <td>1</td>\n",
       "      <td>Nissan Qashqai 1.2 DIG-T Acenta 4x2</td>\n",
       "      <td>121649</td>\n",
       "      <td>11480</td>\n",
       "      <td>1</td>\n",
       "      <td>18</td>\n",
       "      <td>3</td>\n",
       "      <td>1</td>\n",
       "      <td>5</td>\n",
       "    </tr>\n",
       "    <tr>\n",
       "      <th>1</th>\n",
       "      <td>2</td>\n",
       "      <td>Nissan Juke 1.5dCi Visia</td>\n",
       "      <td>260000</td>\n",
       "      <td>6500</td>\n",
       "      <td>1</td>\n",
       "      <td>15</td>\n",
       "      <td>6</td>\n",
       "      <td>1</td>\n",
       "      <td>2</td>\n",
       "    </tr>\n",
       "  </tbody>\n",
       "</table>\n",
       "</div>"
      ],
      "text/plain": [
       "   id_segunda_mano                              version  kilometraje  precio  \\\n",
       "0                1  Nissan Qashqai 1.2 DIG-T Acenta 4x2       121649   11480   \n",
       "1                2             Nissan Juke 1.5dCi Visia       260000    6500   \n",
       "\n",
       "   id_provincia  id_potencia  id_motor  id_cambio  id_anio  \n",
       "0             1           18         3          1        5  \n",
       "1             1           15         6          1        2  "
      ]
     },
     "metadata": {},
     "output_type": "display_data"
    }
   ],
   "source": [
    "df_segunda_mano.head(2)"
   ]
  },
  {
   "cell_type": "markdown",
   "metadata": {},
   "source": [
    "Por útimo la Seguridad"
   ]
  },
  {
   "cell_type": "code",
   "execution_count": null,
   "metadata": {},
   "outputs": [],
   "source": [
    "dicc_equipamiento = df_equipamientos.set_index('equipamiento')['id_equipamiento'].to_dict()"
   ]
  },
  {
   "cell_type": "code",
   "execution_count": null,
   "metadata": {},
   "outputs": [],
   "source": [
    "df_seguridad['id_anio'] = df_seguridad['anio'].map(dicc_anio)\n",
    "df_seguridad['id_equipamiento_aviso_choque_front'] = df_seguridad['aviso_choque_frontal'].map(dicc_equipamiento)\n",
    "df_seguridad['id_equipamiento_aviso_desvio_carril'] = df_seguridad['aviso_desvio_carril'].map(dicc_equipamiento)\n",
    "df_seguridad['id_equipamiento_estabilidad_electronica'] = df_seguridad['estabilidad_electronica'].map(dicc_equipamiento)"
   ]
  },
  {
   "cell_type": "code",
   "execution_count": null,
   "metadata": {},
   "outputs": [],
   "source": [
    "df_seguridad.drop(columns=\"anio\", inplace=True)\n",
    "df_seguridad.drop(columns=\"estabilidad_electronica\", inplace=True)\n",
    "df_seguridad.drop(columns=\"aviso_choque_frontal\", inplace=True)\n",
    "df_seguridad.drop(columns=\"aviso_desvio_carril\", inplace=True)"
   ]
  },
  {
   "cell_type": "code",
   "execution_count": null,
   "metadata": {},
   "outputs": [
    {
     "data": {
      "text/html": [
       "<div>\n",
       "<style scoped>\n",
       "    .dataframe tbody tr th:only-of-type {\n",
       "        vertical-align: middle;\n",
       "    }\n",
       "\n",
       "    .dataframe tbody tr th {\n",
       "        vertical-align: top;\n",
       "    }\n",
       "\n",
       "    .dataframe thead th {\n",
       "        text-align: right;\n",
       "    }\n",
       "</style>\n",
       "<table border=\"1\" class=\"dataframe\">\n",
       "  <thead>\n",
       "    <tr style=\"text-align: right;\">\n",
       "      <th></th>\n",
       "      <th>id_seguridad</th>\n",
       "      <th>evaluacion_general</th>\n",
       "      <th>evaluacion_choque_frontal</th>\n",
       "      <th>evaluacion_choque_lateral</th>\n",
       "      <th>evaluacion_barrera_lateral</th>\n",
       "      <th>evaluacion_vuelco</th>\n",
       "      <th>probabilidad_vuelco</th>\n",
       "      <th>evaluacion_choque_columna</th>\n",
       "      <th>quejas</th>\n",
       "      <th>retiradas</th>\n",
       "      <th>investigaciones</th>\n",
       "      <th>marca</th>\n",
       "      <th>version</th>\n",
       "      <th>descripcion</th>\n",
       "      <th>vehiculo_id</th>\n",
       "      <th>id_anio</th>\n",
       "      <th>id_equipamiento_aviso_choque_front</th>\n",
       "      <th>id_equipamiento_aviso_desvio_carril</th>\n",
       "      <th>id_equipamiento_estabilidad_electronica</th>\n",
       "    </tr>\n",
       "  </thead>\n",
       "  <tbody>\n",
       "    <tr>\n",
       "      <th>0</th>\n",
       "      <td>1</td>\n",
       "      <td>4</td>\n",
       "      <td>4</td>\n",
       "      <td>5</td>\n",
       "      <td>4</td>\n",
       "      <td>4</td>\n",
       "      <td>0.105</td>\n",
       "      <td>5</td>\n",
       "      <td>236</td>\n",
       "      <td>1</td>\n",
       "      <td>0</td>\n",
       "      <td>NISSAN</td>\n",
       "      <td>ALTIMA</td>\n",
       "      <td>2011 Nissan Altima 4 DR FWD</td>\n",
       "      <td>357</td>\n",
       "      <td>1</td>\n",
       "      <td>3</td>\n",
       "      <td>3</td>\n",
       "      <td>1</td>\n",
       "    </tr>\n",
       "    <tr>\n",
       "      <th>1</th>\n",
       "      <td>2</td>\n",
       "      <td>4</td>\n",
       "      <td>4</td>\n",
       "      <td>5</td>\n",
       "      <td>4</td>\n",
       "      <td>4</td>\n",
       "      <td>0.105</td>\n",
       "      <td>5</td>\n",
       "      <td>240</td>\n",
       "      <td>1</td>\n",
       "      <td>1</td>\n",
       "      <td>NISSAN</td>\n",
       "      <td>ALTIMA HEV</td>\n",
       "      <td>2011 Nissan Altima HEV 4 DR FWD</td>\n",
       "      <td>359</td>\n",
       "      <td>1</td>\n",
       "      <td>3</td>\n",
       "      <td>3</td>\n",
       "      <td>1</td>\n",
       "    </tr>\n",
       "  </tbody>\n",
       "</table>\n",
       "</div>"
      ],
      "text/plain": [
       "   id_seguridad  evaluacion_general  evaluacion_choque_frontal  \\\n",
       "0             1                   4                          4   \n",
       "1             2                   4                          4   \n",
       "\n",
       "   evaluacion_choque_lateral  evaluacion_barrera_lateral  evaluacion_vuelco  \\\n",
       "0                          5                           4                  4   \n",
       "1                          5                           4                  4   \n",
       "\n",
       "   probabilidad_vuelco  evaluacion_choque_columna  quejas  retiradas  \\\n",
       "0                0.105                          5     236          1   \n",
       "1                0.105                          5     240          1   \n",
       "\n",
       "   investigaciones   marca     version                      descripcion  \\\n",
       "0                0  NISSAN      ALTIMA      2011 Nissan Altima 4 DR FWD   \n",
       "1                1  NISSAN  ALTIMA HEV  2011 Nissan Altima HEV 4 DR FWD   \n",
       "\n",
       "   vehiculo_id  id_anio  id_equipamiento_aviso_choque_front  \\\n",
       "0          357        1                                   3   \n",
       "1          359        1                                   3   \n",
       "\n",
       "   id_equipamiento_aviso_desvio_carril  \\\n",
       "0                                    3   \n",
       "1                                    3   \n",
       "\n",
       "   id_equipamiento_estabilidad_electronica  \n",
       "0                                        1  \n",
       "1                                        1  "
      ]
     },
     "metadata": {},
     "output_type": "display_data"
    }
   ],
   "source": [
    "df_seguridad.head(2)"
   ]
  },
  {
   "cell_type": "markdown",
   "metadata": {},
   "source": [
    "AHORA HABRÍA QUE CREAR LA BASE DE DATOS Y SUS RESPECTIVAS TABLAS"
   ]
  },
  {
   "cell_type": "code",
   "execution_count": null,
   "metadata": {},
   "outputs": [],
   "source": [
    "key= os.getenv(\"key\")"
   ]
  },
  {
   "cell_type": "code",
   "execution_count": null,
   "metadata": {},
   "outputs": [
    {
     "name": "stdout",
     "output_type": "stream",
     "text": [
      "Error de tipo: la base de datos «Vehiculos» ya existe\n",
      "\n"
     ]
    }
   ],
   "source": [
    "\n",
    "conexion = psycopg2.connect(\n",
    "    host=\"localhost\",       \n",
    "    user=\"postgres\",      \n",
    "    password=key, \n",
    "    port=\"5432\"            \n",
    ")\n",
    "\n",
    "\n",
    "conexion.autocommit = True  \n",
    "cursor = conexion.cursor()\n",
    "\n",
    "nombre_base_datos = \"Vehiculos\"\n",
    "\n",
    "try:\n",
    "    cursor.execute(sql.SQL(\"CREATE DATABASE {}\").format(sql.Identifier(nombre_base_datos)))\n",
    "except psycopg2.Error as e:\n",
    "    print(\"Error de tipo:\", e)\n",
    "\n",
    "\n",
    "\n"
   ]
  },
  {
   "cell_type": "code",
   "execution_count": null,
   "metadata": {},
   "outputs": [],
   "source": [
    "try:\n",
    "    conexion= psycopg2.connect(\n",
    "        database= \"Vehiculos\",\n",
    "        user= \"postgres\",\n",
    "        password= key,\n",
    "        host= \"localhost\",\n",
    "        port= \"5432\"\n",
    "    )\n",
    "except:\n",
    "    print(f\"Ocurrió el error {e}\")"
   ]
  },
  {
   "cell_type": "markdown",
   "metadata": {},
   "source": [
    "AHORA LAS TABLAS en POSTRGRESQL    "
   ]
  },
  {
   "cell_type": "markdown",
   "metadata": {},
   "source": [
    "MODELOS"
   ]
  },
  {
   "cell_type": "code",
   "execution_count": null,
   "metadata": {},
   "outputs": [
    {
     "data": {
      "text/html": [
       "<div>\n",
       "<style scoped>\n",
       "    .dataframe tbody tr th:only-of-type {\n",
       "        vertical-align: middle;\n",
       "    }\n",
       "\n",
       "    .dataframe tbody tr th {\n",
       "        vertical-align: top;\n",
       "    }\n",
       "\n",
       "    .dataframe thead th {\n",
       "        text-align: right;\n",
       "    }\n",
       "</style>\n",
       "<table border=\"1\" class=\"dataframe\">\n",
       "  <thead>\n",
       "    <tr style=\"text-align: right;\">\n",
       "      <th></th>\n",
       "      <th>id_modelo</th>\n",
       "      <th>modelo</th>\n",
       "    </tr>\n",
       "  </thead>\n",
       "  <tbody>\n",
       "    <tr>\n",
       "      <th>0</th>\n",
       "      <td>1</td>\n",
       "      <td>Nissan Qashqai</td>\n",
       "    </tr>\n",
       "    <tr>\n",
       "      <th>1</th>\n",
       "      <td>2</td>\n",
       "      <td>Nissan Qashqai híbrido</td>\n",
       "    </tr>\n",
       "  </tbody>\n",
       "</table>\n",
       "</div>"
      ],
      "text/plain": [
       "   id_modelo                  modelo\n",
       "0          1          Nissan Qashqai\n",
       "1          2  Nissan Qashqai híbrido"
      ]
     },
     "metadata": {},
     "output_type": "display_data"
    }
   ],
   "source": [
    "df_modelos.head(2)"
   ]
  },
  {
   "cell_type": "code",
   "execution_count": null,
   "metadata": {},
   "outputs": [],
   "source": [
    "cursor=conexion.cursor()\n",
    "query_creacion=\"\"\" \n",
    "CREATE TABLE IF NOT EXISTS modelos(\n",
    "    id_modelo INT PRIMARY KEY,\n",
    "    modelo VARCHAR (150)\n",
    ");\n",
    "\n",
    "\"\"\"\n",
    "\n",
    "\n",
    "cursor.execute(query_creacion)   \n",
    "conexion.commit()\n"
   ]
  },
  {
   "cell_type": "code",
   "execution_count": null,
   "metadata": {},
   "outputs": [],
   "source": [
    "lista_de_tuplas=[]\n",
    "for fila in df_modelos.values:\n",
    "    lista_de_tuplas.append(tuple(fila))"
   ]
  },
  {
   "cell_type": "code",
   "execution_count": null,
   "metadata": {},
   "outputs": [],
   "source": [
    "     \n",
    "query_insercion= \"INSERT INTO modelos (id_modelo, modelo) VALUES (%s, %s);\"     \n",
    "\n",
    "cursor.executemany(query_insercion, lista_de_tuplas)          \n",
    "conexion.commit()"
   ]
  },
  {
   "cell_type": "markdown",
   "metadata": {},
   "source": [
    "TIPO"
   ]
  },
  {
   "cell_type": "code",
   "execution_count": null,
   "metadata": {},
   "outputs": [
    {
     "data": {
      "text/html": [
       "<div>\n",
       "<style scoped>\n",
       "    .dataframe tbody tr th:only-of-type {\n",
       "        vertical-align: middle;\n",
       "    }\n",
       "\n",
       "    .dataframe tbody tr th {\n",
       "        vertical-align: top;\n",
       "    }\n",
       "\n",
       "    .dataframe thead th {\n",
       "        text-align: right;\n",
       "    }\n",
       "</style>\n",
       "<table border=\"1\" class=\"dataframe\">\n",
       "  <thead>\n",
       "    <tr style=\"text-align: right;\">\n",
       "      <th></th>\n",
       "      <th>id_cambio</th>\n",
       "      <th>tipo</th>\n",
       "    </tr>\n",
       "  </thead>\n",
       "  <tbody>\n",
       "    <tr>\n",
       "      <th>0</th>\n",
       "      <td>1</td>\n",
       "      <td>Manual</td>\n",
       "    </tr>\n",
       "    <tr>\n",
       "      <th>1</th>\n",
       "      <td>2</td>\n",
       "      <td>Automático</td>\n",
       "    </tr>\n",
       "  </tbody>\n",
       "</table>\n",
       "</div>"
      ],
      "text/plain": [
       "   id_cambio        tipo\n",
       "0          1      Manual\n",
       "1          2  Automático"
      ]
     },
     "metadata": {},
     "output_type": "display_data"
    }
   ],
   "source": [
    "df_cambio_marcha.head(2)"
   ]
  },
  {
   "cell_type": "code",
   "execution_count": null,
   "metadata": {},
   "outputs": [],
   "source": [
    "cursor=conexion.cursor()\n",
    "query_creacion=\"\"\" \n",
    "CREATE TABLE IF NOT EXISTS cambio_marcha(\n",
    "    id_cambio INT PRIMARY KEY,\n",
    "    tipo VARCHAR (100)\n",
    ");\n",
    "\n",
    "\"\"\"\n",
    "cursor.execute(query_creacion)   \n",
    "conexion.commit()"
   ]
  },
  {
   "cell_type": "code",
   "execution_count": null,
   "metadata": {},
   "outputs": [],
   "source": [
    "\n",
    "\n",
    "lista_de_tuplas=[]\n",
    "for fila in df_cambio_marcha.values:\n",
    "    lista_de_tuplas.append(tuple(fila))\n"
   ]
  },
  {
   "cell_type": "code",
   "execution_count": null,
   "metadata": {},
   "outputs": [],
   "source": [
    "     \n",
    "query_insercion= \"INSERT INTO cambio_marcha (id_cambio, tipo) VALUES (%s, %s);\"     \n",
    "\n",
    "cursor.executemany(query_insercion, lista_de_tuplas)          \n",
    "conexion.commit()"
   ]
  },
  {
   "cell_type": "markdown",
   "metadata": {},
   "source": [
    "Motor"
   ]
  },
  {
   "cell_type": "code",
   "execution_count": null,
   "metadata": {},
   "outputs": [
    {
     "data": {
      "text/html": [
       "<div>\n",
       "<style scoped>\n",
       "    .dataframe tbody tr th:only-of-type {\n",
       "        vertical-align: middle;\n",
       "    }\n",
       "\n",
       "    .dataframe tbody tr th {\n",
       "        vertical-align: top;\n",
       "    }\n",
       "\n",
       "    .dataframe thead th {\n",
       "        text-align: right;\n",
       "    }\n",
       "</style>\n",
       "<table border=\"1\" class=\"dataframe\">\n",
       "  <thead>\n",
       "    <tr style=\"text-align: right;\">\n",
       "      <th></th>\n",
       "      <th>id_motor</th>\n",
       "      <th>motor</th>\n",
       "    </tr>\n",
       "  </thead>\n",
       "  <tbody>\n",
       "    <tr>\n",
       "      <th>0</th>\n",
       "      <td>1</td>\n",
       "      <td>MHEV Gasolina</td>\n",
       "    </tr>\n",
       "    <tr>\n",
       "      <th>1</th>\n",
       "      <td>2</td>\n",
       "      <td>HEV Gasolina</td>\n",
       "    </tr>\n",
       "  </tbody>\n",
       "</table>\n",
       "</div>"
      ],
      "text/plain": [
       "   id_motor          motor\n",
       "0         1  MHEV Gasolina\n",
       "1         2   HEV Gasolina"
      ]
     },
     "metadata": {},
     "output_type": "display_data"
    }
   ],
   "source": [
    "df_motores.head(2)"
   ]
  },
  {
   "cell_type": "code",
   "execution_count": null,
   "metadata": {},
   "outputs": [],
   "source": [
    "cursor=conexion.cursor()\n",
    "query_creacion=\"\"\" \n",
    "CREATE TABLE IF NOT EXISTS motores(\n",
    "    id_motor INT PRIMARY KEY,\n",
    "    motor VARCHAR (100)\n",
    ");\n",
    "\n",
    "\"\"\"\n",
    "cursor.execute(query_creacion)   \n",
    "conexion.commit()"
   ]
  },
  {
   "cell_type": "code",
   "execution_count": null,
   "metadata": {},
   "outputs": [],
   "source": [
    "\n",
    "\n",
    "lista_de_tuplas=[]\n",
    "for fila in df_motores.values:\n",
    "    lista_de_tuplas.append(tuple(fila))\n"
   ]
  },
  {
   "cell_type": "code",
   "execution_count": null,
   "metadata": {},
   "outputs": [],
   "source": [
    "     \n",
    "query_insercion= \"INSERT INTO motores (id_motor, motor) VALUES (%s, %s);\"     \n",
    "\n",
    "cursor.executemany(query_insercion, lista_de_tuplas)          \n",
    "conexion.commit()"
   ]
  },
  {
   "cell_type": "markdown",
   "metadata": {},
   "source": [
    "POTENCIA"
   ]
  },
  {
   "cell_type": "code",
   "execution_count": null,
   "metadata": {},
   "outputs": [
    {
     "data": {
      "text/html": [
       "<div>\n",
       "<style scoped>\n",
       "    .dataframe tbody tr th:only-of-type {\n",
       "        vertical-align: middle;\n",
       "    }\n",
       "\n",
       "    .dataframe tbody tr th {\n",
       "        vertical-align: top;\n",
       "    }\n",
       "\n",
       "    .dataframe thead th {\n",
       "        text-align: right;\n",
       "    }\n",
       "</style>\n",
       "<table border=\"1\" class=\"dataframe\">\n",
       "  <thead>\n",
       "    <tr style=\"text-align: right;\">\n",
       "      <th></th>\n",
       "      <th>id_potencia</th>\n",
       "      <th>potencia</th>\n",
       "    </tr>\n",
       "  </thead>\n",
       "  <tbody>\n",
       "    <tr>\n",
       "      <th>0</th>\n",
       "      <td>1</td>\n",
       "      <td>140</td>\n",
       "    </tr>\n",
       "    <tr>\n",
       "      <th>1</th>\n",
       "      <td>2</td>\n",
       "      <td>158</td>\n",
       "    </tr>\n",
       "  </tbody>\n",
       "</table>\n",
       "</div>"
      ],
      "text/plain": [
       "   id_potencia  potencia\n",
       "0            1       140\n",
       "1            2       158"
      ]
     },
     "metadata": {},
     "output_type": "display_data"
    }
   ],
   "source": [
    "df_potencias.head(2)"
   ]
  },
  {
   "cell_type": "code",
   "execution_count": null,
   "metadata": {},
   "outputs": [],
   "source": [
    "cursor=conexion.cursor()\n",
    "query_creacion=\"\"\" \n",
    "CREATE TABLE IF NOT EXISTS potencias(\n",
    "    id_potencia INT PRIMARY KEY,\n",
    "    potencia INT\n",
    ");\n",
    "\n",
    "\"\"\"\n",
    "cursor.execute(query_creacion)   \n",
    "conexion.commit()"
   ]
  },
  {
   "cell_type": "code",
   "execution_count": null,
   "metadata": {},
   "outputs": [],
   "source": [
    "\n",
    "\n",
    "lista_de_tuplas=[]\n",
    "for fila in df_potencias.values:\n",
    "    lista_de_tuplas.append(tuple(fila))\n"
   ]
  },
  {
   "cell_type": "code",
   "execution_count": null,
   "metadata": {},
   "outputs": [],
   "source": [
    "tuplas_int = [tuple(int(valor) for valor in tupla) for tupla in lista_de_tuplas]"
   ]
  },
  {
   "cell_type": "code",
   "execution_count": null,
   "metadata": {},
   "outputs": [],
   "source": [
    "     \n",
    "query_insercion= \"INSERT INTO potencias (id_potencia, potencia) VALUES (%s, %s);\"     \n",
    "\n",
    "cursor.executemany(query_insercion, tuplas_int)          \n",
    "conexion.commit()"
   ]
  },
  {
   "cell_type": "markdown",
   "metadata": {},
   "source": [
    "ANIO"
   ]
  },
  {
   "cell_type": "code",
   "execution_count": null,
   "metadata": {},
   "outputs": [
    {
     "data": {
      "text/html": [
       "<div>\n",
       "<style scoped>\n",
       "    .dataframe tbody tr th:only-of-type {\n",
       "        vertical-align: middle;\n",
       "    }\n",
       "\n",
       "    .dataframe tbody tr th {\n",
       "        vertical-align: top;\n",
       "    }\n",
       "\n",
       "    .dataframe thead th {\n",
       "        text-align: right;\n",
       "    }\n",
       "</style>\n",
       "<table border=\"1\" class=\"dataframe\">\n",
       "  <thead>\n",
       "    <tr style=\"text-align: right;\">\n",
       "      <th></th>\n",
       "      <th>id_anio</th>\n",
       "      <th>anio</th>\n",
       "    </tr>\n",
       "  </thead>\n",
       "  <tbody>\n",
       "    <tr>\n",
       "      <th>0</th>\n",
       "      <td>1</td>\n",
       "      <td>2011</td>\n",
       "    </tr>\n",
       "    <tr>\n",
       "      <th>1</th>\n",
       "      <td>2</td>\n",
       "      <td>2012</td>\n",
       "    </tr>\n",
       "  </tbody>\n",
       "</table>\n",
       "</div>"
      ],
      "text/plain": [
       "   id_anio  anio\n",
       "0        1  2011\n",
       "1        2  2012"
      ]
     },
     "metadata": {},
     "output_type": "display_data"
    }
   ],
   "source": [
    "df_anios.head(2)"
   ]
  },
  {
   "cell_type": "code",
   "execution_count": null,
   "metadata": {},
   "outputs": [],
   "source": [
    "cursor=conexion.cursor()\n",
    "query_creacion=\"\"\" \n",
    "CREATE TABLE IF NOT EXISTS anios(\n",
    "    id_anio INT PRIMARY KEY,\n",
    "    anio INT\n",
    ");\n",
    "\n",
    "\"\"\"\n",
    "cursor.execute(query_creacion)   \n",
    "conexion.commit()"
   ]
  },
  {
   "cell_type": "code",
   "execution_count": null,
   "metadata": {},
   "outputs": [],
   "source": [
    "\n",
    "\n",
    "lista_de_tuplas=[]\n",
    "for fila in df_anios.values:\n",
    "    lista_de_tuplas.append(tuple(fila))\n",
    "tuplas_int = [tuple(int(valor) for valor in tupla) for tupla in lista_de_tuplas]"
   ]
  },
  {
   "cell_type": "code",
   "execution_count": null,
   "metadata": {},
   "outputs": [],
   "source": [
    "     \n",
    "query_insercion= \"INSERT INTO anios (id_anio, anio) VALUES (%s, %s);\"     \n",
    "\n",
    "cursor.executemany(query_insercion, tuplas_int)          \n",
    "conexion.commit()"
   ]
  },
  {
   "cell_type": "markdown",
   "metadata": {},
   "source": [
    "PROVINCIAS"
   ]
  },
  {
   "cell_type": "code",
   "execution_count": null,
   "metadata": {},
   "outputs": [
    {
     "data": {
      "text/html": [
       "<div>\n",
       "<style scoped>\n",
       "    .dataframe tbody tr th:only-of-type {\n",
       "        vertical-align: middle;\n",
       "    }\n",
       "\n",
       "    .dataframe tbody tr th {\n",
       "        vertical-align: top;\n",
       "    }\n",
       "\n",
       "    .dataframe thead th {\n",
       "        text-align: right;\n",
       "    }\n",
       "</style>\n",
       "<table border=\"1\" class=\"dataframe\">\n",
       "  <thead>\n",
       "    <tr style=\"text-align: right;\">\n",
       "      <th></th>\n",
       "      <th>id_provincia</th>\n",
       "      <th>provincia</th>\n",
       "    </tr>\n",
       "  </thead>\n",
       "  <tbody>\n",
       "    <tr>\n",
       "      <th>0</th>\n",
       "      <td>1</td>\n",
       "      <td>Madrid</td>\n",
       "    </tr>\n",
       "  </tbody>\n",
       "</table>\n",
       "</div>"
      ],
      "text/plain": [
       "   id_provincia provincia\n",
       "0             1    Madrid"
      ]
     },
     "metadata": {},
     "output_type": "display_data"
    }
   ],
   "source": [
    "df_provincias.head(1)"
   ]
  },
  {
   "cell_type": "code",
   "execution_count": null,
   "metadata": {},
   "outputs": [],
   "source": [
    "cursor=conexion.cursor()\n",
    "query_creacion=\"\"\" \n",
    "CREATE TABLE IF NOT EXISTS provincias(\n",
    "    id_provincia INT PRIMARY KEY,\n",
    "    provincia VARCHAR (100)\n",
    ");\n",
    "\n",
    "\"\"\"\n",
    "cursor.execute(query_creacion)   \n",
    "conexion.commit()"
   ]
  },
  {
   "cell_type": "code",
   "execution_count": null,
   "metadata": {},
   "outputs": [],
   "source": [
    "\n",
    "\n",
    "lista_de_tuplas=[]\n",
    "for fila in df_provincias.values:\n",
    "    lista_de_tuplas.append(tuple(fila))\n"
   ]
  },
  {
   "cell_type": "code",
   "execution_count": null,
   "metadata": {},
   "outputs": [],
   "source": [
    "     \n",
    "query_insercion= \"INSERT INTO provincias (id_provincia, provincia) VALUES (%s, %s);\"     \n",
    "\n",
    "cursor.executemany(query_insercion, lista_de_tuplas)          \n",
    "conexion.commit()"
   ]
  },
  {
   "cell_type": "markdown",
   "metadata": {},
   "source": [
    "EQUIPAMIENTOS"
   ]
  },
  {
   "cell_type": "code",
   "execution_count": null,
   "metadata": {},
   "outputs": [
    {
     "data": {
      "text/html": [
       "<div>\n",
       "<style scoped>\n",
       "    .dataframe tbody tr th:only-of-type {\n",
       "        vertical-align: middle;\n",
       "    }\n",
       "\n",
       "    .dataframe tbody tr th {\n",
       "        vertical-align: top;\n",
       "    }\n",
       "\n",
       "    .dataframe thead th {\n",
       "        text-align: right;\n",
       "    }\n",
       "</style>\n",
       "<table border=\"1\" class=\"dataframe\">\n",
       "  <thead>\n",
       "    <tr style=\"text-align: right;\">\n",
       "      <th></th>\n",
       "      <th>id_equipamiento</th>\n",
       "      <th>equipamiento</th>\n",
       "    </tr>\n",
       "  </thead>\n",
       "  <tbody>\n",
       "    <tr>\n",
       "      <th>0</th>\n",
       "      <td>1</td>\n",
       "      <td>Standard</td>\n",
       "    </tr>\n",
       "    <tr>\n",
       "      <th>1</th>\n",
       "      <td>2</td>\n",
       "      <td>Optional</td>\n",
       "    </tr>\n",
       "  </tbody>\n",
       "</table>\n",
       "</div>"
      ],
      "text/plain": [
       "   id_equipamiento equipamiento\n",
       "0                1     Standard\n",
       "1                2     Optional"
      ]
     },
     "metadata": {},
     "output_type": "display_data"
    }
   ],
   "source": [
    "df_equipamientos.head(2)"
   ]
  },
  {
   "cell_type": "code",
   "execution_count": null,
   "metadata": {},
   "outputs": [],
   "source": [
    "cursor=conexion.cursor()\n",
    "query_creacion=\"\"\" \n",
    "CREATE TABLE IF NOT EXISTS equipamientos(\n",
    "    id_equipamiento INT PRIMARY KEY,\n",
    "    equipamiento VARCHAR (100)\n",
    ");\n",
    "\n",
    "\"\"\"\n",
    "cursor.execute(query_creacion)   \n",
    "conexion.commit()"
   ]
  },
  {
   "cell_type": "code",
   "execution_count": null,
   "metadata": {},
   "outputs": [],
   "source": [
    "\n",
    "\n",
    "lista_de_tuplas=[]\n",
    "for fila in df_equipamientos.values:\n",
    "    lista_de_tuplas.append(tuple(fila))\n"
   ]
  },
  {
   "cell_type": "code",
   "execution_count": null,
   "metadata": {},
   "outputs": [],
   "source": [
    "     \n",
    "query_insercion= \"INSERT INTO equipamientos (id_equipamiento, equipamiento) VALUES (%s, %s);\"     \n",
    "\n",
    "cursor.executemany(query_insercion, lista_de_tuplas)          \n",
    "conexion.commit()"
   ]
  },
  {
   "cell_type": "markdown",
   "metadata": {},
   "source": [
    "AHORA TOCAN LAS GRANDES"
   ]
  },
  {
   "cell_type": "markdown",
   "metadata": {},
   "source": [
    "WALLAPOP"
   ]
  },
  {
   "cell_type": "code",
   "execution_count": null,
   "metadata": {},
   "outputs": [
    {
     "data": {
      "text/html": [
       "<div>\n",
       "<style scoped>\n",
       "    .dataframe tbody tr th:only-of-type {\n",
       "        vertical-align: middle;\n",
       "    }\n",
       "\n",
       "    .dataframe tbody tr th {\n",
       "        vertical-align: top;\n",
       "    }\n",
       "\n",
       "    .dataframe thead th {\n",
       "        text-align: right;\n",
       "    }\n",
       "</style>\n",
       "<table border=\"1\" class=\"dataframe\">\n",
       "  <thead>\n",
       "    <tr style=\"text-align: right;\">\n",
       "      <th></th>\n",
       "      <th>id_wallapop</th>\n",
       "      <th>descripcion</th>\n",
       "      <th>precio</th>\n",
       "      <th>latitud</th>\n",
       "      <th>longitud</th>\n",
       "      <th>ciudad</th>\n",
       "      <th>id_provincia</th>\n",
       "    </tr>\n",
       "  </thead>\n",
       "  <tbody>\n",
       "    <tr>\n",
       "      <th>0</th>\n",
       "      <td>1</td>\n",
       "      <td>nisan almera tino del 2004 ba por cadena le ve...</td>\n",
       "      <td>2200</td>\n",
       "      <td>40.301646</td>\n",
       "      <td>-3.441828</td>\n",
       "      <td>Arganda del Rey</td>\n",
       "      <td>1</td>\n",
       "    </tr>\n",
       "    <tr>\n",
       "      <th>1</th>\n",
       "      <td>2</td>\n",
       "      <td>vendo mi coche en perfecto estado de motor y d...</td>\n",
       "      <td>6500</td>\n",
       "      <td>40.620256</td>\n",
       "      <td>-3.910636</td>\n",
       "      <td>Hoyo de Manzanares</td>\n",
       "      <td>1</td>\n",
       "    </tr>\n",
       "  </tbody>\n",
       "</table>\n",
       "</div>"
      ],
      "text/plain": [
       "   id_wallapop                                        descripcion  precio  \\\n",
       "0            1  nisan almera tino del 2004 ba por cadena le ve...    2200   \n",
       "1            2  vendo mi coche en perfecto estado de motor y d...    6500   \n",
       "\n",
       "     latitud  longitud              ciudad  id_provincia  \n",
       "0  40.301646 -3.441828     Arganda del Rey             1  \n",
       "1  40.620256 -3.910636  Hoyo de Manzanares             1  "
      ]
     },
     "metadata": {},
     "output_type": "display_data"
    }
   ],
   "source": [
    "df_wallapop.head(2)"
   ]
  },
  {
   "cell_type": "code",
   "execution_count": null,
   "metadata": {},
   "outputs": [],
   "source": [
    "cursor=conexion.cursor()\n",
    "query_creacion=\"\"\" \n",
    "CREATE TABLE IF NOT EXISTS wallapop(\n",
    "    id_wallapop INT PRIMARY KEY,\n",
    "    descripcion VARCHAR (1000),\n",
    "    precio INT,\n",
    "    latitud NUMERIC,\n",
    "    longitud NUMERIC,\n",
    "    ciudad VARCHAR(200),\n",
    "    id_provincia INT,\n",
    "    FOREIGN KEY (id_provincia) REFERENCES provincias(id_provincia) ON DELETE RESTRICT ON UPDATE CASCADE\n",
    ");\n",
    "\"\"\"\n",
    "cursor.execute(query_creacion)   \n",
    "conexion.commit()"
   ]
  },
  {
   "cell_type": "code",
   "execution_count": null,
   "metadata": {},
   "outputs": [],
   "source": [
    "\n",
    "\n",
    "lista_de_tuplas=[]\n",
    "for fila in df_wallapop.values:\n",
    "    lista_de_tuplas.append(tuple(fila))\n"
   ]
  },
  {
   "cell_type": "code",
   "execution_count": null,
   "metadata": {},
   "outputs": [],
   "source": [
    "     \n",
    "query_insercion= \"INSERT INTO wallapop (id_wallapop,descripcion,precio,latitud, longitud, ciudad,id_provincia ) VALUES (%s, %s,%s, %s,%s, %s, %s);\"     \n",
    "\n",
    "cursor.executemany(query_insercion, lista_de_tuplas)          \n",
    "conexion.commit()"
   ]
  },
  {
   "cell_type": "markdown",
   "metadata": {},
   "source": [
    "SEGURIDAD"
   ]
  },
  {
   "cell_type": "code",
   "execution_count": null,
   "metadata": {},
   "outputs": [
    {
     "data": {
      "text/html": [
       "<div>\n",
       "<style scoped>\n",
       "    .dataframe tbody tr th:only-of-type {\n",
       "        vertical-align: middle;\n",
       "    }\n",
       "\n",
       "    .dataframe tbody tr th {\n",
       "        vertical-align: top;\n",
       "    }\n",
       "\n",
       "    .dataframe thead th {\n",
       "        text-align: right;\n",
       "    }\n",
       "</style>\n",
       "<table border=\"1\" class=\"dataframe\">\n",
       "  <thead>\n",
       "    <tr style=\"text-align: right;\">\n",
       "      <th></th>\n",
       "      <th>id_seguridad</th>\n",
       "      <th>evaluacion_general</th>\n",
       "      <th>evaluacion_choque_frontal</th>\n",
       "      <th>evaluacion_choque_lateral</th>\n",
       "      <th>evaluacion_barrera_lateral</th>\n",
       "      <th>evaluacion_vuelco</th>\n",
       "      <th>probabilidad_vuelco</th>\n",
       "      <th>evaluacion_choque_columna</th>\n",
       "      <th>quejas</th>\n",
       "      <th>retiradas</th>\n",
       "      <th>investigaciones</th>\n",
       "      <th>marca</th>\n",
       "      <th>version</th>\n",
       "      <th>descripcion</th>\n",
       "      <th>vehiculo_id</th>\n",
       "      <th>id_anio</th>\n",
       "      <th>id_equipamiento_aviso_choque_front</th>\n",
       "      <th>id_equipamiento_aviso_desvio_carril</th>\n",
       "      <th>id_equipamiento_estabilidad_electronica</th>\n",
       "    </tr>\n",
       "  </thead>\n",
       "  <tbody>\n",
       "    <tr>\n",
       "      <th>0</th>\n",
       "      <td>1</td>\n",
       "      <td>4</td>\n",
       "      <td>4</td>\n",
       "      <td>5</td>\n",
       "      <td>4</td>\n",
       "      <td>4</td>\n",
       "      <td>0.105</td>\n",
       "      <td>5</td>\n",
       "      <td>236</td>\n",
       "      <td>1</td>\n",
       "      <td>0</td>\n",
       "      <td>NISSAN</td>\n",
       "      <td>ALTIMA</td>\n",
       "      <td>2011 Nissan Altima 4 DR FWD</td>\n",
       "      <td>357</td>\n",
       "      <td>1</td>\n",
       "      <td>3</td>\n",
       "      <td>3</td>\n",
       "      <td>1</td>\n",
       "    </tr>\n",
       "    <tr>\n",
       "      <th>1</th>\n",
       "      <td>2</td>\n",
       "      <td>4</td>\n",
       "      <td>4</td>\n",
       "      <td>5</td>\n",
       "      <td>4</td>\n",
       "      <td>4</td>\n",
       "      <td>0.105</td>\n",
       "      <td>5</td>\n",
       "      <td>240</td>\n",
       "      <td>1</td>\n",
       "      <td>1</td>\n",
       "      <td>NISSAN</td>\n",
       "      <td>ALTIMA HEV</td>\n",
       "      <td>2011 Nissan Altima HEV 4 DR FWD</td>\n",
       "      <td>359</td>\n",
       "      <td>1</td>\n",
       "      <td>3</td>\n",
       "      <td>3</td>\n",
       "      <td>1</td>\n",
       "    </tr>\n",
       "  </tbody>\n",
       "</table>\n",
       "</div>"
      ],
      "text/plain": [
       "   id_seguridad  evaluacion_general  evaluacion_choque_frontal  \\\n",
       "0             1                   4                          4   \n",
       "1             2                   4                          4   \n",
       "\n",
       "   evaluacion_choque_lateral  evaluacion_barrera_lateral  evaluacion_vuelco  \\\n",
       "0                          5                           4                  4   \n",
       "1                          5                           4                  4   \n",
       "\n",
       "   probabilidad_vuelco  evaluacion_choque_columna  quejas  retiradas  \\\n",
       "0                0.105                          5     236          1   \n",
       "1                0.105                          5     240          1   \n",
       "\n",
       "   investigaciones   marca     version                      descripcion  \\\n",
       "0                0  NISSAN      ALTIMA      2011 Nissan Altima 4 DR FWD   \n",
       "1                1  NISSAN  ALTIMA HEV  2011 Nissan Altima HEV 4 DR FWD   \n",
       "\n",
       "   vehiculo_id  id_anio  id_equipamiento_aviso_choque_front  \\\n",
       "0          357        1                                   3   \n",
       "1          359        1                                   3   \n",
       "\n",
       "   id_equipamiento_aviso_desvio_carril  \\\n",
       "0                                    3   \n",
       "1                                    3   \n",
       "\n",
       "   id_equipamiento_estabilidad_electronica  \n",
       "0                                        1  \n",
       "1                                        1  "
      ]
     },
     "metadata": {},
     "output_type": "display_data"
    }
   ],
   "source": [
    "df_seguridad.head(2)"
   ]
  },
  {
   "cell_type": "code",
   "execution_count": null,
   "metadata": {},
   "outputs": [
    {
     "data": {
      "text/html": [
       "<div>\n",
       "<style scoped>\n",
       "    .dataframe tbody tr th:only-of-type {\n",
       "        vertical-align: middle;\n",
       "    }\n",
       "\n",
       "    .dataframe tbody tr th {\n",
       "        vertical-align: top;\n",
       "    }\n",
       "\n",
       "    .dataframe thead th {\n",
       "        text-align: right;\n",
       "    }\n",
       "</style>\n",
       "<table border=\"1\" class=\"dataframe\">\n",
       "  <thead>\n",
       "    <tr style=\"text-align: right;\">\n",
       "      <th></th>\n",
       "      <th>id_equipamiento</th>\n",
       "      <th>equipamiento</th>\n",
       "    </tr>\n",
       "  </thead>\n",
       "  <tbody>\n",
       "    <tr>\n",
       "      <th>0</th>\n",
       "      <td>1</td>\n",
       "      <td>Standard</td>\n",
       "    </tr>\n",
       "    <tr>\n",
       "      <th>1</th>\n",
       "      <td>2</td>\n",
       "      <td>Optional</td>\n",
       "    </tr>\n",
       "  </tbody>\n",
       "</table>\n",
       "</div>"
      ],
      "text/plain": [
       "   id_equipamiento equipamiento\n",
       "0                1     Standard\n",
       "1                2     Optional"
      ]
     },
     "metadata": {},
     "output_type": "display_data"
    }
   ],
   "source": [
    "df_equipamientos.head(2)"
   ]
  },
  {
   "cell_type": "code",
   "execution_count": null,
   "metadata": {},
   "outputs": [],
   "source": [
    "cursor=conexion.cursor()\n",
    "query_creacion=\"\"\" \n",
    "CREATE TABLE IF NOT EXISTS seguridad(\n",
    "    id_seguridad INT PRIMARY KEY,\n",
    "    evaluacion_general INT,\n",
    "    evaluacion_choque_frontal INT,\n",
    "    evaluacion_choque_lateral INT,\n",
    "    evaluacion_barrera_lateral INT,\n",
    "    evaluacion_vuelco INT,\n",
    "    probabilidad_vuelco NUMERIC,\n",
    "    evaluacion_choque_columna INT,\n",
    "    quejas INT,\n",
    "    retiradas INT,\n",
    "    investigaciones INT,\n",
    "    marca VARCHAR (100),\n",
    "    version VARCHAR (200),\n",
    "    descripcion VARCHAR (300),\n",
    "    vehiculo_id INT,\n",
    "    id_anio INT,\n",
    "    id_equipamiento_aviso_choque_front INT,\n",
    "    id_equipamiento_aviso_desvio_carril INT,\n",
    "    id_equipamiento_estabilidad_electronica INT,\n",
    "    FOREIGN KEY (id_anio) REFERENCES anios(id_anio) ON DELETE RESTRICT ON UPDATE CASCADE,\n",
    "    FOREIGN KEY (id_equipamiento_aviso_choque_front) REFERENCES equipamientos(id_equipamiento) ON DELETE RESTRICT ON UPDATE CASCADE,\n",
    "    FOREIGN KEY (id_equipamiento_aviso_desvio_carril) REFERENCES equipamientos(id_equipamiento) ON DELETE RESTRICT ON UPDATE CASCADE,\n",
    "    FOREIGN KEY (id_equipamiento_estabilidad_electronica) REFERENCES equipamientos(id_equipamiento) ON DELETE RESTRICT ON UPDATE CASCADE\n",
    ");\n",
    "\"\"\"\n",
    "cursor.execute(query_creacion)   \n",
    "conexion.commit()"
   ]
  },
  {
   "cell_type": "code",
   "execution_count": null,
   "metadata": {},
   "outputs": [],
   "source": [
    "\n",
    "\n",
    "lista_de_tuplas=[]\n",
    "for fila in df_seguridad.values:\n",
    "    lista_de_tuplas.append(tuple(fila))\n"
   ]
  },
  {
   "cell_type": "code",
   "execution_count": null,
   "metadata": {},
   "outputs": [],
   "source": [
    "     \n",
    "query_insercion= \"INSERT INTO seguridad (id_seguridad,evaluacion_general,evaluacion_choque_frontal,evaluacion_choque_lateral,evaluacion_barrera_lateral,evaluacion_vuelco,probabilidad_vuelco,evaluacion_choque_columna,quejas,retiradas,investigaciones, marca, version,descripcion,vehiculo_id, id_anio,id_equipamiento_aviso_choque_front,id_equipamiento_aviso_desvio_carril,id_equipamiento_estabilidad_electronica) VALUES (%s, %s,%s, %s,%s, %s, %s,%s, %s,%s, %s,%s, %s, %s,%s, %s, %s,%s, %s);\"     \n",
    "\n",
    "cursor.executemany(query_insercion, lista_de_tuplas)          \n",
    "conexion.commit()"
   ]
  },
  {
   "cell_type": "markdown",
   "metadata": {},
   "source": [
    "SEGUNDA MANO"
   ]
  },
  {
   "cell_type": "code",
   "execution_count": null,
   "metadata": {},
   "outputs": [
    {
     "data": {
      "text/html": [
       "<div>\n",
       "<style scoped>\n",
       "    .dataframe tbody tr th:only-of-type {\n",
       "        vertical-align: middle;\n",
       "    }\n",
       "\n",
       "    .dataframe tbody tr th {\n",
       "        vertical-align: top;\n",
       "    }\n",
       "\n",
       "    .dataframe thead th {\n",
       "        text-align: right;\n",
       "    }\n",
       "</style>\n",
       "<table border=\"1\" class=\"dataframe\">\n",
       "  <thead>\n",
       "    <tr style=\"text-align: right;\">\n",
       "      <th></th>\n",
       "      <th>id_segunda_mano</th>\n",
       "      <th>version</th>\n",
       "      <th>kilometraje</th>\n",
       "      <th>precio</th>\n",
       "      <th>id_provincia</th>\n",
       "      <th>id_potencia</th>\n",
       "      <th>id_motor</th>\n",
       "      <th>id_cambio</th>\n",
       "      <th>id_anio</th>\n",
       "    </tr>\n",
       "  </thead>\n",
       "  <tbody>\n",
       "    <tr>\n",
       "      <th>0</th>\n",
       "      <td>1</td>\n",
       "      <td>Nissan Qashqai 1.2 DIG-T Acenta 4x2</td>\n",
       "      <td>121649</td>\n",
       "      <td>11480</td>\n",
       "      <td>1</td>\n",
       "      <td>18</td>\n",
       "      <td>3</td>\n",
       "      <td>1</td>\n",
       "      <td>5</td>\n",
       "    </tr>\n",
       "    <tr>\n",
       "      <th>1</th>\n",
       "      <td>2</td>\n",
       "      <td>Nissan Juke 1.5dCi Visia</td>\n",
       "      <td>260000</td>\n",
       "      <td>6500</td>\n",
       "      <td>1</td>\n",
       "      <td>15</td>\n",
       "      <td>6</td>\n",
       "      <td>1</td>\n",
       "      <td>2</td>\n",
       "    </tr>\n",
       "  </tbody>\n",
       "</table>\n",
       "</div>"
      ],
      "text/plain": [
       "   id_segunda_mano                              version  kilometraje  precio  \\\n",
       "0                1  Nissan Qashqai 1.2 DIG-T Acenta 4x2       121649   11480   \n",
       "1                2             Nissan Juke 1.5dCi Visia       260000    6500   \n",
       "\n",
       "   id_provincia  id_potencia  id_motor  id_cambio  id_anio  \n",
       "0             1           18         3          1        5  \n",
       "1             1           15         6          1        2  "
      ]
     },
     "metadata": {},
     "output_type": "display_data"
    }
   ],
   "source": [
    "df_segunda_mano.head(2)"
   ]
  },
  {
   "cell_type": "code",
   "execution_count": null,
   "metadata": {},
   "outputs": [],
   "source": [
    "cursor=conexion.cursor()\n",
    "query_creacion=\"\"\" \n",
    "CREATE TABLE IF NOT EXISTS segunda_mano(\n",
    "    id_segunda_mano INT PRIMARY KEY,\n",
    "    version VARCHAR(200),\n",
    "    kilometraje INT,\n",
    "    precio INT,\n",
    "    id_provincia INT,\n",
    "    id_potencia INT,\n",
    "    id_motor INT,\n",
    "    id_cambio INT,\n",
    "    id_anio INT,\n",
    "    FOREIGN KEY (id_provincia) REFERENCES provincias(id_provincia) ON DELETE RESTRICT ON UPDATE CASCADE,\n",
    "    FOREIGN KEY (id_potencia) REFERENCES potencias(id_potencia) ON DELETE RESTRICT ON UPDATE CASCADE,\n",
    "    FOREIGN KEY (id_motor) REFERENCES motores(id_motor) ON DELETE RESTRICT ON UPDATE CASCADE,\n",
    "    FOREIGN KEY (id_cambio) REFERENCES cambio_marcha(id_cambio) ON DELETE RESTRICT ON UPDATE CASCADE,\n",
    "    FOREIGN KEY (id_anio) REFERENCES anios(id_anio) ON DELETE RESTRICT ON UPDATE CASCADE\n",
    ");\n",
    "\"\"\"\n",
    "cursor.execute(query_creacion)   \n",
    "conexion.commit()"
   ]
  },
  {
   "cell_type": "code",
   "execution_count": null,
   "metadata": {},
   "outputs": [],
   "source": [
    "\n",
    "\n",
    "lista_de_tuplas=[]\n",
    "for fila in df_segunda_mano.values:\n",
    "    lista_de_tuplas.append(tuple(fila))\n"
   ]
  },
  {
   "cell_type": "code",
   "execution_count": null,
   "metadata": {},
   "outputs": [],
   "source": [
    "     \n",
    "query_insercion= \"INSERT INTO segunda_mano (id_segunda_mano,version,kilometraje,precio,id_provincia,id_potencia,id_motor,id_cambio,id_anio) VALUES (%s, %s,%s, %s,%s, %s, %s,%s,%s);\"     \n",
    "\n",
    "cursor.executemany(query_insercion, lista_de_tuplas)          \n",
    "conexion.commit()"
   ]
  },
  {
   "cell_type": "markdown",
   "metadata": {},
   "source": [
    "NUEVOS"
   ]
  },
  {
   "cell_type": "code",
   "execution_count": null,
   "metadata": {},
   "outputs": [
    {
     "data": {
      "text/html": [
       "<div>\n",
       "<style scoped>\n",
       "    .dataframe tbody tr th:only-of-type {\n",
       "        vertical-align: middle;\n",
       "    }\n",
       "\n",
       "    .dataframe tbody tr th {\n",
       "        vertical-align: top;\n",
       "    }\n",
       "\n",
       "    .dataframe thead th {\n",
       "        text-align: right;\n",
       "    }\n",
       "</style>\n",
       "<table border=\"1\" class=\"dataframe\">\n",
       "  <thead>\n",
       "    <tr style=\"text-align: right;\">\n",
       "      <th></th>\n",
       "      <th>id_modelo_nuevo</th>\n",
       "      <th>version</th>\n",
       "      <th>puertas</th>\n",
       "      <th>consumo</th>\n",
       "      <th>precio</th>\n",
       "      <th>id_provincia</th>\n",
       "      <th>id_potencia</th>\n",
       "      <th>id_motor</th>\n",
       "      <th>id_modelo</th>\n",
       "      <th>id_anio</th>\n",
       "    </tr>\n",
       "  </thead>\n",
       "  <tbody>\n",
       "    <tr>\n",
       "      <th>0</th>\n",
       "      <td>1</td>\n",
       "      <td>NISSAN QASHQAI 1.3 DIG-T MHEV 103KW (140CV) AC...</td>\n",
       "      <td>5</td>\n",
       "      <td>6.3</td>\n",
       "      <td>31200</td>\n",
       "      <td>1</td>\n",
       "      <td>1</td>\n",
       "      <td>1</td>\n",
       "      <td>1</td>\n",
       "      <td>14</td>\n",
       "    </tr>\n",
       "    <tr>\n",
       "      <th>1</th>\n",
       "      <td>2</td>\n",
       "      <td>NISSAN QASHQAI (O)1.3 DIG-T MHEV 103KW (140CV)...</td>\n",
       "      <td>5</td>\n",
       "      <td>6.3</td>\n",
       "      <td>32700</td>\n",
       "      <td>1</td>\n",
       "      <td>1</td>\n",
       "      <td>1</td>\n",
       "      <td>1</td>\n",
       "      <td>14</td>\n",
       "    </tr>\n",
       "  </tbody>\n",
       "</table>\n",
       "</div>"
      ],
      "text/plain": [
       "   id_modelo_nuevo                                            version  \\\n",
       "0                1  NISSAN QASHQAI 1.3 DIG-T MHEV 103KW (140CV) AC...   \n",
       "1                2  NISSAN QASHQAI (O)1.3 DIG-T MHEV 103KW (140CV)...   \n",
       "\n",
       "   puertas  consumo  precio  id_provincia  id_potencia  id_motor  id_modelo  \\\n",
       "0        5      6.3   31200             1            1         1          1   \n",
       "1        5      6.3   32700             1            1         1          1   \n",
       "\n",
       "   id_anio  \n",
       "0       14  \n",
       "1       14  "
      ]
     },
     "metadata": {},
     "output_type": "display_data"
    }
   ],
   "source": [
    "df_datos_modelos_nuevos.head(2)"
   ]
  },
  {
   "cell_type": "code",
   "execution_count": null,
   "metadata": {},
   "outputs": [],
   "source": [
    "cursor=conexion.cursor()\n",
    "query_creacion=\"\"\" \n",
    "CREATE TABLE IF NOT EXISTS modelos_nuevos(\n",
    "    id_modelo_nuevo INT PRIMARY KEY,\n",
    "    version VARCHAR(400),\n",
    "    puertas INT,\n",
    "    consumo NUMERIC,\n",
    "    precio INT,\n",
    "    id_provincia INT,\n",
    "    id_potencia INT,\n",
    "    id_motor INT,\n",
    "    id_modelo INT,\n",
    "    id_anio INT,\n",
    "    FOREIGN KEY (id_provincia) REFERENCES provincias(id_provincia) ON DELETE RESTRICT ON UPDATE CASCADE,\n",
    "    FOREIGN KEY (id_potencia) REFERENCES potencias(id_potencia) ON DELETE RESTRICT ON UPDATE CASCADE,\n",
    "    FOREIGN KEY (id_motor) REFERENCES motores(id_motor) ON DELETE RESTRICT ON UPDATE CASCADE,\n",
    "    FOREIGN KEY (id_modelo) REFERENCES modelos(id_modelo) ON DELETE RESTRICT ON UPDATE CASCADE,\n",
    "    FOREIGN KEY (id_anio) REFERENCES anios(id_anio) ON DELETE RESTRICT ON UPDATE CASCADE\n",
    ");\n",
    "\"\"\"\n",
    "cursor.execute(query_creacion)   \n",
    "conexion.commit()"
   ]
  },
  {
   "cell_type": "code",
   "execution_count": null,
   "metadata": {},
   "outputs": [],
   "source": [
    "\n",
    "\n",
    "lista_de_tuplas=[]\n",
    "for fila in df_datos_modelos_nuevos.values:\n",
    "    lista_de_tuplas.append(tuple(fila))\n"
   ]
  },
  {
   "cell_type": "code",
   "execution_count": null,
   "metadata": {},
   "outputs": [],
   "source": [
    "     \n",
    "query_insercion= \"INSERT INTO modelos_nuevos (id_modelo_nuevo,version,puertas,consumo,precio,id_provincia,id_potencia,id_motor,id_modelo,id_anio) VALUES (%s, %s,%s, %s,%s, %s, %s,%s,%s,%s);\"     \n",
    "\n",
    "cursor.executemany(query_insercion, lista_de_tuplas)          \n",
    "conexion.commit()"
   ]
  }
 ],
 "metadata": {
  "language_info": {
   "name": "python"
  }
 },
 "nbformat": 4,
 "nbformat_minor": 2
}
