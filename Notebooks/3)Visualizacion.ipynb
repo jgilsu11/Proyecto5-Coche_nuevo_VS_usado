{
 "cells": [
  {
   "cell_type": "code",
   "execution_count": 1,
   "metadata": {},
   "outputs": [],
   "source": [
    "import pandas as pd\n",
    "from datetime import datetime \n",
    "\n",
    "import os\n",
    "\n",
    "import matplotlib.pyplot as plt\n",
    "import seaborn as sns\n",
    "\n",
    "\n",
    "pd.set_option('display.max_columns', None) # para poder visualizar todas las columnas de los DataFrames\n",
    "\n",
    "# Ignorar warings\n",
    "import warnings\n",
    "warnings.filterwarnings(\"ignore\")\n",
    "\n",
    "import dotenv\n",
    "from dotenv import load_dotenv\n",
    "load_dotenv()\n",
    "\n",
    "import psycopg2\n",
    "from psycopg2 import sql\n",
    "pd.set_option('display.max_columns', None)\n",
    "\n",
    "import sys \n",
    "sys.path.append(os.path.abspath(\"../src\"))   \n",
    "\n",
    "\n",
    "import funciones as f"
   ]
  },
  {
   "cell_type": "code",
   "execution_count": 2,
   "metadata": {},
   "outputs": [],
   "source": [
    "df_wallapop=pd.read_csv(\"../datos/datos_wallapop.csv\", index_col= \"Unnamed: 0\" )\n",
    "df_seguridad=pd.read_csv(\"../datos/datos_seguridad.csv\", index_col= \"Unnamed: 0\" )\n",
    "df_datos_modelos_nuevos=pd.read_csv(\"../datos/datos_modelos_nuevos.csv\", index_col= \"Unnamed: 0\" )\n",
    "df_segunda_mano=pd.read_csv(\"../datos/datos_segunda_mano.csv\", index_col= \"Unnamed: 0\")"
   ]
  },
  {
   "cell_type": "markdown",
   "metadata": {},
   "source": [
    "**DATOS DE LOS DESCRIBED** (Se hieron una vez estaban ya creadas las tablas (con ids insertados)) \n",
    "  \n",
    "WALLAPOP:  \n",
    "  \n",
    "- Precio: \n",
    "Se observa como la media es superior a la mediana en 500 € indicando un alto número de valores (atipicos) en precios altos.Su mínimo valor es 2200€ mientras que su máximo es 11500€.  \n",
    "\n",
    "  \n",
    "- También obtemos que la ciudad más común de Madrid desde donde se venden coches de segunda mano por wallapop es Galapagar con un afrecuencia de 2 (Debido al peque número de muestras).  \n",
    "\n",
    "\n",
    "\n",
    "SEGUNDA MANO: \n",
    "\n",
    "- Precio:   \n",
    "Nos percatamos de que de nuevo, al igual que pasaba en Wallapop, la media del precio está sesgada hacia valores superiores a la mediana (en este caso la diferencia entre media y mediana es de casi 2000€).Su mínimo valor es 1200€ mientras que su máximo es 145000€(lo que corresponde al Nissan GT).\n",
    "\n",
    "- Kilometraje:  \n",
    "La diferencia entre media y mediana nos muestra que hay algunos coches con mucho kilometraje como podemos confirmar observando como auentan exponencialmente la diferencia entre los cuartiles.  \n",
    "  \n",
    "- Versión:  \n",
    "La más repetida es la versión  \"Nissan Micra IG-T Acenta 92\" que se repite un total de 26 veces.  \n",
    "  \n",
    "  \n",
    "    \n",
    "MODELOS NUEVOS:  \n",
    "  \n",
    "- Puertas:  \n",
    "Observamos como en el mercado actual de vehículos Nissan, La gran mayoría de coches cuentan con 5 puertas. \n",
    "\n",
    "- Consumo:  \n",
    "Debido a que se juntaron la autonomía de los coches eléctrico en el consumo de los vehiculos de carburante, No podremos sacar más conclusiones a parte de que el coche con consumo mínimo consume 4,7 a los 100km lo que probablemente indique que sea un híbrido y que el modelo eléctrico con mayor autonomía tiene una autonomía máxima de 536Km.  \n",
    "\n",
    "- Precio:  \n",
    "Observamos como era de esperar que los precios de los modelos nuevos es mucho más alto que los de segunda mano. Además, a pesar de que la desviación entre media y mediana es de 2000€ teniendo en cuenta los cuartiles y el máximo, Parece que podríamos concluir que Nissan cuenta con bastantes modelos de un mismo rango de precio y a su vez ofrece algunos (pocos) muy por encima del rango de precio habitual.  \n",
    "   \n",
    "\n",
    "\n",
    "SEGURIDAD:  \n",
    "\n",
    "- Evaluación general: \n",
    "La media es de 4.41, ligeramente superior a la mediana (4.00) unido a que ya en el primer cuartil se obtiene el valor 4, lo cual muestra una tendencia hacia evaluaciones favorables en general, con una puntuación máxima de 5 y una mínima de 2.\n",
    "\n",
    "- Evaluación Choque frontal y Choque lateral:  \n",
    "Tienen medias de 3.91 y 4.92 respectivamente, indicando buenas evaluaciones en estos aspectos. La mediana de 4 en el choque frontal demuestra puntuaciones estables, mientras que el choque lateral es bastante alto con una mediana y un 75% de 5.  \n",
    "\n",
    "\n",
    "- Evaluación de barrera lateral y Choque columna:   \n",
    "Ambas tienen medias de 4.83, manteniéndose altas con valores que se concentran en los niveles superiores.  \n",
    "\n",
    "\n",
    "- Vuelco:  \n",
    "Presenta una media de 4.03, con una desviación estándar baja, lo que indica una evaluación con consistencia en esta categoría.\n",
    "\n",
    "- Probabilidad vuelco:    \n",
    "La probabilidad media de vuelco es baja (0.15), con un valor mínimo de 0.092 y un máximo de 0.237. La desviación estándar de 0.04 nos permite afirmar que hay una baja probabilidad de vuelco.  \n",
    "\n",
    "- Quejas:   \n",
    "La media es de 135, pero hay una gran dispersión (desviación estándar de 227), lo cual sugiere que existe un pequeño número de vehículos con un alto número de quejas, siendo el valor máximo 2263 quejas. Esto puede estar unido al número de modelos retirados del mercado.\n",
    "\n",
    "- Retiradas:   \n",
    "La media es de 2.72. Aunque el 75% de los modelos retirados no superan las 4, existe un valor máximo de 12, lo cual muestra algunos modelos con mayor número de retiradas.  \n",
    "\n",
    "- Investigaciones:   \n",
    "La mayoría de los vehículos no tienen investigaciones (mediana 0), pero el valor máximo es 7, indicando que algunos modelos han sido objeto de análisis detallado.Lo que también puede estar correlacionado con tanto las quejas como las retiradas.  \n",
    "\n",
    "\n",
    "\n",
    "- Equipamiento de seguridad:   \n",
    "Los distintos tipos de equipamientos, muestran una media cercana a 1, sugiriendo que en muchos modelos estos equipamientos están disponibles de manera estándar. La mediana es 1 para todos estos equipamientos, salvo el aviso de desvío de carril, que tiene una media y mediana de 2, indicando una presencia más baja en los modelos.  \n",
    "\n",
    "  \n",
    "- Versión:  \n",
    "La versión más evaluada fue el Nissan Rogue con 36 evaluaciones de seguridad.  \n",
    "\n",
    "\n",
    "\n",
    "\n",
    "\n",
    "\n",
    "\n",
    "\n",
    "  \n"
   ]
  },
  {
   "cell_type": "code",
   "execution_count": null,
   "metadata": {},
   "outputs": [
    {
     "data": {
      "text/html": [
       "<div>\n",
       "<style scoped>\n",
       "    .dataframe tbody tr th:only-of-type {\n",
       "        vertical-align: middle;\n",
       "    }\n",
       "\n",
       "    .dataframe tbody tr th {\n",
       "        vertical-align: top;\n",
       "    }\n",
       "\n",
       "    .dataframe thead th {\n",
       "        text-align: right;\n",
       "    }\n",
       "</style>\n",
       "<table border=\"1\" class=\"dataframe\">\n",
       "  <thead>\n",
       "    <tr style=\"text-align: right;\">\n",
       "      <th></th>\n",
       "      <th>count</th>\n",
       "      <th>mean</th>\n",
       "      <th>std</th>\n",
       "      <th>min</th>\n",
       "      <th>25%</th>\n",
       "      <th>50%</th>\n",
       "      <th>75%</th>\n",
       "      <th>max</th>\n",
       "    </tr>\n",
       "  </thead>\n",
       "  <tbody>\n",
       "    <tr>\n",
       "      <th>id_wallapop</th>\n",
       "      <td>7.0</td>\n",
       "      <td>4.000000</td>\n",
       "      <td>2.160247</td>\n",
       "      <td>1.000000</td>\n",
       "      <td>2.500000</td>\n",
       "      <td>4.000000</td>\n",
       "      <td>5.500000</td>\n",
       "      <td>7.000000</td>\n",
       "    </tr>\n",
       "    <tr>\n",
       "      <th>precio</th>\n",
       "      <td>7.0</td>\n",
       "      <td>7014.285714</td>\n",
       "      <td>3162.108248</td>\n",
       "      <td>2200.000000</td>\n",
       "      <td>5475.000000</td>\n",
       "      <td>6500.000000</td>\n",
       "      <td>8975.000000</td>\n",
       "      <td>11500.000000</td>\n",
       "    </tr>\n",
       "    <tr>\n",
       "      <th>latitud</th>\n",
       "      <td>7.0</td>\n",
       "      <td>40.493661</td>\n",
       "      <td>0.110262</td>\n",
       "      <td>40.301646</td>\n",
       "      <td>40.443107</td>\n",
       "      <td>40.494190</td>\n",
       "      <td>40.576660</td>\n",
       "      <td>40.620256</td>\n",
       "    </tr>\n",
       "    <tr>\n",
       "      <th>longitud</th>\n",
       "      <td>7.0</td>\n",
       "      <td>-3.785559</td>\n",
       "      <td>0.245586</td>\n",
       "      <td>-4.001960</td>\n",
       "      <td>-3.981749</td>\n",
       "      <td>-3.910636</td>\n",
       "      <td>-3.590496</td>\n",
       "      <td>-3.441828</td>\n",
       "    </tr>\n",
       "    <tr>\n",
       "      <th>id_provincia</th>\n",
       "      <td>7.0</td>\n",
       "      <td>1.000000</td>\n",
       "      <td>0.000000</td>\n",
       "      <td>1.000000</td>\n",
       "      <td>1.000000</td>\n",
       "      <td>1.000000</td>\n",
       "      <td>1.000000</td>\n",
       "      <td>1.000000</td>\n",
       "    </tr>\n",
       "  </tbody>\n",
       "</table>\n",
       "</div>"
      ],
      "text/plain": [
       "              count         mean          std          min          25%  \\\n",
       "id_wallapop     7.0     4.000000     2.160247     1.000000     2.500000   \n",
       "precio          7.0  7014.285714  3162.108248  2200.000000  5475.000000   \n",
       "latitud         7.0    40.493661     0.110262    40.301646    40.443107   \n",
       "longitud        7.0    -3.785559     0.245586    -4.001960    -3.981749   \n",
       "id_provincia    7.0     1.000000     0.000000     1.000000     1.000000   \n",
       "\n",
       "                      50%          75%           max  \n",
       "id_wallapop      4.000000     5.500000      7.000000  \n",
       "precio        6500.000000  8975.000000  11500.000000  \n",
       "latitud         40.494190    40.576660     40.620256  \n",
       "longitud        -3.910636    -3.590496     -3.441828  \n",
       "id_provincia     1.000000     1.000000      1.000000  "
      ]
     },
     "metadata": {},
     "output_type": "display_data"
    }
   ],
   "source": [
    "df_wallapop.describe().T"
   ]
  },
  {
   "cell_type": "code",
   "execution_count": null,
   "metadata": {},
   "outputs": [
    {
     "data": {
      "text/html": [
       "<div>\n",
       "<style scoped>\n",
       "    .dataframe tbody tr th:only-of-type {\n",
       "        vertical-align: middle;\n",
       "    }\n",
       "\n",
       "    .dataframe tbody tr th {\n",
       "        vertical-align: top;\n",
       "    }\n",
       "\n",
       "    .dataframe thead th {\n",
       "        text-align: right;\n",
       "    }\n",
       "</style>\n",
       "<table border=\"1\" class=\"dataframe\">\n",
       "  <thead>\n",
       "    <tr style=\"text-align: right;\">\n",
       "      <th></th>\n",
       "      <th>count</th>\n",
       "      <th>unique</th>\n",
       "      <th>top</th>\n",
       "      <th>freq</th>\n",
       "    </tr>\n",
       "  </thead>\n",
       "  <tbody>\n",
       "    <tr>\n",
       "      <th>descripcion</th>\n",
       "      <td>7</td>\n",
       "      <td>7</td>\n",
       "      <td>nisan almera tino del 2004 ba por cadena le ve...</td>\n",
       "      <td>1</td>\n",
       "    </tr>\n",
       "    <tr>\n",
       "      <th>ciudad</th>\n",
       "      <td>7</td>\n",
       "      <td>6</td>\n",
       "      <td>Galapagar</td>\n",
       "      <td>2</td>\n",
       "    </tr>\n",
       "  </tbody>\n",
       "</table>\n",
       "</div>"
      ],
      "text/plain": [
       "            count unique                                                top  \\\n",
       "descripcion     7      7  nisan almera tino del 2004 ba por cadena le ve...   \n",
       "ciudad          7      6                                          Galapagar   \n",
       "\n",
       "            freq  \n",
       "descripcion    1  \n",
       "ciudad         2  "
      ]
     },
     "metadata": {},
     "output_type": "display_data"
    }
   ],
   "source": [
    "df_wallapop.describe(include=\"O\").T"
   ]
  },
  {
   "cell_type": "code",
   "execution_count": null,
   "metadata": {},
   "outputs": [
    {
     "data": {
      "text/html": [
       "<div>\n",
       "<style scoped>\n",
       "    .dataframe tbody tr th:only-of-type {\n",
       "        vertical-align: middle;\n",
       "    }\n",
       "\n",
       "    .dataframe tbody tr th {\n",
       "        vertical-align: top;\n",
       "    }\n",
       "\n",
       "    .dataframe thead th {\n",
       "        text-align: right;\n",
       "    }\n",
       "</style>\n",
       "<table border=\"1\" class=\"dataframe\">\n",
       "  <thead>\n",
       "    <tr style=\"text-align: right;\">\n",
       "      <th></th>\n",
       "      <th>count</th>\n",
       "      <th>mean</th>\n",
       "      <th>std</th>\n",
       "      <th>min</th>\n",
       "      <th>25%</th>\n",
       "      <th>50%</th>\n",
       "      <th>75%</th>\n",
       "      <th>max</th>\n",
       "    </tr>\n",
       "  </thead>\n",
       "  <tbody>\n",
       "    <tr>\n",
       "      <th>id_segunda_mano</th>\n",
       "      <td>358.0</td>\n",
       "      <td>220.622905</td>\n",
       "      <td>121.583438</td>\n",
       "      <td>1.0</td>\n",
       "      <td>115.25</td>\n",
       "      <td>229.5</td>\n",
       "      <td>323.75</td>\n",
       "      <td>419.0</td>\n",
       "    </tr>\n",
       "    <tr>\n",
       "      <th>kilometraje</th>\n",
       "      <td>358.0</td>\n",
       "      <td>79468.977654</td>\n",
       "      <td>63303.986057</td>\n",
       "      <td>10.0</td>\n",
       "      <td>32472.00</td>\n",
       "      <td>61997.5</td>\n",
       "      <td>115000.00</td>\n",
       "      <td>360000.0</td>\n",
       "    </tr>\n",
       "    <tr>\n",
       "      <th>precio</th>\n",
       "      <td>358.0</td>\n",
       "      <td>15365.720670</td>\n",
       "      <td>10026.031475</td>\n",
       "      <td>1200.0</td>\n",
       "      <td>11190.00</td>\n",
       "      <td>13597.5</td>\n",
       "      <td>17999.75</td>\n",
       "      <td>145000.0</td>\n",
       "    </tr>\n",
       "    <tr>\n",
       "      <th>id_provincia</th>\n",
       "      <td>358.0</td>\n",
       "      <td>1.000000</td>\n",
       "      <td>0.000000</td>\n",
       "      <td>1.0</td>\n",
       "      <td>1.00</td>\n",
       "      <td>1.0</td>\n",
       "      <td>1.00</td>\n",
       "      <td>1.0</td>\n",
       "    </tr>\n",
       "    <tr>\n",
       "      <th>id_potencia</th>\n",
       "      <td>358.0</td>\n",
       "      <td>15.251397</td>\n",
       "      <td>10.453763</td>\n",
       "      <td>1.0</td>\n",
       "      <td>4.00</td>\n",
       "      <td>18.0</td>\n",
       "      <td>22.00</td>\n",
       "      <td>43.0</td>\n",
       "    </tr>\n",
       "    <tr>\n",
       "      <th>id_motor</th>\n",
       "      <td>358.0</td>\n",
       "      <td>4.296089</td>\n",
       "      <td>1.545405</td>\n",
       "      <td>3.0</td>\n",
       "      <td>3.00</td>\n",
       "      <td>3.0</td>\n",
       "      <td>6.00</td>\n",
       "      <td>7.0</td>\n",
       "    </tr>\n",
       "    <tr>\n",
       "      <th>id_cambio</th>\n",
       "      <td>358.0</td>\n",
       "      <td>1.220670</td>\n",
       "      <td>0.415279</td>\n",
       "      <td>1.0</td>\n",
       "      <td>1.00</td>\n",
       "      <td>1.0</td>\n",
       "      <td>1.00</td>\n",
       "      <td>2.0</td>\n",
       "    </tr>\n",
       "    <tr>\n",
       "      <th>id_anio</th>\n",
       "      <td>358.0</td>\n",
       "      <td>9.745810</td>\n",
       "      <td>4.007650</td>\n",
       "      <td>1.0</td>\n",
       "      <td>7.00</td>\n",
       "      <td>10.0</td>\n",
       "      <td>13.00</td>\n",
       "      <td>24.0</td>\n",
       "    </tr>\n",
       "  </tbody>\n",
       "</table>\n",
       "</div>"
      ],
      "text/plain": [
       "                 count          mean           std     min       25%      50%  \\\n",
       "id_segunda_mano  358.0    220.622905    121.583438     1.0    115.25    229.5   \n",
       "kilometraje      358.0  79468.977654  63303.986057    10.0  32472.00  61997.5   \n",
       "precio           358.0  15365.720670  10026.031475  1200.0  11190.00  13597.5   \n",
       "id_provincia     358.0      1.000000      0.000000     1.0      1.00      1.0   \n",
       "id_potencia      358.0     15.251397     10.453763     1.0      4.00     18.0   \n",
       "id_motor         358.0      4.296089      1.545405     3.0      3.00      3.0   \n",
       "id_cambio        358.0      1.220670      0.415279     1.0      1.00      1.0   \n",
       "id_anio          358.0      9.745810      4.007650     1.0      7.00     10.0   \n",
       "\n",
       "                       75%       max  \n",
       "id_segunda_mano     323.75     419.0  \n",
       "kilometraje      115000.00  360000.0  \n",
       "precio            17999.75  145000.0  \n",
       "id_provincia          1.00       1.0  \n",
       "id_potencia          22.00      43.0  \n",
       "id_motor              6.00       7.0  \n",
       "id_cambio             1.00       2.0  \n",
       "id_anio              13.00      24.0  "
      ]
     },
     "metadata": {},
     "output_type": "display_data"
    }
   ],
   "source": [
    "df_segunda_mano.describe().T"
   ]
  },
  {
   "cell_type": "code",
   "execution_count": null,
   "metadata": {},
   "outputs": [
    {
     "data": {
      "text/html": [
       "<div>\n",
       "<style scoped>\n",
       "    .dataframe tbody tr th:only-of-type {\n",
       "        vertical-align: middle;\n",
       "    }\n",
       "\n",
       "    .dataframe tbody tr th {\n",
       "        vertical-align: top;\n",
       "    }\n",
       "\n",
       "    .dataframe thead th {\n",
       "        text-align: right;\n",
       "    }\n",
       "</style>\n",
       "<table border=\"1\" class=\"dataframe\">\n",
       "  <thead>\n",
       "    <tr style=\"text-align: right;\">\n",
       "      <th></th>\n",
       "      <th>count</th>\n",
       "      <th>unique</th>\n",
       "      <th>top</th>\n",
       "      <th>freq</th>\n",
       "    </tr>\n",
       "  </thead>\n",
       "  <tbody>\n",
       "    <tr>\n",
       "      <th>version</th>\n",
       "      <td>358</td>\n",
       "      <td>190</td>\n",
       "      <td>Nissan Micra IG-T Acenta 92</td>\n",
       "      <td>26</td>\n",
       "    </tr>\n",
       "  </tbody>\n",
       "</table>\n",
       "</div>"
      ],
      "text/plain": [
       "        count unique                          top freq\n",
       "version   358    190  Nissan Micra IG-T Acenta 92   26"
      ]
     },
     "metadata": {},
     "output_type": "display_data"
    }
   ],
   "source": [
    "df_segunda_mano.describe(include=\"O\").T"
   ]
  },
  {
   "cell_type": "code",
   "execution_count": null,
   "metadata": {},
   "outputs": [
    {
     "data": {
      "text/html": [
       "<div>\n",
       "<style scoped>\n",
       "    .dataframe tbody tr th:only-of-type {\n",
       "        vertical-align: middle;\n",
       "    }\n",
       "\n",
       "    .dataframe tbody tr th {\n",
       "        vertical-align: top;\n",
       "    }\n",
       "\n",
       "    .dataframe thead th {\n",
       "        text-align: right;\n",
       "    }\n",
       "</style>\n",
       "<table border=\"1\" class=\"dataframe\">\n",
       "  <thead>\n",
       "    <tr style=\"text-align: right;\">\n",
       "      <th></th>\n",
       "      <th>count</th>\n",
       "      <th>mean</th>\n",
       "      <th>std</th>\n",
       "      <th>min</th>\n",
       "      <th>25%</th>\n",
       "      <th>50%</th>\n",
       "      <th>75%</th>\n",
       "      <th>max</th>\n",
       "    </tr>\n",
       "  </thead>\n",
       "  <tbody>\n",
       "    <tr>\n",
       "      <th>id_modelo_nuevo</th>\n",
       "      <td>107.0</td>\n",
       "      <td>56.093458</td>\n",
       "      <td>32.781303</td>\n",
       "      <td>1.0</td>\n",
       "      <td>27.50</td>\n",
       "      <td>58.0</td>\n",
       "      <td>84.50</td>\n",
       "      <td>111.0</td>\n",
       "    </tr>\n",
       "    <tr>\n",
       "      <th>puertas</th>\n",
       "      <td>107.0</td>\n",
       "      <td>4.700935</td>\n",
       "      <td>0.661829</td>\n",
       "      <td>2.0</td>\n",
       "      <td>5.00</td>\n",
       "      <td>5.0</td>\n",
       "      <td>5.00</td>\n",
       "      <td>5.0</td>\n",
       "    </tr>\n",
       "    <tr>\n",
       "      <th>consumo</th>\n",
       "      <td>107.0</td>\n",
       "      <td>79.287850</td>\n",
       "      <td>163.273743</td>\n",
       "      <td>4.7</td>\n",
       "      <td>5.95</td>\n",
       "      <td>6.9</td>\n",
       "      <td>7.25</td>\n",
       "      <td>536.0</td>\n",
       "    </tr>\n",
       "    <tr>\n",
       "      <th>precio</th>\n",
       "      <td>107.0</td>\n",
       "      <td>44394.644860</td>\n",
       "      <td>22717.142912</td>\n",
       "      <td>25275.0</td>\n",
       "      <td>34975.00</td>\n",
       "      <td>42141.0</td>\n",
       "      <td>45839.00</td>\n",
       "      <td>220290.0</td>\n",
       "    </tr>\n",
       "    <tr>\n",
       "      <th>id_provincia</th>\n",
       "      <td>107.0</td>\n",
       "      <td>1.000000</td>\n",
       "      <td>0.000000</td>\n",
       "      <td>1.0</td>\n",
       "      <td>1.00</td>\n",
       "      <td>1.0</td>\n",
       "      <td>1.00</td>\n",
       "      <td>1.0</td>\n",
       "    </tr>\n",
       "    <tr>\n",
       "      <th>id_potencia</th>\n",
       "      <td>107.0</td>\n",
       "      <td>8.252336</td>\n",
       "      <td>4.662361</td>\n",
       "      <td>1.0</td>\n",
       "      <td>4.00</td>\n",
       "      <td>8.0</td>\n",
       "      <td>12.50</td>\n",
       "      <td>17.0</td>\n",
       "    </tr>\n",
       "    <tr>\n",
       "      <th>id_motor</th>\n",
       "      <td>107.0</td>\n",
       "      <td>2.953271</td>\n",
       "      <td>1.383073</td>\n",
       "      <td>1.0</td>\n",
       "      <td>2.00</td>\n",
       "      <td>3.0</td>\n",
       "      <td>4.00</td>\n",
       "      <td>5.0</td>\n",
       "    </tr>\n",
       "    <tr>\n",
       "      <th>id_modelo</th>\n",
       "      <td>107.0</td>\n",
       "      <td>6.242991</td>\n",
       "      <td>3.400447</td>\n",
       "      <td>1.0</td>\n",
       "      <td>3.00</td>\n",
       "      <td>6.0</td>\n",
       "      <td>9.00</td>\n",
       "      <td>12.0</td>\n",
       "    </tr>\n",
       "    <tr>\n",
       "      <th>id_anio</th>\n",
       "      <td>107.0</td>\n",
       "      <td>14.000000</td>\n",
       "      <td>0.000000</td>\n",
       "      <td>14.0</td>\n",
       "      <td>14.00</td>\n",
       "      <td>14.0</td>\n",
       "      <td>14.00</td>\n",
       "      <td>14.0</td>\n",
       "    </tr>\n",
       "  </tbody>\n",
       "</table>\n",
       "</div>"
      ],
      "text/plain": [
       "                 count          mean           std      min       25%  \\\n",
       "id_modelo_nuevo  107.0     56.093458     32.781303      1.0     27.50   \n",
       "puertas          107.0      4.700935      0.661829      2.0      5.00   \n",
       "consumo          107.0     79.287850    163.273743      4.7      5.95   \n",
       "precio           107.0  44394.644860  22717.142912  25275.0  34975.00   \n",
       "id_provincia     107.0      1.000000      0.000000      1.0      1.00   \n",
       "id_potencia      107.0      8.252336      4.662361      1.0      4.00   \n",
       "id_motor         107.0      2.953271      1.383073      1.0      2.00   \n",
       "id_modelo        107.0      6.242991      3.400447      1.0      3.00   \n",
       "id_anio          107.0     14.000000      0.000000     14.0     14.00   \n",
       "\n",
       "                     50%       75%       max  \n",
       "id_modelo_nuevo     58.0     84.50     111.0  \n",
       "puertas              5.0      5.00       5.0  \n",
       "consumo              6.9      7.25     536.0  \n",
       "precio           42141.0  45839.00  220290.0  \n",
       "id_provincia         1.0      1.00       1.0  \n",
       "id_potencia          8.0     12.50      17.0  \n",
       "id_motor             3.0      4.00       5.0  \n",
       "id_modelo            6.0      9.00      12.0  \n",
       "id_anio             14.0     14.00      14.0  "
      ]
     },
     "metadata": {},
     "output_type": "display_data"
    }
   ],
   "source": [
    "df_datos_modelos_nuevos.describe().T"
   ]
  },
  {
   "cell_type": "code",
   "execution_count": null,
   "metadata": {},
   "outputs": [
    {
     "data": {
      "text/html": [
       "<div>\n",
       "<style scoped>\n",
       "    .dataframe tbody tr th:only-of-type {\n",
       "        vertical-align: middle;\n",
       "    }\n",
       "\n",
       "    .dataframe tbody tr th {\n",
       "        vertical-align: top;\n",
       "    }\n",
       "\n",
       "    .dataframe thead th {\n",
       "        text-align: right;\n",
       "    }\n",
       "</style>\n",
       "<table border=\"1\" class=\"dataframe\">\n",
       "  <thead>\n",
       "    <tr style=\"text-align: right;\">\n",
       "      <th></th>\n",
       "      <th>count</th>\n",
       "      <th>unique</th>\n",
       "      <th>top</th>\n",
       "      <th>freq</th>\n",
       "    </tr>\n",
       "  </thead>\n",
       "  <tbody>\n",
       "    <tr>\n",
       "      <th>version</th>\n",
       "      <td>107</td>\n",
       "      <td>107</td>\n",
       "      <td>NISSAN QASHQAI 1.3 DIG-T MHEV 103KW (140CV) AC...</td>\n",
       "      <td>1</td>\n",
       "    </tr>\n",
       "  </tbody>\n",
       "</table>\n",
       "</div>"
      ],
      "text/plain": [
       "        count unique                                                top freq\n",
       "version   107    107  NISSAN QASHQAI 1.3 DIG-T MHEV 103KW (140CV) AC...    1"
      ]
     },
     "metadata": {},
     "output_type": "display_data"
    }
   ],
   "source": [
    "df_datos_modelos_nuevos.describe(include=\"O\").T"
   ]
  },
  {
   "cell_type": "code",
   "execution_count": null,
   "metadata": {},
   "outputs": [
    {
     "data": {
      "text/html": [
       "<div>\n",
       "<style scoped>\n",
       "    .dataframe tbody tr th:only-of-type {\n",
       "        vertical-align: middle;\n",
       "    }\n",
       "\n",
       "    .dataframe tbody tr th {\n",
       "        vertical-align: top;\n",
       "    }\n",
       "\n",
       "    .dataframe thead th {\n",
       "        text-align: right;\n",
       "    }\n",
       "</style>\n",
       "<table border=\"1\" class=\"dataframe\">\n",
       "  <thead>\n",
       "    <tr style=\"text-align: right;\">\n",
       "      <th></th>\n",
       "      <th>count</th>\n",
       "      <th>mean</th>\n",
       "      <th>std</th>\n",
       "      <th>min</th>\n",
       "      <th>25%</th>\n",
       "      <th>50%</th>\n",
       "      <th>75%</th>\n",
       "      <th>max</th>\n",
       "    </tr>\n",
       "  </thead>\n",
       "  <tbody>\n",
       "    <tr>\n",
       "      <th>id_seguridad</th>\n",
       "      <td>249.0</td>\n",
       "      <td>125.000000</td>\n",
       "      <td>72.024301</td>\n",
       "      <td>1.000</td>\n",
       "      <td>63.00</td>\n",
       "      <td>125.000</td>\n",
       "      <td>187.000</td>\n",
       "      <td>249.000</td>\n",
       "    </tr>\n",
       "    <tr>\n",
       "      <th>evaluacion_general</th>\n",
       "      <td>249.0</td>\n",
       "      <td>4.409639</td>\n",
       "      <td>0.539627</td>\n",
       "      <td>2.000</td>\n",
       "      <td>4.00</td>\n",
       "      <td>4.000</td>\n",
       "      <td>5.000</td>\n",
       "      <td>5.000</td>\n",
       "    </tr>\n",
       "    <tr>\n",
       "      <th>evaluacion_choque_frontal</th>\n",
       "      <td>249.0</td>\n",
       "      <td>3.911647</td>\n",
       "      <td>0.539026</td>\n",
       "      <td>3.000</td>\n",
       "      <td>4.00</td>\n",
       "      <td>4.000</td>\n",
       "      <td>4.000</td>\n",
       "      <td>5.000</td>\n",
       "    </tr>\n",
       "    <tr>\n",
       "      <th>evaluacion_choque_lateral</th>\n",
       "      <td>249.0</td>\n",
       "      <td>4.915663</td>\n",
       "      <td>0.376898</td>\n",
       "      <td>2.000</td>\n",
       "      <td>5.00</td>\n",
       "      <td>5.000</td>\n",
       "      <td>5.000</td>\n",
       "      <td>5.000</td>\n",
       "    </tr>\n",
       "    <tr>\n",
       "      <th>evaluacion_barrera_lateral</th>\n",
       "      <td>249.0</td>\n",
       "      <td>4.831325</td>\n",
       "      <td>0.487405</td>\n",
       "      <td>2.000</td>\n",
       "      <td>5.00</td>\n",
       "      <td>5.000</td>\n",
       "      <td>5.000</td>\n",
       "      <td>5.000</td>\n",
       "    </tr>\n",
       "    <tr>\n",
       "      <th>evaluacion_vuelco</th>\n",
       "      <td>249.0</td>\n",
       "      <td>4.032129</td>\n",
       "      <td>0.490815</td>\n",
       "      <td>3.000</td>\n",
       "      <td>4.00</td>\n",
       "      <td>4.000</td>\n",
       "      <td>4.000</td>\n",
       "      <td>5.000</td>\n",
       "    </tr>\n",
       "    <tr>\n",
       "      <th>probabilidad_vuelco</th>\n",
       "      <td>249.0</td>\n",
       "      <td>0.154096</td>\n",
       "      <td>0.039920</td>\n",
       "      <td>0.092</td>\n",
       "      <td>0.11</td>\n",
       "      <td>0.159</td>\n",
       "      <td>0.179</td>\n",
       "      <td>0.237</td>\n",
       "    </tr>\n",
       "    <tr>\n",
       "      <th>evaluacion_choque_columna</th>\n",
       "      <td>249.0</td>\n",
       "      <td>4.827309</td>\n",
       "      <td>0.437986</td>\n",
       "      <td>2.000</td>\n",
       "      <td>5.00</td>\n",
       "      <td>5.000</td>\n",
       "      <td>5.000</td>\n",
       "      <td>5.000</td>\n",
       "    </tr>\n",
       "    <tr>\n",
       "      <th>quejas</th>\n",
       "      <td>249.0</td>\n",
       "      <td>135.281124</td>\n",
       "      <td>227.877817</td>\n",
       "      <td>0.000</td>\n",
       "      <td>10.00</td>\n",
       "      <td>52.000</td>\n",
       "      <td>156.000</td>\n",
       "      <td>2263.000</td>\n",
       "    </tr>\n",
       "    <tr>\n",
       "      <th>retiradas</th>\n",
       "      <td>249.0</td>\n",
       "      <td>2.718876</td>\n",
       "      <td>2.921225</td>\n",
       "      <td>0.000</td>\n",
       "      <td>0.00</td>\n",
       "      <td>2.000</td>\n",
       "      <td>4.000</td>\n",
       "      <td>12.000</td>\n",
       "    </tr>\n",
       "    <tr>\n",
       "      <th>investigaciones</th>\n",
       "      <td>249.0</td>\n",
       "      <td>0.634538</td>\n",
       "      <td>1.177311</td>\n",
       "      <td>0.000</td>\n",
       "      <td>0.00</td>\n",
       "      <td>0.000</td>\n",
       "      <td>1.000</td>\n",
       "      <td>7.000</td>\n",
       "    </tr>\n",
       "    <tr>\n",
       "      <th>vehiculo_id</th>\n",
       "      <td>249.0</td>\n",
       "      <td>13193.991968</td>\n",
       "      <td>4882.863668</td>\n",
       "      <td>357.000</td>\n",
       "      <td>9811.00</td>\n",
       "      <td>13457.000</td>\n",
       "      <td>16821.000</td>\n",
       "      <td>20765.000</td>\n",
       "    </tr>\n",
       "    <tr>\n",
       "      <th>id_anio</th>\n",
       "      <td>249.0</td>\n",
       "      <td>8.642570</td>\n",
       "      <td>4.054661</td>\n",
       "      <td>1.000</td>\n",
       "      <td>5.00</td>\n",
       "      <td>9.000</td>\n",
       "      <td>12.000</td>\n",
       "      <td>15.000</td>\n",
       "    </tr>\n",
       "    <tr>\n",
       "      <th>id_equipamiento_aviso_choque_front</th>\n",
       "      <td>249.0</td>\n",
       "      <td>1.871486</td>\n",
       "      <td>0.941617</td>\n",
       "      <td>1.000</td>\n",
       "      <td>1.00</td>\n",
       "      <td>1.000</td>\n",
       "      <td>3.000</td>\n",
       "      <td>4.000</td>\n",
       "    </tr>\n",
       "    <tr>\n",
       "      <th>id_equipamiento_aviso_desvio_carril</th>\n",
       "      <td>249.0</td>\n",
       "      <td>2.124498</td>\n",
       "      <td>0.931398</td>\n",
       "      <td>1.000</td>\n",
       "      <td>1.00</td>\n",
       "      <td>2.000</td>\n",
       "      <td>3.000</td>\n",
       "      <td>4.000</td>\n",
       "    </tr>\n",
       "    <tr>\n",
       "      <th>id_equipamiento_estabilidad_electronica</th>\n",
       "      <td>249.0</td>\n",
       "      <td>1.008032</td>\n",
       "      <td>0.089441</td>\n",
       "      <td>1.000</td>\n",
       "      <td>1.00</td>\n",
       "      <td>1.000</td>\n",
       "      <td>1.000</td>\n",
       "      <td>2.000</td>\n",
       "    </tr>\n",
       "  </tbody>\n",
       "</table>\n",
       "</div>"
      ],
      "text/plain": [
       "                                         count          mean          std  \\\n",
       "id_seguridad                             249.0    125.000000    72.024301   \n",
       "evaluacion_general                       249.0      4.409639     0.539627   \n",
       "evaluacion_choque_frontal                249.0      3.911647     0.539026   \n",
       "evaluacion_choque_lateral                249.0      4.915663     0.376898   \n",
       "evaluacion_barrera_lateral               249.0      4.831325     0.487405   \n",
       "evaluacion_vuelco                        249.0      4.032129     0.490815   \n",
       "probabilidad_vuelco                      249.0      0.154096     0.039920   \n",
       "evaluacion_choque_columna                249.0      4.827309     0.437986   \n",
       "quejas                                   249.0    135.281124   227.877817   \n",
       "retiradas                                249.0      2.718876     2.921225   \n",
       "investigaciones                          249.0      0.634538     1.177311   \n",
       "vehiculo_id                              249.0  13193.991968  4882.863668   \n",
       "id_anio                                  249.0      8.642570     4.054661   \n",
       "id_equipamiento_aviso_choque_front       249.0      1.871486     0.941617   \n",
       "id_equipamiento_aviso_desvio_carril      249.0      2.124498     0.931398   \n",
       "id_equipamiento_estabilidad_electronica  249.0      1.008032     0.089441   \n",
       "\n",
       "                                             min      25%        50%  \\\n",
       "id_seguridad                               1.000    63.00    125.000   \n",
       "evaluacion_general                         2.000     4.00      4.000   \n",
       "evaluacion_choque_frontal                  3.000     4.00      4.000   \n",
       "evaluacion_choque_lateral                  2.000     5.00      5.000   \n",
       "evaluacion_barrera_lateral                 2.000     5.00      5.000   \n",
       "evaluacion_vuelco                          3.000     4.00      4.000   \n",
       "probabilidad_vuelco                        0.092     0.11      0.159   \n",
       "evaluacion_choque_columna                  2.000     5.00      5.000   \n",
       "quejas                                     0.000    10.00     52.000   \n",
       "retiradas                                  0.000     0.00      2.000   \n",
       "investigaciones                            0.000     0.00      0.000   \n",
       "vehiculo_id                              357.000  9811.00  13457.000   \n",
       "id_anio                                    1.000     5.00      9.000   \n",
       "id_equipamiento_aviso_choque_front         1.000     1.00      1.000   \n",
       "id_equipamiento_aviso_desvio_carril        1.000     1.00      2.000   \n",
       "id_equipamiento_estabilidad_electronica    1.000     1.00      1.000   \n",
       "\n",
       "                                               75%        max  \n",
       "id_seguridad                               187.000    249.000  \n",
       "evaluacion_general                           5.000      5.000  \n",
       "evaluacion_choque_frontal                    4.000      5.000  \n",
       "evaluacion_choque_lateral                    5.000      5.000  \n",
       "evaluacion_barrera_lateral                   5.000      5.000  \n",
       "evaluacion_vuelco                            4.000      5.000  \n",
       "probabilidad_vuelco                          0.179      0.237  \n",
       "evaluacion_choque_columna                    5.000      5.000  \n",
       "quejas                                     156.000   2263.000  \n",
       "retiradas                                    4.000     12.000  \n",
       "investigaciones                              1.000      7.000  \n",
       "vehiculo_id                              16821.000  20765.000  \n",
       "id_anio                                     12.000     15.000  \n",
       "id_equipamiento_aviso_choque_front           3.000      4.000  \n",
       "id_equipamiento_aviso_desvio_carril          3.000      4.000  \n",
       "id_equipamiento_estabilidad_electronica      1.000      2.000  "
      ]
     },
     "metadata": {},
     "output_type": "display_data"
    }
   ],
   "source": [
    "df_seguridad.describe().T"
   ]
  },
  {
   "cell_type": "code",
   "execution_count": null,
   "metadata": {},
   "outputs": [
    {
     "data": {
      "text/html": [
       "<div>\n",
       "<style scoped>\n",
       "    .dataframe tbody tr th:only-of-type {\n",
       "        vertical-align: middle;\n",
       "    }\n",
       "\n",
       "    .dataframe tbody tr th {\n",
       "        vertical-align: top;\n",
       "    }\n",
       "\n",
       "    .dataframe thead th {\n",
       "        text-align: right;\n",
       "    }\n",
       "</style>\n",
       "<table border=\"1\" class=\"dataframe\">\n",
       "  <thead>\n",
       "    <tr style=\"text-align: right;\">\n",
       "      <th></th>\n",
       "      <th>count</th>\n",
       "      <th>unique</th>\n",
       "      <th>top</th>\n",
       "      <th>freq</th>\n",
       "    </tr>\n",
       "  </thead>\n",
       "  <tbody>\n",
       "    <tr>\n",
       "      <th>marca</th>\n",
       "      <td>249</td>\n",
       "      <td>1</td>\n",
       "      <td>NISSAN</td>\n",
       "      <td>249</td>\n",
       "    </tr>\n",
       "    <tr>\n",
       "      <th>version</th>\n",
       "      <td>249</td>\n",
       "      <td>27</td>\n",
       "      <td>ROGUE</td>\n",
       "      <td>36</td>\n",
       "    </tr>\n",
       "    <tr>\n",
       "      <th>descripcion</th>\n",
       "      <td>249</td>\n",
       "      <td>249</td>\n",
       "      <td>2011 Nissan Altima 4 DR FWD</td>\n",
       "      <td>1</td>\n",
       "    </tr>\n",
       "  </tbody>\n",
       "</table>\n",
       "</div>"
      ],
      "text/plain": [
       "            count unique                          top freq\n",
       "marca         249      1                       NISSAN  249\n",
       "version       249     27                        ROGUE   36\n",
       "descripcion   249    249  2011 Nissan Altima 4 DR FWD    1"
      ]
     },
     "metadata": {},
     "output_type": "display_data"
    }
   ],
   "source": [
    "df_seguridad.describe(include=\"O\").T"
   ]
  },
  {
   "cell_type": "code",
   "execution_count": 3,
   "metadata": {},
   "outputs": [],
   "source": [
    "key= os.getenv(\"key\")"
   ]
  },
  {
   "cell_type": "code",
   "execution_count": 4,
   "metadata": {},
   "outputs": [
    {
     "name": "stdout",
     "output_type": "stream",
     "text": [
      "Error de tipo: la base de datos «Vehiculos» ya existe\n",
      "\n"
     ]
    }
   ],
   "source": [
    "f.crear_basedatos(\"localhost\",\"postgres\",key,\"5432\",\"Vehiculos\")"
   ]
  },
  {
   "cell_type": "code",
   "execution_count": 5,
   "metadata": {},
   "outputs": [],
   "source": [
    "f.iniciar_conexion(\"localhost\",\"postgres\",key,\"5432\",\"Vehiculos\")"
   ]
  },
  {
   "cell_type": "markdown",
   "metadata": {},
   "source": [
    "No he encontrado la manera para que fuuncionara sin esto aquí"
   ]
  },
  {
   "cell_type": "code",
   "execution_count": 6,
   "metadata": {},
   "outputs": [],
   "source": [
    "conexion = psycopg2.connect(\n",
    "    database= \"Vehiculos\",\n",
    "    host=\"localhost\",       \n",
    "    user=\"postgres\",      \n",
    "    password=key, \n",
    "    port=\"5432\"            \n",
    ")"
   ]
  },
  {
   "cell_type": "markdown",
   "metadata": {},
   "source": [
    "De aquí en adelante sacar visualizaciones"
   ]
  },
  {
   "cell_type": "code",
   "execution_count": 12,
   "metadata": {},
   "outputs": [
    {
     "data": {
      "text/html": [
       "<div>\n",
       "<style scoped>\n",
       "    .dataframe tbody tr th:only-of-type {\n",
       "        vertical-align: middle;\n",
       "    }\n",
       "\n",
       "    .dataframe tbody tr th {\n",
       "        vertical-align: top;\n",
       "    }\n",
       "\n",
       "    .dataframe thead th {\n",
       "        text-align: right;\n",
       "    }\n",
       "</style>\n",
       "<table border=\"1\" class=\"dataframe\">\n",
       "  <thead>\n",
       "    <tr style=\"text-align: right;\">\n",
       "      <th></th>\n",
       "      <th>id_seguridad</th>\n",
       "      <th>evaluacion_general</th>\n",
       "      <th>evaluacion_choque_frontal</th>\n",
       "      <th>evaluacion_choque_lateral</th>\n",
       "      <th>evaluacion_barrera_lateral</th>\n",
       "      <th>evaluacion_vuelco</th>\n",
       "      <th>probabilidad_vuelco</th>\n",
       "      <th>evaluacion_choque_columna</th>\n",
       "      <th>quejas</th>\n",
       "      <th>retiradas</th>\n",
       "      <th>investigaciones</th>\n",
       "      <th>marca</th>\n",
       "      <th>version</th>\n",
       "      <th>descripcion</th>\n",
       "      <th>vehiculo_id</th>\n",
       "      <th>id_anio</th>\n",
       "      <th>id_equipamiento_aviso_choque_front</th>\n",
       "      <th>id_equipamiento_aviso_desvio_carril</th>\n",
       "      <th>id_equipamiento_estabilidad_electronica</th>\n",
       "    </tr>\n",
       "  </thead>\n",
       "  <tbody>\n",
       "    <tr>\n",
       "      <th>0</th>\n",
       "      <td>1</td>\n",
       "      <td>4</td>\n",
       "      <td>4</td>\n",
       "      <td>5</td>\n",
       "      <td>4</td>\n",
       "      <td>4</td>\n",
       "      <td>0.105</td>\n",
       "      <td>5</td>\n",
       "      <td>236</td>\n",
       "      <td>1</td>\n",
       "      <td>0</td>\n",
       "      <td>NISSAN</td>\n",
       "      <td>ALTIMA</td>\n",
       "      <td>2011 Nissan Altima 4 DR FWD</td>\n",
       "      <td>357</td>\n",
       "      <td>1</td>\n",
       "      <td>3</td>\n",
       "      <td>3</td>\n",
       "      <td>1</td>\n",
       "    </tr>\n",
       "  </tbody>\n",
       "</table>\n",
       "</div>"
      ],
      "text/plain": [
       "   id_seguridad  evaluacion_general  evaluacion_choque_frontal  \\\n",
       "0             1                   4                          4   \n",
       "\n",
       "   evaluacion_choque_lateral  evaluacion_barrera_lateral  evaluacion_vuelco  \\\n",
       "0                          5                           4                  4   \n",
       "\n",
       "   probabilidad_vuelco  evaluacion_choque_columna  quejas  retiradas  \\\n",
       "0                0.105                          5     236          1   \n",
       "\n",
       "   investigaciones   marca version                  descripcion  vehiculo_id  \\\n",
       "0                0  NISSAN  ALTIMA  2011 Nissan Altima 4 DR FWD          357   \n",
       "\n",
       "   id_anio  id_equipamiento_aviso_choque_front  \\\n",
       "0        1                                   3   \n",
       "\n",
       "   id_equipamiento_aviso_desvio_carril  \\\n",
       "0                                    3   \n",
       "\n",
       "   id_equipamiento_estabilidad_electronica  \n",
       "0                                        1  "
      ]
     },
     "execution_count": 12,
     "metadata": {},
     "output_type": "execute_result"
    }
   ],
   "source": [
    "df_seguridad.head(1)"
   ]
  },
  {
   "cell_type": "code",
   "execution_count": 147,
   "metadata": {},
   "outputs": [
    {
     "data": {
      "text/plain": [
       "Text(0, 0.5, 'Quejas')"
      ]
     },
     "execution_count": 147,
     "metadata": {},
     "output_type": "execute_result"
    },
    {
     "data": {
      "image/png": "[encoded data removed]",
      "text/plain": [
       "<Figure size 800x600 with 1 Axes>"
      ]
     },
     "metadata": {},
     "output_type": "display_data"
    }
   ],
   "source": [
    "plt.figure(figsize=(8,6))\n",
    "sns.scatterplot(x=\"retiradas\", y= \"quejas\", data=df_seguridad,color=\"#E06B00\" )\n",
    "plt.title(\"Relación entre Modelos retirados y Quejas\")\n",
    "plt.xlabel(\"Modelos retirados\")\n",
    "plt.ylabel(\"Quejas\")"
   ]
  },
  {
   "cell_type": "code",
   "execution_count": 146,
   "metadata": {},
   "outputs": [
    {
     "data": {
      "text/plain": [
       "Text(0, 0.5, 'Investigaciones')"
      ]
     },
     "execution_count": 146,
     "metadata": {},
     "output_type": "execute_result"
    },
    {
     "data": {
      "image/png": "[encoded data removed]",
      "text/plain": [
       "<Figure size 800x600 with 1 Axes>"
      ]
     },
     "metadata": {},
     "output_type": "display_data"
    }
   ],
   "source": [
    "plt.figure(figsize=(8,6))\n",
    "sns.scatterplot(x=\"quejas\", y= \"investigaciones\", data=df_seguridad, color=\"#FAA72D\" )\n",
    "plt.title(\"Relación entre Invesigaciones y Quejas\")\n",
    "plt.xlabel(\"Quejas\")\n",
    "plt.ylabel(\"Investigaciones\")"
   ]
  },
  {
   "cell_type": "code",
   "execution_count": 34,
   "metadata": {},
   "outputs": [],
   "source": [
    "cursor=conexion.cursor()\n",
    "query_anio_retiradas=\"\"\"\n",
    "SELECT a.anio ,s.retiradas\n",
    "FROM anios a \n",
    "INNER JOIN seguridad s ON a.id_anio = s.id_anio\n",
    "\"\"\"\n",
    "cursor.execute(query_anio_retiradas)\n",
    "df_anio_retiradas= pd.DataFrame(cursor.fetchall())"
   ]
  },
  {
   "cell_type": "code",
   "execution_count": 35,
   "metadata": {},
   "outputs": [
    {
     "data": {
      "text/html": [
       "<div>\n",
       "<style scoped>\n",
       "    .dataframe tbody tr th:only-of-type {\n",
       "        vertical-align: middle;\n",
       "    }\n",
       "\n",
       "    .dataframe tbody tr th {\n",
       "        vertical-align: top;\n",
       "    }\n",
       "\n",
       "    .dataframe thead th {\n",
       "        text-align: right;\n",
       "    }\n",
       "</style>\n",
       "<table border=\"1\" class=\"dataframe\">\n",
       "  <thead>\n",
       "    <tr style=\"text-align: right;\">\n",
       "      <th></th>\n",
       "      <th>0</th>\n",
       "      <th>1</th>\n",
       "    </tr>\n",
       "  </thead>\n",
       "  <tbody>\n",
       "    <tr>\n",
       "      <th>0</th>\n",
       "      <td>2011</td>\n",
       "      <td>1</td>\n",
       "    </tr>\n",
       "    <tr>\n",
       "      <th>1</th>\n",
       "      <td>2011</td>\n",
       "      <td>1</td>\n",
       "    </tr>\n",
       "  </tbody>\n",
       "</table>\n",
       "</div>"
      ],
      "text/plain": [
       "      0  1\n",
       "0  2011  1\n",
       "1  2011  1"
      ]
     },
     "execution_count": 35,
     "metadata": {},
     "output_type": "execute_result"
    }
   ],
   "source": [
    "df_anio_retiradas.head(2)"
   ]
  },
  {
   "cell_type": "code",
   "execution_count": 108,
   "metadata": {},
   "outputs": [
    {
     "data": {
      "text/plain": [
       "Text(0, 0.5, 'Modelos retirados')"
      ]
     },
     "execution_count": 108,
     "metadata": {},
     "output_type": "execute_result"
    },
    {
     "data": {
      "image/png": "[encoded data removed]",
      "text/plain": [
       "<Figure size 800x600 with 1 Axes>"
      ]
     },
     "metadata": {},
     "output_type": "display_data"
    }
   ],
   "source": [
    "plt.figure(figsize=(8,6))\n",
    "sns.barplot(x=0,y= 1, data=df_anio_retiradas, color=\"#8E588B\" )\n",
    "plt.title(\"Modelos retirados medios por año\")\n",
    "plt.xlabel(\"Años\")\n",
    "plt.ylabel(\"Modelos retirados\")"
   ]
  },
  {
   "cell_type": "code",
   "execution_count": 39,
   "metadata": {},
   "outputs": [],
   "source": [
    "cursor=conexion.cursor()\n",
    "query_anio_quejas=\"\"\"\n",
    "SELECT a.anio ,s.quejas\n",
    "FROM anios a \n",
    "INNER JOIN seguridad s ON a.id_anio = s.id_anio\n",
    "\"\"\"\n",
    "cursor.execute(query_anio_quejas)\n",
    "df_anio_quejas= pd.DataFrame(cursor.fetchall())"
   ]
  },
  {
   "cell_type": "code",
   "execution_count": 40,
   "metadata": {},
   "outputs": [
    {
     "data": {
      "text/html": [
       "<div>\n",
       "<style scoped>\n",
       "    .dataframe tbody tr th:only-of-type {\n",
       "        vertical-align: middle;\n",
       "    }\n",
       "\n",
       "    .dataframe tbody tr th {\n",
       "        vertical-align: top;\n",
       "    }\n",
       "\n",
       "    .dataframe thead th {\n",
       "        text-align: right;\n",
       "    }\n",
       "</style>\n",
       "<table border=\"1\" class=\"dataframe\">\n",
       "  <thead>\n",
       "    <tr style=\"text-align: right;\">\n",
       "      <th></th>\n",
       "      <th>0</th>\n",
       "      <th>1</th>\n",
       "    </tr>\n",
       "  </thead>\n",
       "  <tbody>\n",
       "    <tr>\n",
       "      <th>0</th>\n",
       "      <td>2011</td>\n",
       "      <td>236</td>\n",
       "    </tr>\n",
       "    <tr>\n",
       "      <th>1</th>\n",
       "      <td>2011</td>\n",
       "      <td>240</td>\n",
       "    </tr>\n",
       "  </tbody>\n",
       "</table>\n",
       "</div>"
      ],
      "text/plain": [
       "      0    1\n",
       "0  2011  236\n",
       "1  2011  240"
      ]
     },
     "execution_count": 40,
     "metadata": {},
     "output_type": "execute_result"
    }
   ],
   "source": [
    "df_anio_quejas.head(2)"
   ]
  },
  {
   "cell_type": "code",
   "execution_count": 109,
   "metadata": {},
   "outputs": [
    {
     "data": {
      "text/plain": [
       "Text(0, 0.5, 'Quejas')"
      ]
     },
     "execution_count": 109,
     "metadata": {},
     "output_type": "execute_result"
    },
    {
     "data": {
      "image/png": "[encoded data removed]",
      "text/plain": [
       "<Figure size 800x600 with 1 Axes>"
      ]
     },
     "metadata": {},
     "output_type": "display_data"
    }
   ],
   "source": [
    "plt.figure(figsize=(8,6))\n",
    "sns.barplot(x=0,y= 1, data=df_anio_quejas, color=\"#51275C\" )\n",
    "plt.title(\"Quejas medias por año\")\n",
    "plt.xlabel(\"Años\")\n",
    "plt.ylabel(\"Quejas\")"
   ]
  },
  {
   "cell_type": "code",
   "execution_count": 86,
   "metadata": {},
   "outputs": [],
   "source": [
    "cursor=conexion.cursor()\n",
    "query_comparacion_precios=\"\"\"\n",
    "SELECT w.precio ,sm.precio , mn.precio \n",
    "FROM provincias p \n",
    "INNER JOIN wallapop w ON p.id_provincia = w.id_provincia\n",
    "INNER JOIN modelos_nuevos mn ON p.id_provincia = mn.id_provincia\n",
    "INNER JOIN segunda_mano sm ON p.id_provincia = sm.id_provincia\n",
    "\"\"\"\n",
    "cursor.execute(query_comparacion_precios)\n",
    "df_comparacion_precios= pd.DataFrame(cursor.fetchall(),columns=['Wallapop', 'Segunda Mano', 'Modelos Nuevos'])"
   ]
  },
  {
   "cell_type": "code",
   "execution_count": null,
   "metadata": {},
   "outputs": [],
   "source": [
    "df_comparacion_precios\n",
    "df_melted = df_comparacion_precios.melt(var_name='Categoria', value_name='Precio')  #da formato largo en vez de formato ancho\n"
   ]
  },
  {
   "cell_type": "code",
   "execution_count": 87,
   "metadata": {},
   "outputs": [],
   "source": [
    "precio_medios = df_comparacion_precios.mean()\n",
    "df_precios = pd.DataFrame({\n",
    "    'Categoria': precio_medios.index,\n",
    "    'Precio Medio': precio_medios.values\n",
    "})\n"
   ]
  },
  {
   "cell_type": "code",
   "execution_count": 167,
   "metadata": {},
   "outputs": [
    {
     "data": {
      "image/png": "[encoded data removed]",
      "text/plain": [
       "<Figure size 1000x800 with 2 Axes>"
      ]
     },
     "metadata": {},
     "output_type": "display_data"
    }
   ],
   "source": [
    "fig, axes = plt.subplots(1, 2, figsize=(10, 8), sharey=True)\n",
    "\n",
    "sns.boxplot(ax=axes[0], x='Categoria', y='Precio', data=df_melted, palette=\"mako\")\n",
    "axes[0].set_title(\"Distribución de Precios por Categoría\")\n",
    "axes[0].set_xlabel(\"Categoría\")\n",
    "axes[0].set_ylabel(\"\")\n",
    "\n",
    "\n",
    "sns.barplot(ax=axes[1], x='Categoria', y='Precio Medio', data=df_precios, palette=\"mako\")\n",
    "axes[1].set_title(\"Media de precios por categoría\")\n",
    "axes[1].set_xlabel(\"Categoría\")\n",
    "axes[1].set_ylabel(\"Precio Medio (€)\")\n",
    "for container in axes[1].containers:\n",
    "    axes[1].bar_label(container, fmt=\"%.2f\",  padding=8) \n",
    "\n"
   ]
  },
  {
   "cell_type": "code",
   "execution_count": 127,
   "metadata": {},
   "outputs": [],
   "source": [
    "cursor=conexion.cursor()\n",
    "query_potencia_segunda=\"\"\"\n",
    "\n",
    "SELECT p.potencia , sm.\"version\"\n",
    "FROM potencias p \n",
    "INNER JOIN segunda_mano sm ON p.id_potencia = sm.id_potencia\n",
    "\n",
    "\"\"\"\n",
    "cursor.execute(query_potencia_segunda)\n",
    "df_potencia_segunda= pd.DataFrame(cursor.fetchall())"
   ]
  },
  {
   "cell_type": "code",
   "execution_count": 128,
   "metadata": {},
   "outputs": [],
   "source": [
    "potencia_media_segunda_mano=df_potencia_segunda[0].mean()"
   ]
  },
  {
   "cell_type": "code",
   "execution_count": 129,
   "metadata": {},
   "outputs": [],
   "source": [
    "cursor=conexion.cursor()\n",
    "query_potencia_nuevo=\"\"\"\n",
    "\n",
    "SELECT p.potencia , mn.\"version\"\n",
    "FROM potencias p \n",
    "INNER JOIN modelos_nuevos mn ON p.id_potencia = mn.id_potencia\n",
    "\n",
    "\n",
    "\"\"\"\n",
    "cursor.execute(query_potencia_nuevo)\n",
    "df_potencia_nuevo= pd.DataFrame(cursor.fetchall())"
   ]
  },
  {
   "cell_type": "code",
   "execution_count": 130,
   "metadata": {},
   "outputs": [],
   "source": [
    "potencia_media_nuevos=df_potencia_nuevo[0].mean()"
   ]
  },
  {
   "cell_type": "code",
   "execution_count": 131,
   "metadata": {},
   "outputs": [],
   "source": [
    "\n",
    "df_potencia_media = pd.DataFrame({\n",
    "    'Categoria': ['Coches Nuevos', 'Coches de Segunda Mano'],\n",
    "    'Potencia Media': [potencia_media_nuevos, potencia_media_segunda_mano]\n",
    "})\n",
    "\n",
    "\n",
    "df_combined = pd.concat([df_datos_modelos_nuevos.assign(Categoria='Coches Nuevos'),\n",
    "                         df_segunda_mano.assign(Categoria='Coches de Segunda Mano')])\n"
   ]
  },
  {
   "cell_type": "code",
   "execution_count": 168,
   "metadata": {},
   "outputs": [
    {
     "data": {
      "text/plain": [
       "Text(0, 0.5, 'Potencia Media')"
      ]
     },
     "execution_count": 168,
     "metadata": {},
     "output_type": "execute_result"
    },
    {
     "data": {
      "image/png": "[encoded data removed]",
      "text/plain": [
       "<Figure size 600x500 with 1 Axes>"
      ]
     },
     "metadata": {},
     "output_type": "display_data"
    }
   ],
   "source": [
    "plt.figure(figsize=(6,5))\n",
    "sns.barplot( x='Categoria', y='Potencia Media', data=df_potencia_media, color=\"#8F2D1B\")\n",
    "plt.title(\"Potencia Media por Categoría\")\n",
    "plt.xlabel(\"Categoría\")\n",
    "plt.ylabel(\"Potencia Media\")\n"
   ]
  },
  {
   "cell_type": "code",
   "execution_count": 71,
   "metadata": {},
   "outputs": [],
   "source": [
    "cursor=conexion.cursor()\n",
    "query_numero_motores=\"\"\"\n",
    "SELECT m.\"motor\" , id_modelo_nuevo , id_segunda_mano \n",
    "FROM motores m \n",
    "INNER JOIN segunda_mano sm ON m.id_motor = sm.id_motor\n",
    "INNER JOIN modelos_nuevos mn ON m.id_motor = mn.id_motor\n",
    "\"\"\"\n",
    "cursor.execute(query_numero_motores)\n",
    "df_numero_motores= pd.DataFrame(cursor.fetchall())"
   ]
  },
  {
   "cell_type": "code",
   "execution_count": 73,
   "metadata": {},
   "outputs": [
    {
     "data": {
      "text/html": [
       "<div>\n",
       "<style scoped>\n",
       "    .dataframe tbody tr th:only-of-type {\n",
       "        vertical-align: middle;\n",
       "    }\n",
       "\n",
       "    .dataframe tbody tr th {\n",
       "        vertical-align: top;\n",
       "    }\n",
       "\n",
       "    .dataframe thead th {\n",
       "        text-align: right;\n",
       "    }\n",
       "</style>\n",
       "<table border=\"1\" class=\"dataframe\">\n",
       "  <thead>\n",
       "    <tr style=\"text-align: right;\">\n",
       "      <th></th>\n",
       "      <th>0</th>\n",
       "      <th>1</th>\n",
       "      <th>2</th>\n",
       "    </tr>\n",
       "  </thead>\n",
       "  <tbody>\n",
       "    <tr>\n",
       "      <th>0</th>\n",
       "      <td>Gasolina</td>\n",
       "      <td>111</td>\n",
       "      <td>1</td>\n",
       "    </tr>\n",
       "    <tr>\n",
       "      <th>1</th>\n",
       "      <td>Gasolina</td>\n",
       "      <td>110</td>\n",
       "      <td>1</td>\n",
       "    </tr>\n",
       "  </tbody>\n",
       "</table>\n",
       "</div>"
      ],
      "text/plain": [
       "          0    1  2\n",
       "0  Gasolina  111  1\n",
       "1  Gasolina  110  1"
      ]
     },
     "execution_count": 73,
     "metadata": {},
     "output_type": "execute_result"
    }
   ],
   "source": [
    "df_numero_motores.head(2)"
   ]
  },
  {
   "cell_type": "code",
   "execution_count": 160,
   "metadata": {},
   "outputs": [
    {
     "data": {
      "image/png": "[encoded data removed]",
      "text/plain": [
       "<Figure size 1600x600 with 2 Axes>"
      ]
     },
     "metadata": {},
     "output_type": "display_data"
    }
   ],
   "source": [
    "fig, axes = plt.subplots(1, 2, figsize=(16, 6), sharey=True)\n",
    "\n",
    "\n",
    "sns.barplot(ax=axes[0], x=0, y=1, data=df_numero_motores, color=\"#53A68E\")\n",
    "axes[0].set_title(\"Número medio de modelos nuevos por motor\")\n",
    "axes[0].set_xlabel(\"Motor\")\n",
    "axes[0].set_ylabel(\"Modelos nuevos\")\n",
    "for container in axes[0].containers:\n",
    "    axes[0].bar_label(container, fmt=\"%.2f\",  padding=8) \n",
    "\n",
    "sns.boxplot(ax=axes[1], x=0, y=1, data=df_numero_motores, color=\"#53A68E\")\n",
    "axes[1].set_title(\"Distribución de modelos nuevos por motor\")\n",
    "axes[1].set_xlabel(\"Motor\")\n",
    "axes[1].set_ylabel(\"Modelos nuevos\")\n",
    "for container in axes[0].containers:\n",
    "    axes[1].bar_label(container, fmt=\"%.2f\") \n",
    "\n",
    "\n"
   ]
  },
  {
   "cell_type": "code",
   "execution_count": 157,
   "metadata": {},
   "outputs": [
    {
     "data": {
      "image/png": "[encoded data removed]",
      "text/plain": [
       "<Figure size 1600x600 with 2 Axes>"
      ]
     },
     "metadata": {},
     "output_type": "display_data"
    }
   ],
   "source": [
    "fig, axes = plt.subplots(1, 2, figsize=(16, 6), sharey=True)\n",
    "\n",
    "\n",
    "sns.barplot(ax=axes[0], x=0, y=2, data=df_numero_motores, color=\"#3F768C\" )\n",
    "axes[0].set_title(\"Número medio de modelos de segunda mano por motor\")\n",
    "axes[0].set_xlabel(\"Motor\")\n",
    "axes[0].set_ylabel(\"Modelos segunda mano\")\n",
    "for container in axes[0].containers:\n",
    "    axes[0].bar_label(container, fmt=\"%.2f\",  padding=8) \n",
    "\n",
    "\n",
    "sns.boxplot(ax=axes[1], x=0, y=2, data=df_numero_motores, color=\"#3F768C\" )\n",
    "axes[1].set_title(\"Distribución de modelos de segunda mano por motor\")\n",
    "axes[1].set_xlabel(\"Motor\")\n",
    "axes[1].set_ylabel(\"Modelos segunda mano\")\n",
    "for container in axes[0].containers:\n",
    "    axes[1].bar_label(container, fmt=\"%.2f\") "
   ]
  }
 ],
 "metadata": {
  "kernelspec": {
   "display_name": "proyecto5_entorno",
   "language": "python",
   "name": "python3"
  },
  "language_info": {
   "codemirror_mode": {
    "name": "ipython",
    "version": 3
   },
   "file_extension": ".py",
   "mimetype": "text/x-python",
   "name": "python",
   "nbconvert_exporter": "python",
   "pygments_lexer": "ipython3",
   "version": "3.11.9"
  }
 },
 "nbformat": 4,
 "nbformat_minor": 2
}
