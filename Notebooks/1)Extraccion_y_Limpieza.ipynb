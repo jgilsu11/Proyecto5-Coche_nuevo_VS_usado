{
 "cells": [
  {
   "cell_type": "code",
   "execution_count": 1,
   "metadata": {},
   "outputs": [],
   "source": [
    "import pandas as pd\n",
    "import selenium\n",
    "import webdriver_manager\n",
    "from datetime import datetime \n",
    "\n",
    "from selenium.webdriver.support.ui import WebDriverWait\n",
    "from selenium.webdriver.common.by import By\n",
    "from selenium.webdriver.support import expected_conditions as EC\n",
    "\n",
    "from selenium import webdriver  # Selenium es una herramienta para automatizar la interacción con navegadores web.\n",
    "from webdriver_manager.chrome import ChromeDriverManager  # ChromeDriverManager gestiona la instalación del controlador de Chrome.\n",
    "from selenium.webdriver.common.keys import Keys  # Keys es útil para simular eventos de teclado en Selenium.\n",
    "from selenium.webdriver.support.ui import Select  # Select se utiliza para interactuar con elementos <select> en páginas web.\n",
    "from selenium.webdriver.support import expected_conditions as EC \n",
    "from time import sleep\n",
    "import pandas as pd\n",
    "from selenium import webdriver\n",
    "\n",
    "from tqdm import tqdm\n",
    "import os\n",
    "from bs4 import BeautifulSoup\n",
    "import requests\n",
    "import re\n",
    "\n",
    "import zipfile\n",
    "import shutil\n",
    "\n",
    "import os\n",
    "\n",
    "\n",
    "import pandas as pd\n",
    "\n",
    "import matplotlib.pyplot as plt\n",
    "import seaborn as sns\n",
    "\n",
    "import re\n",
    "\n",
    "pd.set_option('display.max_columns', None) # para poder visualizar todas las columnas de los DataFrames\n",
    "\n",
    "import json\n",
    "# Ignorar warings\n",
    "import warnings\n",
    "warnings.filterwarnings(\"ignore\")\n",
    "\n",
    "import dotenv\n",
    "from dotenv import load_dotenv\n",
    "load_dotenv()\n",
    "\n",
    "import psycopg2\n",
    "from psycopg2 import sql\n",
    "pd.set_option('display.max_columns', None)\n",
    "\n",
    "import sys\n",
    "sys.path.append(\"../\")  "
   ]
  },
  {
   "cell_type": "code",
   "execution_count": null,
   "metadata": {},
   "outputs": [],
   "source": [
    "keywallapop= os.getenv(\"keywallapop\")"
   ]
  },
  {
   "cell_type": "markdown",
   "metadata": {},
   "source": [
    "Cuidado, de wallapop solo hay 20 llamadas mensuales"
   ]
  },
  {
   "cell_type": "code",
   "execution_count": null,
   "metadata": {},
   "outputs": [],
   "source": [
    "\n",
    "url = \"https://wallapop3.p.rapidapi.com/search\"\n",
    "\n",
    "querystring = {\"query\":\"nissan\",\"minPrice\":\"2000\",\"sort\":\"mostRecent\"}\n",
    "\n",
    "headers = {\n",
    "\t\"x-rapidapi-key\": keywallapop,\n",
    "\t\"x-rapidapi-host\": \"wallapop3.p.rapidapi.com\"\n",
    "}\n",
    "\n",
    "response = requests.get(url, headers=headers, params=querystring)\n",
    "\n",
    "resposa=response.json()"
   ]
  },
  {
   "cell_type": "code",
   "execution_count": null,
   "metadata": {},
   "outputs": [],
   "source": [
    "# with open(\"../src\", \"w\") as json_file:\n",
    "#     json.dump(resposa, json_file, indent=4)"
   ]
  },
  {
   "cell_type": "code",
   "execution_count": null,
   "metadata": {},
   "outputs": [],
   "source": [
    "len (resposa)"
   ]
  },
  {
   "cell_type": "code",
   "execution_count": null,
   "metadata": {},
   "outputs": [],
   "source": [
    "lista=[]\n",
    "df_final=pd.DataFrame()\n",
    "for i in range(0,40):\n",
    "    id_wallapop=resposa[i][\"id\"]\n",
    "    id_user=resposa[i][\"user_id\"]\n",
    "    version=resposa[i][\"title\"]\n",
    "    descripcion=resposa[i][\"description\"]\n",
    "    id_categoria=resposa[i][\"category_id\"]\n",
    "    precio=resposa[i][\"price\"][\"amount\"]\n",
    "    latitud=resposa[i][\"location\"][\"latitude\"]\n",
    "    longitud=resposa[i][\"location\"][\"longitude\"]\n",
    "    ciudad=resposa[i][\"location\"][\"city\"]\n",
    "    provincia=resposa[i][\"location\"][\"region2\"]\n",
    "    envio_disponible=resposa[i][\"shipping\"][\"item_is_shippable\"]\n",
    "    reparado=resposa[i][\"is_refurbished\"][\"flag\"]\n",
    "\n",
    "    lista.append([id_wallapop,id_user,title,descripcion,id_category,precio,latitud, longitud,ciudad,provincia,envio_disponible,reparado] )\n",
    "    df=pd.DataFrame(lista)\n",
    "    df_final= pd.concat([df_final,df])"
   ]
  },
  {
   "cell_type": "code",
   "execution_count": null,
   "metadata": {},
   "outputs": [],
   "source": [
    "\n",
    "dicc_encabezados={0:\"id_wallapop\",\n",
    "                  1: \"id_user\",\n",
    "                  2: \"version\",\n",
    "                  3: \"descripcion\",\n",
    "                  4: \"id_categoria\",\n",
    "                  5: \"precio\",\n",
    "                  6: \"latitud\",\n",
    "                  7: \"longitud\",\n",
    "                  8: \"ciudad\",\n",
    "                  9: \"provincia\",\n",
    "                  10: \"envio_disponible\",\n",
    "                  11: \"reparado\"}\n",
    "df_final.columns= df_final.columns.map(dicc_encabezados)"
   ]
  },
  {
   "cell_type": "code",
   "execution_count": null,
   "metadata": {},
   "outputs": [],
   "source": [
    "df_final.sample(3)"
   ]
  },
  {
   "cell_type": "code",
   "execution_count": null,
   "metadata": {},
   "outputs": [],
   "source": [
    "df_final.shape"
   ]
  },
  {
   "cell_type": "markdown",
   "metadata": {},
   "source": [
    "ESTA LISTO PARA LA LIMPIEZA LO DE WALLAPOP"
   ]
  },
  {
   "cell_type": "markdown",
   "metadata": {},
   "source": [
    "**Tratamiento de duplicados y nulos Wallapop**  \n",
    "*NULOS*  \n",
    "\n",
    "No hay nulos\n",
    "\n",
    "*DUPLICADOS*  \n",
    "\n",
    "Me he fijado que tiene muchos duplicados y que por alguna razon en la extraccion se han repetido con lo que sería necesario eliminarlos (o los users han subido el mismo anuncio muchas veces cosa que dudo porque wallapop no deja)\n",
    "\n",
    "*DATOS INNECESARIOS*  \n",
    "\n",
    "Eliminamos las columnas que no nos interesan y que aportan más problemas que información   \n",
    "\n",
    "He intentado quedarme con el nombre de la version en una nueva columna pero hay demasiados anuncios que no ponen el nombre de la version entonces no me valía.\n",
    "\n",
    "\n",
    "*Importante a tener en cuenta*  \n",
    "\n",
    "Al final me quedo solo con la provincia de Madrid porque el resto del proyecto lo estoy haciendo en base a Madrid provincia\n"
   ]
  },
  {
   "cell_type": "markdown",
   "metadata": {},
   "source": [
    "SOLO NOS INTESESA:  \n",
    "- id (pasaré a numérico)  \n",
    "- user_id  \n",
    "- title  \n",
    "- description  \n",
    "- category_id (lo quiero para filtrar por 100(codigo correspondiente a coches)para que no me coja otros códigos que son de carroceria etc)  \n",
    "- price (que está en euros)  \n",
    "- location (por si las moscas)  \n",
    "- capacidad de traslado (no creo que me lo quede)  \n",
    "- refurbished(igual la mantengo pero los true los paso a 1 y los false a 0 porque en sql existe el bit pero no tiene valores true)"
   ]
  },
  {
   "cell_type": "code",
   "execution_count": null,
   "metadata": {},
   "outputs": [],
   "source": [
    "df_final.duplicated().sum()"
   ]
  },
  {
   "cell_type": "code",
   "execution_count": null,
   "metadata": {},
   "outputs": [],
   "source": [
    "df_final.drop_duplicates(inplace=True)"
   ]
  },
  {
   "cell_type": "markdown",
   "metadata": {},
   "source": [
    "Ahora que ya he comprobado que solo hay categoría coche, la elimino"
   ]
  },
  {
   "cell_type": "code",
   "execution_count": null,
   "metadata": {},
   "outputs": [],
   "source": [
    "df_final[\"id_categoria\"].unique()"
   ]
  },
  {
   "cell_type": "code",
   "execution_count": null,
   "metadata": {},
   "outputs": [],
   "source": [
    "df_final[\"version\"].unique()"
   ]
  },
  {
   "cell_type": "code",
   "execution_count": null,
   "metadata": {},
   "outputs": [],
   "source": [
    "df_final[\"envio_disponible\"].unique()"
   ]
  },
  {
   "cell_type": "code",
   "execution_count": null,
   "metadata": {},
   "outputs": [],
   "source": [
    "df_final[\"reparado\"].unique()"
   ]
  },
  {
   "cell_type": "code",
   "execution_count": null,
   "metadata": {},
   "outputs": [],
   "source": [
    "df_final=df_final.drop(columns= [\"id_wallapop\",\"id_user\",\"id_categoria\", \"version\", \"envio_disponible\", \"reparado\"])"
   ]
  },
  {
   "cell_type": "code",
   "execution_count": null,
   "metadata": {},
   "outputs": [],
   "source": [
    "df_final.info()"
   ]
  },
  {
   "cell_type": "code",
   "execution_count": null,
   "metadata": {},
   "outputs": [],
   "source": [
    "df_final.sample(3)"
   ]
  },
  {
   "cell_type": "code",
   "execution_count": null,
   "metadata": {},
   "outputs": [],
   "source": [
    "df_final=df_final[df_final[\"provincia\"]==\"Madrid\"]\n",
    "df_final.reset_index(drop=True, inplace=True)"
   ]
  },
  {
   "cell_type": "markdown",
   "metadata": {},
   "source": [
    "Añado un id"
   ]
  },
  {
   "cell_type": "code",
   "execution_count": null,
   "metadata": {},
   "outputs": [],
   "source": [
    "df_final.index=df_final.index+1\n",
    "df_final.reset_index(inplace= True)"
   ]
  },
  {
   "cell_type": "code",
   "execution_count": null,
   "metadata": {},
   "outputs": [],
   "source": [
    "\n",
    "dicc_encabezados0={\"index\":\"id_wallapop\",\n",
    "                  \"descripcion\": \"descripcion\",\n",
    "                  \"precio\": \"precio\",\n",
    "                  \"latitud\": \"latitud\",\n",
    "                  \"longitud\": \"longitud\",\n",
    "                  \"ciudad\": \"ciudad\",\n",
    "                  \"provincia\": \"provincia\"}\n",
    "\n",
    "df_final.columns=df_final.columns.map(dicc_encabezados0)"
   ]
  },
  {
   "cell_type": "code",
   "execution_count": null,
   "metadata": {},
   "outputs": [],
   "source": [
    "df_final.to_csv(\"../datos/datos_wallapop.csv\")\n",
    "df_wallapop=pd.read_csv(\"../datos/datos_wallapop.csv\", index_col= \"Unnamed: 0\" )"
   ]
  },
  {
   "cell_type": "code",
   "execution_count": 10,
   "metadata": {},
   "outputs": [
    {
     "data": {
      "text/html": [
       "<div>\n",
       "<style scoped>\n",
       "    .dataframe tbody tr th:only-of-type {\n",
       "        vertical-align: middle;\n",
       "    }\n",
       "\n",
       "    .dataframe tbody tr th {\n",
       "        vertical-align: top;\n",
       "    }\n",
       "\n",
       "    .dataframe thead th {\n",
       "        text-align: right;\n",
       "    }\n",
       "</style>\n",
       "<table border=\"1\" class=\"dataframe\">\n",
       "  <thead>\n",
       "    <tr style=\"text-align: right;\">\n",
       "      <th></th>\n",
       "      <th>id_wallapop</th>\n",
       "      <th>descripcion</th>\n",
       "      <th>precio</th>\n",
       "      <th>latitud</th>\n",
       "      <th>longitud</th>\n",
       "      <th>ciudad</th>\n",
       "      <th>provincia</th>\n",
       "    </tr>\n",
       "  </thead>\n",
       "  <tbody>\n",
       "    <tr>\n",
       "      <th>0</th>\n",
       "      <td>1</td>\n",
       "      <td>nisan almera tino del 2004 ba por cadena le ve...</td>\n",
       "      <td>2200</td>\n",
       "      <td>40.301646</td>\n",
       "      <td>-3.441828</td>\n",
       "      <td>Arganda del Rey</td>\n",
       "      <td>Madrid</td>\n",
       "    </tr>\n",
       "    <tr>\n",
       "      <th>1</th>\n",
       "      <td>2</td>\n",
       "      <td>vendo mi coche en perfecto estado de motor y d...</td>\n",
       "      <td>6500</td>\n",
       "      <td>40.620256</td>\n",
       "      <td>-3.910636</td>\n",
       "      <td>Hoyo de Manzanares</td>\n",
       "      <td>Madrid</td>\n",
       "    </tr>\n",
       "    <tr>\n",
       "      <th>2</th>\n",
       "      <td>3</td>\n",
       "      <td>coche usado por mi mujer para ir a trabajar.\\n...</td>\n",
       "      <td>11500</td>\n",
       "      <td>40.494190</td>\n",
       "      <td>-3.961537</td>\n",
       "      <td>Villanueva del Pardillo</td>\n",
       "      <td>Madrid</td>\n",
       "    </tr>\n",
       "    <tr>\n",
       "      <th>3</th>\n",
       "      <td>4</td>\n",
       "      <td>se vende nissan patrol k260 embrague nuevo , b...</td>\n",
       "      <td>4500</td>\n",
       "      <td>40.419014</td>\n",
       "      <td>-3.707443</td>\n",
       "      <td>Madrid</td>\n",
       "      <td>Madrid</td>\n",
       "    </tr>\n",
       "  </tbody>\n",
       "</table>\n",
       "</div>"
      ],
      "text/plain": [
       "   id_wallapop                                        descripcion  precio  \\\n",
       "0            1  nisan almera tino del 2004 ba por cadena le ve...    2200   \n",
       "1            2  vendo mi coche en perfecto estado de motor y d...    6500   \n",
       "2            3  coche usado por mi mujer para ir a trabajar.\\n...   11500   \n",
       "3            4  se vende nissan patrol k260 embrague nuevo , b...    4500   \n",
       "\n",
       "     latitud  longitud                   ciudad provincia  \n",
       "0  40.301646 -3.441828          Arganda del Rey    Madrid  \n",
       "1  40.620256 -3.910636       Hoyo de Manzanares    Madrid  \n",
       "2  40.494190 -3.961537  Villanueva del Pardillo    Madrid  \n",
       "3  40.419014 -3.707443                   Madrid    Madrid  "
      ]
     },
     "execution_count": 10,
     "metadata": {},
     "output_type": "execute_result"
    }
   ],
   "source": [
    "df_wallapop.head(4)"
   ]
  },
  {
   "cell_type": "markdown",
   "metadata": {},
   "source": [
    "API seguridad del modelo"
   ]
  },
  {
   "cell_type": "code",
   "execution_count": null,
   "metadata": {},
   "outputs": [],
   "source": [
    "url_anio = f\"https://api.nhtsa.gov/SafetyRatings/modelyear/2013/make/nissan\"\n",
    "response3 = requests.get(url_anio)\n",
    "if response3.status_code == 200:\n",
    "    modelos = [diccio[\"Model\"] for diccio in response3.json().get(\"Results\", [])]\n",
    "else:\n",
    "    print(f\"Error: {response3.status_code} - {response3.text}\")\n",
    "    \n"
   ]
  },
  {
   "cell_type": "code",
   "execution_count": null,
   "metadata": {},
   "outputs": [],
   "source": [
    "\n",
    "\n",
    "df_ratings = pd.DataFrame()\n",
    "\n",
    "for anio in range(2011, 2026):\n",
    "    url_anio = f\"https://api.nhtsa.gov/SafetyRatings/modelyear/{anio}/make/nissan\"\n",
    "    response3 = requests.get(url_anio)\n",
    "    \n",
    "    #verifica si no da error\n",
    "    if response3.status_code == 200:\n",
    "        try:\n",
    "            modelos = [diccio[\"Model\"] for diccio in response3.json().get(\"Results\", [])]\n",
    "        except (KeyError, ValueError) as e:\n",
    "            print(f\"Error al obtener modelos para el año {anio}: {e}\")\n",
    "            continue\n",
    "    else:\n",
    "        print(f\"Error en la solicitud para el año {anio}: {response3.status_code}\")\n",
    "        continue\n",
    "\n",
    "    modelos_ids = []\n",
    "    for modelo in modelos:\n",
    "        url3 = f\"https://api.nhtsa.gov/SafetyRatings/modelyear/{anio}/make/nissan/model/{modelo}\"\n",
    "        response = requests.get(url3)\n",
    "\n",
    "        if response.status_code == 200:\n",
    "            try:\n",
    "                modelos_ids.extend([diccio[\"VehicleId\"] for diccio in response.json().get(\"Results\", [])])\n",
    "            except (KeyError, ValueError) as e:\n",
    "                print(f\"Error al obtener VehicleId para modelo {modelo} en el año {anio}: {e}\")\n",
    "                continue\n",
    "        else:\n",
    "            print(f\"Error en la solicitud para modelo {modelo}, año {anio}: {response.status_code}\")\n",
    "            continue\n",
    "\n",
    "    #conseguir ratings con modelos_ids\n",
    "    for modelo_id in modelos_ids:\n",
    "        url2 = f\"https://api.nhtsa.gov/SafetyRatings/VehicleId/{modelo_id}\"\n",
    "        response = requests.get(url2)\n",
    "\n",
    "        if response.status_code == 200:\n",
    "            try:\n",
    "                df = pd.DataFrame(response.json().get(\"Results\", []))\n",
    "                df_ratings = pd.concat([df_ratings, df], ignore_index=True)\n",
    "            except (KeyError, ValueError) as e:\n",
    "                print(f\"Error al obtener ratings para VehicleId {modelo_id}: {e}\")\n",
    "        else:\n",
    "            print(f\"Error en la solicitud para VehicleId {modelo_id}: {response.status_code}\")\n"
   ]
  },
  {
   "cell_type": "code",
   "execution_count": null,
   "metadata": {},
   "outputs": [],
   "source": [
    "df_ratings.sample(4)"
   ]
  },
  {
   "cell_type": "code",
   "execution_count": null,
   "metadata": {},
   "outputs": [],
   "source": [
    "df_ratings.info()"
   ]
  },
  {
   "cell_type": "code",
   "execution_count": null,
   "metadata": {},
   "outputs": [],
   "source": [
    "df_ratings.to_csv(\"../datos/datos_seguridad.csv\")\n",
    "df_seguridad=pd.read_csv(\"../datos/datos_seguridad.csv\", index_col= \"Unnamed: 0\" )"
   ]
  },
  {
   "cell_type": "markdown",
   "metadata": {},
   "source": [
    "ESTÁ listo para la limpieza lo de SEGURIDAD"
   ]
  },
  {
   "cell_type": "markdown",
   "metadata": {},
   "source": [
    "**Tratamiento de duplicados y nulos Seguridad**  \n",
    "*NULOS*  \n",
    "\n",
    "Había muchos Not Rated que convertí en nulos para eliminarlos porque si no tiene rating, no nos aporta nada de valor \n",
    "\n",
    "*DUPLICADOS*  \n",
    "\n",
    "No tiene duplicados\n",
    "\n",
    "\n",
    "*DATOS INNECESARIOS*  \n",
    "\n",
    "Eliminamos las columnas que no nos interesan y que aportan más problemas que información \n"
   ]
  },
  {
   "cell_type": "code",
   "execution_count": null,
   "metadata": {},
   "outputs": [],
   "source": [
    "df_seguridad=df_seguridad.drop(columns= [\"VehiclePicture\",\"FrontCrashDriversideRating\",\"FrontCrashPassengersideRating\", \"SideCrashDriversideRating\", \"SideCrashPassengersideRating\", \"combinedSideBarrierAndPoleRating-Front\", \"combinedSideBarrierAndPoleRating-Rear\", \"RolloverRating2\", \"RolloverPossibility2\", \"dynamicTipResult\", \"FrontCrashPicture\", \"FrontCrashVideo\", \"SideCrashPicture\", \"SideCrashVideo\", \"SidePolePicture\", \"SidePoleVideo\"])"
   ]
  },
  {
   "cell_type": "code",
   "execution_count": null,
   "metadata": {},
   "outputs": [],
   "source": [
    "df_seguridad.sample(4)"
   ]
  },
  {
   "cell_type": "code",
   "execution_count": null,
   "metadata": {},
   "outputs": [],
   "source": [
    "df_seguridad[\"estabilidad_electronica\"].value_counts()"
   ]
  },
  {
   "cell_type": "code",
   "execution_count": null,
   "metadata": {},
   "outputs": [],
   "source": [
    "df_seguridad[\"aviso_choque_frontal\"].value_counts()"
   ]
  },
  {
   "cell_type": "code",
   "execution_count": null,
   "metadata": {},
   "outputs": [],
   "source": [
    "df_seguridad[\"aviso_desvio_carril\"].value_counts()"
   ]
  },
  {
   "cell_type": "code",
   "execution_count": null,
   "metadata": {},
   "outputs": [],
   "source": [
    "df_seguridad.replace(\"Not Rated\", pd.NA, inplace=True)\n",
    "\n",
    "columnas_rating = [\"OverallRating\", \"OverallFrontCrashRating\", \"OverallSideCrashRating\",\"sideBarrierRating-Overall\", \"RolloverRating\", \"SidePoleCrashRating\"]\n",
    "df_seguridad.dropna(subset=columnas_rating, inplace=True)\n",
    "df_seguridad.reset_index(drop= True, inplace=True)"
   ]
  },
  {
   "cell_type": "code",
   "execution_count": null,
   "metadata": {},
   "outputs": [],
   "source": [
    "df_seguridad[columnas_rating] = df_seguridad[columnas_rating].astype(int)"
   ]
  },
  {
   "cell_type": "code",
   "execution_count": null,
   "metadata": {},
   "outputs": [],
   "source": [
    "df_seguridad.duplicated().sum()"
   ]
  },
  {
   "cell_type": "code",
   "execution_count": null,
   "metadata": {},
   "outputs": [],
   "source": [
    "df_seguridad.info()"
   ]
  },
  {
   "cell_type": "markdown",
   "metadata": {},
   "source": [
    "Añado un id"
   ]
  },
  {
   "cell_type": "code",
   "execution_count": null,
   "metadata": {},
   "outputs": [],
   "source": [
    "df_seguridad.index= df_seguridad.index+1\n",
    "df_seguridad.reset_index(inplace=True)"
   ]
  },
  {
   "cell_type": "code",
   "execution_count": null,
   "metadata": {},
   "outputs": [],
   "source": [
    "dicc_encabezados={\n",
    "    \"index\": \"id_seguridad\",\n",
    "    \"OverallRating\": \"evaluacion_general\",\n",
    "    \"OverallFrontCrashRating\": \"evaluacion_choque_frontal\",\n",
    "    \"OverallSideCrashRating\": \"evaluacion_choque_lateral\",\n",
    "    \"sideBarrierRating-Overall\": \"evaluacion_barrera_lateral\",\n",
    "    \"RolloverRating\": \"evaluacion_vuelco\",\n",
    "    \"RolloverPossibility\": \"probabilidad_vuelco\",\n",
    "    \"SidePoleCrashRating\": \"evaluacion_choque_columna\",\n",
    "    \"NHTSAElectronicStabilityControl\": \"estabilidad_electronica\",\n",
    "    \"NHTSAForwardCollisionWarning\": \"aviso_choque_frontal\",\n",
    "    \"NHTSALaneDepartureWarning\": \"aviso_desvio_carril\",\n",
    "    \"ComplaintsCount\": \"quejas\",\n",
    "    \"RecallsCount\": \"retiradas\",\n",
    "    \"InvestigationCount\": \"investigaciones\",\n",
    "    \"ModelYear\": \"anio\",\n",
    "    \"Make\": \"marca\",\n",
    "    \"Model\": \"version\",\n",
    "    \"VehicleDescription\": \"descripcion\",\n",
    "    \"VehicleId\": \"vehiculo_id\"\n",
    "}\n",
    "            \n",
    "df_seguridad.columns=df_seguridad.columns.map(dicc_encabezados)"
   ]
  },
  {
   "cell_type": "code",
   "execution_count": null,
   "metadata": {},
   "outputs": [],
   "source": [
    "df_seguridad.to_csv(\"../datos/datos_seguridad.csv\")"
   ]
  },
  {
   "cell_type": "markdown",
   "metadata": {},
   "source": [
    "Empezamos con web scrapping de Quecochemecompro"
   ]
  },
  {
   "cell_type": "markdown",
   "metadata": {},
   "source": [
    "Este funciona sin duplicados(Primera tabla solo porque es donde están los modelos más simples y el cliente al que estamos intentando informar prioriza mucho el ahorro)"
   ]
  },
  {
   "cell_type": "code",
   "execution_count": null,
   "metadata": {},
   "outputs": [],
   "source": [
    "url_nuevo = \"https://www.quecochemecompro.com/\"\n",
    "\n",
    "driver=webdriver.Chrome()\n",
    "driver.maximize_window()\n",
    "driver.get(url_nuevo)\n",
    "\n",
    "#acepto cookies\n",
    "driver.find_element(\"css selector\", \"#qc-cmp2-ui > div.qc-cmp2-footer.qc-cmp2-footer-overlay.qc-cmp2-footer-scrolled > div > button.css-y6krop\").click()\n",
    "sleep(2)\n",
    "#me meto en nuevos\n",
    "driver.find_element(\"css selector\", \"#header-menu > li:nth-child(1) > a\").click()\n",
    "\n",
    "\n",
    "sleep(2)\n",
    "#click en el buscador \n",
    "driver.find_element(\"css selector\", \"#header > div.tw-container.flex.gap-4 > div > div.hidden.lg\\:flex.w-60.ml-auto.mr-8.gap-4.items-center > form\").click()\n",
    "sleep(2)\n",
    "#meto nissan en el buscador\n",
    "driver.find_element(\"css selector\", \"#header > div.tw-container.flex.gap-4 > div > div.hidden.lg\\:flex.w-60.ml-auto.mr-8.gap-4.items-center > form > input\").send_keys(\"nissan\", Keys.ENTER)\n",
    "\n",
    "#saco los nombres para meterlos en una lista\n",
    "\n",
    "sopa_nuevos = BeautifulSoup(driver.page_source, 'html.parser')\n",
    "lista_nombre_modelo=[]\n",
    "for modelo in sopa_nuevos.find_all(\"li\", {\"class\":\"mx-auto w-full min-w-[20rem]\"}):\n",
    "    tag_a = modelo.find(\"a\", title=True)\n",
    "    if tag_a:\n",
    "        lista_nombre_modelo.append(tag_a[\"title\"])\n",
    "\n",
    "\n",
    "df_datos_modelos = pd.DataFrame()\n",
    "for n_modelo in range(1, len(lista_nombre_modelo) + 1):\n",
    "    sleep(2)\n",
    "    # Hacer click en el modelo específico\n",
    "    driver.find_element(\"css selector\", f\"#results > ul > li:nth-child({n_modelo}) > div > div.relative.z-10 > div.flex.justify-between.items-end.py-3.leading-5.text-17 > div:nth-child(1) > a\").click()\n",
    "    sopa_tabla = BeautifulSoup(driver.page_source, 'html.parser')\n",
    "    sleep(2)\n",
    "    df_tablas=pd.DataFrame()\n",
    "    \n",
    "    try:  # Encontrar la tabla de datos\n",
    "        \n",
    "        sleep(2) #hace click por si hay más tablas\n",
    "\n",
    "        try:\n",
    "            driver.find_element(\"css selector\", f\"#versions > div > div:nth-child(2) > table > tfoot > tr > td > ul > li:nth-child(2) > a\").click()\n",
    "            \n",
    "        except:\n",
    "            # Si no encuentra el selector con nth-child(2), intenta con nth-child(3)\n",
    "            \n",
    "            driver.find_element(\"css selector\", f\"#versions > div > div:nth-child(3) > table > tfoot > tr > td > ul > li:nth-child(2) > a\").click()\n",
    "            \n",
    "        tabla = sopa_tabla.find(\"table\")  #a lo mejor no me coge en algunas porque hay otra tabla                \n",
    "        \n",
    "        encabezados = [th.get_text(strip=True) for th in tabla.find_all(\"thead\")[0].find_all(\"th\")]\n",
    "\n",
    "        filas = []\n",
    "        for tr in tabla.find_all(\"tbody\")[0].find_all(\"tr\"):\n",
    "            filas.append([td.get_text(strip=True) for td in tr.find_all(\"td\")])\n",
    "\n",
    "        df_tabla = pd.DataFrame(filas, columns=encabezados)\n",
    "        df_tabla[\"Modelo\"] = lista_nombre_modelo[n_modelo - 1]\n",
    "        df_tablas= pd.concat([df_tablas, df_tabla])\n",
    "\n",
    "\n",
    "\n",
    "\n",
    "        df_datos_modelos= pd.concat([df_datos_modelos, df_tablas], ignore_index=True)\n",
    "\n",
    "    except:\n",
    "        \n",
    "        driver.back()\n",
    "        continue\n",
    "        \n",
    "    driver.back()    \n",
    "\n",
    "\n"
   ]
  },
  {
   "cell_type": "code",
   "execution_count": null,
   "metadata": {},
   "outputs": [],
   "source": [
    "df_datos_modelos.sample(3)"
   ]
  },
  {
   "cell_type": "code",
   "execution_count": null,
   "metadata": {},
   "outputs": [],
   "source": [
    "df_datos_modelos.to_csv(\"../datos/datos_modelos_nuevos.csv\")\n",
    "df_datos_modelos_nuevos=pd.read_csv(\"../datos/datos_modelos_nuevos.csv\", index_col= \"Unnamed: 0\" )"
   ]
  },
  {
   "cell_type": "markdown",
   "metadata": {},
   "source": [
    "Coches nuevos listos para limpiar"
   ]
  },
  {
   "cell_type": "markdown",
   "metadata": {},
   "source": [
    "**Tratamiento de duplicados y nulos Nuevos**  \n",
    "*NULOS*  \n",
    "\n",
    "Hay nulos en consumo y autonomía asique decido meter los valores de autonomia en los nan de consumo (porque corresponden a los coches electricos) y elimino la columna autonomía.  \n",
    "\n",
    "Finalmente nos quedamos sin ningun nulo sin necesidad de hacer un dropna\n",
    "\n",
    "*DUPLICADOS*  \n",
    "\n",
    "No tiene duplicados\n",
    "\n",
    "\n",
    "*DATOS INNECESARIOS*  \n",
    "\n",
    "También elimino la columna etiqueta y oferta ya que no se ofrecen información relevante  \n",
    "\n",
    "En la columna de Consumo me he fijado que hay 5 valores con \"-\" lo que no me permite formatear esa columna(dado que son tan pocos, voy a eliminarlos porque al tener la autonomía en la misma columna la media no es representativa)"
   ]
  },
  {
   "cell_type": "code",
   "execution_count": null,
   "metadata": {},
   "outputs": [],
   "source": [
    "df_datos_modelos_nuevos.sample(5)"
   ]
  },
  {
   "cell_type": "code",
   "execution_count": null,
   "metadata": {},
   "outputs": [],
   "source": [
    "df_datos_modelos_nuevos[\"Consumo\"] = df_datos_modelos_nuevos[\"Consumo\"].fillna(df_datos_modelos_nuevos[\"Autonomía\"])\n"
   ]
  },
  {
   "cell_type": "code",
   "execution_count": null,
   "metadata": {},
   "outputs": [],
   "source": [
    "df_datos_modelos_nuevos=df_datos_modelos_nuevos.drop(columns= [\"Etiqueta\",\"Oferta\",\"Autonomía\"])"
   ]
  },
  {
   "cell_type": "code",
   "execution_count": null,
   "metadata": {},
   "outputs": [],
   "source": [
    "df_datos_modelos_nuevos[\"Consumo\"]=df_datos_modelos_nuevos[\"Consumo\"].str.replace(\"l/100Km\", \"\").str.replace(\",\",\".\").str.replace(\" Km\", \"\")\n",
    "df_datos_modelos_nuevos[\"PVP\"]=df_datos_modelos_nuevos[\"PVP\"].str.replace(\"€\", \"\").str.replace(\".\", \"\")"
   ]
  },
  {
   "cell_type": "code",
   "execution_count": null,
   "metadata": {},
   "outputs": [],
   "source": [
    "df_datos_modelos_nuevos.duplicated().sum()"
   ]
  },
  {
   "cell_type": "code",
   "execution_count": null,
   "metadata": {},
   "outputs": [],
   "source": [
    "df_datos_modelos_nuevos=df_datos_modelos_nuevos[df_datos_modelos_nuevos[\"Consumo\"]!= \"-\"]"
   ]
  },
  {
   "cell_type": "code",
   "execution_count": null,
   "metadata": {},
   "outputs": [],
   "source": [
    "df_datos_modelos_nuevos[\"PVP\"]=df_datos_modelos_nuevos[\"PVP\"].astype(int)\n",
    "df_datos_modelos_nuevos[\"Consumo\"]=df_datos_modelos_nuevos[\"Consumo\"].astype(float)"
   ]
  },
  {
   "cell_type": "markdown",
   "metadata": {},
   "source": [
    "Añado un id"
   ]
  },
  {
   "cell_type": "code",
   "execution_count": null,
   "metadata": {},
   "outputs": [],
   "source": [
    "df_datos_modelos_nuevos.index= df_datos_modelos_nuevos.index+1\n",
    "df_datos_modelos_nuevos.reset_index(inplace=True)"
   ]
  },
  {
   "cell_type": "code",
   "execution_count": null,
   "metadata": {},
   "outputs": [],
   "source": [
    "dicc_encabezados1={\"index\":\"id_modelo_nuevo\",\n",
    "                    \"Versión\":\"version\",\n",
    "                    \"Puertas\": \"puertas\",\n",
    "                    \"CV\": \"potencia\",\n",
    "                    \"Consumo\": \"consumo\",\n",
    "                    \"Motor\": \"motor\",\n",
    "                    \"PVP\": \"precio\",\n",
    "                    \"Modelo\": \"modelo\"\n",
    "                  }\n",
    "            \n",
    "df_datos_modelos_nuevos.columns=df_datos_modelos_nuevos.columns.map(dicc_encabezados1)"
   ]
  },
  {
   "cell_type": "code",
   "execution_count": 11,
   "metadata": {},
   "outputs": [
    {
     "name": "stdout",
     "output_type": "stream",
     "text": [
      "<class 'pandas.core.frame.DataFrame'>\n",
      "Index: 107 entries, 0 to 106\n",
      "Data columns (total 10 columns):\n",
      " #   Column           Non-Null Count  Dtype  \n",
      "---  ------           --------------  -----  \n",
      " 0   id_modelo_nuevo  107 non-null    int64  \n",
      " 1   version          107 non-null    object \n",
      " 2   puertas          107 non-null    int64  \n",
      " 3   potencia         107 non-null    int64  \n",
      " 4   consumo          107 non-null    float64\n",
      " 5   motor            107 non-null    object \n",
      " 6   precio           107 non-null    int64  \n",
      " 7   modelo           107 non-null    object \n",
      " 8   provincia        107 non-null    object \n",
      " 9   anio             107 non-null    int64  \n",
      "dtypes: float64(1), int64(5), object(4)\n",
      "memory usage: 9.2+ KB\n"
     ]
    }
   ],
   "source": [
    "df_datos_modelos_nuevos.info()"
   ]
  },
  {
   "cell_type": "code",
   "execution_count": 19,
   "metadata": {},
   "outputs": [],
   "source": [
    "df_datos_modelos_nuevos[\"provincia\"]= \"Madrid\"\n",
    "df_datos_modelos_nuevos[\"anio\"]= 2024"
   ]
  },
  {
   "cell_type": "code",
   "execution_count": 21,
   "metadata": {},
   "outputs": [],
   "source": [
    "df_datos_modelos_nuevos.to_csv(\"../datos/datos_modelos_nuevos.csv\")"
   ]
  },
  {
   "cell_type": "markdown",
   "metadata": {},
   "source": [
    "Datos de modelos nuevos ya están formateados"
   ]
  },
  {
   "cell_type": "markdown",
   "metadata": {},
   "source": [
    "Alternativa 2º mano"
   ]
  },
  {
   "cell_type": "code",
   "execution_count": null,
   "metadata": {},
   "outputs": [],
   "source": [
    "url_alterantiva= \"https://www.autoscout24.es/\"\n",
    "driver=webdriver.Chrome()\n",
    "driver.maximize_window()\n",
    "driver.get(url_alterantiva)\n",
    "\n",
    "#acepto cookies\n",
    "driver.find_element(\"css selector\", \"#as24-cmp-popup > div > div._acceptance-buttons_1lphq_85 > button._consent-accept_1lphq_114\").click()\n",
    "\n",
    "#despliego menu\n",
    "driver.find_element(\"css selector\", \"#make\").click()\n",
    "sleep(2)\n",
    "#elijo nissan\n",
    "driver.find_element(\"css selector\", \"#make > optgroup:nth-child(3) > option:nth-child(172)\").click()\n",
    "sleep(2)\n",
    "#le da a buscar\n",
    "driver.find_element(\"css selector\", \"#search-mask-search-cta\").click()\n",
    "sleep(2)\n",
    "\n",
    "#que nos de solo madrid\n",
    "driver.find_element(\"css selector\", \"#__next > div > div > div.ListPage_wrapper__vFmTi > div.ListPage_container__Optya > div:nth-child(2) > aside > div > div:nth-child(2) > div:nth-child(1) > div > div.Location_wrapper__mvayy > div:nth-child(2) > div > div > div.input-wrapper > div > button > svg\").click()\n",
    "sleep(2)\n",
    "\n",
    "\n",
    "df_completo=pd.DataFrame()\n",
    "for pag in range(1,21):\n",
    "    df=pd.DataFrame()\n",
    "    url_pag=f\"https://www.autoscout24.es/lst/nissan?atype=C&cy=E&damaged_listing=exclude&desc=0&lat=40.435712&lon=-3.6405248&page={pag}&powertype=kw&search_id=1yf3g5xh5i1&sort=standard&source=listpage_pagination&ustate=N%2CU&zipr=200\"\n",
    "    driver.get(url_pag)\n",
    "    sopa_alternativa = BeautifulSoup(driver.page_source, 'html.parser')\n",
    "    sleep(2)\n",
    "    #conseguir nombre\n",
    "    lista_nombres = sopa_alternativa.findAll(\"h2\")\n",
    "    todos_nombres=[nombre.getText().replace(\"\\xa0\", \" \") for nombre in lista_nombres]\n",
    "    df_nombre=pd.DataFrame(todos_nombres)\n",
    "\n",
    "\n",
    "    #conseguir datos\n",
    "    lista_datos= sopa_alternativa.findAll(\"div\", {\"class\":\"VehicleDetailTable_container__XhfV1\"})\n",
    "    todos_datos = [re.sub(r'(Manual|Automático)\\d{2}/(\\d{4})(Diésel|Gasolina|Electro/Gasolina|Eléctrico)\\d*', r'\\1 \\2 \\3', dato.getText()).replace(\"km\", \" \").replace(\"CV\", \"\").replace(\"kW\", \"\").replace(\".\", \"\").replace(\"(\", \"\").replace(\")\", \"\").split() for dato in lista_datos]\n",
    "    df_dato=pd.DataFrame(todos_datos)\n",
    "\n",
    "\n",
    "    #Conseguir precio\n",
    "    lista_precios= sopa_alternativa.findAll(\"p\", {\"class\":\"Price_price__APlgs PriceAndSeals_current_price__ykUpx\"})\n",
    "    todos_precios=[precio.getText().replace(\"€ \",\"\").replace(\",-\",\"\").replace(\".\",\"\") for precio in lista_precios]\n",
    "    df_precio=pd.DataFrame(todos_precios)\n",
    "\n",
    "    df= pd.concat([df,df_nombre,df_dato,df_precio], axis=1, ignore_index=True)\n",
    "    df_completo=pd.concat([df_completo, df], axis=0, ignore_index=True)\n"
   ]
  },
  {
   "cell_type": "code",
   "execution_count": null,
   "metadata": {},
   "outputs": [],
   "source": [
    "df_completo.sample(5)"
   ]
  },
  {
   "cell_type": "markdown",
   "metadata": {},
   "source": [
    "**Tratamiento de duplicados y nulos Segunda Mano**  \n",
    "*NULOS*  \n",
    "\n",
    "Hay nulos porque se crean algunas columnas por datos que están formateados distinto. Puedo permitirme eliminar las columnas casi llenas de nulos y luego eliminar los restantes para que los 367 que se queden, tengan datos.  \n",
    "\n",
    "*DUPLICADOS*  \n",
    "\n",
    "Decido no eliminarlos porque el hecho de que se repitan nos muestra que coches se están vendiendo más\n",
    "\n",
    "\n",
    "*DATOS INNECESARIOS*  \n",
    "\n",
    "En la columna de precio se cuela Ocasión como si fuera un precio lo que me dificultaría pasar al formato correcto por ello como apenas son 10 los elimino"
   ]
  },
  {
   "cell_type": "code",
   "execution_count": null,
   "metadata": {},
   "outputs": [],
   "source": [
    "df_completo.info()"
   ]
  },
  {
   "cell_type": "code",
   "execution_count": null,
   "metadata": {},
   "outputs": [],
   "source": [
    "df_completo.duplicated().sum()"
   ]
  },
  {
   "cell_type": "code",
   "execution_count": null,
   "metadata": {},
   "outputs": [],
   "source": [
    "df_completo[df_completo.duplicated()].head()"
   ]
  },
  {
   "cell_type": "code",
   "execution_count": null,
   "metadata": {},
   "outputs": [],
   "source": [
    "df_completo=df_completo.drop(columns= [7,8,9,10])"
   ]
  },
  {
   "cell_type": "code",
   "execution_count": null,
   "metadata": {},
   "outputs": [],
   "source": [
    "df_completo.dropna(inplace=True)"
   ]
  },
  {
   "cell_type": "code",
   "execution_count": null,
   "metadata": {},
   "outputs": [],
   "source": [
    "df_completo.info()"
   ]
  },
  {
   "cell_type": "code",
   "execution_count": null,
   "metadata": {},
   "outputs": [],
   "source": [
    "dicc_encabezados2={0:\"title\",\n",
    "                  1: \"kilometraje\",\n",
    "                  2: \"tipo\",\n",
    "                  3: \"anio\",\n",
    "                  4: \"fuel\",\n",
    "                  5: \"potencia\",\n",
    "                  6: \"precio\"}\n",
    "df_completo.columns=df_completo.columns.map(dicc_encabezados2)"
   ]
  },
  {
   "cell_type": "code",
   "execution_count": null,
   "metadata": {},
   "outputs": [],
   "source": [
    "df_completo.sample(3)"
   ]
  },
  {
   "cell_type": "markdown",
   "metadata": {},
   "source": [
    "Limpiamos los valores que no correspondan (En precio se han colado ocasion )"
   ]
  },
  {
   "cell_type": "code",
   "execution_count": null,
   "metadata": {},
   "outputs": [],
   "source": [
    "\n",
    "df_completo = df_completo[~df_completo[\"precio\"].str.contains(\"-/-Ocasión\", na=False)]\n"
   ]
  },
  {
   "cell_type": "code",
   "execution_count": null,
   "metadata": {},
   "outputs": [],
   "source": [
    "# df_completo[\"precio\"].unique() Lo comento para que no moleste"
   ]
  },
  {
   "cell_type": "code",
   "execution_count": null,
   "metadata": {},
   "outputs": [],
   "source": [
    "df_completo.info()"
   ]
  },
  {
   "cell_type": "code",
   "execution_count": null,
   "metadata": {},
   "outputs": [],
   "source": [
    "df_completo.to_csv(\"../datos/datos_segunda_mano.csv\")\n",
    "df_segunda_mano=pd.read_csv(\"../datos/datos_segunda_mano.csv\", index_col= \"Unnamed: 0\")"
   ]
  },
  {
   "cell_type": "markdown",
   "metadata": {},
   "source": [
    "Aquí formateamos"
   ]
  },
  {
   "cell_type": "code",
   "execution_count": null,
   "metadata": {},
   "outputs": [],
   "source": [
    "df_segunda_mano[\"kilometraje\"]=df_segunda_mano[\"kilometraje\"].astype(int)\n",
    "df_segunda_mano[\"potencia\"]=df_segunda_mano[\"potencia\"].astype(int)\n",
    "df_segunda_mano[\"precio\"]=df_segunda_mano[\"precio\"].astype(int)\n",
    "df_segunda_mano[\"anio\"]=df_segunda_mano[\"anio\"].astype(int)\n"
   ]
  },
  {
   "cell_type": "code",
   "execution_count": null,
   "metadata": {},
   "outputs": [],
   "source": [
    "df_segunda_mano.info()"
   ]
  },
  {
   "cell_type": "markdown",
   "metadata": {},
   "source": [
    "Añado un id"
   ]
  },
  {
   "cell_type": "code",
   "execution_count": null,
   "metadata": {},
   "outputs": [],
   "source": [
    "df_segunda_mano.index= df_segunda_mano.index+1\n",
    "df_segunda_mano.reset_index(inplace=True)"
   ]
  },
  {
   "cell_type": "code",
   "execution_count": null,
   "metadata": {},
   "outputs": [],
   "source": [
    "dicc_encabezados3={\"index\":\"id_segunda_mano\",\n",
    "                    \"title\":\"version\",\n",
    "                    \"kilometraje\": \"kilometraje\",\n",
    "                    \"tipo\": \"tipo\",\n",
    "                    \"anio\": \"anio\",\n",
    "                    \"fuel\": \"motor\",\n",
    "                    \"potencia\": \"potencia\",\n",
    "                    \"precio\": \"precio\"\n",
    "                  }\n",
    "            \n",
    "df_segunda_mano.columns=df_segunda_mano.columns.map(dicc_encabezados3)"
   ]
  },
  {
   "cell_type": "code",
   "execution_count": 12,
   "metadata": {},
   "outputs": [
    {
     "data": {
      "text/html": [
       "<div>\n",
       "<style scoped>\n",
       "    .dataframe tbody tr th:only-of-type {\n",
       "        vertical-align: middle;\n",
       "    }\n",
       "\n",
       "    .dataframe tbody tr th {\n",
       "        vertical-align: top;\n",
       "    }\n",
       "\n",
       "    .dataframe thead th {\n",
       "        text-align: right;\n",
       "    }\n",
       "</style>\n",
       "<table border=\"1\" class=\"dataframe\">\n",
       "  <thead>\n",
       "    <tr style=\"text-align: right;\">\n",
       "      <th></th>\n",
       "      <th>id_segunda_mano</th>\n",
       "      <th>version</th>\n",
       "      <th>kilometraje</th>\n",
       "      <th>tipo</th>\n",
       "      <th>anio</th>\n",
       "      <th>motor</th>\n",
       "      <th>potencia</th>\n",
       "      <th>precio</th>\n",
       "      <th>provincia</th>\n",
       "    </tr>\n",
       "  </thead>\n",
       "  <tbody>\n",
       "    <tr>\n",
       "      <th>0</th>\n",
       "      <td>1</td>\n",
       "      <td>Nissan Qashqai 1.2 DIG-T Acenta 4x2</td>\n",
       "      <td>121649</td>\n",
       "      <td>Manual</td>\n",
       "      <td>2015</td>\n",
       "      <td>Gasolina</td>\n",
       "      <td>116</td>\n",
       "      <td>11480</td>\n",
       "      <td>Madrid</td>\n",
       "    </tr>\n",
       "    <tr>\n",
       "      <th>1</th>\n",
       "      <td>2</td>\n",
       "      <td>Nissan Juke 1.5dCi Visia</td>\n",
       "      <td>260000</td>\n",
       "      <td>Manual</td>\n",
       "      <td>2012</td>\n",
       "      <td>Diésel</td>\n",
       "      <td>110</td>\n",
       "      <td>6500</td>\n",
       "      <td>Madrid</td>\n",
       "    </tr>\n",
       "    <tr>\n",
       "      <th>2</th>\n",
       "      <td>3</td>\n",
       "      <td>Nissan Qashqai DIG-T 103kW (140CV) mHEV 4x2 Ac...</td>\n",
       "      <td>11290</td>\n",
       "      <td>Manual</td>\n",
       "      <td>2023</td>\n",
       "      <td>Electro/Gasolina</td>\n",
       "      <td>140</td>\n",
       "      <td>22000</td>\n",
       "      <td>Madrid</td>\n",
       "    </tr>\n",
       "    <tr>\n",
       "      <th>3</th>\n",
       "      <td>4</td>\n",
       "      <td>Nissan Juke 1.6 N-Connecta 4x2 112</td>\n",
       "      <td>46287</td>\n",
       "      <td>Manual</td>\n",
       "      <td>2019</td>\n",
       "      <td>Gasolina</td>\n",
       "      <td>113</td>\n",
       "      <td>11790</td>\n",
       "      <td>Madrid</td>\n",
       "    </tr>\n",
       "    <tr>\n",
       "      <th>4</th>\n",
       "      <td>5</td>\n",
       "      <td>Nissan Qashqai 1.6dCi Visia 4x2</td>\n",
       "      <td>178000</td>\n",
       "      <td>Manual</td>\n",
       "      <td>2018</td>\n",
       "      <td>Diésel</td>\n",
       "      <td>131</td>\n",
       "      <td>13900</td>\n",
       "      <td>Madrid</td>\n",
       "    </tr>\n",
       "  </tbody>\n",
       "</table>\n",
       "</div>"
      ],
      "text/plain": [
       "   id_segunda_mano                                            version  \\\n",
       "0                1                Nissan Qashqai 1.2 DIG-T Acenta 4x2   \n",
       "1                2                           Nissan Juke 1.5dCi Visia   \n",
       "2                3  Nissan Qashqai DIG-T 103kW (140CV) mHEV 4x2 Ac...   \n",
       "3                4                 Nissan Juke 1.6 N-Connecta 4x2 112   \n",
       "4                5                    Nissan Qashqai 1.6dCi Visia 4x2   \n",
       "\n",
       "   kilometraje    tipo  anio             motor  potencia  precio provincia  \n",
       "0       121649  Manual  2015          Gasolina       116   11480    Madrid  \n",
       "1       260000  Manual  2012            Diésel       110    6500    Madrid  \n",
       "2        11290  Manual  2023  Electro/Gasolina       140   22000    Madrid  \n",
       "3        46287  Manual  2019          Gasolina       113   11790    Madrid  \n",
       "4       178000  Manual  2018            Diésel       131   13900    Madrid  "
      ]
     },
     "execution_count": 12,
     "metadata": {},
     "output_type": "execute_result"
    }
   ],
   "source": [
    "df_segunda_mano.head()"
   ]
  },
  {
   "cell_type": "code",
   "execution_count": null,
   "metadata": {},
   "outputs": [],
   "source": [
    "df_segunda_mano[\"potencia\"].unique()"
   ]
  },
  {
   "cell_type": "code",
   "execution_count": 23,
   "metadata": {},
   "outputs": [],
   "source": [
    "df_segunda_mano[\"provincia\"]= \"Madrid\""
   ]
  },
  {
   "cell_type": "code",
   "execution_count": 24,
   "metadata": {},
   "outputs": [],
   "source": [
    "df_segunda_mano.to_csv(\"../datos/datos_segunda_mano.csv\")"
   ]
  },
  {
   "cell_type": "markdown",
   "metadata": {},
   "source": [
    "Datos de segunda mano ya están formateados"
   ]
  }
 ],
 "metadata": {
  "kernelspec": {
   "display_name": "Python 3",
   "language": "python",
   "name": "python3"
  },
  "language_info": {
   "codemirror_mode": {
    "name": "ipython",
    "version": 3
   },
   "file_extension": ".py",
   "mimetype": "text/x-python",
   "name": "python",
   "nbconvert_exporter": "python",
   "pygments_lexer": "ipython3",
   "version": "3.11.9"
  }
 },
 "nbformat": 4,
 "nbformat_minor": 2
}
